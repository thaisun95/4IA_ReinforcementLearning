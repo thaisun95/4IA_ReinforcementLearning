{
  "cells": [
    {
      "cell_type": "code",
      "execution_count": 2,
      "metadata": {
        "id": "BL5Ob5x-xHvX"
      },
      "outputs": [],
      "source": [
        "import numpy as np"
      ]
    },
    {
      "cell_type": "markdown",
      "metadata": {
        "id": "g-GRY9PbwYRN"
      },
      "source": [
        "# LineWorld MDP"
      ]
    },
    {
      "cell_type": "code",
      "execution_count": null,
      "metadata": {
        "id": "RmNhD4hBwQ1F"
      },
      "outputs": [],
      "source": [
        "S = [0, 1, 2, 3, 4] # agent position in line world\n",
        "A = [0, 1] # 0: Left, 1: Right\n",
        "R = [-1.0, 0.0, 1.0]\n",
        "p = np.zeros((len(S), len(A), len(S), len(R))) # state, action, next_state, reward_index\n",
        "T = [0, 4]\n",
        "\n",
        "p[3, 0, 2, 1] = 1.0\n",
        "p[2, 0, 1, 1] = 1.0\n",
        "p[1, 0, 0, 0] = 1.0\n",
        "\n",
        "p[3, 1, 4, 2] = 1.0\n",
        "p[2, 1, 3, 1] = 1.0\n",
        "p[1, 1, 2, 1] = 1.0"
      ]
    },
    {
      "cell_type": "markdown",
      "metadata": {
        "id": "kUWn6mpP4wkv"
      },
      "source": [
        "# Iterative Policy Evaluation"
      ]
    },
    {
      "cell_type": "code",
      "execution_count": 33,
      "metadata": {
        "id": "wU0tM_7G5EET"
      },
      "outputs": [],
      "source": [
        "from typing import List"
      ]
    },
    {
      "cell_type": "code",
      "execution_count": 34,
      "metadata": {
        "id": "xmigJVa54wW7"
      },
      "outputs": [],
      "source": [
        "def iterative_policy_evaluation(\n",
        "    pi: np.ndarray,\n",
        "    S: List[int],\n",
        "    A: List[int],\n",
        "    R: List[float],\n",
        "    T: List[int], # terminal states\n",
        "    p: np.ndarray,\n",
        "    theta: float = 0.00001,\n",
        "    gamma: float = 0.9999999,\n",
        "):\n",
        "  V = np.random.random((len(S),))\n",
        "  V[T] = 0.0\n",
        "\n",
        "  while True:\n",
        "    delta = 0.0\n",
        "\n",
        "    for s in S:\n",
        "      v = V[s]\n",
        "      total = 0.0\n",
        "      for a in A:\n",
        "        sub_total = 0.0\n",
        "        for s_p in S:\n",
        "          for r_index in range(len(R)):\n",
        "            r = R[r_index]\n",
        "            sub_total += p[s, a, s_p, r_index] * (r + gamma * V[s_p])\n",
        "        total += pi[s, a] * sub_total\n",
        "      V[s] = total\n",
        "      abs_diff = np.abs(v - V[s])\n",
        "      delta = np.maximum(delta, abs_diff)\n",
        "\n",
        "    if delta < theta:\n",
        "      break\n",
        "  return V\n",
        "\n",
        "\n"
      ]
    },
    {
      "cell_type": "code",
      "execution_count": 35,
      "metadata": {
        "id": "tRaa70Ag81pv"
      },
      "outputs": [],
      "source": [
        "pi_always_right = np.zeros((len(S), len(A)))\n",
        "pi_always_right[:, 1] = 1.0"
      ]
    },
    {
      "cell_type": "code",
      "execution_count": 36,
      "metadata": {
        "colab": {
          "base_uri": "https://localhost:8080/"
        },
        "id": "SSyf6sT79M7B",
        "outputId": "e68ff690-971a-4818-ea56-b6f02306d9e2"
      },
      "outputs": [
        {
          "data": {
            "text/plain": [
              "array([0.       , 0.9999998, 0.9999999, 1.       , 0.       ])"
            ]
          },
          "execution_count": 36,
          "metadata": {},
          "output_type": "execute_result"
        }
      ],
      "source": [
        "iterative_policy_evaluation(pi_always_right, S, A, R, T, p)"
      ]
    },
    {
      "cell_type": "code",
      "execution_count": 37,
      "metadata": {
        "id": "YJ7JyvSK9X1y"
      },
      "outputs": [],
      "source": [
        "pi_always_left = np.zeros((len(S), len(A)))\n",
        "pi_always_left[:, 0] = 1.0"
      ]
    },
    {
      "cell_type": "code",
      "execution_count": 38,
      "metadata": {
        "colab": {
          "base_uri": "https://localhost:8080/"
        },
        "id": "vmPav2o89jrg",
        "outputId": "8750870c-79bc-4e60-a4af-76e36823b76c"
      },
      "outputs": [
        {
          "data": {
            "text/plain": [
              "array([ 0.       , -1.       , -0.9999999, -0.9999998,  0.       ])"
            ]
          },
          "execution_count": 38,
          "metadata": {},
          "output_type": "execute_result"
        }
      ],
      "source": [
        "iterative_policy_evaluation(pi_always_left, S, A, R, T, p)"
      ]
    },
    {
      "cell_type": "code",
      "execution_count": 39,
      "metadata": {
        "id": "rUemWfon9mBj"
      },
      "outputs": [],
      "source": [
        "pi_uniform_random = np.ones((len(S), len(A))) * 0.5"
      ]
    },
    {
      "cell_type": "code",
      "execution_count": 40,
      "metadata": {
        "colab": {
          "base_uri": "https://localhost:8080/"
        },
        "id": "JrGLX3Cq9wUq",
        "outputId": "a4128ed4-1372-4b7f-9bb1-bab6977a8840"
      },
      "outputs": [
        {
          "data": {
            "text/plain": [
              "array([ 0.00000000e+00, -4.99994737e-01,  5.26278752e-06,  5.00002631e-01,\n",
              "        0.00000000e+00])"
            ]
          },
          "execution_count": 40,
          "metadata": {},
          "output_type": "execute_result"
        }
      ],
      "source": [
        "iterative_policy_evaluation(pi_uniform_random, S, A, R, T, p)"
      ]
    },
    {
      "cell_type": "code",
      "execution_count": 41,
      "metadata": {
        "id": "as6-AdrX9yHr"
      },
      "outputs": [],
      "source": [
        "pi_weird_random = np.zeros((len(S), len(A)))\n",
        "pi_weird_random[:, 1] = 0.7\n",
        "pi_weird_random[:, 0] = 0.3"
      ]
    },
    {
      "cell_type": "code",
      "execution_count": 42,
      "metadata": {
        "colab": {
          "base_uri": "https://localhost:8080/"
        },
        "id": "r9YfT1g7-F8d",
        "outputId": "47baa78a-5441-4b55-cee9-11a5464280f1"
      },
      "outputs": [
        {
          "data": {
            "text/plain": [
              "array([0.        , 0.18275314, 0.68965181, 0.90689552, 0.        ])"
            ]
          },
          "execution_count": 42,
          "metadata": {},
          "output_type": "execute_result"
        }
      ],
      "source": [
        "iterative_policy_evaluation(pi_weird_random, S, A, R, T, p)"
      ]
    },
    {
      "cell_type": "code",
      "execution_count": 43,
      "metadata": {
        "colab": {
          "base_uri": "https://localhost:8080/"
        },
        "id": "WCMrwLcP-Hlm",
        "outputId": "78a74dfe-a48c-4867-a798-74071349983f"
      },
      "outputs": [
        {
          "data": {
            "text/plain": [
              "0.1827571707242781"
            ]
          },
          "execution_count": 43,
          "metadata": {},
          "output_type": "execute_result"
        }
      ],
      "source": [
        "(0.7 * (0 + 0.9999999 * 0.68965317) + 0.3 * (-1 + 0.99999999 * 0.0))"
      ]
    },
    {
      "cell_type": "markdown",
      "metadata": {
        "id": "LQXxXrqoFw6g"
      },
      "source": [
        "# Policy Iteration"
      ]
    },
    {
      "cell_type": "code",
      "execution_count": 44,
      "metadata": {
        "id": "Jo6m1kxf_GkK"
      },
      "outputs": [],
      "source": [
        "def policy_iteration(\n",
        "    S: List[int],\n",
        "    A: List[int],\n",
        "    R: List[int],\n",
        "    T: List[int],\n",
        "    p: np.ndarray,\n",
        "    theta: float = 0.00001,\n",
        "    gamma: float = 0.999999,\n",
        "):\n",
        "  V = np.random.random((len(S),))\n",
        "  V[T] = 0.0\n",
        "  pi = np.array([np.random.choice(A) for s in S])\n",
        "  pi[T] = 0\n",
        "\n",
        "  while True:\n",
        "\n",
        "    # Policy Evaluation\n",
        "    while True:\n",
        "      delta = 0.0\n",
        "\n",
        "      for s in S:\n",
        "        v = V[s]\n",
        "        total = 0.0\n",
        "        for s_p in S:\n",
        "          for r_index in range(len(R)):\n",
        "            r = R[r_index]\n",
        "            total += p[s, pi[s], s_p, r_index] * (r + gamma * V[s_p])\n",
        "        V[s] = total\n",
        "        abs_diff = np.abs(v - V[s])\n",
        "        delta = np.maximum(delta, abs_diff)\n",
        "\n",
        "      if delta < theta:\n",
        "        break\n",
        "\n",
        "    # Policy Improvement\n",
        "\n",
        "    policy_stable = True\n",
        "    for s in S:\n",
        "      old_action = pi[s]\n",
        "      best_a = None\n",
        "      best_a_score = -999999999.99999\n",
        "      for a in A:\n",
        "        score = 0.0\n",
        "        for s_p in S:\n",
        "          for r_index in range(len(R)):\n",
        "            r = R[r_index]\n",
        "            score += p[s, a, s_p, r_index] * (r + gamma * V[s_p])\n",
        "        if best_a is None or score > best_a_score:\n",
        "          best_a = a\n",
        "          best_a_score = score\n",
        "      if best_a != old_action:\n",
        "        policy_stable = False\n",
        "      pi[s] = best_a\n",
        "\n",
        "    if policy_stable:\n",
        "      break\n",
        "\n",
        "  return pi, V"
      ]
    },
    {
      "cell_type": "code",
      "execution_count": 45,
      "metadata": {
        "colab": {
          "base_uri": "https://localhost:8080/"
        },
        "id": "GG9l0oTjICUP",
        "outputId": "93eb8b8a-7028-4177-d8c2-a6d68f6afe8f"
      },
      "outputs": [
        {
          "data": {
            "text/plain": [
              "(array([0, 1, 1, 1, 0]),\n",
              " array([0.      , 0.999998, 0.999999, 1.      , 0.      ]))"
            ]
          },
          "execution_count": 45,
          "metadata": {},
          "output_type": "execute_result"
        }
      ],
      "source": [
        "policy_iteration(S, A, R, T, p)"
      ]
    },
    {
      "cell_type": "code",
      "execution_count": 45,
      "metadata": {
        "id": "yzg3pIz-IEWz"
      },
      "outputs": [],
      "source": []
    }
  ],
  "metadata": {
    "colab": {
      "provenance": []
    },
    "kernelspec": {
      "display_name": "Python 3",
      "name": "python3"
    },
    "language_info": {
      "codemirror_mode": {
        "name": "ipython",
        "version": 3
      },
      "file_extension": ".py",
      "mimetype": "text/x-python",
      "name": "python",
      "nbconvert_exporter": "python",
      "pygments_lexer": "ipython3",
      "version": "3.9.13"
    }
  },
  "nbformat": 4,
  "nbformat_minor": 0
}
