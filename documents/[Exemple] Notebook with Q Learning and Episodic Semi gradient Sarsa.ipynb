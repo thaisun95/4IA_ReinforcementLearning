{
 "cells": [
  {
   "cell_type": "code",
   "execution_count": 1,
   "metadata": {
    "id": "BL5Ob5x-xHvX"
   },
   "outputs": [],
   "source": [
    "import numpy as np"
   ]
  },
  {
   "cell_type": "code",
   "execution_count": 2,
   "metadata": {},
   "outputs": [],
   "source": [
    "import os\n",
    "\n",
    "#os.environ['TF_DISABLE_MKL'] = '1'\n",
    "os.environ[\"CUDA_VISIBLE_DEVICES\"] = \"-1\""
   ]
  },
  {
   "cell_type": "markdown",
   "metadata": {
    "id": "g-GRY9PbwYRN"
   },
   "source": [
    "# LineWorld MDP"
   ]
  },
  {
   "cell_type": "code",
   "execution_count": 3,
   "metadata": {
    "id": "RmNhD4hBwQ1F"
   },
   "outputs": [],
   "source": [
    "S = [0, 1, 2, 3, 4] # agent position in line world\n",
    "A = [0, 1] # 0: Left, 1: Right\n",
    "R = [-1.0, 0.0, 1.0]\n",
    "p = np.zeros((len(S), len(A), len(S), len(R))) # state, action, next_state, reward_index\n",
    "T = [0, 4]\n",
    "\n",
    "p[3, 0, 2, 1] = 1.0\n",
    "p[2, 0, 1, 1] = 1.0\n",
    "p[1, 0, 0, 0] = 1.0\n",
    "\n",
    "p[3, 1, 4, 2] = 1.0\n",
    "p[2, 1, 3, 1] = 1.0\n",
    "p[1, 1, 2, 1] = 1.0"
   ]
  },
  {
   "cell_type": "markdown",
   "metadata": {
    "id": "kUWn6mpP4wkv"
   },
   "source": [
    "# Iterative Policy Evaluation"
   ]
  },
  {
   "cell_type": "code",
   "execution_count": 4,
   "metadata": {
    "id": "wU0tM_7G5EET"
   },
   "outputs": [],
   "source": [
    "from typing import List"
   ]
  },
  {
   "cell_type": "code",
   "execution_count": 5,
   "metadata": {
    "id": "xmigJVa54wW7"
   },
   "outputs": [],
   "source": [
    "def iterative_policy_evaluation(\n",
    "    pi: np.ndarray,\n",
    "    S: List[int],\n",
    "    A: List[int],\n",
    "    R: List[float],\n",
    "    T: List[int], # terminal states\n",
    "    p: np.ndarray,\n",
    "    theta: float = 0.00001,\n",
    "    gamma: float = 0.9999999,\n",
    "):\n",
    "  V = np.random.random((len(S),))\n",
    "  V[T] = 0.0\n",
    "\n",
    "  while True:\n",
    "    delta = 0.0\n",
    "\n",
    "    for s in S:\n",
    "      v = V[s]\n",
    "      total = 0.0\n",
    "      for a in A:\n",
    "        sub_total = 0.0\n",
    "        for s_p in S:\n",
    "          for r_index in range(len(R)):\n",
    "            r = R[r_index]\n",
    "            sub_total += p[s, a, s_p, r_index] * (r + gamma * V[s_p])\n",
    "        total += pi[s, a] * sub_total\n",
    "      V[s] = total\n",
    "      abs_diff = np.abs(v - V[s])\n",
    "      delta = np.maximum(delta, abs_diff)\n",
    "\n",
    "    if delta < theta:\n",
    "      break\n",
    "  return V\n",
    "\n",
    "\n"
   ]
  },
  {
   "cell_type": "code",
   "execution_count": 6,
   "metadata": {
    "id": "tRaa70Ag81pv"
   },
   "outputs": [],
   "source": [
    "pi_always_right = np.zeros((len(S), len(A)))\n",
    "pi_always_right[:, 1] = 1.0"
   ]
  },
  {
   "cell_type": "code",
   "execution_count": 7,
   "metadata": {
    "colab": {
     "base_uri": "https://localhost:8080/"
    },
    "id": "SSyf6sT79M7B",
    "outputId": "d9948ee2-b4bb-472f-c8e9-c29d37307fe8"
   },
   "outputs": [
    {
     "data": {
      "text/plain": [
       "array([0.       , 0.9999998, 0.9999999, 1.       , 0.       ])"
      ]
     },
     "execution_count": 7,
     "metadata": {},
     "output_type": "execute_result"
    }
   ],
   "source": [
    "iterative_policy_evaluation(pi_always_right, S, A, R, T, p)"
   ]
  },
  {
   "cell_type": "code",
   "execution_count": 8,
   "metadata": {
    "id": "YJ7JyvSK9X1y"
   },
   "outputs": [],
   "source": [
    "pi_always_left = np.zeros((len(S), len(A)))\n",
    "pi_always_left[:, 0] = 1.0"
   ]
  },
  {
   "cell_type": "code",
   "execution_count": 9,
   "metadata": {
    "colab": {
     "base_uri": "https://localhost:8080/"
    },
    "id": "vmPav2o89jrg",
    "outputId": "74f48729-31e6-475e-a5fe-1e1e3962d322"
   },
   "outputs": [
    {
     "data": {
      "text/plain": [
       "array([ 0.       , -1.       , -0.9999999, -0.9999998,  0.       ])"
      ]
     },
     "execution_count": 9,
     "metadata": {},
     "output_type": "execute_result"
    }
   ],
   "source": [
    "iterative_policy_evaluation(pi_always_left, S, A, R, T, p)"
   ]
  },
  {
   "cell_type": "code",
   "execution_count": 10,
   "metadata": {
    "id": "rUemWfon9mBj"
   },
   "outputs": [],
   "source": [
    "pi_uniform_random = np.ones((len(S), len(A))) * 0.5"
   ]
  },
  {
   "cell_type": "code",
   "execution_count": 11,
   "metadata": {
    "colab": {
     "base_uri": "https://localhost:8080/"
    },
    "id": "JrGLX3Cq9wUq",
    "outputId": "1cf4b15f-5ccf-42d4-ecf6-ded8d56a2f62"
   },
   "outputs": [
    {
     "data": {
      "text/plain": [
       "array([ 0.00000000e+00, -5.00008709e-01, -8.70903845e-06,  4.99995645e-01,\n",
       "        0.00000000e+00])"
      ]
     },
     "execution_count": 11,
     "metadata": {},
     "output_type": "execute_result"
    }
   ],
   "source": [
    "iterative_policy_evaluation(pi_uniform_random, S, A, R, T, p)"
   ]
  },
  {
   "cell_type": "code",
   "execution_count": 12,
   "metadata": {
    "id": "as6-AdrX9yHr"
   },
   "outputs": [],
   "source": [
    "pi_weird_random = np.zeros((len(S), len(A)))\n",
    "pi_weird_random[:, 1] = 0.7\n",
    "pi_weird_random[:, 0] = 0.3"
   ]
  },
  {
   "cell_type": "code",
   "execution_count": 13,
   "metadata": {
    "colab": {
     "base_uri": "https://localhost:8080/"
    },
    "id": "r9YfT1g7-F8d",
    "outputId": "9c95e29c-016d-4338-b289-01c9f1afaa97"
   },
   "outputs": [
    {
     "data": {
      "text/plain": [
       "array([0.        , 0.18275213, 0.68965121, 0.90689534, 0.        ])"
      ]
     },
     "execution_count": 13,
     "metadata": {},
     "output_type": "execute_result"
    }
   ],
   "source": [
    "iterative_policy_evaluation(pi_weird_random, S, A, R, T, p)"
   ]
  },
  {
   "cell_type": "code",
   "execution_count": 14,
   "metadata": {
    "colab": {
     "base_uri": "https://localhost:8080/"
    },
    "id": "WCMrwLcP-Hlm",
    "outputId": "9f6fd648-bb8b-4e42-c9de-21434e31ab80"
   },
   "outputs": [
    {
     "data": {
      "text/plain": [
       "0.1827571707242781"
      ]
     },
     "execution_count": 14,
     "metadata": {},
     "output_type": "execute_result"
    }
   ],
   "source": [
    "(0.7 * (0 + 0.9999999 * 0.68965317) + 0.3 * (-1 + 0.99999999 * 0.0))"
   ]
  },
  {
   "cell_type": "markdown",
   "metadata": {
    "id": "LQXxXrqoFw6g"
   },
   "source": [
    "# Policy Iteration"
   ]
  },
  {
   "cell_type": "code",
   "execution_count": 15,
   "metadata": {
    "id": "Jo6m1kxf_GkK"
   },
   "outputs": [],
   "source": [
    "def policy_iteration(\n",
    "    S: List[int],\n",
    "    A: List[int],\n",
    "    R: List[int],\n",
    "    T: List[int],\n",
    "    p: np.ndarray,\n",
    "    theta: float = 0.00001,\n",
    "    gamma: float = 0.999999,\n",
    "):\n",
    "  V = np.random.random((len(S),))\n",
    "  V[T] = 0.0\n",
    "  pi = np.array([np.random.choice(A) for s in S])\n",
    "  pi[T] = 0\n",
    "\n",
    "  while True:\n",
    "\n",
    "    # Policy Evaluation\n",
    "    while True:\n",
    "      delta = 0.0\n",
    "\n",
    "      for s in S:\n",
    "        v = V[s]\n",
    "        total = 0.0\n",
    "        for s_p in S:\n",
    "          for r_index in range(len(R)):\n",
    "            r = R[r_index]\n",
    "            total += p[s, pi[s], s_p, r_index] * (r + gamma * V[s_p])\n",
    "        V[s] = total\n",
    "        abs_diff = np.abs(v - V[s])\n",
    "        delta = np.maximum(delta, abs_diff)\n",
    "\n",
    "      if delta < theta:\n",
    "        break\n",
    "\n",
    "    # Policy Improvement\n",
    "\n",
    "    policy_stable = True\n",
    "    for s in S:\n",
    "      old_action = pi[s]\n",
    "      best_a = None\n",
    "      best_a_score = -999999999.99999\n",
    "      for a in A:\n",
    "        score = 0.0\n",
    "        for s_p in S:\n",
    "          for r_index in range(len(R)):\n",
    "            r = R[r_index]\n",
    "            score += p[s, a, s_p, r_index] * (r + gamma * V[s_p])\n",
    "        if best_a is None or score > best_a_score:\n",
    "          best_a = a\n",
    "          best_a_score = score\n",
    "      if best_a != old_action:\n",
    "        policy_stable = False\n",
    "      pi[s] = best_a\n",
    "\n",
    "    if policy_stable:\n",
    "      break\n",
    "\n",
    "  return pi, V"
   ]
  },
  {
   "cell_type": "code",
   "execution_count": 16,
   "metadata": {
    "colab": {
     "base_uri": "https://localhost:8080/"
    },
    "id": "GG9l0oTjICUP",
    "outputId": "f6bfe18f-ffd3-4768-bef7-6ed96a62db54"
   },
   "outputs": [
    {
     "data": {
      "text/plain": [
       "(array([0, 1, 1, 1, 0]),\n",
       " array([0.      , 0.999998, 0.999999, 1.      , 0.      ]))"
      ]
     },
     "execution_count": 16,
     "metadata": {},
     "output_type": "execute_result"
    }
   ],
   "source": [
    "policy_iteration(S, A, R, T, p)"
   ]
  },
  {
   "cell_type": "code",
   "execution_count": 17,
   "metadata": {
    "id": "nKV2yRTM01Bl"
   },
   "outputs": [],
   "source": [
    "class MonteCarloEnv:\n",
    "  def state(self) -> int:\n",
    "    raise NotImplementedError()\n",
    "    \n",
    "  def num_states(self) -> int:\n",
    "    raise NotImplementedError()\n",
    "\n",
    "  def num_actions(self) -> int:\n",
    "    raise NotImplementedError()\n",
    "\n",
    "  def step(self, a: int):\n",
    "    raise NotImplementedError()\n",
    "\n",
    "  def score(self) -> float:\n",
    "    raise NotImplementedError()\n",
    "\n",
    "  def is_game_over(self) -> bool:\n",
    "    raise NotImplementedError()\n",
    "\n",
    "  def reset(self):\n",
    "    raise NotImplementedError()\n",
    "\n"
   ]
  },
  {
   "cell_type": "markdown",
   "metadata": {
    "id": "IWeGC-EFyZAK"
   },
   "source": [
    "# Line World for Monte Carlo algorithms"
   ]
  },
  {
   "cell_type": "code",
   "execution_count": 18,
   "metadata": {
    "id": "yzg3pIz-IEWz"
   },
   "outputs": [],
   "source": [
    "class LineWorld(MonteCarloEnv):\n",
    "  def __init__(self):\n",
    "    self.s = 2\n",
    "    self.inner_score = 0.0\n",
    "\n",
    "  def num_states(self) -> int:\n",
    "    return 5\n",
    "\n",
    "  def num_actions(self) -> int:\n",
    "    return 2\n",
    "\n",
    "  def state(self) -> int:\n",
    "    return self.s\n",
    "\n",
    "  def step(self, a: int):\n",
    "    assert(a == 1 or a == 0)\n",
    "    if self.is_game_over():\n",
    "      raise Exception(\"Youpi\")\n",
    "\n",
    "    if a == 0:\n",
    "      self.s -= 1\n",
    "    else:\n",
    "      self.s += 1\n",
    "\n",
    "    if self.s == 0:\n",
    "      self.inner_score -= 1.0\n",
    "    if self.s == 4:\n",
    "      self.inner_score += 1.0\n",
    "\n",
    "  def score(self) -> float:\n",
    "    return self.inner_score\n",
    "\n",
    "  def is_game_over(self) -> bool:\n",
    "    return self.s == 0 or self.s == 4\n",
    "\n",
    "  def reset(self):\n",
    "    self.s = 2\n",
    "    self.inner_score = 0.0\n"
   ]
  },
  {
   "cell_type": "code",
   "execution_count": 19,
   "metadata": {
    "id": "vn90zx6j3FW-"
   },
   "outputs": [],
   "source": [
    "from tqdm import tqdm"
   ]
  },
  {
   "cell_type": "code",
   "execution_count": 20,
   "metadata": {
    "id": "D0fnd9Aq0ooE"
   },
   "outputs": [],
   "source": [
    "def first_visit_monte_carlo_prediction(\n",
    "    pi: np.ndarray,\n",
    "    env: MonteCarloEnv,\n",
    "    iterations_count: int,\n",
    "    gamma: float = 0.9999999,\n",
    "):\n",
    "  V = np.random.random((env.num_states(),))\n",
    "  Returns = [[] for s in range(env.num_states())]\n",
    "\n",
    "  all_actions = np.arange(env.num_actions())\n",
    "\n",
    "  for it in tqdm(range(iterations_count)):\n",
    "    env.reset()\n",
    "\n",
    "\n",
    "    trajectory_states = []\n",
    "    trajectory_actions = []\n",
    "    trajectory_rewards = []\n",
    "\n",
    "    while not env.is_game_over():\n",
    "      s = env.state()\n",
    "      a = np.random.choice(all_actions, p=pi[s])\n",
    "\n",
    "      prev_score = env.score()\n",
    "      env.step(a)\n",
    "      r = env.score() - prev_score\n",
    "\n",
    "      trajectory_states.append(s)\n",
    "      trajectory_actions.append(a)\n",
    "      trajectory_rewards.append(r)\n",
    "\n",
    "    terminal_state = env.state()\n",
    "    V[terminal_state] = 0.0\n",
    "\n",
    "    G = 0\n",
    "\n",
    "    for t in reversed(range(len(trajectory_states))):\n",
    "      s_t = trajectory_states[t]\n",
    "      a_t = trajectory_actions[t]\n",
    "      r_t_plus_1 = trajectory_rewards[t]\n",
    "\n",
    "      G = gamma * G + r_t_plus_1\n",
    "\n",
    "      if s_t not in trajectory_states[0:t]:\n",
    "        Returns[s_t].append(G)\n",
    "        V[s_t] = np.mean(Returns[s_t])\n",
    "\n",
    "  return V"
   ]
  },
  {
   "cell_type": "code",
   "execution_count": 21,
   "metadata": {
    "id": "bhwsG8TeAjK2"
   },
   "outputs": [],
   "source": [
    "def better_first_visit_monte_carlo_prediction(\n",
    "    pi: np.ndarray,\n",
    "    env: MonteCarloEnv,\n",
    "    iterations_count: int,\n",
    "    gamma: float = 0.9999999,\n",
    "):\n",
    "  V = np.random.random((env.num_states(),))\n",
    "  Returns = [0.0 for s in range(env.num_states())]\n",
    "  Returns_counts = [0 for s in range(env.num_states())]\n",
    "\n",
    "  all_actions = np.arange(env.num_actions())\n",
    "\n",
    "  trajectory_states = []\n",
    "  trajectory_actions = []\n",
    "  trajectory_rewards = []\n",
    "\n",
    "  for it in tqdm(range(iterations_count)):\n",
    "    env.reset()\n",
    "\n",
    "    trajectory_states.clear()\n",
    "    trajectory_actions.clear()\n",
    "    trajectory_rewards.clear()\n",
    "\n",
    "    while not env.is_game_over():\n",
    "      s = env.state()\n",
    "      a = np.random.choice(all_actions, p=pi[s])\n",
    "\n",
    "      prev_score = env.score()\n",
    "      env.step(a)\n",
    "      r = env.score() - prev_score\n",
    "\n",
    "      trajectory_states.append(s)\n",
    "      trajectory_actions.append(a)\n",
    "      trajectory_rewards.append(r)\n",
    "\n",
    "    terminal_state = env.state()\n",
    "    V[terminal_state] = 0.0\n",
    "\n",
    "    G = 0\n",
    "\n",
    "    for t in reversed(range(len(trajectory_states))):\n",
    "      s_t = trajectory_states[t]\n",
    "      a_t = trajectory_actions[t]\n",
    "      r_t_plus_1 = trajectory_rewards[t]\n",
    "\n",
    "      G = gamma * G + r_t_plus_1\n",
    "\n",
    "      if s_t not in trajectory_states[0:t]:\n",
    "        Returns[s_t] = (Returns[s_t] * Returns_counts[s_t] + G) / (Returns_counts[s_t] + 1)\n",
    "        Returns_counts[s_t] += 1\n",
    "        V[s_t] = Returns[s_t]\n",
    "\n",
    "  return V"
   ]
  },
  {
   "cell_type": "code",
   "execution_count": 22,
   "metadata": {
    "colab": {
     "base_uri": "https://localhost:8080/"
    },
    "id": "Nt0m7tYH1E88",
    "outputId": "7e923495-d7c3-4a02-d159-7515103f1af2"
   },
   "outputs": [
    {
     "name": "stderr",
     "output_type": "stream",
     "text": [
      "100%|███████████████████████████████████████████████████████████████████████████████| 100000/100000 [00:03<00:00, 27561.54it/s]\n"
     ]
    },
    {
     "data": {
      "text/plain": [
       "array([ 0.        , -0.49675329,  0.00192   ,  0.50008235,  0.        ])"
      ]
     },
     "execution_count": 22,
     "metadata": {},
     "output_type": "execute_result"
    }
   ],
   "source": [
    "better_first_visit_monte_carlo_prediction(\n",
    "    pi_uniform_random,\n",
    "    LineWorld(),\n",
    "    100_000,\n",
    ")"
   ]
  },
  {
   "cell_type": "code",
   "execution_count": 23,
   "metadata": {
    "colab": {
     "base_uri": "https://localhost:8080/"
    },
    "id": "kcNh1pXr6os1",
    "outputId": "e178c483-1c10-4b11-ca04-7cbda1ed385b"
   },
   "outputs": [
    {
     "name": "stderr",
     "output_type": "stream",
     "text": [
      "100%|███████████████████████████████████████████████████████████████████████████████| 100000/100000 [00:01<00:00, 55648.79it/s]\n"
     ]
    },
    {
     "data": {
      "text/plain": [
       "array([0.72138412, 0.71256835, 0.9999999 , 1.        , 0.        ])"
      ]
     },
     "execution_count": 23,
     "metadata": {},
     "output_type": "execute_result"
    }
   ],
   "source": [
    "better_first_visit_monte_carlo_prediction(\n",
    "    pi_always_right,\n",
    "    LineWorld(),\n",
    "    100_000,\n",
    ")"
   ]
  },
  {
   "cell_type": "code",
   "execution_count": 24,
   "metadata": {
    "id": "IhF3uEhDBvYh"
   },
   "outputs": [],
   "source": [
    "pi_do_not_evaluate_me = np.zeros((len(S), len(A)))\n",
    "pi_do_not_evaluate_me[1, 1] = 1.0\n",
    "pi_do_not_evaluate_me[2, 0] = 1.0\n",
    "pi_do_not_evaluate_me[3, 1] = 1.0"
   ]
  },
  {
   "cell_type": "code",
   "execution_count": 25,
   "metadata": {
    "colab": {
     "base_uri": "https://localhost:8080/"
    },
    "id": "T0044HljCpnG",
    "outputId": "e9457a33-4d1b-4030-d6c6-3186bac032cc"
   },
   "outputs": [
    {
     "data": {
      "text/plain": [
       "array([0.        , 0.31529665, 0.31529662, 1.        , 0.        ])"
      ]
     },
     "execution_count": 25,
     "metadata": {},
     "output_type": "execute_result"
    }
   ],
   "source": [
    "iterative_policy_evaluation(\n",
    "    pi_do_not_evaluate_me,\n",
    "    S,\n",
    "    A,\n",
    "    R,\n",
    "    T,\n",
    "    p\n",
    ")"
   ]
  },
  {
   "cell_type": "code",
   "execution_count": 26,
   "metadata": {
    "id": "fmT-qF6VC_i4"
   },
   "outputs": [],
   "source": [
    "## DO NOT RUN THIS OR IT WILL LOOP TO INFINITY !!!\n",
    "# better_first_visit_monte_carlo_prediction(\n",
    "#     pi_do_not_evaluate_me,\n",
    "#     LineWorld(),\n",
    "#     100_000,\n",
    "# )"
   ]
  },
  {
   "cell_type": "code",
   "execution_count": 27,
   "metadata": {
    "id": "DDwZYiOeDHid"
   },
   "outputs": [],
   "source": [
    "def on_policy_monte_carlo_control(\n",
    "    env: MonteCarloEnv,\n",
    "    iterations_count: int,\n",
    "    gamma: float = 0.999999,\n",
    "    epsilon: float = 0.1,\n",
    "):\n",
    "  pi = (1.0 / env.num_actions()) * np.ones((env.num_states(), env.num_actions()))\n",
    "  Q = np.random.random((env.num_states(), env.num_actions()))\n",
    "  Returns_counts = np.zeros((env.num_states(), env.num_actions()))\n",
    "\n",
    "  trajectory_states = []\n",
    "  trajectory_actions = []\n",
    "  trajectory_rewards = []\n",
    "\n",
    "  all_actions = np.arange(env.num_actions())\n",
    "\n",
    "  for it in tqdm(range(iterations_count)):\n",
    "    env.reset()\n",
    "\n",
    "    trajectory_states.clear()\n",
    "    trajectory_actions.clear()\n",
    "    trajectory_rewards.clear()\n",
    "\n",
    "    while not env.is_game_over():\n",
    "      s = env.state()\n",
    "      a = np.random.choice(all_actions, p=pi[s])\n",
    "\n",
    "      prev_score = env.score()\n",
    "      env.step(a)\n",
    "      r = env.score() - prev_score\n",
    "\n",
    "      trajectory_states.append(s)\n",
    "      trajectory_actions.append(a)\n",
    "      trajectory_rewards.append(r)\n",
    "\n",
    "    terminal_state = env.state()\n",
    "    Q[terminal_state, :] = 0.0\n",
    "\n",
    "    G = 0\n",
    "\n",
    "    for t in reversed(range(len(trajectory_states))):\n",
    "      s_t = trajectory_states[t]\n",
    "      a_t = trajectory_actions[t]\n",
    "      r_t_plus_1 = trajectory_rewards[t]\n",
    "\n",
    "      G = gamma * G + r_t_plus_1\n",
    "\n",
    "      if (s_t, a_t) not in zip(trajectory_states[0:t], trajectory_actions[0: t]):\n",
    "        Q[s_t, a_t] = (Q[s_t, a_t] * Returns_counts[s_t, a_t] + G) / (Returns_counts[s_t, a_t] + 1)\n",
    "        Returns_counts[s_t] += 1\n",
    "        best_a = np.argmax(Q[s_t])\n",
    "\n",
    "        pi[s_t, :] = epsilon / env.num_actions()\n",
    "        pi[s_t, best_a] = 1.0 - epsilon + epsilon / env.num_actions()\n",
    "  return pi, Q"
   ]
  },
  {
   "cell_type": "code",
   "execution_count": 28,
   "metadata": {
    "colab": {
     "base_uri": "https://localhost:8080/"
    },
    "id": "h_BkpQG1Qwcd",
    "outputId": "5839bc2c-0e63-452b-a587-2e30cd4c972e"
   },
   "outputs": [
    {
     "name": "stderr",
     "output_type": "stream",
     "text": [
      "100%|█████████████████████████████████████████████████████████████████████████████| 1000000/1000000 [00:28<00:00, 35239.32it/s]\n"
     ]
    },
    {
     "data": {
      "text/plain": [
       "(array([[0.5 , 0.5 ],\n",
       "        [0.05, 0.95],\n",
       "        [0.05, 0.95],\n",
       "        [0.05, 0.95],\n",
       "        [0.5 , 0.5 ]]),\n",
       " array([[ 0.        ,  0.        ],\n",
       "        [-1.        ,  0.9948772 ],\n",
       "        [-0.20025406,  0.9997743 ],\n",
       "        [ 0.4505507 ,  1.        ],\n",
       "        [ 0.        ,  0.        ]]))"
      ]
     },
     "execution_count": 28,
     "metadata": {},
     "output_type": "execute_result"
    }
   ],
   "source": [
    "on_policy_monte_carlo_control(LineWorld(), 1_000_000)"
   ]
  },
  {
   "cell_type": "code",
   "execution_count": 29,
   "metadata": {
    "id": "gBftCeHwQ8Fz"
   },
   "outputs": [],
   "source": [
    "def q_learning(\n",
    "    env: MonteCarloEnv,\n",
    "    episodes_count: int = 1_000_000,\n",
    "    epsilon: float = 1.0,\n",
    "    gamma: float = 0.9999,\n",
    "    alpha: float = 0.1\n",
    "               ):\n",
    "  Q = np.random.uniform(-1.0, 1.0, (env.num_states(), env.num_actions()))\n",
    "\n",
    "  for ep_id in range(episodes_count):\n",
    "    env.reset()\n",
    "    s = env.state()\n",
    "    while not env.is_game_over():\n",
    "      if np.random.uniform(0.0, 1.0) <= epsilon:\n",
    "        a = np.random.randint(env.num_actions())\n",
    "      else:\n",
    "        a = np.argmax(Q[s])\n",
    "\n",
    "      prev_score = env.score()\n",
    "      env.step(a)\n",
    "      r = env.score() - prev_score\n",
    "\n",
    "      s_p = env.state()\n",
    "      if env.is_game_over():\n",
    "        Q[s_p, :] = 0.0\n",
    "\n",
    "      Q[s, a] = Q[s, a] + alpha * (r + gamma * np.max(Q[s_p]) - Q[s, a])\n",
    "      s = s_p\n",
    "\n",
    "  pi = np.argmax(Q, axis=1)\n",
    "  return pi, Q\n"
   ]
  },
  {
   "cell_type": "code",
   "execution_count": 30,
   "metadata": {
    "colab": {
     "base_uri": "https://localhost:8080/"
    },
    "id": "5VD1yEx03qaP",
    "outputId": "aea5a06e-211f-465c-b62b-586e0d48ff56"
   },
   "outputs": [
    {
     "name": "stdout",
     "output_type": "stream",
     "text": [
      "21.277431964874268\n"
     ]
    }
   ],
   "source": [
    "import time\n",
    "now = time.time()\n",
    "q_learning(LineWorld())\n",
    "print(time.time() - now)"
   ]
  },
  {
   "cell_type": "code",
   "execution_count": 31,
   "metadata": {},
   "outputs": [],
   "source": [
    "import numba"
   ]
  },
  {
   "cell_type": "code",
   "execution_count": 32,
   "metadata": {},
   "outputs": [],
   "source": [
    "@numba.jit\n",
    "def q_learning_numbaified_first_step(epsilon, env_num_actions, Q, s):\n",
    "    if np.random.uniform(0.0, 1.0) <= epsilon:\n",
    "        a = np.random.randint(env_num_actions)\n",
    "    else:\n",
    "        a = np.argmax(Q[s])\n",
    "    return a"
   ]
  },
  {
   "cell_type": "code",
   "execution_count": 33,
   "metadata": {},
   "outputs": [],
   "source": [
    "@numba.jit\n",
    "def q_learning_numbaified_second_step(Q, env_is_game_over, alpha, r, gamma, a, s, s_p):\n",
    "    if env_is_game_over:\n",
    "        Q[s_p, :] = 0.0\n",
    "\n",
    "    Q[s, a] = Q[s, a] + alpha * (r + gamma * np.max(Q[s_p]) - Q[s, a])"
   ]
  },
  {
   "cell_type": "code",
   "execution_count": 34,
   "metadata": {
    "id": "xPnBt9BV3tIb"
   },
   "outputs": [],
   "source": [
    "def q_learning_numbaified(\n",
    "    env: MonteCarloEnv,\n",
    "    episodes_count: int = 1_000_000,\n",
    "    epsilon: float = 1.0,\n",
    "    gamma: float = 0.9999,\n",
    "    alpha: float = 0.1\n",
    "               ):\n",
    "  Q = np.random.uniform(-1.0, 1.0, (env.num_states(), env.num_actions()))\n",
    "\n",
    "  for ep_id in range(episodes_count):\n",
    "    env.reset()\n",
    "    s = env.state()\n",
    "    while not env.is_game_over():\n",
    "      a = q_learning_numbaified_first_step(epsilon, env.num_actions(), Q, s)\n",
    "      prev_score = env.score()\n",
    "      env.step(a)\n",
    "      r = env.score() - prev_score\n",
    "\n",
    "      s_p = env.state()\n",
    "      q_learning_numbaified_second_step(Q, env.is_game_over(), alpha, r, gamma, a, s, s_p)\n",
    "      s = s_p\n",
    "\n",
    "  pi = np.argmax(Q, axis=1)\n",
    "  return pi, Q"
   ]
  },
  {
   "cell_type": "code",
   "execution_count": 35,
   "metadata": {},
   "outputs": [
    {
     "name": "stdout",
     "output_type": "stream",
     "text": [
      "(array([0, 1, 1, 1, 0]), array([[ 0.        ,  0.        ],\n",
      "       [-1.        ,  0.99980001],\n",
      "       [ 0.99970003,  0.9999    ],\n",
      "       [ 0.99980001,  1.        ],\n",
      "       [ 0.        ,  0.        ]]))\n",
      "4.67836856842041\n"
     ]
    }
   ],
   "source": [
    "import time\n",
    "now = time.time()\n",
    "print(q_learning_numbaified(LineWorld()))\n",
    "print(time.time() - now)"
   ]
  },
  {
   "cell_type": "code",
   "execution_count": 36,
   "metadata": {},
   "outputs": [],
   "source": [
    "class DeepEnv:\n",
    "  def state_description(self) -> np.ndarray:\n",
    "    raise NotImplementedError()\n",
    "    \n",
    "  def state_description_length(self) -> int:\n",
    "    raise NotImplementedError()\n",
    "\n",
    "  def action_description_length(self) -> int:\n",
    "    raise NotImplementedError()\n",
    "\n",
    "  def available_action_descriptions(self) -> np.ndarray:\n",
    "    raise NotImplementedError()\n",
    "\n",
    "  def step(self, a_desc: np.ndarray):\n",
    "    raise NotImplementedError()\n",
    "\n",
    "  def score(self) -> float:\n",
    "    raise NotImplementedError()\n",
    "\n",
    "  def is_game_over(self) -> bool:\n",
    "    raise NotImplementedError()\n",
    "\n",
    "  def reset(self):\n",
    "    raise NotImplementedError()"
   ]
  },
  {
   "cell_type": "code",
   "execution_count": 37,
   "metadata": {},
   "outputs": [
    {
     "name": "stderr",
     "output_type": "stream",
     "text": [
      "2025-05-20 17:51:55.646687: I tensorflow/core/util/port.cc:153] oneDNN custom operations are on. You may see slightly different numerical results due to floating-point round-off errors from different computation orders. To turn them off, set the environment variable `TF_ENABLE_ONEDNN_OPTS=0`.\n",
      "2025-05-20 17:51:55.678411: E external/local_xla/xla/stream_executor/cuda/cuda_fft.cc:467] Unable to register cuFFT factory: Attempting to register factory for plugin cuFFT when one has already been registered\n",
      "WARNING: All log messages before absl::InitializeLog() is called are written to STDERR\n",
      "E0000 00:00:1747756315.699085   27169 cuda_dnn.cc:8579] Unable to register cuDNN factory: Attempting to register factory for plugin cuDNN when one has already been registered\n",
      "E0000 00:00:1747756315.705610   27169 cuda_blas.cc:1407] Unable to register cuBLAS factory: Attempting to register factory for plugin cuBLAS when one has already been registered\n",
      "W0000 00:00:1747756315.726846   27169 computation_placer.cc:177] computation placer already registered. Please check linkage and avoid linking the same target more than once.\n",
      "W0000 00:00:1747756315.726867   27169 computation_placer.cc:177] computation placer already registered. Please check linkage and avoid linking the same target more than once.\n",
      "W0000 00:00:1747756315.726868   27169 computation_placer.cc:177] computation placer already registered. Please check linkage and avoid linking the same target more than once.\n",
      "W0000 00:00:1747756315.726869   27169 computation_placer.cc:177] computation placer already registered. Please check linkage and avoid linking the same target more than once.\n",
      "2025-05-20 17:51:55.735774: I tensorflow/core/platform/cpu_feature_guard.cc:210] This TensorFlow binary is optimized to use available CPU instructions in performance-critical operations.\n",
      "To enable the following instructions: AVX2 AVX_VNNI FMA, in other operations, rebuild TensorFlow with the appropriate compiler flags.\n",
      "/home/toungthungah/miniconda3/envs/2025_IABD2_FrameWorkML/lib/python3.12/site-packages/requests/__init__.py:86: RequestsDependencyWarning: Unable to find acceptable character detection dependency (chardet or charset_normalizer).\n",
      "  warnings.warn(\n"
     ]
    }
   ],
   "source": [
    "import keras\n",
    "import tensorflow as tf"
   ]
  },
  {
   "cell_type": "code",
   "execution_count": 38,
   "metadata": {},
   "outputs": [],
   "source": [
    "class NaiveDeepLineWorld(DeepEnv):\n",
    "  def __init__(self):\n",
    "    self.agent_pos = 2\n",
    "    \n",
    "  def state_description(self) -> np.ndarray:\n",
    "    return keras.utils.to_categorical(self.agent_pos, 5)\n",
    "    \n",
    "  def state_description_length(self) -> int:\n",
    "    return 5\n",
    "\n",
    "  def action_description_length(self) -> int:\n",
    "    return 2\n",
    "\n",
    "  def available_action_descriptions(self) -> np.ndarray:\n",
    "    if self.is_game_over():\n",
    "        return np.array([])\n",
    "    return np.array([[1, 0], [0, 1]])\n",
    "\n",
    "  def step(self, a_desc: np.ndarray):\n",
    "    if self.is_game_over():\n",
    "        raise Exception(\"Game is over !\")\n",
    "\n",
    "    if np.array_equal(np.array([1, 0]), a_desc):\n",
    "        self.agent_pos -= 1\n",
    "    elif np.array_equal(np.array([0, 1]), a_desc):\n",
    "        self.agent_pos += 1\n",
    "    else:\n",
    "        raise Exception(\"Invalid Action !\")\n",
    "\n",
    "  def score(self) -> float:\n",
    "    if self.agent_pos == 0:\n",
    "        return -1.0\n",
    "    elif self.agent_pos == 4:\n",
    "        return 1.0\n",
    "    return 0.0\n",
    "\n",
    "  def is_game_over(self) -> bool:\n",
    "    return self.agent_pos == 0 or self.agent_pos == 4\n",
    "\n",
    "  def reset(self):\n",
    "    self.agent_pos = 2"
   ]
  },
  {
   "cell_type": "code",
   "execution_count": 39,
   "metadata": {},
   "outputs": [],
   "source": [
    "def episodic_semigradient_sarsa(\n",
    "    env: DeepEnv,\n",
    "    Q_model,\n",
    "    alpha: float = 0.01,\n",
    "    gamma: float = 0.9999,\n",
    "    epsilon: float = 1.0,\n",
    "    episodes_count: int = 1_000\n",
    "):\n",
    "    epsilon_decay_step = epsilon / episodes_count\n",
    "    all_ema_scores = []\n",
    "    all_ema_loss = []\n",
    "    epsilon_values = []\n",
    "    \n",
    "    ema_score = 0.0\n",
    "    ema_score_count = 0\n",
    "\n",
    "    ema_loss = 0.0\n",
    "    ema_loss_count = 0\n",
    "    \n",
    "    for ep_id in tqdm(range(episodes_count)):\n",
    "        total_loss = 0.0\n",
    "        steps = 0\n",
    "        \n",
    "        env.reset()\n",
    "        s_desc = env.state_description()\n",
    "        available_action_descriptions = env.available_action_descriptions()\n",
    "\n",
    "        if np.random.uniform(0.,1.) <= epsilon:\n",
    "            chosen_action_description = available_action_descriptions[np.random.randint(0, len(available_action_descriptions))]\n",
    "            q_s_a = Q_model.predict([np.array([s_desc]), np.array([chosen_action_description])], verbose=0)[0][0]\n",
    "        else:\n",
    "            best_a = None\n",
    "            best_a_score = 0\n",
    "\n",
    "            for available_action_description in available_action_descriptions:\n",
    "                q_s_a = Q_model.predict([np.array([s_desc]), np.array([available_action_description])], verbose=0)[0][0]\n",
    "                if best_a is None or q_s_a >= best_a_score:\n",
    "                    best_a = available_action_description\n",
    "                    best_a_score = q_s_a\n",
    "            chosen_action_description = best_a\n",
    "            q_s_a = best_a_score\n",
    "\n",
    "        while not env.is_game_over():\n",
    "            prev_score = env.score()\n",
    "            env.step(chosen_action_description)\n",
    "            r = env.score() - prev_score\n",
    "            s_p_desc = env.state_description()\n",
    "\n",
    "            if env.is_game_over():\n",
    "                target = r\n",
    "                q_s_p_a_p = 0.0\n",
    "            else:\n",
    "                available_action_descriptions = env.available_action_descriptions()\n",
    "\n",
    "                if np.random.uniform(0.,1.) <= epsilon:\n",
    "                    chosen_action_p_description = available_action_descriptions[np.random.randint(0, len(available_action_descriptions))]\n",
    "                    q_s_p_a_p = Q_model.predict([np.array([s_p_desc]), np.array([chosen_action_p_description])], verbose=0)[0][0]\n",
    "                else:\n",
    "                    best_a = None\n",
    "                    best_a_score = 0\n",
    "        \n",
    "                    for available_action_description in available_action_descriptions:\n",
    "                        q_s_p_a_p = Q_model.predict([np.array([s_p_desc]), np.array([available_action_description])], verbose=0)[0][0]\n",
    "                        if best_a is None or q_s_p_a_p >= best_a_score:\n",
    "                            best_a = available_action_description\n",
    "                            best_a_score = q_s_p_a_p\n",
    "                    chosen_action_p_description = best_a\n",
    "                    q_s_p_a_p = best_a_score\n",
    "\n",
    "                target = r + gamma * q_s_p_a_p\n",
    "\n",
    "            with tf.GradientTape() as tape:\n",
    "                q_s_a_with_grads = Q_model([np.array([s_desc]), np.array([chosen_action_description])])[0][0]\n",
    "            grads = tape.gradient(q_s_a_with_grads, Q_model.trainable_variables)\n",
    "            total_loss += (target - q_s_a) ** 2\n",
    "            steps += 1\n",
    "            for (w, grad) in zip(Q_model.trainable_variables, grads):\n",
    "                w.assign_add(alpha * (target - q_s_a) * grad)\n",
    "            s_desc = s_p_desc\n",
    "            chosen_action_description = chosen_action_p_description\n",
    "            q_s_a = q_s_p_a_p\n",
    "\n",
    "        ema_loss = 0.95 * ema_loss + (1 - 0.95) * total_loss / steps\n",
    "        ema_score = 0.95 * ema_score + (1 - 0.95) * env.score()\n",
    "        ema_loss_count += 1\n",
    "        ema_score_count += 1\n",
    "        epsilon -= epsilon_decay_step\n",
    "\n",
    "        all_ema_loss.append(ema_loss / (1 - 0.95 ** (ema_loss_count)))\n",
    "        all_ema_scores.append(ema_score / (1 - 0.95 ** (ema_score_count)))\n",
    "        epsilon_values.append(epsilon)\n",
    "        \n",
    "        print(ema_loss / (1 - 0.95 ** (ema_loss_count)))\n",
    "        print(ema_score / (1 - 0.95 ** (ema_score_count)))\n",
    "        print(epsilon)\n",
    "    return (all_ema_loss, all_ema_scores, epsilon_values)\n",
    "            "
   ]
  },
  {
   "cell_type": "code",
   "execution_count": 40,
   "metadata": {},
   "outputs": [],
   "source": [
    "env = NaiveDeepLineWorld()"
   ]
  },
  {
   "cell_type": "code",
   "execution_count": 41,
   "metadata": {},
   "outputs": [
    {
     "name": "stderr",
     "output_type": "stream",
     "text": [
      "2025-05-20 17:51:58.970108: E external/local_xla/xla/stream_executor/cuda/cuda_platform.cc:51] failed call to cuInit: INTERNAL: CUDA error: Failed call to cuInit: CUDA_ERROR_NO_DEVICE: no CUDA-capable device is detected\n"
     ]
    }
   ],
   "source": [
    "input_state_desc_tensor = keras.layers.Input(shape=(env.state_description_length(),))\n",
    "input_action_desc_tensor = keras.layers.Input(shape=(env.action_description_length(),))\n",
    "\n",
    "hidden_tensor = keras.layers.Concatenate()([input_state_desc_tensor, input_action_desc_tensor])\n",
    "\n",
    "hidden_tensor = keras.layers.Dense(32, activation=keras.activations.tanh)(hidden_tensor)\n",
    "hidden_tensor = keras.layers.Dense(32, activation=keras.activations.tanh)(hidden_tensor)\n",
    "\n",
    "output_tensor = keras.layers.Dense(1, activation=keras.activations.linear)(hidden_tensor)\n",
    "\n",
    "linear_Q_model = keras.models.Model([input_state_desc_tensor, input_action_desc_tensor], output_tensor)"
   ]
  },
  {
   "cell_type": "code",
   "execution_count": 42,
   "metadata": {
    "scrolled": true
   },
   "outputs": [
    {
     "name": "stderr",
     "output_type": "stream",
     "text": [
      "  0%|▏                                                                                        | 2/1000 [00:00<04:24,  3.78it/s]"
     ]
    },
    {
     "name": "stdout",
     "output_type": "stream",
     "text": [
      "0.8366576\n",
      "1.0\n",
      "0.999\n",
      "1.1589507\n",
      "1.0000000000000007\n",
      "0.998\n"
     ]
    },
    {
     "name": "stderr",
     "output_type": "stream",
     "text": [
      "  0%|▎                                                                                        | 4/1000 [00:01<04:15,  3.91it/s]"
     ]
    },
    {
     "name": "stdout",
     "output_type": "stream",
     "text": [
      "0.78991604\n",
      "0.2988606485539001\n",
      "0.997\n",
      "0.89193183\n",
      "0.48785336433168247\n",
      "0.996\n"
     ]
    },
    {
     "name": "stderr",
     "output_type": "stream",
     "text": [
      "  0%|▍                                                                                        | 5/1000 [00:01<03:21,  4.93it/s]"
     ]
    },
    {
     "name": "stdout",
     "output_type": "stream",
     "text": [
      "0.70526356\n",
      "0.15900102362063315\n",
      "0.995\n"
     ]
    },
    {
     "name": "stderr",
     "output_type": "stream",
     "text": [
      "  1%|▌                                                                                        | 7/1000 [00:01<02:55,  5.67it/s]"
     ]
    },
    {
     "name": "stdout",
     "output_type": "stream",
     "text": [
      "0.58059776\n",
      "-0.05975426974412535\n",
      "0.994\n",
      "0.48769987\n",
      "-0.21559815068806892\n",
      "0.993\n"
     ]
    },
    {
     "name": "stderr",
     "output_type": "stream",
     "text": [
      "  1%|▋                                                                                        | 8/1000 [00:01<02:33,  6.47it/s]"
     ]
    },
    {
     "name": "stdout",
     "output_type": "stream",
     "text": [
      "0.5590979\n",
      "-0.035017054315571415\n",
      "0.992\n"
     ]
    },
    {
     "name": "stderr",
     "output_type": "stream",
     "text": [
      "  1%|▊                                                                                        | 9/1000 [00:01<02:50,  5.81it/s]"
     ]
    },
    {
     "name": "stdout",
     "output_type": "stream",
     "text": [
      "0.53366005\n",
      "0.10494446049157058\n",
      "0.991\n"
     ]
    },
    {
     "name": "stderr",
     "output_type": "stream",
     "text": [
      "  1%|▉                                                                                       | 10/1000 [00:02<03:04,  5.36it/s]"
     ]
    },
    {
     "name": "stdout",
     "output_type": "stream",
     "text": [
      "0.5000532\n",
      "0.21647423073874475\n",
      "0.99\n"
     ]
    },
    {
     "name": "stderr",
     "output_type": "stream",
     "text": [
      "  1%|▉                                                                                       | 11/1000 [00:02<03:49,  4.32it/s]"
     ]
    },
    {
     "name": "stdout",
     "output_type": "stream",
     "text": [
      "0.46146664\n",
      "0.30732835144087695\n",
      "0.989\n"
     ]
    },
    {
     "name": "stderr",
     "output_type": "stream",
     "text": [
      "  1%|█▏                                                                                      | 13/1000 [00:02<03:32,  4.65it/s]"
     ]
    },
    {
     "name": "stdout",
     "output_type": "stream",
     "text": [
      "0.42531744\n",
      "0.3826777314628104\n",
      "0.988\n",
      "0.39896396\n",
      "0.4461023925365704\n",
      "0.987\n"
     ]
    },
    {
     "name": "stderr",
     "output_type": "stream",
     "text": [
      "  1%|█▏                                                                                      | 14/1000 [00:03<03:00,  5.47it/s]"
     ]
    },
    {
     "name": "stdout",
     "output_type": "stream",
     "text": [
      "0.3778162\n",
      "0.3049710468490182\n",
      "0.986\n"
     ]
    },
    {
     "name": "stderr",
     "output_type": "stream",
     "text": [
      "  2%|█▍                                                                                      | 16/1000 [00:03<03:08,  5.23it/s]"
     ]
    },
    {
     "name": "stdout",
     "output_type": "stream",
     "text": [
      "0.3542807\n",
      "0.3697202173682423\n",
      "0.985\n",
      "0.33215937\n",
      "0.42600792990439545\n",
      "0.984\n"
     ]
    },
    {
     "name": "stderr",
     "output_type": "stream",
     "text": [
      "  2%|█▍                                                                                      | 17/1000 [00:03<02:44,  5.97it/s]"
     ]
    },
    {
     "name": "stdout",
     "output_type": "stream",
     "text": [
      "0.31033444\n",
      "0.47533016135854095\n",
      "0.983\n"
     ]
    },
    {
     "name": "stderr",
     "output_type": "stream",
     "text": [
      "  2%|█▌                                                                                      | 18/1000 [00:04<04:47,  3.42it/s]"
     ]
    },
    {
     "name": "stdout",
     "output_type": "stream",
     "text": [
      "0.2941133\n",
      "0.5188505911487343\n",
      "0.982\n"
     ]
    },
    {
     "name": "stderr",
     "output_type": "stream",
     "text": [
      "  2%|█▋                                                                                      | 19/1000 [00:04<04:26,  3.68it/s]"
     ]
    },
    {
     "name": "stdout",
     "output_type": "stream",
     "text": [
      "0.2767796\n",
      "0.5574880433857039\n",
      "0.981\n"
     ]
    },
    {
     "name": "stderr",
     "output_type": "stream",
     "text": [
      "  2%|█▊                                                                                      | 20/1000 [00:04<04:28,  3.66it/s]"
     ]
    },
    {
     "name": "stdout",
     "output_type": "stream",
     "text": [
      "0.26056588\n",
      "0.5919776962297766\n",
      "0.98\n"
     ]
    },
    {
     "name": "stderr",
     "output_type": "stream",
     "text": [
      "  2%|█▉                                                                                      | 22/1000 [00:04<03:29,  4.66it/s]"
     ]
    },
    {
     "name": "stdout",
     "output_type": "stream",
     "text": [
      "0.2586381\n",
      "0.47127060973822454\n",
      "0.979\n",
      "0.25541818\n",
      "0.36252385675392135\n",
      "0.978\n"
     ]
    },
    {
     "name": "stderr",
     "output_type": "stream",
     "text": [
      "  2%|██                                                                                      | 24/1000 [00:05<03:37,  4.50it/s]"
     ]
    },
    {
     "name": "stdout",
     "output_type": "stream",
     "text": [
      "0.24670006\n",
      "0.26416701227913875\n",
      "0.977\n",
      "0.23622054\n",
      "0.31613181318025835\n",
      "0.976\n"
     ]
    },
    {
     "name": "stderr",
     "output_type": "stream",
     "text": [
      "  3%|██▎                                                                                     | 26/1000 [00:05<02:44,  5.93it/s]"
     ]
    },
    {
     "name": "stdout",
     "output_type": "stream",
     "text": [
      "0.23095271\n",
      "0.22506394561112883\n",
      "0.975\n",
      "0.22377647\n",
      "0.14189372355853644\n",
      "0.974\n"
     ]
    },
    {
     "name": "stderr",
     "output_type": "stream",
     "text": [
      "  3%|██▍                                                                                     | 28/1000 [00:06<02:59,  5.43it/s]"
     ]
    },
    {
     "name": "stdout",
     "output_type": "stream",
     "text": [
      "0.21699041\n",
      "0.1991270665296244\n",
      "0.973\n",
      "0.20832701\n",
      "0.25166584794142166\n",
      "0.972\n"
     ]
    },
    {
     "name": "stderr",
     "output_type": "stream",
     "text": [
      "  3%|██▋                                                                                     | 30/1000 [00:06<03:01,  5.35it/s]"
     ]
    },
    {
     "name": "stdout",
     "output_type": "stream",
     "text": [
      "0.20172337\n",
      "0.30000382182399415\n",
      "0.971\n",
      "0.19398758\n",
      "0.344569057924159\n",
      "0.97\n"
     ]
    },
    {
     "name": "stderr",
     "output_type": "stream",
     "text": [
      "  3%|██▊                                                                                     | 32/1000 [00:06<02:23,  6.76it/s]"
     ]
    },
    {
     "name": "stdout",
     "output_type": "stream",
     "text": [
      "0.18644431\n",
      "0.3857345246856256\n",
      "0.969\n",
      "0.17914322\n",
      "0.4238266879419655\n",
      "0.968\n"
     ]
    },
    {
     "name": "stderr",
     "output_type": "stream",
     "text": [
      "  3%|██▉                                                                                     | 33/1000 [00:06<02:11,  7.34it/s]"
     ]
    },
    {
     "name": "stdout",
     "output_type": "stream",
     "text": [
      "0.18094826\n",
      "0.3365796352596289\n",
      "0.967\n"
     ]
    },
    {
     "name": "stderr",
     "output_type": "stream",
     "text": [
      "  4%|███                                                                                     | 35/1000 [00:07<04:34,  3.51it/s]"
     ]
    },
    {
     "name": "stdout",
     "output_type": "stream",
     "text": [
      "0.18203041\n",
      "0.2555920258914551\n",
      "0.966\n",
      "0.17578498\n",
      "0.3002252637844798\n",
      "0.965\n"
     ]
    },
    {
     "name": "stderr",
     "output_type": "stream",
     "text": [
      "  4%|███▏                                                                                    | 36/1000 [00:08<04:17,  3.75it/s]"
     ]
    },
    {
     "name": "stdout",
     "output_type": "stream",
     "text": [
      "0.17406923\n",
      "0.341768689718783\n",
      "0.964\n"
     ]
    },
    {
     "name": "stderr",
     "output_type": "stream",
     "text": [
      "  4%|███▎                                                                                    | 37/1000 [00:08<04:06,  3.90it/s]"
     ]
    },
    {
     "name": "stdout",
     "output_type": "stream",
     "text": [
      "0.1741032\n",
      "0.26285130898592923\n",
      "0.963\n"
     ]
    },
    {
     "name": "stderr",
     "output_type": "stream",
     "text": [
      "  4%|███▍                                                                                    | 39/1000 [00:08<03:18,  4.84it/s]"
     ]
    },
    {
     "name": "stdout",
     "output_type": "stream",
     "text": [
      "0.17103513\n",
      "0.30582851458955695\n",
      "0.962\n",
      "0.1661789\n",
      "0.34596683899752995\n",
      "0.961\n"
     ]
    },
    {
     "name": "stderr",
     "output_type": "stream",
     "text": [
      "  4%|███▌                                                                                    | 41/1000 [00:08<02:30,  6.38it/s]"
     ]
    },
    {
     "name": "stdout",
     "output_type": "stream",
     "text": [
      "0.1661511\n",
      "0.2687444859184259\n",
      "0.96\n",
      "0.16459362\n",
      "0.19648539909768392\n",
      "0.959\n"
     ]
    },
    {
     "name": "stderr",
     "output_type": "stream",
     "text": [
      "  4%|███▋                                                                                    | 42/1000 [00:09<02:15,  7.05it/s]"
     ]
    },
    {
     "name": "stdout",
     "output_type": "stream",
     "text": [
      "0.16091497\n",
      "0.2419321435106717\n",
      "0.958\n"
     ]
    },
    {
     "name": "stderr",
     "output_type": "stream",
     "text": [
      "  4%|███▊                                                                                    | 43/1000 [00:09<02:39,  5.99it/s]"
     ]
    },
    {
     "name": "stdout",
     "output_type": "stream",
     "text": [
      "0.16167474\n",
      "0.2845289892892194\n",
      "0.957\n"
     ]
    },
    {
     "name": "stderr",
     "output_type": "stream",
     "text": [
      "  4%|███▉                                                                                    | 45/1000 [00:09<02:37,  6.05it/s]"
     ]
    },
    {
     "name": "stdout",
     "output_type": "stream",
     "text": [
      "0.1631447\n",
      "0.3244848810274984\n",
      "0.956\n",
      "0.15906185\n",
      "0.3619901728314881\n",
      "0.955\n"
     ]
    },
    {
     "name": "stderr",
     "output_type": "stream",
     "text": [
      "  5%|████                                                                                    | 46/1000 [00:09<02:54,  5.46it/s]"
     ]
    },
    {
     "name": "stdout",
     "output_type": "stream",
     "text": [
      "0.16271564\n",
      "0.2867862849493575\n",
      "0.954\n"
     ]
    },
    {
     "name": "stderr",
     "output_type": "stream",
     "text": [
      "  5%|████▏                                                                                   | 48/1000 [00:10<03:27,  4.59it/s]"
     ]
    },
    {
     "name": "stdout",
     "output_type": "stream",
     "text": [
      "0.16647275\n",
      "0.21610356157197122\n",
      "0.953\n",
      "0.16645758\n",
      "0.1496311017449245\n",
      "0.952\n"
     ]
    },
    {
     "name": "stderr",
     "output_type": "stream",
     "text": [
      "  5%|████▎                                                                                   | 49/1000 [00:10<03:30,  4.52it/s]"
     ]
    },
    {
     "name": "stdout",
     "output_type": "stream",
     "text": [
      "0.16865872\n",
      "0.195896825580508\n",
      "0.951\n"
     ]
    },
    {
     "name": "stderr",
     "output_type": "stream",
     "text": [
      "  5%|████▍                                                                                   | 50/1000 [00:10<03:31,  4.49it/s]"
     ]
    },
    {
     "name": "stdout",
     "output_type": "stream",
     "text": [
      "0.16986994\n",
      "0.2394534474980663\n",
      "0.95\n"
     ]
    },
    {
     "name": "stderr",
     "output_type": "stream",
     "text": [
      "  5%|████▌                                                                                   | 52/1000 [00:11<04:53,  3.23it/s]"
     ]
    },
    {
     "name": "stdout",
     "output_type": "stream",
     "text": [
      "0.17064154\n",
      "0.1725934622034414\n",
      "0.949\n",
      "0.17223686\n",
      "0.10958854897278208\n",
      "0.948\n"
     ]
    },
    {
     "name": "stderr",
     "output_type": "stream",
     "text": [
      "  5%|████▋                                                                                   | 53/1000 [00:11<04:25,  3.56it/s]"
     ]
    },
    {
     "name": "stdout",
     "output_type": "stream",
     "text": [
      "0.17117259\n",
      "0.15725361950591105\n",
      "0.947\n"
     ]
    },
    {
     "name": "stderr",
     "output_type": "stream",
     "text": [
      "  6%|████▊                                                                                   | 55/1000 [00:12<03:28,  4.53it/s]"
     ]
    },
    {
     "name": "stdout",
     "output_type": "stream",
     "text": [
      "0.16921708\n",
      "0.2022083486555974\n",
      "0.946\n",
      "0.16572472\n",
      "0.24462325336410054\n",
      "0.945\n"
     ]
    },
    {
     "name": "stderr",
     "output_type": "stream",
     "text": [
      "  6%|█████                                                                                   | 57/1000 [00:12<02:34,  6.10it/s]"
     ]
    },
    {
     "name": "stdout",
     "output_type": "stream",
     "text": [
      "0.1620396\n",
      "0.2846564324531779\n",
      "0.944\n",
      "0.16518576\n",
      "0.2167761632647624\n",
      "0.943\n"
     ]
    },
    {
     "name": "stderr",
     "output_type": "stream",
     "text": [
      "  6%|█████                                                                                   | 58/1000 [00:12<02:18,  6.82it/s]"
     ]
    },
    {
     "name": "stdout",
     "output_type": "stream",
     "text": [
      "0.16656578\n",
      "0.15266466380762694\n",
      "0.942\n"
     ]
    },
    {
     "name": "stderr",
     "output_type": "stream",
     "text": [
      "  6%|█████▏                                                                                  | 59/1000 [00:12<02:39,  5.89it/s]"
     ]
    },
    {
     "name": "stdout",
     "output_type": "stream",
     "text": [
      "0.16924436\n",
      "0.19719069958343213\n",
      "0.941\n"
     ]
    },
    {
     "name": "stderr",
     "output_type": "stream",
     "text": [
      "  6%|█████▎                                                                                  | 61/1000 [00:13<02:54,  5.40it/s]"
     ]
    },
    {
     "name": "stdout",
     "output_type": "stream",
     "text": [
      "0.17185482\n",
      "0.23926973741890514\n",
      "0.94\n",
      "0.1693322\n",
      "0.2790471615868124\n",
      "0.939\n"
     ]
    },
    {
     "name": "stderr",
     "output_type": "stream",
     "text": [
      "  6%|█████▍                                                                                  | 62/1000 [00:13<03:05,  5.07it/s]"
     ]
    },
    {
     "name": "stdout",
     "output_type": "stream",
     "text": [
      "0.17080832\n",
      "0.212320440318585\n",
      "0.938\n"
     ]
    },
    {
     "name": "stderr",
     "output_type": "stream",
     "text": [
      "  6%|█████▌                                                                                  | 63/1000 [00:13<03:17,  4.75it/s]"
     ]
    },
    {
     "name": "stdout",
     "output_type": "stream",
     "text": [
      "0.17465556\n",
      "0.1492116794299985\n",
      "0.9369999999999999\n"
     ]
    },
    {
     "name": "stderr",
     "output_type": "stream",
     "text": [
      "  6%|█████▋                                                                                  | 65/1000 [00:14<03:11,  4.89it/s]"
     ]
    },
    {
     "name": "stdout",
     "output_type": "stream",
     "text": [
      "0.17704566\n",
      "0.19340958377394024\n",
      "0.9359999999999999\n",
      "0.1763146\n",
      "0.1315333446033713\n",
      "0.9349999999999999\n"
     ]
    },
    {
     "name": "stderr",
     "output_type": "stream",
     "text": [
      "  7%|█████▊                                                                                  | 66/1000 [00:14<04:20,  3.59it/s]"
     ]
    },
    {
     "name": "stdout",
     "output_type": "stream",
     "text": [
      "0.17999557\n",
      "0.0729735174601261\n",
      "0.9339999999999999\n"
     ]
    },
    {
     "name": "stderr",
     "output_type": "stream",
     "text": [
      "  7%|█████▉                                                                                  | 68/1000 [00:15<03:55,  3.96it/s]"
     ]
    },
    {
     "name": "stdout",
     "output_type": "stream",
     "text": [
      "0.18006195\n",
      "0.12086563932905642\n",
      "0.9329999999999999\n",
      "0.17965277\n",
      "0.0630554677482183\n",
      "0.9319999999999999\n"
     ]
    },
    {
     "name": "stderr",
     "output_type": "stream",
     "text": [
      "  7%|██████                                                                                  | 69/1000 [00:15<04:19,  3.59it/s]"
     ]
    },
    {
     "name": "stdout",
     "output_type": "stream",
     "text": [
      "0.18074349\n",
      "0.008313228051751474\n",
      "0.9309999999999999\n"
     ]
    },
    {
     "name": "stderr",
     "output_type": "stream",
     "text": [
      "  7%|██████▏                                                                                 | 70/1000 [00:16<06:32,  2.37it/s]"
     ]
    },
    {
     "name": "stdout",
     "output_type": "stream",
     "text": [
      "0.18022789\n",
      "0.059304082596019665\n",
      "0.9299999999999999\n"
     ]
    },
    {
     "name": "stderr",
     "output_type": "stream",
     "text": [
      "  7%|██████▎                                                                                 | 72/1000 [00:16<04:45,  3.25it/s]"
     ]
    },
    {
     "name": "stdout",
     "output_type": "stream",
     "text": [
      "0.17921393\n",
      "0.10760456884379278\n",
      "0.9289999999999999\n",
      "0.17966367\n",
      "0.05081049273340347\n",
      "0.9279999999999999\n"
     ]
    },
    {
     "name": "stderr",
     "output_type": "stream",
     "text": [
      "  7%|██████▌                                                                                 | 74/1000 [00:16<03:12,  4.80it/s]"
     ]
    },
    {
     "name": "stdout",
     "output_type": "stream",
     "text": [
      "0.17673081\n",
      "0.09941955126322553\n",
      "0.9269999999999999\n",
      "0.17349277\n",
      "0.14548349642148425\n",
      "0.9259999999999999\n"
     ]
    },
    {
     "name": "stderr",
     "output_type": "stream",
     "text": [
      "  8%|██████▌                                                                                 | 75/1000 [00:16<02:46,  5.56it/s]"
     ]
    },
    {
     "name": "stdout",
     "output_type": "stream",
     "text": [
      "0.17409489\n",
      "0.08696021628539764\n",
      "0.9249999999999999\n"
     ]
    },
    {
     "name": "stderr",
     "output_type": "stream",
     "text": [
      "  8%|██████▊                                                                                 | 77/1000 [00:17<03:04,  5.01it/s]"
     ]
    },
    {
     "name": "stdout",
     "output_type": "stream",
     "text": [
      "0.17472145\n",
      "0.13355702791943194\n",
      "0.9239999999999999\n",
      "0.17219327\n",
      "0.1777300694448983\n",
      "0.9229999999999999\n"
     ]
    },
    {
     "name": "stderr",
     "output_type": "stream",
     "text": [
      "  8%|██████▊                                                                                 | 78/1000 [00:17<04:19,  3.55it/s]"
     ]
    },
    {
     "name": "stdout",
     "output_type": "stream",
     "text": [
      "0.17229587\n",
      "0.21960995036330974\n",
      "0.9219999999999999\n"
     ]
    },
    {
     "name": "stderr",
     "output_type": "stream",
     "text": [
      "  8%|██████▉                                                                                 | 79/1000 [00:18<05:10,  2.97it/s]"
     ]
    },
    {
     "name": "stdout",
     "output_type": "stream",
     "text": [
      "0.17375177\n",
      "0.2593197927544705\n",
      "0.9209999999999999\n"
     ]
    },
    {
     "name": "stderr",
     "output_type": "stream",
     "text": [
      "  8%|███████                                                                                 | 80/1000 [00:18<05:56,  2.58it/s]"
     ]
    },
    {
     "name": "stdout",
     "output_type": "stream",
     "text": [
      "0.17653996\n",
      "0.19529643336707786\n",
      "0.9199999999999999\n"
     ]
    },
    {
     "name": "stderr",
     "output_type": "stream",
     "text": [
      "  8%|███████▏                                                                                | 82/1000 [00:19<04:29,  3.41it/s]"
     ]
    },
    {
     "name": "stdout",
     "output_type": "stream",
     "text": [
      "0.17910075\n",
      "0.23617294809580855\n",
      "0.9189999999999999\n",
      "0.17368062\n",
      "0.27494216066534694\n",
      "0.9179999999999999\n"
     ]
    },
    {
     "name": "stderr",
     "output_type": "stream",
     "text": [
      "  8%|███████▍                                                                                | 84/1000 [00:19<03:43,  4.11it/s]"
     ]
    },
    {
     "name": "stdout",
     "output_type": "stream",
     "text": [
      "0.17418751\n",
      "0.31171576201400314\n",
      "0.9169999999999999\n",
      "0.17777611\n",
      "0.24523569228154782\n",
      "0.9159999999999999\n"
     ]
    },
    {
     "name": "stderr",
     "output_type": "stream",
     "text": [
      "  9%|███████▌                                                                                | 86/1000 [00:20<03:04,  4.97it/s]"
     ]
    },
    {
     "name": "stdout",
     "output_type": "stream",
     "text": [
      "0.18139872\n",
      "0.18216794717555287\n",
      "0.9149999999999999\n",
      "0.18265998\n",
      "0.12233313619712749\n",
      "0.9139999999999999\n"
     ]
    },
    {
     "name": "stderr",
     "output_type": "stream",
     "text": [
      "  9%|███████▋                                                                                | 88/1000 [00:20<03:58,  3.83it/s]"
     ]
    },
    {
     "name": "stdout",
     "output_type": "stream",
     "text": [
      "0.1851243\n",
      "0.1667285045733611\n",
      "0.9129999999999999\n",
      "0.18725841\n",
      "0.10774582757548858\n",
      "0.9119999999999999\n"
     ]
    },
    {
     "name": "stderr",
     "output_type": "stream",
     "text": [
      "  9%|███████▉                                                                                | 90/1000 [00:21<04:22,  3.47it/s]"
     ]
    },
    {
     "name": "stdout",
     "output_type": "stream",
     "text": [
      "0.18975313\n",
      "0.051775956727559545\n",
      "0.9109999999999999\n",
      "0.18961734\n",
      "-0.0013380517962942816\n",
      "0.9099999999999999\n"
     ]
    },
    {
     "name": "stderr",
     "output_type": "stream",
     "text": [
      "  9%|████████                                                                                | 92/1000 [00:21<03:26,  4.40it/s]"
     ]
    },
    {
     "name": "stdout",
     "output_type": "stream",
     "text": [
      "0.18948819\n",
      "0.04920363671006368\n",
      "0.9089999999999999\n",
      "0.1878763\n",
      "-0.0037289285257775524\n",
      "0.9079999999999999\n"
     ]
    },
    {
     "name": "stderr",
     "output_type": "stream",
     "text": [
      "  9%|████████▎                                                                               | 94/1000 [00:22<02:37,  5.76it/s]"
     ]
    },
    {
     "name": "stdout",
     "output_type": "stream",
     "text": [
      "0.18314295\n",
      "0.04688663853528926\n",
      "0.9069999999999999\n",
      "0.17817242\n",
      "0.09492924826624245\n",
      "0.9059999999999999\n"
     ]
    },
    {
     "name": "stderr",
     "output_type": "stream",
     "text": [
      " 10%|████████▎                                                                               | 95/1000 [00:22<02:51,  5.27it/s]"
     ]
    },
    {
     "name": "stdout",
     "output_type": "stream",
     "text": [
      "0.18245485\n",
      "0.03976066742237581\n",
      "0.9049999999999999\n"
     ]
    },
    {
     "name": "stderr",
     "output_type": "stream",
     "text": [
      " 10%|████████▌                                                                               | 97/1000 [00:23<03:46,  3.98it/s]"
     ]
    },
    {
     "name": "stdout",
     "output_type": "stream",
     "text": [
      "0.18789731\n",
      "-0.012608026480794746\n",
      "0.9039999999999999\n",
      "0.18662061\n",
      "-0.062320913214529344\n",
      "0.9029999999999999\n"
     ]
    },
    {
     "name": "stderr",
     "output_type": "stream",
     "text": [
      " 10%|████████▌                                                                               | 98/1000 [00:23<03:42,  4.05it/s]"
     ]
    },
    {
     "name": "stdout",
     "output_type": "stream",
     "text": [
      "0.18972181\n",
      "-0.10951446400417568\n",
      "0.9019999999999999\n"
     ]
    },
    {
     "name": "stderr",
     "output_type": "stream",
     "text": [
      " 10%|████████▋                                                                              | 100/1000 [00:23<03:54,  3.83it/s]"
     ]
    },
    {
     "name": "stdout",
     "output_type": "stream",
     "text": [
      "0.1914087\n",
      "-0.15431796229957864\n",
      "0.9009999999999999\n",
      "0.19091244\n",
      "-0.0962583203780813\n",
      "0.8999999999999999\n"
     ]
    },
    {
     "name": "stderr",
     "output_type": "stream",
     "text": [
      " 10%|████████▊                                                                              | 101/1000 [00:24<03:49,  3.92it/s]"
     ]
    },
    {
     "name": "stdout",
     "output_type": "stream",
     "text": [
      "0.19070618\n",
      "-0.04113536514536907\n",
      "0.8989999999999999\n"
     ]
    },
    {
     "name": "stderr",
     "output_type": "stream",
     "text": [
      " 10%|████████▉                                                                              | 103/1000 [00:24<04:04,  3.66it/s]"
     ]
    },
    {
     "name": "stdout",
     "output_type": "stream",
     "text": [
      "0.1917074\n",
      "-0.08933614704736927\n",
      "0.8979999999999999\n",
      "0.18996152\n",
      "-0.034591449382978846\n",
      "0.8969999999999999\n"
     ]
    },
    {
     "name": "stderr",
     "output_type": "stream",
     "text": [
      " 10%|█████████▏                                                                             | 105/1000 [00:25<03:37,  4.12it/s]"
     ]
    },
    {
     "name": "stdout",
     "output_type": "stream",
     "text": [
      "0.19007875\n",
      "0.017388787802560833\n",
      "0.8959999999999999\n",
      "0.18886653\n",
      "-0.03371476681640752\n",
      "0.8949999999999999\n"
     ]
    },
    {
     "name": "stderr",
     "output_type": "stream",
     "text": [
      " 11%|█████████▏                                                                             | 106/1000 [00:25<03:52,  3.85it/s]"
     ]
    },
    {
     "name": "stdout",
     "output_type": "stream",
     "text": [
      "0.18890597\n",
      "0.018196897994861315\n",
      "0.8939999999999999\n"
     ]
    },
    {
     "name": "stderr",
     "output_type": "stream",
     "text": [
      " 11%|█████████▎                                                                             | 107/1000 [00:25<04:20,  3.43it/s]"
     ]
    },
    {
     "name": "stdout",
     "output_type": "stream",
     "text": [
      "0.19106132\n",
      "-0.032924308882638476\n",
      "0.8929999999999999\n"
     ]
    },
    {
     "name": "stderr",
     "output_type": "stream",
     "text": [
      " 11%|█████████▍                                                                             | 109/1000 [00:26<03:46,  3.94it/s]"
     ]
    },
    {
     "name": "stdout",
     "output_type": "stream",
     "text": [
      "0.19309191\n",
      "-0.08146876636095957\n",
      "0.8919999999999999\n",
      "0.18925267\n",
      "-0.027192802164833555\n",
      "0.8909999999999999\n"
     ]
    },
    {
     "name": "stderr",
     "output_type": "stream",
     "text": [
      " 11%|█████████▋                                                                             | 111/1000 [00:26<03:46,  3.93it/s]"
     ]
    },
    {
     "name": "stdout",
     "output_type": "stream",
     "text": [
      "0.18983127\n",
      "0.024349547301991632\n",
      "0.8899999999999999\n",
      "0.18505514\n",
      "0.07329690493937556\n",
      "0.8889999999999999\n"
     ]
    },
    {
     "name": "stderr",
     "output_type": "stream",
     "text": [
      " 11%|█████████▋                                                                             | 112/1000 [00:27<03:37,  4.09it/s]"
     ]
    },
    {
     "name": "stdout",
     "output_type": "stream",
     "text": [
      "0.18700314\n",
      "0.0194598231480422\n",
      "0.8879999999999999\n"
     ]
    },
    {
     "name": "stderr",
     "output_type": "stream",
     "text": [
      " 11%|█████████▉                                                                             | 114/1000 [00:27<03:49,  3.86it/s]"
     ]
    },
    {
     "name": "stdout",
     "output_type": "stream",
     "text": [
      "0.189408\n",
      "0.0686362919079194\n",
      "0.8869999999999999\n",
      "0.18326706\n",
      "0.11533932269139947\n",
      "0.8859999999999999\n"
     ]
    },
    {
     "name": "stderr",
     "output_type": "stream",
     "text": [
      " 12%|██████████                                                                             | 116/1000 [00:28<03:44,  3.94it/s]"
     ]
    },
    {
     "name": "stdout",
     "output_type": "stream",
     "text": [
      "0.18342449\n",
      "0.15969401834962105\n",
      "0.8849999999999999\n",
      "0.17793654\n",
      "0.20181908620951933\n",
      "0.8839999999999999\n"
     ]
    },
    {
     "name": "stderr",
     "output_type": "stream",
     "text": [
      " 12%|██████████▎                                                                            | 118/1000 [00:28<02:42,  5.43it/s]"
     ]
    },
    {
     "name": "stdout",
     "output_type": "stream",
     "text": [
      "0.17908542\n",
      "0.14157900796713896\n",
      "0.8829999999999999\n",
      "0.1789461\n",
      "0.08436550749385435\n",
      "0.8819999999999999\n"
     ]
    },
    {
     "name": "stderr",
     "output_type": "stream",
     "text": [
      " 12%|██████████▎                                                                            | 119/1000 [00:28<02:27,  5.97it/s]"
     ]
    },
    {
     "name": "stdout",
     "output_type": "stream",
     "text": [
      "0.17789888\n",
      "0.03002583005093548\n",
      "0.8809999999999999\n"
     ]
    },
    {
     "name": "stderr",
     "output_type": "stream",
     "text": [
      " 12%|██████████▌                                                                            | 121/1000 [00:29<03:33,  4.11it/s]"
     ]
    },
    {
     "name": "stdout",
     "output_type": "stream",
     "text": [
      "0.17878886\n",
      "0.07862769242314138\n",
      "0.8799999999999999\n",
      "0.17723931\n",
      "0.1247893838539836\n",
      "0.8789999999999999\n"
     ]
    },
    {
     "name": "stderr",
     "output_type": "stream",
     "text": [
      " 12%|██████████▋                                                                            | 123/1000 [00:29<03:32,  4.12it/s]"
     ]
    },
    {
     "name": "stdout",
     "output_type": "stream",
     "text": [
      "0.17927952\n",
      "0.16863389838194576\n",
      "0.8779999999999999\n",
      "0.17550945\n",
      "0.21027798384300098\n",
      "0.8769999999999999\n"
     ]
    },
    {
     "name": "stderr",
     "output_type": "stream",
     "text": [
      " 12%|██████████▉                                                                            | 125/1000 [00:30<03:41,  3.94it/s]"
     ]
    },
    {
     "name": "stdout",
     "output_type": "stream",
     "text": [
      "0.17789696\n",
      "0.1496592913257767\n",
      "0.8759999999999999\n",
      "0.1735367\n",
      "0.1922462670547312\n",
      "0.8749999999999999\n"
     ]
    },
    {
     "name": "stderr",
     "output_type": "stream",
     "text": [
      " 13%|██████████▉                                                                            | 126/1000 [00:30<03:03,  4.77it/s]"
     ]
    },
    {
     "name": "stdout",
     "output_type": "stream",
     "text": [
      "0.17530043\n",
      "0.13254080252471281\n",
      "0.8739999999999999\n"
     ]
    },
    {
     "name": "stderr",
     "output_type": "stream",
     "text": [
      " 13%|███████████                                                                            | 127/1000 [00:31<05:11,  2.80it/s]"
     ]
    },
    {
     "name": "stdout",
     "output_type": "stream",
     "text": [
      "0.17954767\n",
      "0.1759781439009592\n",
      "0.8729999999999999\n"
     ]
    },
    {
     "name": "stderr",
     "output_type": "stream",
     "text": [
      " 13%|███████████▏                                                                           | 128/1000 [00:31<04:38,  3.13it/s]"
     ]
    },
    {
     "name": "stdout",
     "output_type": "stream",
     "text": [
      "0.18010397\n",
      "0.21723733216076258\n",
      "0.8719999999999999\n"
     ]
    },
    {
     "name": "stderr",
     "output_type": "stream",
     "text": [
      " 13%|███████████▎                                                                           | 130/1000 [00:31<03:39,  3.97it/s]"
     ]
    },
    {
     "name": "stdout",
     "output_type": "stream",
     "text": [
      "0.18072188\n",
      "0.2564278891136737\n",
      "0.8709999999999999\n",
      "0.1764299\n",
      "0.29365380041817307\n",
      "0.8699999999999999\n"
     ]
    },
    {
     "name": "stderr",
     "output_type": "stream",
     "text": [
      " 13%|███████████▍                                                                           | 131/1000 [00:32<04:19,  3.35it/s]"
     ]
    },
    {
     "name": "stdout",
     "output_type": "stream",
     "text": [
      "0.17929645\n",
      "0.32901379827094934\n",
      "0.8689999999999999\n"
     ]
    },
    {
     "name": "stderr",
     "output_type": "stream",
     "text": [
      " 13%|███████████▌                                                                           | 133/1000 [00:32<03:32,  4.08it/s]"
     ]
    },
    {
     "name": "stdout",
     "output_type": "stream",
     "text": [
      "0.18278196\n",
      "0.26248681025101045\n",
      "0.8679999999999999\n",
      "0.17739995\n",
      "0.29940269072646625\n",
      "0.8669999999999999\n"
     ]
    },
    {
     "name": "stderr",
     "output_type": "stream",
     "text": [
      " 13%|███████████▋                                                                           | 134/1000 [00:32<02:57,  4.87it/s]"
     ]
    },
    {
     "name": "stdout",
     "output_type": "stream",
     "text": [
      "0.17200851\n",
      "0.33446885156859985\n",
      "0.8659999999999999\n"
     ]
    },
    {
     "name": "stderr",
     "output_type": "stream",
     "text": [
      " 14%|███████████▊                                                                           | 136/1000 [00:33<02:46,  5.20it/s]"
     ]
    },
    {
     "name": "stdout",
     "output_type": "stream",
     "text": [
      "0.17472729\n",
      "0.36777816208609543\n",
      "0.8649999999999999\n",
      "0.1763122\n",
      "0.29932530967714516\n",
      "0.8639999999999999\n"
     ]
    },
    {
     "name": "stderr",
     "output_type": "stream",
     "text": [
      " 14%|███████████▉                                                                           | 137/1000 [00:33<02:26,  5.91it/s]"
     ]
    },
    {
     "name": "stdout",
     "output_type": "stream",
     "text": [
      "0.1759141\n",
      "0.23430133999600158\n",
      "0.8629999999999999\n"
     ]
    },
    {
     "name": "stderr",
     "output_type": "stream",
     "text": [
      " 14%|████████████                                                                           | 139/1000 [00:33<02:24,  5.96it/s]"
     ]
    },
    {
     "name": "stdout",
     "output_type": "stream",
     "text": [
      "0.17899717\n",
      "0.1725341997053321\n",
      "0.8619999999999999\n",
      "0.17426063\n",
      "0.2139406523649753\n",
      "0.8609999999999999\n"
     ]
    },
    {
     "name": "stderr",
     "output_type": "stream",
     "text": [
      " 14%|████████████▏                                                                          | 140/1000 [00:34<03:03,  4.70it/s]"
     ]
    },
    {
     "name": "stdout",
     "output_type": "stream",
     "text": [
      "0.17742144\n",
      "0.25327354657175183\n",
      "0.8599999999999999\n"
     ]
    },
    {
     "name": "stderr",
     "output_type": "stream",
     "text": [
      " 14%|████████████▎                                                                          | 141/1000 [00:34<04:12,  3.40it/s]"
     ]
    },
    {
     "name": "stdout",
     "output_type": "stream",
     "text": [
      "0.18172245\n",
      "0.29063687609214134\n",
      "0.8589999999999999\n"
     ]
    },
    {
     "name": "stderr",
     "output_type": "stream",
     "text": [
      " 14%|████████████▎                                                                          | 142/1000 [00:34<04:34,  3.12it/s]"
     ]
    },
    {
     "name": "stdout",
     "output_type": "stream",
     "text": [
      "0.1819956\n",
      "0.32612940415936015\n",
      "0.8579999999999999\n"
     ]
    },
    {
     "name": "stderr",
     "output_type": "stream",
     "text": [
      " 14%|████████████▌                                                                          | 144/1000 [00:35<03:53,  3.66it/s]"
     ]
    },
    {
     "name": "stdout",
     "output_type": "stream",
     "text": [
      "0.17990962\n",
      "0.35984492801456974\n",
      "0.8569999999999999\n",
      "0.17623077\n",
      "0.3918725299260831\n",
      "0.8559999999999999\n"
     ]
    },
    {
     "name": "stderr",
     "output_type": "stream",
     "text": [
      " 15%|████████████▋                                                                          | 146/1000 [00:35<03:10,  4.49it/s]"
     ]
    },
    {
     "name": "stdout",
     "output_type": "stream",
     "text": [
      "0.17231043\n",
      "0.4222968153915723\n",
      "0.8549999999999999\n",
      "0.16816571\n",
      "0.4511981391901915\n",
      "0.8539999999999999\n"
     ]
    },
    {
     "name": "stderr",
     "output_type": "stream",
     "text": [
      " 15%|████████████▉                                                                          | 148/1000 [00:36<03:45,  3.77it/s]"
     ]
    },
    {
     "name": "stdout",
     "output_type": "stream",
     "text": [
      "0.16758955\n",
      "0.4786528199156242\n",
      "0.8529999999999999\n",
      "0.1729467\n",
      "0.40468284108957514\n",
      "0.8519999999999999\n"
     ]
    },
    {
     "name": "stderr",
     "output_type": "stream",
     "text": [
      " 15%|█████████████                                                                          | 150/1000 [00:36<02:38,  5.37it/s]"
     ]
    },
    {
     "name": "stdout",
     "output_type": "stream",
     "text": [
      "0.16710356\n",
      "0.4344629795511143\n",
      "0.8509999999999999\n",
      "0.16133974\n",
      "0.4627527181046835\n",
      "0.8499999999999999\n"
     ]
    },
    {
     "name": "stderr",
     "output_type": "stream",
     "text": [
      " 15%|█████████████▏                                                                         | 151/1000 [00:36<02:47,  5.07it/s]"
     ]
    },
    {
     "name": "stdout",
     "output_type": "stream",
     "text": [
      "0.16405036\n",
      "0.38958341619195674\n",
      "0.8489999999999999\n"
     ]
    },
    {
     "name": "stderr",
     "output_type": "stream",
     "text": [
      " 15%|█████████████▏                                                                         | 152/1000 [00:37<03:27,  4.09it/s]"
     ]
    },
    {
     "name": "stdout",
     "output_type": "stream",
     "text": [
      "0.16344859\n",
      "0.4201167988273574\n",
      "0.8479999999999999\n"
     ]
    },
    {
     "name": "stderr",
     "output_type": "stream",
     "text": [
      " 15%|█████████████▎                                                                         | 153/1000 [00:37<03:48,  3.70it/s]"
     ]
    },
    {
     "name": "stdout",
     "output_type": "stream",
     "text": [
      "0.16366252\n",
      "0.4491222878918575\n",
      "0.8469999999999999\n"
     ]
    },
    {
     "name": "stderr",
     "output_type": "stream",
     "text": [
      " 15%|█████████████▍                                                                         | 154/1000 [00:38<05:27,  2.58it/s]"
     ]
    },
    {
     "name": "stdout",
     "output_type": "stream",
     "text": [
      "0.1675685\n",
      "0.476676397515052\n",
      "0.8459999999999999\n"
     ]
    },
    {
     "name": "stderr",
     "output_type": "stream",
     "text": [
      " 16%|█████████████▍                                                                         | 155/1000 [00:38<05:03,  2.79it/s]"
     ]
    },
    {
     "name": "stdout",
     "output_type": "stream",
     "text": [
      "0.16657302\n",
      "0.5028518044638421\n",
      "0.8449999999999999\n"
     ]
    },
    {
     "name": "stderr",
     "output_type": "stream",
     "text": [
      " 16%|█████████████▋                                                                         | 157/1000 [00:39<04:28,  3.14it/s]"
     ]
    },
    {
     "name": "stdout",
     "output_type": "stream",
     "text": [
      "0.16814141\n",
      "0.4276840424538252\n",
      "0.8439999999999999\n",
      "0.16249655\n",
      "0.456308946801412\n",
      "0.8429999999999999\n"
     ]
    },
    {
     "name": "stderr",
     "output_type": "stream",
     "text": [
      " 16%|█████████████▋                                                                         | 158/1000 [00:39<03:50,  3.66it/s]"
     ]
    },
    {
     "name": "stdout",
     "output_type": "stream",
     "text": [
      "0.15686508\n",
      "0.4835017177823469\n",
      "0.8419999999999999\n"
     ]
    },
    {
     "name": "stderr",
     "output_type": "stream",
     "text": [
      " 16%|█████████████▊                                                                         | 159/1000 [00:39<03:35,  3.90it/s]"
     ]
    },
    {
     "name": "stdout",
     "output_type": "stream",
     "text": [
      "0.1512579\n",
      "0.5093340486978111\n",
      "0.8409999999999999\n"
     ]
    },
    {
     "name": "stderr",
     "output_type": "stream",
     "text": [
      " 16%|█████████████▉                                                                         | 160/1000 [00:40<07:48,  1.79it/s]"
     ]
    },
    {
     "name": "stdout",
     "output_type": "stream",
     "text": [
      "0.15226777\n",
      "0.43384675653095206\n",
      "0.8399999999999999\n"
     ]
    },
    {
     "name": "stderr",
     "output_type": "stream",
     "text": [
      " 16%|██████████████                                                                         | 161/1000 [00:41<10:23,  1.35it/s]"
     ]
    },
    {
     "name": "stdout",
     "output_type": "stream",
     "text": [
      "0.14905608\n",
      "0.46216175567881546\n",
      "0.8389999999999999\n"
     ]
    },
    {
     "name": "stderr",
     "output_type": "stream",
     "text": [
      " 16%|██████████████                                                                         | 162/1000 [00:42<09:00,  1.55it/s]"
     ]
    },
    {
     "name": "stdout",
     "output_type": "stream",
     "text": [
      "0.1455303\n",
      "0.4890602893381428\n",
      "0.8379999999999999\n"
     ]
    },
    {
     "name": "stderr",
     "output_type": "stream",
     "text": [
      " 16%|██████████████▎                                                                        | 164/1000 [00:42<06:13,  2.24it/s]"
     ]
    },
    {
     "name": "stdout",
     "output_type": "stream",
     "text": [
      "0.14303169\n",
      "0.5146132505727748\n",
      "0.8369999999999999\n",
      "0.13784847\n",
      "0.5388879809853077\n",
      "0.8359999999999999\n"
     ]
    },
    {
     "name": "stderr",
     "output_type": "stream",
     "text": [
      " 17%|██████████████▍                                                                        | 166/1000 [00:43<04:28,  3.11it/s]"
     ]
    },
    {
     "name": "stdout",
     "output_type": "stream",
     "text": [
      "0.13545963\n",
      "0.5619484489544512\n",
      "0.8349999999999999\n",
      "0.14965548\n",
      "0.48383536468544047\n",
      "0.8339999999999999\n"
     ]
    },
    {
     "name": "stderr",
     "output_type": "stream",
     "text": [
      " 17%|██████████████▌                                                                        | 167/1000 [00:43<04:16,  3.25it/s]"
     ]
    },
    {
     "name": "stdout",
     "output_type": "stream",
     "text": [
      "0.14670613\n",
      "0.5096485132570714\n",
      "0.8329999999999999\n"
     ]
    },
    {
     "name": "stderr",
     "output_type": "stream",
     "text": [
      " 17%|██████████████▌                                                                        | 168/1000 [00:43<03:56,  3.52it/s]"
     ]
    },
    {
     "name": "stdout",
     "output_type": "stream",
     "text": [
      "0.1505027\n",
      "0.4341524263539216\n",
      "0.8319999999999999\n"
     ]
    },
    {
     "name": "stderr",
     "output_type": "stream",
     "text": [
      " 17%|██████████████▊                                                                        | 170/1000 [00:44<03:25,  4.03it/s]"
     ]
    },
    {
     "name": "stdout",
     "output_type": "stream",
     "text": [
      "0.14850236\n",
      "0.46244966948259963\n",
      "0.8309999999999998\n",
      "0.14291331\n",
      "0.4893315760938544\n",
      "0.8299999999999998\n"
     ]
    },
    {
     "name": "stderr",
     "output_type": "stream",
     "text": [
      " 17%|██████████████▉                                                                        | 172/1000 [00:44<03:25,  4.04it/s]"
     ]
    },
    {
     "name": "stdout",
     "output_type": "stream",
     "text": [
      "0.14598648\n",
      "0.4148534424131502\n",
      "0.8289999999999998\n",
      "0.14111117\n",
      "0.44411508308716824\n",
      "0.8279999999999998\n"
     ]
    },
    {
     "name": "stderr",
     "output_type": "stream",
     "text": [
      " 17%|███████████████▏                                                                       | 174/1000 [00:45<02:57,  4.66it/s]"
     ]
    },
    {
     "name": "stdout",
     "output_type": "stream",
     "text": [
      "0.14048791\n",
      "0.47191322117111917\n",
      "0.8269999999999998\n",
      "0.14406942\n",
      "0.3983077693323092\n",
      "0.8259999999999998\n"
     ]
    },
    {
     "name": "stderr",
     "output_type": "stream",
     "text": [
      " 18%|███████████████▏                                                                       | 175/1000 [00:45<03:31,  3.90it/s]"
     ]
    },
    {
     "name": "stdout",
     "output_type": "stream",
     "text": [
      "0.14318845\n",
      "0.42839618302419324\n",
      "0.8249999999999998\n"
     ]
    },
    {
     "name": "stderr",
     "output_type": "stream",
     "text": [
      " 18%|███████████████▍                                                                       | 177/1000 [00:45<02:56,  4.66it/s]"
     ]
    },
    {
     "name": "stdout",
     "output_type": "stream",
     "text": [
      "0.14289571\n",
      "0.45697980527652093\n",
      "0.8239999999999998\n",
      "0.1387748\n",
      "0.4841339118162278\n",
      "0.8229999999999998\n"
     ]
    },
    {
     "name": "stderr",
     "output_type": "stream",
     "text": [
      " 18%|███████████████▍                                                                       | 178/1000 [00:46<02:36,  5.24it/s]"
     ]
    },
    {
     "name": "stdout",
     "output_type": "stream",
     "text": [
      "0.14329025\n",
      "0.4099191755618713\n",
      "0.8219999999999998\n"
     ]
    },
    {
     "name": "stderr",
     "output_type": "stream",
     "text": [
      " 18%|███████████████▌                                                                       | 179/1000 [00:46<03:00,  4.55it/s]"
     ]
    },
    {
     "name": "stdout",
     "output_type": "stream",
     "text": [
      "0.14687271\n",
      "0.339415960165627\n",
      "0.8209999999999998\n"
     ]
    },
    {
     "name": "stderr",
     "output_type": "stream",
     "text": [
      " 18%|███████████████▋                                                                       | 180/1000 [00:46<03:55,  3.48it/s]"
     ]
    },
    {
     "name": "stdout",
     "output_type": "stream",
     "text": [
      "0.15173402\n",
      "0.2724386131286525\n",
      "0.8199999999999998\n"
     ]
    },
    {
     "name": "stderr",
     "output_type": "stream",
     "text": [
      " 18%|███████████████▋                                                                       | 181/1000 [00:47<05:19,  2.57it/s]"
     ]
    },
    {
     "name": "stdout",
     "output_type": "stream",
     "text": [
      "0.15464479\n",
      "0.20881077203314335\n",
      "0.8189999999999998\n"
     ]
    },
    {
     "name": "stderr",
     "output_type": "stream",
     "text": [
      " 18%|███████████████▉                                                                       | 183/1000 [00:47<03:44,  3.64it/s]"
     ]
    },
    {
     "name": "stdout",
     "output_type": "stream",
     "text": [
      "0.15757222\n",
      "0.2483737247129221\n",
      "0.8179999999999998\n",
      "0.15476868\n",
      "0.1859498052354767\n",
      "0.8169999999999998\n"
     ]
    },
    {
     "name": "stderr",
     "output_type": "stream",
     "text": [
      " 18%|████████████████                                                                       | 184/1000 [00:47<03:12,  4.24it/s]"
     ]
    },
    {
     "name": "stdout",
     "output_type": "stream",
     "text": [
      "0.15149796\n",
      "0.12664759201361894\n",
      "0.8159999999999998\n"
     ]
    },
    {
     "name": "stderr",
     "output_type": "stream",
     "text": [
      " 19%|████████████████▏                                                                      | 186/1000 [00:48<02:50,  4.78it/s]"
     ]
    },
    {
     "name": "stdout",
     "output_type": "stream",
     "text": [
      "0.15400074\n",
      "0.17031851655996963\n",
      "0.8149999999999998\n",
      "0.15131842\n",
      "0.21180557270151001\n",
      "0.8139999999999998\n"
     ]
    },
    {
     "name": "stderr",
     "output_type": "stream",
     "text": [
      " 19%|████████████████▎                                                                      | 187/1000 [00:48<02:43,  4.98it/s]"
     ]
    },
    {
     "name": "stdout",
     "output_type": "stream",
     "text": [
      "0.14815813\n",
      "0.2512179852740892\n",
      "0.8129999999999998\n"
     ]
    },
    {
     "name": "stderr",
     "output_type": "stream",
     "text": [
      " 19%|████████████████▎                                                                      | 188/1000 [00:48<02:48,  4.81it/s]"
     ]
    },
    {
     "name": "stdout",
     "output_type": "stream",
     "text": [
      "0.15107612\n",
      "0.188653027478612\n",
      "0.8119999999999998\n"
     ]
    },
    {
     "name": "stderr",
     "output_type": "stream",
     "text": [
      " 19%|████████████████▌                                                                      | 190/1000 [00:49<03:13,  4.19it/s]"
     ]
    },
    {
     "name": "stdout",
     "output_type": "stream",
     "text": [
      "0.15806468\n",
      "0.12921671330414367\n",
      "0.8109999999999998\n",
      "0.15799214\n",
      "0.17275842676034472\n",
      "0.8099999999999998\n"
     ]
    },
    {
     "name": "stderr",
     "output_type": "stream",
     "text": [
      " 19%|████████████████▌                                                                      | 191/1000 [00:49<03:11,  4.22it/s]"
     ]
    },
    {
     "name": "stdout",
     "output_type": "stream",
     "text": [
      "0.1605083\n",
      "0.2141228059905746\n",
      "0.8089999999999998\n"
     ]
    },
    {
     "name": "stderr",
     "output_type": "stream",
     "text": [
      " 19%|████████████████▋                                                                      | 192/1000 [00:49<03:36,  3.73it/s]"
     ]
    },
    {
     "name": "stdout",
     "output_type": "stream",
     "text": [
      "0.16158053\n",
      "0.2534187419420368\n",
      "0.8079999999999998\n"
     ]
    },
    {
     "name": "stderr",
     "output_type": "stream",
     "text": [
      " 19%|████████████████▉                                                                      | 194/1000 [00:50<03:47,  3.55it/s]"
     ]
    },
    {
     "name": "stdout",
     "output_type": "stream",
     "text": [
      "0.16282158\n",
      "0.2907496786512926\n",
      "0.8069999999999998\n",
      "0.15914333\n",
      "0.3262138858202536\n",
      "0.8059999999999998\n"
     ]
    },
    {
     "name": "stderr",
     "output_type": "stream",
     "text": [
      " 20%|█████████████████                                                                      | 196/1000 [00:50<02:41,  4.99it/s]"
     ]
    },
    {
     "name": "stdout",
     "output_type": "stream",
     "text": [
      "0.15530995\n",
      "0.3599047177408982\n",
      "0.8049999999999998\n",
      "0.15402594\n",
      "0.29190655552040173\n",
      "0.8039999999999998\n"
     ]
    },
    {
     "name": "stderr",
     "output_type": "stream",
     "text": [
      " 20%|█████████████████▏                                                                     | 198/1000 [00:51<02:34,  5.18it/s]"
     ]
    },
    {
     "name": "stdout",
     "output_type": "stream",
     "text": [
      "0.15647438\n",
      "0.32731267527772356\n",
      "0.8029999999999998\n",
      "0.15349555\n",
      "0.3609483479071967\n",
      "0.8019999999999998\n"
     ]
    },
    {
     "name": "stderr",
     "output_type": "stream",
     "text": [
      " 20%|█████████████████▍                                                                     | 200/1000 [00:51<02:17,  5.83it/s]"
     ]
    },
    {
     "name": "stdout",
     "output_type": "stream",
     "text": [
      "0.15035558\n",
      "0.39290210952714366\n",
      "0.8009999999999998\n",
      "0.1470838\n",
      "0.4232580681080713\n",
      "0.7999999999999998\n"
     ]
    },
    {
     "name": "stderr",
     "output_type": "stream",
     "text": [
      " 20%|█████████████████▍                                                                     | 201/1000 [00:51<02:42,  4.92it/s]"
     ]
    },
    {
     "name": "stdout",
     "output_type": "stream",
     "text": [
      "0.1504801\n",
      "0.45209612501091245\n",
      "0.7989999999999998\n"
     ]
    },
    {
     "name": "stderr",
     "output_type": "stream",
     "text": [
      " 20%|█████████████████▌                                                                     | 202/1000 [00:52<03:10,  4.19it/s]"
     ]
    },
    {
     "name": "stdout",
     "output_type": "stream",
     "text": [
      "0.15550177\n",
      "0.47949218543559563\n",
      "0.7979999999999998\n"
     ]
    },
    {
     "name": "stderr",
     "output_type": "stream",
     "text": [
      " 20%|█████████████████▋                                                                     | 203/1000 [00:52<03:35,  3.70it/s]"
     ]
    },
    {
     "name": "stdout",
     "output_type": "stream",
     "text": [
      "0.15749562\n",
      "0.5055183583356702\n",
      "0.7969999999999998\n"
     ]
    },
    {
     "name": "stderr",
     "output_type": "stream",
     "text": [
      " 20%|█████████████████▊                                                                     | 205/1000 [00:52<02:57,  4.49it/s]"
     ]
    },
    {
     "name": "stdout",
     "output_type": "stream",
     "text": [
      "0.15762028\n",
      "0.5302431463268078\n",
      "0.7959999999999998\n",
      "0.16160528\n",
      "0.45372891370843604\n",
      "0.7949999999999998\n"
     ]
    },
    {
     "name": "stderr",
     "output_type": "stream",
     "text": [
      " 21%|█████████████████▉                                                                     | 206/1000 [00:53<03:13,  4.11it/s]"
     ]
    },
    {
     "name": "stdout",
     "output_type": "stream",
     "text": [
      "0.16122946\n",
      "0.48104317182761047\n",
      "0.7939999999999998\n"
     ]
    },
    {
     "name": "stderr",
     "output_type": "stream",
     "text": [
      " 21%|██████████████████                                                                     | 207/1000 [00:53<03:19,  3.97it/s]"
     ]
    },
    {
     "name": "stdout",
     "output_type": "stream",
     "text": [
      "0.15995927\n",
      "0.5069916484181982\n",
      "0.7929999999999998\n"
     ]
    },
    {
     "name": "stderr",
     "output_type": "stream",
     "text": [
      " 21%|██████████████████▏                                                                    | 209/1000 [00:54<03:39,  3.61it/s]"
     ]
    },
    {
     "name": "stdout",
     "output_type": "stream",
     "text": [
      "0.16016047\n",
      "0.43164031372799927\n",
      "0.7919999999999998\n",
      "0.15728956\n",
      "0.46005892586336794\n",
      "0.7909999999999998\n"
     ]
    },
    {
     "name": "stderr",
     "output_type": "stream",
     "text": [
      " 21%|██████████████████▎                                                                    | 211/1000 [00:54<03:07,  4.20it/s]"
     ]
    },
    {
     "name": "stdout",
     "output_type": "stream",
     "text": [
      "0.1576963\n",
      "0.4870565461780611\n",
      "0.7899999999999998\n",
      "0.15428045\n",
      "0.5127042302316516\n",
      "0.7889999999999998\n"
     ]
    },
    {
     "name": "stderr",
     "output_type": "stream",
     "text": [
      " 21%|██████████████████▌                                                                    | 213/1000 [00:55<03:05,  4.24it/s]"
     ]
    },
    {
     "name": "stdout",
     "output_type": "stream",
     "text": [
      "0.15378843\n",
      "0.537069480223775\n",
      "0.7879999999999998\n",
      "0.15113783\n",
      "0.5602164227188712\n",
      "0.7869999999999998\n"
     ]
    },
    {
     "name": "stderr",
     "output_type": "stream",
     "text": [
      " 21%|██████████████████▌                                                                    | 214/1000 [00:55<03:15,  4.02it/s]"
     ]
    },
    {
     "name": "stdout",
     "output_type": "stream",
     "text": [
      "0.15169051\n",
      "0.5822059774791557\n",
      "0.7859999999999998\n"
     ]
    },
    {
     "name": "stderr",
     "output_type": "stream",
     "text": [
      " 22%|██████████████████▋                                                                    | 215/1000 [00:55<04:33,  2.87it/s]"
     ]
    },
    {
     "name": "stdout",
     "output_type": "stream",
     "text": [
      "0.15168789\n",
      "0.6030960178509485\n",
      "0.7849999999999998\n"
     ]
    },
    {
     "name": "stderr",
     "output_type": "stream",
     "text": [
      " 22%|██████████████████▊                                                                    | 216/1000 [00:56<04:18,  3.03it/s]"
     ]
    },
    {
     "name": "stdout",
     "output_type": "stream",
     "text": [
      "0.15145959\n",
      "0.6229415231271808\n",
      "0.7839999999999998\n"
     ]
    },
    {
     "name": "stderr",
     "output_type": "stream",
     "text": [
      " 22%|██████████████████▉                                                                    | 217/1000 [00:56<05:39,  2.30it/s]"
     ]
    },
    {
     "name": "stdout",
     "output_type": "stream",
     "text": [
      "0.1519233\n",
      "0.6417947232877078\n",
      "0.7829999999999998\n"
     ]
    },
    {
     "name": "stderr",
     "output_type": "stream",
     "text": [
      " 22%|███████████████████                                                                    | 219/1000 [00:57<04:16,  3.05it/s]"
     ]
    },
    {
     "name": "stdout",
     "output_type": "stream",
     "text": [
      "0.15039104\n",
      "0.6597052364989371\n",
      "0.7819999999999998\n",
      "0.145579\n",
      "0.6767201997351607\n",
      "0.7809999999999998\n"
     ]
    },
    {
     "name": "stderr",
     "output_type": "stream",
     "text": [
      " 22%|███████████████████▏                                                                   | 221/1000 [00:57<02:54,  4.45it/s]"
     ]
    },
    {
     "name": "stdout",
     "output_type": "stream",
     "text": [
      "0.14070909\n",
      "0.6928843928658334\n",
      "0.7799999999999998\n",
      "0.15439343\n",
      "0.6082391627622333\n",
      "0.7789999999999998\n"
     ]
    },
    {
     "name": "stderr",
     "output_type": "stream",
     "text": [
      " 22%|███████████████████▎                                                                   | 222/1000 [00:57<02:57,  4.38it/s]"
     ]
    },
    {
     "name": "stdout",
     "output_type": "stream",
     "text": [
      "0.15704103\n",
      "0.5278262926848105\n",
      "0.7779999999999998\n"
     ]
    },
    {
     "name": "stderr",
     "output_type": "stream",
     "text": [
      " 22%|███████████████████▍                                                                   | 223/1000 [00:58<03:08,  4.12it/s]"
     ]
    },
    {
     "name": "stdout",
     "output_type": "stream",
     "text": [
      "0.15577531\n",
      "0.5514352324056775\n",
      "0.7769999999999998\n"
     ]
    },
    {
     "name": "stderr",
     "output_type": "stream",
     "text": [
      " 22%|███████████████████▌                                                                   | 225/1000 [00:58<02:35,  4.97it/s]"
     ]
    },
    {
     "name": "stdout",
     "output_type": "stream",
     "text": [
      "0.15011328\n",
      "0.5738637003406244\n",
      "0.7759999999999998\n",
      "0.1572272\n",
      "0.49516975016310405\n",
      "0.7749999999999998\n"
     ]
    },
    {
     "name": "stderr",
     "output_type": "stream",
     "text": [
      " 23%|███████████████████▋                                                                   | 227/1000 [00:59<04:04,  3.16it/s]"
     ]
    },
    {
     "name": "stdout",
     "output_type": "stream",
     "text": [
      "0.15748446\n",
      "0.4204105720982967\n",
      "0.7739999999999998\n",
      "0.15287018\n",
      "0.44939029779707723\n",
      "0.7729999999999998\n"
     ]
    },
    {
     "name": "stderr",
     "output_type": "stream",
     "text": [
      " 23%|███████████████████▉                                                                   | 229/1000 [01:00<05:18,  2.42it/s]"
     ]
    },
    {
     "name": "stdout",
     "output_type": "stream",
     "text": [
      "0.15260263\n",
      "0.4769210124161017\n",
      "0.7719999999999998\n",
      "0.14796826\n",
      "0.5030751689268821\n",
      "0.7709999999999998\n"
     ]
    },
    {
     "name": "stderr",
     "output_type": "stream",
     "text": [
      " 23%|████████████████████                                                                   | 231/1000 [01:00<03:32,  3.61it/s]"
     ]
    },
    {
     "name": "stdout",
     "output_type": "stream",
     "text": [
      "0.1433793\n",
      "0.527921597416642\n",
      "0.7699999999999998\n",
      "0.13885821\n",
      "0.5515256862555135\n",
      "0.7689999999999998\n"
     ]
    },
    {
     "name": "stderr",
     "output_type": "stream",
     "text": [
      " 23%|████████████████████▏                                                                  | 232/1000 [01:01<03:32,  3.62it/s]"
     ]
    },
    {
     "name": "stdout",
     "output_type": "stream",
     "text": [
      "0.1383441\n",
      "0.5739495542031335\n",
      "0.7679999999999998\n"
     ]
    },
    {
     "name": "stderr",
     "output_type": "stream",
     "text": [
      " 23%|████████████████████▎                                                                  | 234/1000 [01:01<02:50,  4.50it/s]"
     ]
    },
    {
     "name": "stdout",
     "output_type": "stream",
     "text": [
      "0.13788211\n",
      "0.5952522139078883\n",
      "0.7669999999999998\n",
      "0.13383907\n",
      "0.6154897272293693\n",
      "0.7659999999999998\n"
     ]
    },
    {
     "name": "stderr",
     "output_type": "stream",
     "text": [
      " 24%|████████████████████▌                                                                  | 236/1000 [01:01<02:20,  5.45it/s]"
     ]
    },
    {
     "name": "stdout",
     "output_type": "stream",
     "text": [
      "0.12974907\n",
      "0.6347153527930606\n",
      "0.7649999999999998\n",
      "0.12562127\n",
      "0.6529796861658039\n",
      "0.7639999999999998\n"
     ]
    },
    {
     "name": "stderr",
     "output_type": "stream",
     "text": [
      " 24%|████████████████████▌                                                                  | 237/1000 [01:01<02:04,  6.13it/s]"
     ]
    },
    {
     "name": "stdout",
     "output_type": "stream",
     "text": [
      "0.134823\n",
      "0.570330267613084\n",
      "0.7629999999999998\n"
     ]
    },
    {
     "name": "stderr",
     "output_type": "stream",
     "text": [
      " 24%|████████████████████▋                                                                  | 238/1000 [01:02<04:19,  2.93it/s]"
     ]
    },
    {
     "name": "stdout",
     "output_type": "stream",
     "text": [
      "0.13689668\n",
      "0.5918138614645746\n",
      "0.7619999999999998\n"
     ]
    },
    {
     "name": "stderr",
     "output_type": "stream",
     "text": [
      " 24%|████████████████████▊                                                                  | 239/1000 [01:03<04:32,  2.79it/s]"
     ]
    },
    {
     "name": "stdout",
     "output_type": "stream",
     "text": [
      "0.13879025\n",
      "0.6122232651683068\n",
      "0.7609999999999998\n"
     ]
    },
    {
     "name": "stderr",
     "output_type": "stream",
     "text": [
      " 24%|████████████████████▉                                                                  | 241/1000 [01:03<03:22,  3.74it/s]"
     ]
    },
    {
     "name": "stdout",
     "output_type": "stream",
     "text": [
      "0.13839671\n",
      "0.6316121892510563\n",
      "0.7599999999999998\n",
      "0.14738019\n",
      "0.5500312306661322\n",
      "0.7589999999999998\n"
     ]
    },
    {
     "name": "stderr",
     "output_type": "stream",
     "text": [
      " 24%|█████████████████████                                                                  | 242/1000 [01:03<03:16,  3.85it/s]"
     ]
    },
    {
     "name": "stdout",
     "output_type": "stream",
     "text": [
      "0.14627619\n",
      "0.5725297606002862\n",
      "0.7579999999999998\n"
     ]
    },
    {
     "name": "stderr",
     "output_type": "stream",
     "text": [
      " 24%|█████████████████████▏                                                                 | 243/1000 [01:04<03:41,  3.42it/s]"
     ]
    },
    {
     "name": "stdout",
     "output_type": "stream",
     "text": [
      "0.1454498\n",
      "0.5939033551196207\n",
      "0.7569999999999998\n"
     ]
    },
    {
     "name": "stderr",
     "output_type": "stream",
     "text": [
      " 24%|█████████████████████▎                                                                 | 245/1000 [01:04<02:49,  4.46it/s]"
     ]
    },
    {
     "name": "stdout",
     "output_type": "stream",
     "text": [
      "0.14057878\n",
      "0.6142082618643974\n",
      "0.7559999999999998\n",
      "0.13563804\n",
      "0.633497916008086\n",
      "0.7549999999999998\n"
     ]
    },
    {
     "name": "stderr",
     "output_type": "stream",
     "text": [
      " 25%|█████████████████████▍                                                                 | 247/1000 [01:04<02:18,  5.45it/s]"
     ]
    },
    {
     "name": "stdout",
     "output_type": "stream",
     "text": [
      "0.13066441\n",
      "0.65182308088897\n",
      "0.7539999999999998\n",
      "0.14177048\n",
      "0.5692316670288117\n",
      "0.7529999999999998\n"
     ]
    },
    {
     "name": "stderr",
     "output_type": "stream",
     "text": [
      " 25%|█████████████████████▌                                                                 | 248/1000 [01:04<02:14,  5.57it/s]"
     ]
    },
    {
     "name": "stdout",
     "output_type": "stream",
     "text": [
      "0.13597448\n",
      "0.5907701480452479\n",
      "0.7519999999999998\n"
     ]
    },
    {
     "name": "stderr",
     "output_type": "stream",
     "text": [
      " 25%|█████████████████████▋                                                                 | 249/1000 [01:05<02:24,  5.19it/s]"
     ]
    },
    {
     "name": "stdout",
     "output_type": "stream",
     "text": [
      "0.14221163\n",
      "0.5112314148261137\n",
      "0.7509999999999998\n"
     ]
    },
    {
     "name": "stderr",
     "output_type": "stream",
     "text": [
      " 25%|█████████████████████▊                                                                 | 250/1000 [01:05<02:28,  5.04it/s]"
     ]
    },
    {
     "name": "stdout",
     "output_type": "stream",
     "text": [
      "0.13602594\n",
      "0.5356699099985218\n",
      "0.7499999999999998\n"
     ]
    },
    {
     "name": "stderr",
     "output_type": "stream",
     "text": [
      " 25%|█████████████████████▊                                                                 | 251/1000 [01:05<03:00,  4.14it/s]"
     ]
    },
    {
     "name": "stdout",
     "output_type": "stream",
     "text": [
      "0.14007631\n",
      "0.558886473985706\n",
      "0.7489999999999998\n"
     ]
    },
    {
     "name": "stderr",
     "output_type": "stream",
     "text": [
      " 25%|██████████████████████                                                                 | 253/1000 [01:06<02:55,  4.26it/s]"
     ]
    },
    {
     "name": "stdout",
     "output_type": "stream",
     "text": [
      "0.14095388\n",
      "0.5809422039735237\n",
      "0.7479999999999998\n",
      "0.13559191\n",
      "0.6018951422274458\n",
      "0.7469999999999998\n"
     ]
    },
    {
     "name": "stderr",
     "output_type": "stream",
     "text": [
      " 26%|██████████████████████▏                                                                | 255/1000 [01:06<02:26,  5.07it/s]"
     ]
    },
    {
     "name": "stdout",
     "output_type": "stream",
     "text": [
      "0.13528474\n",
      "0.621800428844533\n",
      "0.7459999999999998\n",
      "0.13045171\n",
      "0.6407104468672323\n",
      "0.7449999999999998\n"
     ]
    },
    {
     "name": "stderr",
     "output_type": "stream",
     "text": [
      " 26%|██████████████████████▎                                                                | 256/1000 [01:06<02:48,  4.43it/s]"
     ]
    },
    {
     "name": "stdout",
     "output_type": "stream",
     "text": [
      "0.13376366\n",
      "0.5586747618769808\n",
      "0.7439999999999998\n"
     ]
    },
    {
     "name": "stderr",
     "output_type": "stream",
     "text": [
      " 26%|██████████████████████▎                                                                | 257/1000 [01:07<03:55,  3.15it/s]"
     ]
    },
    {
     "name": "stdout",
     "output_type": "stream",
     "text": [
      "0.13302478\n",
      "0.5807410653451038\n",
      "0.7429999999999998\n"
     ]
    },
    {
     "name": "stderr",
     "output_type": "stream",
     "text": [
      " 26%|██████████████████████▌                                                                | 259/1000 [01:07<03:23,  3.64it/s]"
     ]
    },
    {
     "name": "stdout",
     "output_type": "stream",
     "text": [
      "0.13292602\n",
      "0.6017040495875212\n",
      "0.7419999999999998\n",
      "0.14391217\n",
      "0.5216187109740886\n",
      "0.7409999999999998\n"
     ]
    },
    {
     "name": "stderr",
     "output_type": "stream",
     "text": [
      " 26%|██████████████████████▋                                                                | 261/1000 [01:08<03:04,  4.00it/s]"
     ]
    },
    {
     "name": "stdout",
     "output_type": "stream",
     "text": [
      "0.14246812\n",
      "0.5455378140516092\n",
      "0.7399999999999998\n",
      "0.13816571\n",
      "0.568260958209191\n",
      "0.7389999999999998\n"
     ]
    },
    {
     "name": "stderr",
     "output_type": "stream",
     "text": [
      " 26%|██████████████████████▊                                                                | 262/1000 [01:08<03:17,  3.73it/s]"
     ]
    },
    {
     "name": "stdout",
     "output_type": "stream",
     "text": [
      "0.13649638\n",
      "0.589847941760023\n",
      "0.7379999999999998\n"
     ]
    },
    {
     "name": "stderr",
     "output_type": "stream",
     "text": [
      " 26%|██████████████████████▉                                                                | 264/1000 [01:08<02:47,  4.40it/s]"
     ]
    },
    {
     "name": "stdout",
     "output_type": "stream",
     "text": [
      "0.13914365\n",
      "0.5103554346107857\n",
      "0.7369999999999998\n",
      "0.13501783\n",
      "0.534837695082281\n",
      "0.7359999999999998\n"
     ]
    },
    {
     "name": "stderr",
     "output_type": "stream",
     "text": [
      " 27%|███████████████████████▏                                                               | 266/1000 [01:09<02:30,  4.89it/s]"
     ]
    },
    {
     "name": "stdout",
     "output_type": "stream",
     "text": [
      "0.13093385\n",
      "0.5580958393904991\n",
      "0.7349999999999998\n",
      "0.12688896\n",
      "0.5801910736497257\n",
      "0.7339999999999998\n"
     ]
    },
    {
     "name": "stderr",
     "output_type": "stream",
     "text": [
      " 27%|███████████████████████▏                                                               | 267/1000 [01:09<02:21,  5.18it/s]"
     ]
    },
    {
     "name": "stdout",
     "output_type": "stream",
     "text": [
      "0.122878425\n",
      "0.6011815436386847\n",
      "0.7329999999999998\n"
     ]
    },
    {
     "name": "stderr",
     "output_type": "stream",
     "text": [
      " 27%|███████████████████████▎                                                               | 268/1000 [01:09<03:04,  3.97it/s]"
     ]
    },
    {
     "name": "stdout",
     "output_type": "stream",
     "text": [
      "0.123366855\n",
      "0.6211224878202274\n",
      "0.7319999999999998\n"
     ]
    },
    {
     "name": "stderr",
     "output_type": "stream",
     "text": [
      " 27%|███████████████████████▍                                                               | 269/1000 [01:10<03:27,  3.53it/s]"
     ]
    },
    {
     "name": "stdout",
     "output_type": "stream",
     "text": [
      "0.12866062\n",
      "0.5400662809326066\n",
      "0.7309999999999998\n"
     ]
    },
    {
     "name": "stderr",
     "output_type": "stream",
     "text": [
      " 27%|███████████████████████▌                                                               | 271/1000 [01:10<03:39,  3.32it/s]"
     ]
    },
    {
     "name": "stdout",
     "output_type": "stream",
     "text": [
      "0.13038735\n",
      "0.563062989121077\n",
      "0.7299999999999998\n",
      "0.12602368\n",
      "0.5849098597321997\n",
      "0.7289999999999998\n"
     ]
    },
    {
     "name": "stderr",
     "output_type": "stream",
     "text": [
      " 27%|███████████████████████▋                                                               | 272/1000 [01:11<04:07,  2.94it/s]"
     ]
    },
    {
     "name": "stdout",
     "output_type": "stream",
     "text": [
      "0.12741545\n",
      "0.6056643848562148\n",
      "0.7279999999999998\n"
     ]
    },
    {
     "name": "stderr",
     "output_type": "stream",
     "text": [
      " 27%|███████████████████████▊                                                               | 274/1000 [01:11<03:17,  3.68it/s]"
     ]
    },
    {
     "name": "stdout",
     "output_type": "stream",
     "text": [
      "0.12959461\n",
      "0.6253811819582417\n",
      "0.7269999999999998\n",
      "0.12511541\n",
      "0.6441121376115444\n",
      "0.7259999999999998\n"
     ]
    },
    {
     "name": "stderr",
     "output_type": "stream",
     "text": [
      " 28%|████████████████████████                                                               | 276/1000 [01:12<03:35,  3.36it/s]"
     ]
    },
    {
     "name": "stdout",
     "output_type": "stream",
     "text": [
      "0.12706102\n",
      "0.6619065440439373\n",
      "0.7249999999999998\n",
      "0.123552606\n",
      "0.6788112288566951\n",
      "0.7239999999999998\n"
     ]
    },
    {
     "name": "stderr",
     "output_type": "stream",
     "text": [
      " 28%|████████████████████████                                                               | 277/1000 [01:12<02:55,  4.12it/s]"
     ]
    },
    {
     "name": "stdout",
     "output_type": "stream",
     "text": [
      "0.120002754\n",
      "0.6948706782573563\n",
      "0.7229999999999998\n"
     ]
    },
    {
     "name": "stderr",
     "output_type": "stream",
     "text": [
      " 28%|████████████████████████▎                                                              | 279/1000 [01:13<02:56,  4.09it/s]"
     ]
    },
    {
     "name": "stdout",
     "output_type": "stream",
     "text": [
      "0.119233385\n",
      "0.7101271541307428\n",
      "0.7219999999999998\n",
      "0.115670964\n",
      "0.7246208052562996\n",
      "0.7209999999999998\n"
     ]
    },
    {
     "name": "stderr",
     "output_type": "stream",
     "text": [
      " 28%|████████████████████████▍                                                              | 281/1000 [01:13<03:29,  3.44it/s]"
     ]
    },
    {
     "name": "stdout",
     "output_type": "stream",
     "text": [
      "0.11713073\n",
      "0.7383897729644487\n",
      "0.7199999999999998\n",
      "0.113897346\n",
      "0.7514702915100212\n",
      "0.7189999999999998\n"
     ]
    },
    {
     "name": "stderr",
     "output_type": "stream",
     "text": [
      " 28%|████████████████████████▌                                                              | 282/1000 [01:14<03:28,  3.44it/s]"
     ]
    },
    {
     "name": "stdout",
     "output_type": "stream",
     "text": [
      "0.11384552\n",
      "0.7638967834269196\n",
      "0.7179999999999997\n"
     ]
    },
    {
     "name": "stderr",
     "output_type": "stream",
     "text": [
      " 28%|████████████████████████▋                                                              | 284/1000 [01:14<02:50,  4.20it/s]"
     ]
    },
    {
     "name": "stdout",
     "output_type": "stream",
     "text": [
      "0.1125249\n",
      "0.7757019501149638\n",
      "0.7169999999999997\n",
      "0.13059217\n",
      "0.6869168107448819\n",
      "0.7159999999999997\n"
     ]
    },
    {
     "name": "stderr",
     "output_type": "stream",
     "text": [
      " 29%|████████████████████████▉                                                              | 286/1000 [01:14<02:06,  5.64it/s]"
     ]
    },
    {
     "name": "stdout",
     "output_type": "stream",
     "text": [
      "0.14206928\n",
      "0.6025709324250784\n",
      "0.7149999999999997\n",
      "0.13680027\n",
      "0.6224423942601353\n",
      "0.7139999999999997\n"
     ]
    },
    {
     "name": "stderr",
     "output_type": "stream",
     "text": [
      " 29%|█████████████████████████                                                              | 288/1000 [01:15<02:28,  4.78it/s]"
     ]
    },
    {
     "name": "stdout",
     "output_type": "stream",
     "text": [
      "0.13579075\n",
      "0.6413202821789485\n",
      "0.7129999999999997\n",
      "0.13081682\n",
      "0.6592542749577185\n",
      "0.7119999999999997\n"
     ]
    },
    {
     "name": "stderr",
     "output_type": "stream",
     "text": [
      " 29%|█████████████████████████▏                                                             | 289/1000 [01:15<02:08,  5.53it/s]"
     ]
    },
    {
     "name": "stdout",
     "output_type": "stream",
     "text": [
      "0.1259102\n",
      "0.6762915674259972\n",
      "0.7109999999999997\n"
     ]
    },
    {
     "name": "stderr",
     "output_type": "stream",
     "text": [
      " 29%|█████████████████████████▏                                                             | 290/1000 [01:16<03:11,  3.72it/s]"
     ]
    },
    {
     "name": "stdout",
     "output_type": "stream",
     "text": [
      "0.12698464\n",
      "0.6924769946647856\n",
      "0.7099999999999997\n"
     ]
    },
    {
     "name": "stderr",
     "output_type": "stream",
     "text": [
      " 29%|█████████████████████████▍                                                             | 292/1000 [01:16<03:44,  3.16it/s]"
     ]
    },
    {
     "name": "stdout",
     "output_type": "stream",
     "text": [
      "0.12532212\n",
      "0.707853149994651\n",
      "0.7089999999999997\n",
      "0.14275983\n",
      "0.6224604657824876\n",
      "0.7079999999999997\n"
     ]
    },
    {
     "name": "stderr",
     "output_type": "stream",
     "text": [
      " 29%|█████████████████████████▌                                                             | 294/1000 [01:17<02:32,  4.64it/s]"
     ]
    },
    {
     "name": "stdout",
     "output_type": "stream",
     "text": [
      "0.15383388\n",
      "0.5413374183853952\n",
      "0.7069999999999997\n",
      "0.16061588\n",
      "0.4642705257086849\n",
      "0.7059999999999997\n"
     ]
    },
    {
     "name": "stderr",
     "output_type": "stream",
     "text": [
      " 30%|█████████████████████████▋                                                             | 295/1000 [01:17<03:07,  3.75it/s]"
     ]
    },
    {
     "name": "stdout",
     "output_type": "stream",
     "text": [
      "0.15967105\n",
      "0.49105700660746404\n",
      "0.7049999999999997\n"
     ]
    },
    {
     "name": "stderr",
     "output_type": "stream",
     "text": [
      " 30%|█████████████████████████▊                                                             | 297/1000 [01:18<03:35,  3.26it/s]"
     ]
    },
    {
     "name": "stdout",
     "output_type": "stream",
     "text": [
      "0.16324583\n",
      "0.5165041627608432\n",
      "0.7039999999999997\n",
      "0.15626864\n",
      "0.5406789604743875\n",
      "0.7029999999999997\n"
     ]
    },
    {
     "name": "stderr",
     "output_type": "stream",
     "text": [
      " 30%|██████████████████████████                                                             | 299/1000 [01:18<03:39,  3.20it/s]"
     ]
    },
    {
     "name": "stdout",
     "output_type": "stream",
     "text": [
      "0.15510544\n",
      "0.5636450177317246\n",
      "0.7019999999999997\n",
      "0.14822313\n",
      "0.5854627716112918\n",
      "0.7009999999999997\n"
     ]
    },
    {
     "name": "stderr",
     "output_type": "stream",
     "text": [
      " 30%|██████████████████████████                                                             | 300/1000 [01:19<03:44,  3.12it/s]"
     ]
    },
    {
     "name": "stdout",
     "output_type": "stream",
     "text": [
      "0.14901015\n",
      "0.6061896373321807\n",
      "0.6999999999999997\n"
     ]
    },
    {
     "name": "stderr",
     "output_type": "stream",
     "text": [
      " 30%|██████████████████████████▏                                                            | 301/1000 [01:20<05:05,  2.29it/s]"
     ]
    },
    {
     "name": "stdout",
     "output_type": "stream",
     "text": [
      "0.15062785\n",
      "0.5258801396322476\n",
      "0.6989999999999997\n"
     ]
    },
    {
     "name": "stderr",
     "output_type": "stream",
     "text": [
      " 30%|██████████████████████████▎                                                            | 302/1000 [01:20<04:47,  2.43it/s]"
     ]
    },
    {
     "name": "stdout",
     "output_type": "stream",
     "text": [
      "0.14786698\n",
      "0.5495861370906767\n",
      "0.6979999999999997\n"
     ]
    },
    {
     "name": "stderr",
     "output_type": "stream",
     "text": [
      " 30%|██████████████████████████▎                                                            | 303/1000 [01:21<06:07,  1.90it/s]"
     ]
    },
    {
     "name": "stdout",
     "output_type": "stream",
     "text": [
      "0.14694926\n",
      "0.5721068342432802\n",
      "0.6969999999999997\n"
     ]
    },
    {
     "name": "stderr",
     "output_type": "stream",
     "text": [
      " 30%|██████████████████████████▌                                                            | 305/1000 [01:21<03:54,  2.97it/s]"
     ]
    },
    {
     "name": "stdout",
     "output_type": "stream",
     "text": [
      "0.14016478\n",
      "0.5935014961475577\n",
      "0.6959999999999997\n",
      "0.1510438\n",
      "0.5138264085457137\n",
      "0.6949999999999997\n"
     ]
    },
    {
     "name": "stderr",
     "output_type": "stream",
     "text": [
      " 31%|██████████████████████████▌                                                            | 306/1000 [01:21<03:07,  3.71it/s]"
     ]
    },
    {
     "name": "stdout",
     "output_type": "stream",
     "text": [
      "0.15718283\n",
      "0.4381350765714227\n",
      "0.6939999999999997\n"
     ]
    },
    {
     "name": "stderr",
     "output_type": "stream",
     "text": [
      " 31%|██████████████████████████▊                                                            | 308/1000 [01:22<02:47,  4.13it/s]"
     ]
    },
    {
     "name": "stdout",
     "output_type": "stream",
     "text": [
      "0.15516077\n",
      "0.4662283268142988\n",
      "0.6929999999999997\n",
      "0.16029139\n",
      "0.39291690038007654\n",
      "0.6919999999999997\n"
     ]
    },
    {
     "name": "stderr",
     "output_type": "stream",
     "text": [
      " 31%|██████████████████████████▉                                                            | 310/1000 [01:22<02:10,  5.28it/s]"
     ]
    },
    {
     "name": "stdout",
     "output_type": "stream",
     "text": [
      "0.15291424\n",
      "0.42327105933127146\n",
      "0.6909999999999997\n",
      "0.14586788\n",
      "0.4521075099478121\n",
      "0.6899999999999997\n"
     ]
    },
    {
     "name": "stderr",
     "output_type": "stream",
     "text": [
      " 31%|███████████████████████████▏                                                           | 312/1000 [01:22<01:56,  5.92it/s]"
     ]
    },
    {
     "name": "stdout",
     "output_type": "stream",
     "text": [
      "0.1391427\n",
      "0.4795021376841731\n",
      "0.6889999999999997\n",
      "0.13272548\n",
      "0.5055270337184252\n",
      "0.6879999999999997\n"
     ]
    },
    {
     "name": "stderr",
     "output_type": "stream",
     "text": [
      " 31%|███████████████████████████▎                                                           | 314/1000 [01:22<01:45,  6.52it/s]"
     ]
    },
    {
     "name": "stdout",
     "output_type": "stream",
     "text": [
      "0.12660135\n",
      "0.5302506846664148\n",
      "0.6869999999999997\n",
      "0.12075503\n",
      "0.5537381528101984\n",
      "0.6859999999999997\n"
     ]
    },
    {
     "name": "stderr",
     "output_type": "stream",
     "text": [
      " 32%|███████████████████████████▍                                                           | 315/1000 [01:23<01:38,  6.93it/s]"
     ]
    },
    {
     "name": "stdout",
     "output_type": "stream",
     "text": [
      "0.12621938\n",
      "0.47605123770032587\n",
      "0.6849999999999997\n"
     ]
    },
    {
     "name": "stderr",
     "output_type": "stream",
     "text": [
      " 32%|███████████████████████████▌                                                           | 317/1000 [01:23<02:00,  5.69it/s]"
     ]
    },
    {
     "name": "stdout",
     "output_type": "stream",
     "text": [
      "0.13506868\n",
      "0.5022486782081742\n",
      "0.6839999999999997\n",
      "0.12929443\n",
      "0.5271362464573258\n",
      "0.6829999999999997\n"
     ]
    },
    {
     "name": "stderr",
     "output_type": "stream",
     "text": [
      " 32%|███████████████████████████▊                                                           | 319/1000 [01:23<01:53,  5.98it/s]"
     ]
    },
    {
     "name": "stdout",
     "output_type": "stream",
     "text": [
      "0.12375751\n",
      "0.5507794360834627\n",
      "0.6819999999999997\n",
      "0.11845014\n",
      "0.573240466038265\n",
      "0.6809999999999997\n"
     ]
    },
    {
     "name": "stderr",
     "output_type": "stream",
     "text": [
      " 32%|███████████████████████████▉                                                           | 321/1000 [01:24<02:56,  3.84it/s]"
     ]
    },
    {
     "name": "stdout",
     "output_type": "stream",
     "text": [
      "0.12319658\n",
      "0.594578444323827\n",
      "0.6799999999999997\n",
      "0.119748786\n",
      "0.6148495235403321\n",
      "0.6789999999999997\n"
     ]
    },
    {
     "name": "stderr",
     "output_type": "stream",
     "text": [
      " 32%|████████████████████████████                                                           | 322/1000 [01:24<03:04,  3.68it/s]"
     ]
    },
    {
     "name": "stdout",
     "output_type": "stream",
     "text": [
      "0.123618595\n",
      "0.5341070419420209\n",
      "0.6779999999999997\n"
     ]
    },
    {
     "name": "stderr",
     "output_type": "stream",
     "text": [
      " 32%|████████████████████████████                                                           | 323/1000 [01:25<04:11,  2.69it/s]"
     ]
    },
    {
     "name": "stdout",
     "output_type": "stream",
     "text": [
      "0.12477382\n",
      "0.4574016849522015\n",
      "0.6769999999999997\n"
     ]
    },
    {
     "name": "stderr",
     "output_type": "stream",
     "text": [
      " 32%|████████████████████████████▏                                                          | 324/1000 [01:25<03:43,  3.03it/s]"
     ]
    },
    {
     "name": "stdout",
     "output_type": "stream",
     "text": [
      "0.1228806\n",
      "0.4845316023485717\n",
      "0.6759999999999997\n"
     ]
    },
    {
     "name": "stderr",
     "output_type": "stream",
     "text": [
      " 32%|████████████████████████████▎                                                          | 325/1000 [01:25<03:22,  3.33it/s]"
     ]
    },
    {
     "name": "stdout",
     "output_type": "stream",
     "text": [
      "0.12502332\n",
      "0.4103050179581597\n",
      "0.6749999999999997\n"
     ]
    },
    {
     "name": "stderr",
     "output_type": "stream",
     "text": [
      " 33%|████████████████████████████▎                                                          | 326/1000 [01:26<03:07,  3.60it/s]"
     ]
    },
    {
     "name": "stdout",
     "output_type": "stream",
     "text": [
      "0.123016454\n",
      "0.439789768672726\n",
      "0.6739999999999997\n"
     ]
    },
    {
     "name": "stderr",
     "output_type": "stream",
     "text": [
      " 33%|████████████████████████████▍                                                          | 327/1000 [01:26<02:58,  3.77it/s]"
     ]
    },
    {
     "name": "stdout",
     "output_type": "stream",
     "text": [
      "0.12099896\n",
      "0.46780028169434773\n",
      "0.6729999999999997\n"
     ]
    },
    {
     "name": "stderr",
     "output_type": "stream",
     "text": [
      " 33%|████████████████████████████▌                                                          | 328/1000 [01:26<03:03,  3.67it/s]"
     ]
    },
    {
     "name": "stdout",
     "output_type": "stream",
     "text": [
      "0.12375804\n",
      "0.39441026398737106\n",
      "0.6719999999999997\n"
     ]
    },
    {
     "name": "stderr",
     "output_type": "stream",
     "text": [
      " 33%|████████████████████████████▌                                                          | 329/1000 [01:27<03:04,  3.63it/s]"
     ]
    },
    {
     "name": "stdout",
     "output_type": "stream",
     "text": [
      "0.122155175\n",
      "0.42468975220776156\n",
      "0.6709999999999997\n"
     ]
    },
    {
     "name": "stderr",
     "output_type": "stream",
     "text": [
      " 33%|████████████████████████████▋                                                          | 330/1000 [01:27<03:19,  3.37it/s]"
     ]
    },
    {
     "name": "stdout",
     "output_type": "stream",
     "text": [
      "0.12482867\n",
      "0.35345526142430045\n",
      "0.6699999999999997\n"
     ]
    },
    {
     "name": "stderr",
     "output_type": "stream",
     "text": [
      " 33%|████████████████████████████▊                                                          | 331/1000 [01:28<05:04,  2.20it/s]"
     ]
    },
    {
     "name": "stdout",
     "output_type": "stream",
     "text": [
      "0.1264588\n",
      "0.3857824997210724\n",
      "0.6689999999999997\n"
     ]
    },
    {
     "name": "stderr",
     "output_type": "stream",
     "text": [
      " 33%|████████████████████████████▉                                                          | 332/1000 [01:28<04:17,  2.59it/s]"
     ]
    },
    {
     "name": "stdout",
     "output_type": "stream",
     "text": [
      "0.12354973\n",
      "0.416493375969627\n",
      "0.6679999999999997\n"
     ]
    },
    {
     "name": "stderr",
     "output_type": "stream",
     "text": [
      " 33%|████████████████████████████▉                                                          | 333/1000 [01:28<04:24,  2.53it/s]"
     ]
    },
    {
     "name": "stdout",
     "output_type": "stream",
     "text": [
      "0.12362545\n",
      "0.4456687082853796\n",
      "0.6669999999999997\n"
     ]
    },
    {
     "name": "stderr",
     "output_type": "stream",
     "text": [
      " 34%|█████████████████████████████▏                                                         | 335/1000 [01:29<03:38,  3.04it/s]"
     ]
    },
    {
     "name": "stdout",
     "output_type": "stream",
     "text": [
      "0.12491848\n",
      "0.4733852738767068\n",
      "0.6659999999999997\n",
      "0.12244095\n",
      "0.49971601109042196\n",
      "0.6649999999999997\n"
     ]
    },
    {
     "name": "stderr",
     "output_type": "stream",
     "text": [
      " 34%|█████████████████████████████▎                                                         | 337/1000 [01:29<02:47,  3.95it/s]"
     ]
    },
    {
     "name": "stdout",
     "output_type": "stream",
     "text": [
      "0.12256644\n",
      "0.5247302113549652\n",
      "0.6639999999999997\n",
      "0.120302014\n",
      "0.5484937015264224\n",
      "0.6629999999999997\n"
     ]
    },
    {
     "name": "stderr",
     "output_type": "stream",
     "text": [
      " 34%|█████████████████████████████▍                                                         | 338/1000 [01:29<02:30,  4.39it/s]"
     ]
    },
    {
     "name": "stdout",
     "output_type": "stream",
     "text": [
      "0.117896214\n",
      "0.5710690171172343\n",
      "0.6619999999999997\n"
     ]
    },
    {
     "name": "stderr",
     "output_type": "stream",
     "text": [
      " 34%|█████████████████████████████▍                                                         | 339/1000 [01:30<02:39,  4.14it/s]"
     ]
    },
    {
     "name": "stdout",
     "output_type": "stream",
     "text": [
      "0.11979043\n",
      "0.5925155668634602\n",
      "0.6609999999999997\n"
     ]
    },
    {
     "name": "stderr",
     "output_type": "stream",
     "text": [
      " 34%|█████████████████████████████▌                                                         | 340/1000 [01:30<02:39,  4.13it/s]"
     ]
    },
    {
     "name": "stdout",
     "output_type": "stream",
     "text": [
      "0.11726805\n",
      "0.6128897890636712\n",
      "0.6599999999999997\n"
     ]
    },
    {
     "name": "stderr",
     "output_type": "stream",
     "text": [
      " 34%|█████████████████████████████▊                                                         | 342/1000 [01:30<02:24,  4.56it/s]"
     ]
    },
    {
     "name": "stdout",
     "output_type": "stream",
     "text": [
      "0.124661826\n",
      "0.5322452975672253\n",
      "0.6589999999999997\n",
      "0.12052069\n",
      "0.5556330332518028\n",
      "0.6579999999999997\n"
     ]
    },
    {
     "name": "stderr",
     "output_type": "stream",
     "text": [
      " 34%|█████████████████████████████▉                                                         | 344/1000 [01:31<01:54,  5.72it/s]"
     ]
    },
    {
     "name": "stdout",
     "output_type": "stream",
     "text": [
      "0.11646708\n",
      "0.5778513820972649\n",
      "0.6569999999999997\n",
      "0.12226773\n",
      "0.49895881127861663\n",
      "0.6559999999999997\n"
     ]
    },
    {
     "name": "stderr",
     "output_type": "stream",
     "text": [
      " 34%|██████████████████████████████                                                         | 345/1000 [01:31<02:16,  4.79it/s]"
     ]
    },
    {
     "name": "stdout",
     "output_type": "stream",
     "text": [
      "0.12532313\n",
      "0.5240108712316819\n",
      "0.6549999999999997\n"
     ]
    },
    {
     "name": "stderr",
     "output_type": "stream",
     "text": [
      " 35%|██████████████████████████████                                                         | 346/1000 [01:31<02:41,  4.05it/s]"
     ]
    },
    {
     "name": "stdout",
     "output_type": "stream",
     "text": [
      "0.12837702\n",
      "0.5478103281366868\n",
      "0.6539999999999997\n"
     ]
    },
    {
     "name": "stderr",
     "output_type": "stream",
     "text": [
      " 35%|██████████████████████████████▎                                                        | 348/1000 [01:32<02:31,  4.29it/s]"
     ]
    },
    {
     "name": "stdout",
     "output_type": "stream",
     "text": [
      "0.13687351\n",
      "0.4704198102884715\n",
      "0.6529999999999997\n",
      "0.13122429\n",
      "0.4968988202425553\n",
      "0.6519999999999997\n"
     ]
    },
    {
     "name": "stderr",
     "output_type": "stream",
     "text": [
      " 35%|██████████████████████████████▎                                                        | 349/1000 [01:32<02:17,  4.72it/s]"
     ]
    },
    {
     "name": "stdout",
     "output_type": "stream",
     "text": [
      "0.1257909\n",
      "0.5220538796532553\n",
      "0.6509999999999997\n"
     ]
    },
    {
     "name": "stderr",
     "output_type": "stream",
     "text": [
      " 35%|██████████████████████████████▍                                                        | 350/1000 [01:32<02:43,  3.97it/s]"
     ]
    },
    {
     "name": "stdout",
     "output_type": "stream",
     "text": [
      "0.13465747\n",
      "0.5459511860521947\n",
      "0.6499999999999997\n"
     ]
    },
    {
     "name": "stderr",
     "output_type": "stream",
     "text": [
      " 35%|██████████████████████████████▌                                                        | 351/1000 [01:33<03:47,  2.85it/s]"
     ]
    },
    {
     "name": "stdout",
     "output_type": "stream",
     "text": [
      "0.13885035\n",
      "0.568653627093981\n",
      "0.6489999999999997\n"
     ]
    },
    {
     "name": "stderr",
     "output_type": "stream",
     "text": [
      " 35%|██████████████████████████████▌                                                        | 352/1000 [01:33<03:59,  2.71it/s]"
     ]
    },
    {
     "name": "stdout",
     "output_type": "stream",
     "text": [
      "0.1405277\n",
      "0.5902209460500992\n",
      "0.6479999999999997\n"
     ]
    },
    {
     "name": "stderr",
     "output_type": "stream",
     "text": [
      " 35%|██████████████████████████████▊                                                        | 354/1000 [01:34<03:12,  3.35it/s]"
     ]
    },
    {
     "name": "stdout",
     "output_type": "stream",
     "text": [
      "0.14077476\n",
      "0.6107098990281069\n",
      "0.6469999999999997\n",
      "0.14615372\n",
      "0.5301744030292266\n",
      "0.6459999999999997\n"
     ]
    },
    {
     "name": "stderr",
     "output_type": "stream",
     "text": [
      " 36%|██████████████████████████████▉                                                        | 355/1000 [01:34<02:35,  4.15it/s]"
     ]
    },
    {
     "name": "stdout",
     "output_type": "stream",
     "text": [
      "0.14001423\n",
      "0.5536656831680249\n",
      "0.6449999999999997\n"
     ]
    },
    {
     "name": "stderr",
     "output_type": "stream",
     "text": [
      " 36%|███████████████████████████████                                                        | 357/1000 [01:34<02:17,  4.67it/s]"
     ]
    },
    {
     "name": "stdout",
     "output_type": "stream",
     "text": [
      "0.1457424\n",
      "0.47598239809775744\n",
      "0.6439999999999997\n",
      "0.13971269\n",
      "0.5021832784850446\n",
      "0.6429999999999997\n"
     ]
    },
    {
     "name": "stderr",
     "output_type": "stream",
     "text": [
      " 36%|███████████████████████████████▏                                                       | 358/1000 [01:34<02:10,  4.92it/s]"
     ]
    },
    {
     "name": "stdout",
     "output_type": "stream",
     "text": [
      "0.13385767\n",
      "0.5270741148244803\n",
      "0.6419999999999997\n"
     ]
    },
    {
     "name": "stderr",
     "output_type": "stream",
     "text": [
      " 36%|███████████████████████████████▎                                                       | 360/1000 [01:35<02:04,  5.14it/s]"
     ]
    },
    {
     "name": "stdout",
     "output_type": "stream",
     "text": [
      "0.12820867\n",
      "0.5507204093212346\n",
      "0.6409999999999997\n",
      "0.1227784\n",
      "0.5731843890699483\n",
      "0.6399999999999997\n"
     ]
    },
    {
     "name": "stderr",
     "output_type": "stream",
     "text": [
      " 36%|███████████████████████████████▍                                                       | 362/1000 [01:35<02:06,  5.03it/s]"
     ]
    },
    {
     "name": "stdout",
     "output_type": "stream",
     "text": [
      "0.1316943\n",
      "0.5945251698102858\n",
      "0.6389999999999997\n",
      "0.1266252\n",
      "0.6147989114947074\n",
      "0.6379999999999997\n"
     ]
    },
    {
     "name": "stderr",
     "output_type": "stream",
     "text": [
      " 36%|███████████████████████████████▋                                                       | 364/1000 [01:36<01:49,  5.83it/s]"
     ]
    },
    {
     "name": "stdout",
     "output_type": "stream",
     "text": [
      "0.12173244\n",
      "0.6340589660778517\n",
      "0.6369999999999997\n",
      "0.11700976\n",
      "0.6523560179164456\n",
      "0.6359999999999997\n"
     ]
    },
    {
     "name": "stderr",
     "output_type": "stream",
     "text": [
      " 36%|███████████████████████████████▊                                                       | 365/1000 [01:36<03:15,  3.25it/s]"
     ]
    },
    {
     "name": "stdout",
     "output_type": "stream",
     "text": [
      "0.12190918\n",
      "0.6697382171492173\n",
      "0.6349999999999997\n"
     ]
    },
    {
     "name": "stderr",
     "output_type": "stream",
     "text": [
      " 37%|███████████████████████████████▉                                                       | 367/1000 [01:37<03:15,  3.23it/s]"
     ]
    },
    {
     "name": "stdout",
     "output_type": "stream",
     "text": [
      "0.12618889\n",
      "0.6862513064078125\n",
      "0.6339999999999997\n",
      "0.12140328\n",
      "0.7019387411921625\n",
      "0.6329999999999997\n"
     ]
    },
    {
     "name": "stderr",
     "output_type": "stream",
     "text": [
      " 37%|████████████████████████████████                                                       | 368/1000 [01:37<02:39,  3.95it/s]"
     ]
    },
    {
     "name": "stdout",
     "output_type": "stream",
     "text": [
      "0.13274384\n",
      "0.6168418035927944\n",
      "0.6319999999999997\n"
     ]
    },
    {
     "name": "stderr",
     "output_type": "stream",
     "text": [
      " 37%|████████████████████████████████▏                                                      | 370/1000 [01:38<02:43,  3.85it/s]"
     ]
    },
    {
     "name": "stdout",
     "output_type": "stream",
     "text": [
      "0.13573769\n",
      "0.6359997135285952\n",
      "0.6309999999999997\n",
      "0.14397798\n",
      "0.5541997273839053\n",
      "0.6299999999999997\n"
     ]
    },
    {
     "name": "stderr",
     "output_type": "stream",
     "text": [
      " 37%|████████████████████████████████▎                                                      | 371/1000 [01:38<02:29,  4.20it/s]"
     ]
    },
    {
     "name": "stdout",
     "output_type": "stream",
     "text": [
      "0.13874789\n",
      "0.5764897411359283\n",
      "0.6289999999999997\n"
     ]
    },
    {
     "name": "stderr",
     "output_type": "stream",
     "text": [
      " 37%|████████████████████████████████▍                                                      | 373/1000 [01:38<02:35,  4.03it/s]"
     ]
    },
    {
     "name": "stdout",
     "output_type": "stream",
     "text": [
      "0.13838503\n",
      "0.5976652541885313\n",
      "0.6279999999999997\n",
      "0.13372129\n",
      "0.6177819915778378\n",
      "0.6269999999999997\n"
     ]
    },
    {
     "name": "stderr",
     "output_type": "stream",
     "text": [
      " 38%|████████████████████████████████▋                                                      | 375/1000 [01:39<01:59,  5.24it/s]"
     ]
    },
    {
     "name": "stdout",
     "output_type": "stream",
     "text": [
      "0.12917022\n",
      "0.6368928920880524\n",
      "0.6259999999999997\n",
      "0.12472315\n",
      "0.6550482475640685\n",
      "0.6249999999999997\n"
     ]
    },
    {
     "name": "stderr",
     "output_type": "stream",
     "text": [
      " 38%|████████████████████████████████▋                                                      | 376/1000 [01:39<01:53,  5.52it/s]"
     ]
    },
    {
     "name": "stdout",
     "output_type": "stream",
     "text": [
      "0.12037086\n",
      "0.6722958352584429\n",
      "0.6239999999999997\n"
     ]
    },
    {
     "name": "stderr",
     "output_type": "stream",
     "text": [
      " 38%|████████████████████████████████▊                                                      | 377/1000 [01:39<02:00,  5.16it/s]"
     ]
    },
    {
     "name": "stdout",
     "output_type": "stream",
     "text": [
      "0.11610523\n",
      "0.6886810435610223\n",
      "0.6229999999999997\n"
     ]
    },
    {
     "name": "stderr",
     "output_type": "stream",
     "text": [
      " 38%|████████████████████████████████▉                                                      | 378/1000 [01:39<02:07,  4.88it/s]"
     ]
    },
    {
     "name": "stdout",
     "output_type": "stream",
     "text": [
      "0.11192007\n",
      "0.7042469914420864\n",
      "0.6219999999999997\n"
     ]
    },
    {
     "name": "stderr",
     "output_type": "stream",
     "text": [
      " 38%|█████████████████████████████████                                                      | 380/1000 [01:40<02:17,  4.50it/s]"
     ]
    },
    {
     "name": "stdout",
     "output_type": "stream",
     "text": [
      "0.113837756\n",
      "0.7190346419233334\n",
      "0.6209999999999997\n",
      "0.10921547\n",
      "0.7330829098753164\n",
      "0.6199999999999997\n"
     ]
    },
    {
     "name": "stderr",
     "output_type": "stream",
     "text": [
      " 38%|█████████████████████████████████▏                                                     | 382/1000 [01:40<01:51,  5.55it/s]"
     ]
    },
    {
     "name": "stdout",
     "output_type": "stream",
     "text": [
      "0.10473369\n",
      "0.7464287644250056\n",
      "0.6189999999999997\n",
      "0.10038735\n",
      "0.7591073262429735\n",
      "0.6179999999999997\n"
     ]
    },
    {
     "name": "stderr",
     "output_type": "stream",
     "text": [
      " 38%|█████████████████████████████████▎                                                     | 383/1000 [01:41<02:59,  3.44it/s]"
     ]
    },
    {
     "name": "stdout",
     "output_type": "stream",
     "text": [
      "0.10327306\n",
      "0.7711519599662192\n",
      "0.6169999999999997\n"
     ]
    },
    {
     "name": "stderr",
     "output_type": "stream",
     "text": [
      " 38%|█████████████████████████████████▍                                                     | 385/1000 [01:41<02:24,  4.26it/s]"
     ]
    },
    {
     "name": "stdout",
     "output_type": "stream",
     "text": [
      "0.09864065\n",
      "0.7825943619998517\n",
      "0.6159999999999997\n",
      "0.094193034\n",
      "0.7934646439286881\n",
      "0.6149999999999997\n"
     ]
    },
    {
     "name": "stderr",
     "output_type": "stream",
     "text": [
      " 39%|█████████████████████████████████▋                                                     | 387/1000 [01:41<02:33,  4.00it/s]"
     ]
    },
    {
     "name": "stdout",
     "output_type": "stream",
     "text": [
      "0.09595967\n",
      "0.8037914117582717\n",
      "0.6139999999999997\n",
      "0.0916973\n",
      "0.8136018411938396\n",
      "0.6129999999999997\n"
     ]
    },
    {
     "name": "stderr",
     "output_type": "stream",
     "text": [
      " 39%|█████████████████████████████████▊                                                     | 388/1000 [01:42<03:10,  3.20it/s]"
     ]
    },
    {
     "name": "stdout",
     "output_type": "stream",
     "text": [
      "0.097666636\n",
      "0.8229217491553396\n",
      "0.6119999999999997\n"
     ]
    },
    {
     "name": "stderr",
     "output_type": "stream",
     "text": [
      " 39%|█████████████████████████████████▉                                                     | 390/1000 [01:43<03:44,  2.72it/s]"
     ]
    },
    {
     "name": "stdout",
     "output_type": "stream",
     "text": [
      "0.09845592\n",
      "0.8317756617166983\n",
      "0.6109999999999997\n",
      "0.09457893\n",
      "0.8401868786481244\n",
      "0.6099999999999997\n"
     ]
    },
    {
     "name": "stderr",
     "output_type": "stream",
     "text": [
      " 39%|██████████████████████████████████                                                     | 392/1000 [01:43<03:05,  3.27it/s]"
     ]
    },
    {
     "name": "stdout",
     "output_type": "stream",
     "text": [
      "0.09436687\n",
      "0.8481775347312962\n",
      "0.6089999999999997\n",
      "0.09075313\n",
      "0.8557686580087905\n",
      "0.6079999999999997\n"
     ]
    },
    {
     "name": "stderr",
     "output_type": "stream",
     "text": [
      " 39%|██████████████████████████████████▏                                                    | 393/1000 [01:44<02:59,  3.37it/s]"
     ]
    },
    {
     "name": "stdout",
     "output_type": "stream",
     "text": [
      "0.10250908\n",
      "0.7629802249450943\n",
      "0.6069999999999997\n"
     ]
    },
    {
     "name": "stderr",
     "output_type": "stream",
     "text": [
      " 40%|██████████████████████████████████▎                                                    | 395/1000 [01:44<02:20,  4.32it/s]"
     ]
    },
    {
     "name": "stdout",
     "output_type": "stream",
     "text": [
      "0.10910859\n",
      "0.6748312135505005\n",
      "0.6059999999999997\n",
      "0.11940965\n",
      "0.5910896527400019\n",
      "0.6049999999999996\n"
     ]
    },
    {
     "name": "stderr",
     "output_type": "stream",
     "text": [
      " 40%|██████████████████████████████████▍                                                    | 396/1000 [01:44<02:17,  4.41it/s]"
     ]
    },
    {
     "name": "stdout",
     "output_type": "stream",
     "text": [
      "0.11391928\n",
      "0.6115351701338441\n",
      "0.6039999999999996\n"
     ]
    },
    {
     "name": "stderr",
     "output_type": "stream",
     "text": [
      " 40%|██████████████████████████████████▌                                                    | 397/1000 [01:45<02:36,  3.84it/s]"
     ]
    },
    {
     "name": "stdout",
     "output_type": "stream",
     "text": [
      "0.11365551\n",
      "0.630958411654987\n",
      "0.6029999999999996\n"
     ]
    },
    {
     "name": "stderr",
     "output_type": "stream",
     "text": [
      " 40%|██████████████████████████████████▋                                                    | 398/1000 [01:45<02:48,  3.57it/s]"
     ]
    },
    {
     "name": "stdout",
     "output_type": "stream",
     "text": [
      "0.11363685\n",
      "0.6494104910973588\n",
      "0.6019999999999996\n"
     ]
    },
    {
     "name": "stderr",
     "output_type": "stream",
     "text": [
      " 40%|██████████████████████████████████▋                                                    | 399/1000 [01:45<02:53,  3.47it/s]"
     ]
    },
    {
     "name": "stdout",
     "output_type": "stream",
     "text": [
      "0.11387576\n",
      "0.6669399665651627\n",
      "0.6009999999999996\n"
     ]
    },
    {
     "name": "stderr",
     "output_type": "stream",
     "text": [
      " 40%|██████████████████████████████████▉                                                    | 401/1000 [01:46<02:33,  3.89it/s]"
     ]
    },
    {
     "name": "stdout",
     "output_type": "stream",
     "text": [
      "0.1143321\n",
      "0.683592968257366\n",
      "0.5999999999999996\n",
      "0.10952464\n",
      "0.6994133198629641\n",
      "0.5989999999999996\n"
     ]
    },
    {
     "name": "stderr",
     "output_type": "stream",
     "text": [
      " 40%|███████████████████████████████████                                                    | 403/1000 [01:46<02:04,  4.79it/s]"
     ]
    },
    {
     "name": "stdout",
     "output_type": "stream",
     "text": [
      "0.10471051\n",
      "0.7144426538864819\n",
      "0.5979999999999996\n",
      "0.09995408\n",
      "0.7287205212071987\n",
      "0.5969999999999996\n"
     ]
    },
    {
     "name": "stderr",
     "output_type": "stream",
     "text": [
      " 40%|███████████████████████████████████▏                                                   | 404/1000 [01:47<02:59,  3.33it/s]"
     ]
    },
    {
     "name": "stdout",
     "output_type": "stream",
     "text": [
      "0.10871856\n",
      "0.7422844951604134\n",
      "0.5959999999999996\n"
     ]
    },
    {
     "name": "stderr",
     "output_type": "stream",
     "text": [
      " 40%|███████████████████████████████████▏                                                   | 405/1000 [01:47<03:45,  2.64it/s]"
     ]
    },
    {
     "name": "stdout",
     "output_type": "stream",
     "text": [
      "0.10854227\n",
      "0.7551702704146437\n",
      "0.5949999999999996\n"
     ]
    },
    {
     "name": "stderr",
     "output_type": "stream",
     "text": [
      " 41%|███████████████████████████████████▎                                                   | 406/1000 [01:47<03:32,  2.79it/s]"
     ]
    },
    {
     "name": "stdout",
     "output_type": "stream",
     "text": [
      "0.10991259\n",
      "0.767411756904968\n",
      "0.5939999999999996\n"
     ]
    },
    {
     "name": "stderr",
     "output_type": "stream",
     "text": [
      " 41%|███████████████████████████████████▍                                                   | 407/1000 [01:48<03:29,  2.83it/s]"
     ]
    },
    {
     "name": "stdout",
     "output_type": "stream",
     "text": [
      "0.107786916\n",
      "0.7790411690696981\n",
      "0.5929999999999996\n"
     ]
    },
    {
     "name": "stderr",
     "output_type": "stream",
     "text": [
      " 41%|███████████████████████████████████▍                                                   | 408/1000 [01:48<03:30,  2.82it/s]"
     ]
    },
    {
     "name": "stdout",
     "output_type": "stream",
     "text": [
      "0.10785736\n",
      "0.7900891106252188\n",
      "0.5919999999999996\n"
     ]
    },
    {
     "name": "stderr",
     "output_type": "stream",
     "text": [
      " 41%|███████████████████████████████████▋                                                   | 410/1000 [01:49<03:13,  3.05it/s]"
     ]
    },
    {
     "name": "stdout",
     "output_type": "stream",
     "text": [
      "0.10680338\n",
      "0.8005846551020854\n",
      "0.5909999999999996\n",
      "0.10198137\n",
      "0.8105554223543162\n",
      "0.5899999999999996\n"
     ]
    },
    {
     "name": "stderr",
     "output_type": "stream",
     "text": [
      " 41%|███████████████████████████████████▊                                                   | 412/1000 [01:49<02:48,  3.50it/s]"
     ]
    },
    {
     "name": "stdout",
     "output_type": "stream",
     "text": [
      "0.0995297\n",
      "0.8200276512432204\n",
      "0.5889999999999996\n",
      "0.09514292\n",
      "0.8290262686870339\n",
      "0.5879999999999996\n"
     ]
    },
    {
     "name": "stderr",
     "output_type": "stream",
     "text": [
      " 41%|███████████████████████████████████▉                                                   | 413/1000 [01:50<03:18,  2.96it/s]"
     ]
    },
    {
     "name": "stdout",
     "output_type": "stream",
     "text": [
      "0.09291024\n",
      "0.8375749552580743\n",
      "0.5869999999999996\n"
     ]
    },
    {
     "name": "stderr",
     "output_type": "stream",
     "text": [
      " 42%|████████████████████████████████████                                                   | 415/1000 [01:51<03:18,  2.95it/s]"
     ]
    },
    {
     "name": "stdout",
     "output_type": "stream",
     "text": [
      "0.0913324\n",
      "0.8456962075000368\n",
      "0.5859999999999996\n",
      "0.08712993\n",
      "0.8534113971294267\n",
      "0.5849999999999996\n"
     ]
    },
    {
     "name": "stderr",
     "output_type": "stream",
     "text": [
      " 42%|████████████████████████████████████▎                                                  | 417/1000 [01:51<02:11,  4.43it/s]"
     ]
    },
    {
     "name": "stdout",
     "output_type": "stream",
     "text": [
      "0.114791095\n",
      "0.7607408272228411\n",
      "0.5839999999999996\n",
      "0.10913525\n",
      "0.7727037858678448\n",
      "0.5829999999999996\n"
     ]
    },
    {
     "name": "stderr",
     "output_type": "stream",
     "text": [
      " 42%|████████████████████████████████████▎                                                  | 418/1000 [01:51<02:09,  4.49it/s]"
     ]
    },
    {
     "name": "stdout",
     "output_type": "stream",
     "text": [
      "0.10375643\n",
      "0.7840685965799992\n",
      "0.5819999999999996\n"
     ]
    },
    {
     "name": "stderr",
     "output_type": "stream",
     "text": [
      " 42%|████████████████████████████████████▍                                                  | 419/1000 [01:51<02:07,  4.57it/s]"
     ]
    },
    {
     "name": "stdout",
     "output_type": "stream",
     "text": [
      "0.0986407\n",
      "0.794865166756005\n",
      "0.5809999999999996\n"
     ]
    },
    {
     "name": "stderr",
     "output_type": "stream",
     "text": [
      " 42%|████████████████████████████████████▋                                                  | 421/1000 [01:52<01:58,  4.87it/s]"
     ]
    },
    {
     "name": "stdout",
     "output_type": "stream",
     "text": [
      "0.09377496\n",
      "0.8051219084227226\n",
      "0.5799999999999996\n",
      "0.0891468\n",
      "0.8148658130056637\n",
      "0.5789999999999996\n"
     ]
    },
    {
     "name": "stderr",
     "output_type": "stream",
     "text": [
      " 42%|████████████████████████████████████▋                                                  | 422/1000 [01:52<01:52,  5.16it/s]"
     ]
    },
    {
     "name": "stdout",
     "output_type": "stream",
     "text": [
      "0.08474453\n",
      "0.8241225223590602\n",
      "0.5779999999999996\n"
     ]
    },
    {
     "name": "stderr",
     "output_type": "stream",
     "text": [
      " 42%|████████████████████████████████████▉                                                  | 424/1000 [01:52<01:55,  5.00it/s]"
     ]
    },
    {
     "name": "stdout",
     "output_type": "stream",
     "text": [
      "0.08589138\n",
      "0.8329163962444281\n",
      "0.5769999999999996\n",
      "0.08171991\n",
      "0.841270576435204\n",
      "0.5759999999999996\n"
     ]
    },
    {
     "name": "stderr",
     "output_type": "stream",
     "text": [
      " 42%|████████████████████████████████████▉                                                  | 425/1000 [01:52<01:50,  5.23it/s]"
     ]
    },
    {
     "name": "stdout",
     "output_type": "stream",
     "text": [
      "0.07775138\n",
      "0.8492070476161486\n",
      "0.5749999999999996\n"
     ]
    },
    {
     "name": "stderr",
     "output_type": "stream",
     "text": [
      " 43%|█████████████████████████████████████▏                                                 | 427/1000 [01:53<02:24,  3.96it/s]"
     ]
    },
    {
     "name": "stdout",
     "output_type": "stream",
     "text": [
      "0.07809779\n",
      "0.8567466952377824\n",
      "0.5739999999999996\n",
      "0.07450861\n",
      "0.8639093604780965\n",
      "0.5729999999999996\n"
     ]
    },
    {
     "name": "stderr",
     "output_type": "stream",
     "text": [
      " 43%|█████████████████████████████████████▎                                                 | 429/1000 [01:54<02:08,  4.44it/s]"
     ]
    },
    {
     "name": "stdout",
     "output_type": "stream",
     "text": [
      "0.071086235\n",
      "0.8707138924561801\n",
      "0.5719999999999996\n",
      "0.067822024\n",
      "0.8771781978351656\n",
      "0.5709999999999996\n"
     ]
    },
    {
     "name": "stderr",
     "output_type": "stream",
     "text": [
      " 43%|█████████████████████████████████████▍                                                 | 430/1000 [01:54<02:57,  3.21it/s]"
     ]
    },
    {
     "name": "stdout",
     "output_type": "stream",
     "text": [
      "0.06692433\n",
      "0.883319287945027\n",
      "0.5699999999999996\n"
     ]
    },
    {
     "name": "stderr",
     "output_type": "stream",
     "text": [
      " 43%|█████████████████████████████████████▌                                                 | 432/1000 [01:54<02:24,  3.92it/s]"
     ]
    },
    {
     "name": "stdout",
     "output_type": "stream",
     "text": [
      "0.06404963\n",
      "0.8891533235492373\n",
      "0.5689999999999996\n",
      "0.06129813\n",
      "0.8946956573730946\n",
      "0.5679999999999996\n"
     ]
    },
    {
     "name": "stderr",
     "output_type": "stream",
     "text": [
      " 43%|█████████████████████████████████████▋                                                 | 433/1000 [01:55<02:02,  4.64it/s]"
     ]
    },
    {
     "name": "stdout",
     "output_type": "stream",
     "text": [
      "0.08670791\n",
      "0.7999608744830193\n",
      "0.5669999999999996\n"
     ]
    },
    {
     "name": "stderr",
     "output_type": "stream",
     "text": [
      " 43%|█████████████████████████████████████▊                                                 | 434/1000 [01:55<02:04,  4.55it/s]"
     ]
    },
    {
     "name": "stdout",
     "output_type": "stream",
     "text": [
      "0.08284336\n",
      "0.8099628307610167\n",
      "0.5659999999999996\n"
     ]
    },
    {
     "name": "stderr",
     "output_type": "stream",
     "text": [
      " 44%|█████████████████████████████████████▊                                                 | 435/1000 [01:55<03:03,  3.08it/s]"
     ]
    },
    {
     "name": "stdout",
     "output_type": "stream",
     "text": [
      "0.08191799\n",
      "0.8194646892249049\n",
      "0.5649999999999996\n"
     ]
    },
    {
     "name": "stderr",
     "output_type": "stream",
     "text": [
      " 44%|█████████████████████████████████████▉                                                 | 436/1000 [01:56<02:46,  3.39it/s]"
     ]
    },
    {
     "name": "stdout",
     "output_type": "stream",
     "text": [
      "0.07854266\n",
      "0.8284914547654096\n",
      "0.5639999999999996\n"
     ]
    },
    {
     "name": "stderr",
     "output_type": "stream",
     "text": [
      " 44%|██████████████████████████████████████                                                 | 437/1000 [01:56<02:36,  3.60it/s]"
     ]
    },
    {
     "name": "stdout",
     "output_type": "stream",
     "text": [
      "0.075303905\n",
      "0.8370668820287185\n",
      "0.5629999999999996\n"
     ]
    },
    {
     "name": "stderr",
     "output_type": "stream",
     "text": [
      " 44%|██████████████████████████████████████                                                 | 438/1000 [01:56<03:41,  2.54it/s]"
     ]
    },
    {
     "name": "stdout",
     "output_type": "stream",
     "text": [
      "0.074675046\n",
      "0.8452135379287079\n",
      "0.5619999999999996\n"
     ]
    },
    {
     "name": "stderr",
     "output_type": "stream",
     "text": [
      " 44%|██████████████████████████████████████▏                                                | 439/1000 [01:57<03:21,  2.79it/s]"
     ]
    },
    {
     "name": "stdout",
     "output_type": "stream",
     "text": [
      "0.07384364\n",
      "0.8529528610335589\n",
      "0.5609999999999996\n"
     ]
    },
    {
     "name": "stderr",
     "output_type": "stream",
     "text": [
      " 44%|██████████████████████████████████████▎                                                | 441/1000 [01:57<02:50,  3.28it/s]"
     ]
    },
    {
     "name": "stdout",
     "output_type": "stream",
     "text": [
      "0.07308233\n",
      "0.8603052179830419\n",
      "0.5599999999999996\n",
      "0.07032578\n",
      "0.8672899570849375\n",
      "0.5589999999999996\n"
     ]
    },
    {
     "name": "stderr",
     "output_type": "stream",
     "text": [
      " 44%|██████████████████████████████████████▍                                                | 442/1000 [01:57<02:28,  3.75it/s]"
     ]
    },
    {
     "name": "stdout",
     "output_type": "stream",
     "text": [
      "0.0676058\n",
      "0.8739254592316362\n",
      "0.5579999999999996\n"
     ]
    },
    {
     "name": "stderr",
     "output_type": "stream",
     "text": [
      " 44%|██████████████████████████████████████▋                                                | 444/1000 [01:59<03:38,  2.55it/s]"
     ]
    },
    {
     "name": "stdout",
     "output_type": "stream",
     "text": [
      "0.066959545\n",
      "0.8802291862709078\n",
      "0.5569999999999996\n",
      "0.06396239\n",
      "0.8862177269581327\n",
      "0.5559999999999996\n"
     ]
    },
    {
     "name": "stderr",
     "output_type": "stream",
     "text": [
      " 44%|██████████████████████████████████████▋                                                | 445/1000 [01:59<03:30,  2.64it/s]"
     ]
    },
    {
     "name": "stdout",
     "output_type": "stream",
     "text": [
      "0.062865265\n",
      "0.8919068406109211\n",
      "0.5549999999999996\n"
     ]
    },
    {
     "name": "stderr",
     "output_type": "stream",
     "text": [
      " 45%|██████████████████████████████████████▉                                                | 447/1000 [02:00<02:50,  3.25it/s]"
     ]
    },
    {
     "name": "stdout",
     "output_type": "stream",
     "text": [
      "0.06194612\n",
      "0.8973114985810025\n",
      "0.5539999999999996\n",
      "0.059387527\n",
      "0.9024459236525185\n",
      "0.5529999999999996\n"
     ]
    },
    {
     "name": "stderr",
     "output_type": "stream",
     "text": [
      " 45%|██████████████████████████████████████▉                                                | 448/1000 [02:00<03:08,  2.92it/s]"
     ]
    },
    {
     "name": "stdout",
     "output_type": "stream",
     "text": [
      "0.05854027\n",
      "0.9073236274704035\n",
      "0.5519999999999996\n"
     ]
    },
    {
     "name": "stderr",
     "output_type": "stream",
     "text": [
      " 45%|███████████████████████████████████████                                                | 449/1000 [02:01<04:15,  2.16it/s]"
     ]
    },
    {
     "name": "stdout",
     "output_type": "stream",
     "text": [
      "0.05703476\n",
      "0.9119574460973445\n",
      "0.5509999999999996\n"
     ]
    },
    {
     "name": "stderr",
     "output_type": "stream",
     "text": [
      " 45%|███████████████████████████████████████▏                                               | 451/1000 [02:02<04:12,  2.17it/s]"
     ]
    },
    {
     "name": "stdout",
     "output_type": "stream",
     "text": [
      "0.056278724\n",
      "0.9163595737928935\n",
      "0.5499999999999996\n",
      "0.05398908\n",
      "0.9205415951036243\n",
      "0.5489999999999996\n"
     ]
    },
    {
     "name": "stderr",
     "output_type": "stream",
     "text": [
      " 45%|███████████████████████████████████████▎                                               | 452/1000 [02:02<04:25,  2.06it/s]"
     ]
    },
    {
     "name": "stdout",
     "output_type": "stream",
     "text": [
      "0.05446385\n",
      "0.924514515348782\n",
      "0.5479999999999996\n"
     ]
    },
    {
     "name": "stderr",
     "output_type": "stream",
     "text": [
      " 45%|███████████████████████████████████████▍                                               | 454/1000 [02:03<03:21,  2.71it/s]"
     ]
    },
    {
     "name": "stdout",
     "output_type": "stream",
     "text": [
      "0.053319506\n",
      "0.928288789581649\n",
      "0.5469999999999996\n",
      "0.051165216\n",
      "0.9318743501028426\n",
      "0.5459999999999996\n"
     ]
    },
    {
     "name": "stderr",
     "output_type": "stream",
     "text": [
      " 46%|███████████████████████████████████████▌                                               | 455/1000 [02:03<02:47,  3.25it/s]"
     ]
    },
    {
     "name": "stdout",
     "output_type": "stream",
     "text": [
      "0.048973646\n",
      "0.9352806325979496\n",
      "0.5449999999999996\n"
     ]
    },
    {
     "name": "stderr",
     "output_type": "stream",
     "text": [
      " 46%|███████████████████████████████████████▋                                               | 456/1000 [02:03<02:33,  3.54it/s]"
     ]
    },
    {
     "name": "stdout",
     "output_type": "stream",
     "text": [
      "0.04678766\n",
      "0.9385166009682769\n",
      "0.5439999999999996\n"
     ]
    },
    {
     "name": "stderr",
     "output_type": "stream",
     "text": [
      " 46%|███████████████████████████████████████▊                                               | 457/1000 [02:04<04:12,  2.15it/s]"
     ]
    },
    {
     "name": "stdout",
     "output_type": "stream",
     "text": [
      "0.046345137\n",
      "0.9415907709200662\n",
      "0.5429999999999996\n"
     ]
    },
    {
     "name": "stderr",
     "output_type": "stream",
     "text": [
      " 46%|███████████████████████████████████████▊                                               | 458/1000 [02:04<03:54,  2.31it/s]"
     ]
    },
    {
     "name": "stdout",
     "output_type": "stream",
     "text": [
      "0.045503255\n",
      "0.944511232374246\n",
      "0.5419999999999996\n"
     ]
    },
    {
     "name": "stderr",
     "output_type": "stream",
     "text": [
      " 46%|███████████████████████████████████████▉                                               | 459/1000 [02:05<03:22,  2.67it/s]"
     ]
    },
    {
     "name": "stdout",
     "output_type": "stream",
     "text": [
      "0.043265376\n",
      "0.947285670755699\n",
      "0.5409999999999996\n"
     ]
    },
    {
     "name": "stderr",
     "output_type": "stream",
     "text": [
      " 46%|████████████████████████████████████████                                               | 460/1000 [02:05<03:28,  2.59it/s]"
     ]
    },
    {
     "name": "stdout",
     "output_type": "stream",
     "text": [
      "0.042053863\n",
      "0.9499213872180633\n",
      "0.5399999999999996\n"
     ]
    },
    {
     "name": "stderr",
     "output_type": "stream",
     "text": [
      " 46%|████████████████████████████████████████                                               | 461/1000 [02:06<04:45,  1.89it/s]"
     ]
    },
    {
     "name": "stdout",
     "output_type": "stream",
     "text": [
      "0.040625315\n",
      "0.9524253178572948\n",
      "0.5389999999999996\n"
     ]
    },
    {
     "name": "stderr",
     "output_type": "stream",
     "text": [
      " 46%|████████████████████████████████████████▎                                              | 463/1000 [02:06<03:10,  2.82it/s]"
     ]
    },
    {
     "name": "stdout",
     "output_type": "stream",
     "text": [
      "0.03859856\n",
      "0.9548040519645515\n",
      "0.5379999999999996\n",
      "0.036672242\n",
      "0.9570638493664336\n",
      "0.5369999999999996\n"
     ]
    },
    {
     "name": "stderr",
     "output_type": "stream",
     "text": [
      " 46%|████████████████████████████████████████▍                                              | 465/1000 [02:07<02:32,  3.50it/s]"
     ]
    },
    {
     "name": "stdout",
     "output_type": "stream",
     "text": [
      "0.03553441\n",
      "0.9592106568982111\n",
      "0.5359999999999996\n",
      "0.033780023\n",
      "0.9612501240533898\n",
      "0.5349999999999996\n"
     ]
    },
    {
     "name": "stderr",
     "output_type": "stream",
     "text": [
      " 47%|████████████████████████████████████████▌                                              | 466/1000 [02:07<03:07,  2.84it/s]"
     ]
    },
    {
     "name": "stdout",
     "output_type": "stream",
     "text": [
      "0.033362787\n",
      "0.963187617850801\n",
      "0.5339999999999996\n"
     ]
    },
    {
     "name": "stderr",
     "output_type": "stream",
     "text": [
      " 47%|████████████████████████████████████████▋                                              | 468/1000 [02:08<02:37,  3.37it/s]"
     ]
    },
    {
     "name": "stdout",
     "output_type": "stream",
     "text": [
      "0.0322915\n",
      "0.9650282369583336\n",
      "0.5329999999999996\n",
      "0.030705264\n",
      "0.9667768251104826\n",
      "0.5319999999999996\n"
     ]
    },
    {
     "name": "stderr",
     "output_type": "stream",
     "text": [
      " 47%|████████████████████████████████████████▊                                              | 469/1000 [02:08<02:25,  3.65it/s]"
     ]
    },
    {
     "name": "stdout",
     "output_type": "stream",
     "text": [
      "0.029191526\n",
      "0.9684379838550178\n",
      "0.5309999999999996\n"
     ]
    },
    {
     "name": "stderr",
     "output_type": "stream",
     "text": [
      " 47%|████████████████████████████████████████▉                                              | 470/1000 [02:08<02:19,  3.79it/s]"
     ]
    },
    {
     "name": "stdout",
     "output_type": "stream",
     "text": [
      "0.028324058\n",
      "0.9700160846623204\n",
      "0.5299999999999996\n"
     ]
    },
    {
     "name": "stderr",
     "output_type": "stream",
     "text": [
      " 47%|████████████████████████████████████████▉                                              | 471/1000 [02:09<02:39,  3.32it/s]"
     ]
    },
    {
     "name": "stdout",
     "output_type": "stream",
     "text": [
      "0.027523812\n",
      "0.9715152804292526\n",
      "0.5289999999999996\n"
     ]
    },
    {
     "name": "stderr",
     "output_type": "stream",
     "text": [
      " 47%|█████████████████████████████████████████                                              | 472/1000 [02:10<04:03,  2.17it/s]"
     ]
    },
    {
     "name": "stdout",
     "output_type": "stream",
     "text": [
      "0.026889605\n",
      "0.9729395164078335\n",
      "0.5279999999999996\n"
     ]
    },
    {
     "name": "stderr",
     "output_type": "stream",
     "text": [
      " 47%|█████████████████████████████████████████▏                                             | 473/1000 [02:10<03:44,  2.35it/s]"
     ]
    },
    {
     "name": "stdout",
     "output_type": "stream",
     "text": [
      "0.026158495\n",
      "0.9742925405874812\n",
      "0.5269999999999996\n"
     ]
    },
    {
     "name": "stderr",
     "output_type": "stream",
     "text": [
      " 47%|█████████████████████████████████████████▏                                             | 474/1000 [02:10<03:45,  2.34it/s]"
     ]
    },
    {
     "name": "stdout",
     "output_type": "stream",
     "text": [
      "0.025484847\n",
      "0.9755779135581425\n",
      "0.5259999999999996\n"
     ]
    },
    {
     "name": "stderr",
     "output_type": "stream",
     "text": [
      " 48%|█████████████████████████████████████████▍                                             | 476/1000 [02:11<03:05,  2.82it/s]"
     ]
    },
    {
     "name": "stdout",
     "output_type": "stream",
     "text": [
      "0.024859477\n",
      "0.9767990178802675\n",
      "0.5249999999999996\n",
      "0.023822827\n",
      "0.977959066986283\n",
      "0.5239999999999996\n"
     ]
    },
    {
     "name": "stderr",
     "output_type": "stream",
     "text": [
      " 48%|█████████████████████████████████████████▌                                             | 478/1000 [02:11<02:12,  3.93it/s]"
     ]
    },
    {
     "name": "stdout",
     "output_type": "stream",
     "text": [
      "0.022782562\n",
      "0.9790611136369948\n",
      "0.5229999999999996\n",
      "0.079060584\n",
      "0.88010805795292\n",
      "0.5219999999999996\n"
     ]
    },
    {
     "name": "stderr",
     "output_type": "stream",
     "text": [
      " 48%|█████████████████████████████████████████▋                                             | 479/1000 [02:11<02:11,  3.97it/s]"
     ]
    },
    {
     "name": "stdout",
     "output_type": "stream",
     "text": [
      "0.075169496\n",
      "0.8861026550554022\n",
      "0.5209999999999996\n"
     ]
    },
    {
     "name": "stderr",
     "output_type": "stream",
     "text": [
      " 48%|█████████████████████████████████████████▊                                             | 480/1000 [02:12<02:31,  3.43it/s]"
     ]
    },
    {
     "name": "stdout",
     "output_type": "stream",
     "text": [
      "0.07221444\n",
      "0.8917975223027476\n",
      "0.5199999999999996\n"
     ]
    },
    {
     "name": "stderr",
     "output_type": "stream",
     "text": [
      " 48%|█████████████████████████████████████████▊                                             | 481/1000 [02:12<02:19,  3.71it/s]"
     ]
    },
    {
     "name": "stdout",
     "output_type": "stream",
     "text": [
      "0.06863365\n",
      "0.8972076461877145\n",
      "0.5189999999999996\n"
     ]
    },
    {
     "name": "stderr",
     "output_type": "stream",
     "text": [
      " 48%|██████████████████████████████████████████                                             | 483/1000 [02:13<02:09,  3.99it/s]"
     ]
    },
    {
     "name": "stdout",
     "output_type": "stream",
     "text": [
      "0.0660207\n",
      "0.902347263878423\n",
      "0.5179999999999996\n",
      "0.06275711\n",
      "0.9072299006845868\n",
      "0.5169999999999996\n"
     ]
    },
    {
     "name": "stderr",
     "output_type": "stream",
     "text": [
      " 48%|██████████████████████████████████████████▏                                            | 485/1000 [02:13<01:55,  4.47it/s]"
     ]
    },
    {
     "name": "stdout",
     "output_type": "stream",
     "text": [
      "0.059653394\n",
      "0.9118684056504341\n",
      "0.5159999999999996\n",
      "0.056702722\n",
      "0.9162749853679816\n",
      "0.5149999999999996\n"
     ]
    },
    {
     "name": "stderr",
     "output_type": "stream",
     "text": [
      " 49%|██████████████████████████████████████████▎                                            | 486/1000 [02:13<01:47,  4.80it/s]"
     ]
    },
    {
     "name": "stdout",
     "output_type": "stream",
     "text": [
      "0.053898115\n",
      "0.9204612360996449\n",
      "0.5139999999999996\n"
     ]
    },
    {
     "name": "stderr",
     "output_type": "stream",
     "text": [
      " 49%|██████████████████████████████████████████▍                                            | 488/1000 [02:14<02:09,  3.96it/s]"
     ]
    },
    {
     "name": "stdout",
     "output_type": "stream",
     "text": [
      "0.051990233\n",
      "0.924438174294719\n",
      "0.5129999999999996\n",
      "0.049434006\n",
      "0.928216265580034\n",
      "0.5119999999999996\n"
     ]
    },
    {
     "name": "stderr",
     "output_type": "stream",
     "text": [
      " 49%|██████████████████████████████████████████▌                                            | 489/1000 [02:14<02:49,  3.01it/s]"
     ]
    },
    {
     "name": "stdout",
     "output_type": "stream",
     "text": [
      "0.048159845\n",
      "0.9318054523010781\n",
      "0.5109999999999996\n"
     ]
    },
    {
     "name": "stderr",
     "output_type": "stream",
     "text": [
      " 49%|██████████████████████████████████████████▋                                            | 491/1000 [02:15<02:52,  2.95it/s]"
     ]
    },
    {
     "name": "stdout",
     "output_type": "stream",
     "text": [
      "0.04686857\n",
      "0.9352151796860656\n",
      "0.5099999999999996\n",
      "0.044567868\n",
      "0.9384544207017997\n",
      "0.5089999999999996\n"
     ]
    },
    {
     "name": "stderr",
     "output_type": "stream",
     "text": [
      " 49%|██████████████████████████████████████████▉                                            | 493/1000 [02:15<02:02,  4.14it/s]"
     ]
    },
    {
     "name": "stdout",
     "output_type": "stream",
     "text": [
      "0.042379875\n",
      "0.9415316996667434\n",
      "0.5079999999999996\n",
      "0.08777912\n",
      "0.8444551146823951\n",
      "0.5069999999999996\n"
     ]
    },
    {
     "name": "stderr",
     "output_type": "stream",
     "text": [
      " 49%|██████████████████████████████████████████▉                                            | 494/1000 [02:16<01:54,  4.43it/s]"
     ]
    },
    {
     "name": "stdout",
     "output_type": "stream",
     "text": [
      "0.08366733\n",
      "0.8522323589483524\n",
      "0.5059999999999996\n"
     ]
    },
    {
     "name": "stderr",
     "output_type": "stream",
     "text": [
      " 50%|███████████████████████████████████████████▏                                           | 496/1000 [02:16<02:02,  4.11it/s]"
     ]
    },
    {
     "name": "stdout",
     "output_type": "stream",
     "text": [
      "0.08183649\n",
      "0.8596207410010042\n",
      "0.5049999999999996\n",
      "0.077911414\n",
      "0.8666397039510166\n",
      "0.5039999999999996\n"
     ]
    },
    {
     "name": "stderr",
     "output_type": "stream",
     "text": [
      " 50%|███████████████████████████████████████████▏                                           | 497/1000 [02:16<01:45,  4.77it/s]"
     ]
    },
    {
     "name": "stdout",
     "output_type": "stream",
     "text": [
      "0.11018023\n",
      "0.7733077187526738\n",
      "0.5029999999999996\n"
     ]
    },
    {
     "name": "stderr",
     "output_type": "stream",
     "text": [
      " 50%|███████████████████████████████████████████▎                                           | 498/1000 [02:17<02:19,  3.60it/s]"
     ]
    },
    {
     "name": "stdout",
     "output_type": "stream",
     "text": [
      "0.10721857\n",
      "0.7846423328151315\n",
      "0.5019999999999996\n"
     ]
    },
    {
     "name": "stderr",
     "output_type": "stream",
     "text": [
      " 50%|███████████████████████████████████████████▍                                           | 499/1000 [02:17<02:30,  3.33it/s]"
     ]
    },
    {
     "name": "stdout",
     "output_type": "stream",
     "text": [
      "0.10369251\n",
      "0.7954102161744574\n",
      "0.5009999999999996\n"
     ]
    },
    {
     "name": "stderr",
     "output_type": "stream",
     "text": [
      " 50%|███████████████████████████████████████████▌                                           | 500/1000 [02:17<02:39,  3.13it/s]"
     ]
    },
    {
     "name": "stdout",
     "output_type": "stream",
     "text": [
      "0.0998759\n",
      "0.805639705365809\n",
      "0.49999999999999956\n"
     ]
    },
    {
     "name": "stderr",
     "output_type": "stream",
     "text": [
      " 50%|███████████████████████████████████████████▌                                           | 501/1000 [02:18<02:49,  2.94it/s]"
     ]
    },
    {
     "name": "stdout",
     "output_type": "stream",
     "text": [
      "0.0960606\n",
      "0.8153577200975858\n",
      "0.49899999999999956\n"
     ]
    },
    {
     "name": "stderr",
     "output_type": "stream",
     "text": [
      " 50%|███████████████████████████████████████████▊                                           | 503/1000 [02:18<02:25,  3.41it/s]"
     ]
    },
    {
     "name": "stdout",
     "output_type": "stream",
     "text": [
      "0.09243494\n",
      "0.824589834092767\n",
      "0.49799999999999955\n",
      "0.088067435\n",
      "0.8333603423881835\n",
      "0.49699999999999955\n"
     ]
    },
    {
     "name": "stderr",
     "output_type": "stream",
     "text": [
      " 50%|███████████████████████████████████████████▊                                           | 504/1000 [02:19<02:36,  3.18it/s]"
     ]
    },
    {
     "name": "stdout",
     "output_type": "stream",
     "text": [
      "0.084871426\n",
      "0.8416923252688235\n",
      "0.49599999999999955\n"
     ]
    },
    {
     "name": "stderr",
     "output_type": "stream",
     "text": [
      " 50%|███████████████████████████████████████████▉                                           | 505/1000 [02:19<02:25,  3.41it/s]"
     ]
    },
    {
     "name": "stdout",
     "output_type": "stream",
     "text": [
      "0.08084456\n",
      "0.8496077090054269\n",
      "0.49499999999999955\n"
     ]
    },
    {
     "name": "stderr",
     "output_type": "stream",
     "text": [
      " 51%|████████████████████████████████████████████                                           | 506/1000 [02:19<02:15,  3.64it/s]"
     ]
    },
    {
     "name": "stdout",
     "output_type": "stream",
     "text": [
      "0.07700976\n",
      "0.8571273235551958\n",
      "0.49399999999999955\n"
     ]
    },
    {
     "name": "stderr",
     "output_type": "stream",
     "text": [
      " 51%|████████████████████████████████████████████▏                                          | 508/1000 [02:20<02:00,  4.07it/s]"
     ]
    },
    {
     "name": "stdout",
     "output_type": "stream",
     "text": [
      "0.07335668\n",
      "0.8642709573774723\n",
      "0.49299999999999955\n",
      "0.06987554\n",
      "0.8710574095086314\n",
      "0.49199999999999955\n"
     ]
    },
    {
     "name": "stderr",
     "output_type": "stream",
     "text": [
      " 51%|████████████████████████████████████████████▎                                          | 509/1000 [02:20<01:53,  4.34it/s]"
     ]
    },
    {
     "name": "stdout",
     "output_type": "stream",
     "text": [
      "0.06655715\n",
      "0.8775045390332294\n",
      "0.49099999999999955\n"
     ]
    },
    {
     "name": "stderr",
     "output_type": "stream",
     "text": [
      " 51%|████████████████████████████████████████████▎                                          | 510/1000 [02:20<01:54,  4.27it/s]"
     ]
    },
    {
     "name": "stdout",
     "output_type": "stream",
     "text": [
      "0.063392974\n",
      "0.8836293120815947\n",
      "0.48999999999999955\n"
     ]
    },
    {
     "name": "stderr",
     "output_type": "stream",
     "text": [
      " 51%|████████████████████████████████████████████▍                                          | 511/1000 [02:20<01:52,  4.33it/s]"
     ]
    },
    {
     "name": "stdout",
     "output_type": "stream",
     "text": [
      "0.060375135\n",
      "0.8894478464775389\n",
      "0.48899999999999955\n"
     ]
    },
    {
     "name": "stderr",
     "output_type": "stream",
     "text": [
      " 51%|████████████████████████████████████████████▌                                          | 512/1000 [02:21<02:21,  3.45it/s]"
     ]
    },
    {
     "name": "stdout",
     "output_type": "stream",
     "text": [
      "0.059233837\n",
      "0.8949754541536838\n",
      "0.48799999999999955\n"
     ]
    },
    {
     "name": "stderr",
     "output_type": "stream",
     "text": [
      " 51%|████████████████████████████████████████████▋                                          | 513/1000 [02:21<02:25,  3.35it/s]"
     ]
    },
    {
     "name": "stdout",
     "output_type": "stream",
     "text": [
      "0.07619701\n",
      "0.8002266814456457\n",
      "0.48699999999999954\n"
     ]
    },
    {
     "name": "stderr",
     "output_type": "stream",
     "text": [
      " 52%|████████████████████████████████████████████▊                                          | 515/1000 [02:21<01:53,  4.28it/s]"
     ]
    },
    {
     "name": "stdout",
     "output_type": "stream",
     "text": [
      "0.07254422\n",
      "0.810215347373399\n",
      "0.48599999999999954\n",
      "0.06906383\n",
      "0.819704580004761\n",
      "0.48499999999999954\n"
     ]
    },
    {
     "name": "stderr",
     "output_type": "stream",
     "text": [
      " 52%|████████████████████████████████████████████▉                                          | 517/1000 [02:22<01:29,  5.41it/s]"
     ]
    },
    {
     "name": "stdout",
     "output_type": "stream",
     "text": [
      "0.065750375\n",
      "0.8287193510045519\n",
      "0.48399999999999954\n",
      "0.09163194\n",
      "0.7372833834540461\n",
      "0.48299999999999954\n"
     ]
    },
    {
     "name": "stderr",
     "output_type": "stream",
     "text": [
      " 52%|█████████████████████████████████████████████▏                                         | 519/1000 [02:22<01:32,  5.21it/s]"
     ]
    },
    {
     "name": "stdout",
     "output_type": "stream",
     "text": [
      "0.087322816\n",
      "0.7504192142813818\n",
      "0.48199999999999954\n",
      "0.08318624\n",
      "0.762898253567347\n",
      "0.48099999999999954\n"
     ]
    },
    {
     "name": "stderr",
     "output_type": "stream",
     "text": [
      " 52%|█████████████████████████████████████████████▏                                         | 520/1000 [02:22<01:37,  4.90it/s]"
     ]
    },
    {
     "name": "stdout",
     "output_type": "stream",
     "text": [
      "0.092395835\n",
      "0.6747533408887496\n",
      "0.47999999999999954\n"
     ]
    },
    {
     "name": "stderr",
     "output_type": "stream",
     "text": [
      " 52%|█████████████████████████████████████████████▎                                         | 521/1000 [02:23<02:08,  3.72it/s]"
     ]
    },
    {
     "name": "stdout",
     "output_type": "stream",
     "text": [
      "0.09136351\n",
      "0.6910156738443525\n",
      "0.47899999999999954\n"
     ]
    },
    {
     "name": "stderr",
     "output_type": "stream",
     "text": [
      " 52%|█████████████████████████████████████████████▍                                         | 522/1000 [02:23<02:01,  3.94it/s]"
     ]
    },
    {
     "name": "stdout",
     "output_type": "stream",
     "text": [
      "0.08734338\n",
      "0.7064648901521712\n",
      "0.47799999999999954\n"
     ]
    },
    {
     "name": "stderr",
     "output_type": "stream",
     "text": [
      " 52%|█████████████████████████████████████████████▌                                         | 524/1000 [02:23<01:39,  4.77it/s]"
     ]
    },
    {
     "name": "stdout",
     "output_type": "stream",
     "text": [
      "0.08344296\n",
      "0.7211416456445955\n",
      "0.47699999999999954\n",
      "0.09885136\n",
      "0.6350845633621828\n",
      "0.47599999999999953\n"
     ]
    },
    {
     "name": "stderr",
     "output_type": "stream",
     "text": [
      " 52%|█████████████████████████████████████████████▋                                         | 525/1000 [02:23<01:35,  4.99it/s]"
     ]
    },
    {
     "name": "stdout",
     "output_type": "stream",
     "text": [
      "0.09461769\n",
      "0.6533303351941104\n",
      "0.47499999999999953\n"
     ]
    },
    {
     "name": "stderr",
     "output_type": "stream",
     "text": [
      " 53%|█████████████████████████████████████████████▊                                         | 526/1000 [02:24<01:39,  4.77it/s]"
     ]
    },
    {
     "name": "stdout",
     "output_type": "stream",
     "text": [
      "0.09048656\n",
      "0.6706638184344382\n",
      "0.47399999999999953\n"
     ]
    },
    {
     "name": "stderr",
     "output_type": "stream",
     "text": [
      " 53%|█████████████████████████████████████████████▊                                         | 527/1000 [02:24<01:42,  4.63it/s]"
     ]
    },
    {
     "name": "stdout",
     "output_type": "stream",
     "text": [
      "0.08649232\n",
      "0.6871306275127463\n",
      "0.47299999999999953\n"
     ]
    },
    {
     "name": "stderr",
     "output_type": "stream",
     "text": [
      " 53%|██████████████████████████████████████████████                                         | 529/1000 [02:25<01:57,  4.02it/s]"
     ]
    },
    {
     "name": "stdout",
     "output_type": "stream",
     "text": [
      "0.08680054\n",
      "0.702774096137136\n",
      "0.47199999999999953\n",
      "0.083153024\n",
      "0.7176353913303037\n",
      "0.47099999999999953\n"
     ]
    },
    {
     "name": "stderr",
     "output_type": "stream",
     "text": [
      " 53%|██████████████████████████████████████████████                                         | 530/1000 [02:25<02:29,  3.13it/s]"
     ]
    },
    {
     "name": "stdout",
     "output_type": "stream",
     "text": [
      "0.07965288\n",
      "0.7317536217638105\n",
      "0.46999999999999953\n"
     ]
    },
    {
     "name": "stderr",
     "output_type": "stream",
     "text": [
      " 53%|██████████████████████████████████████████████▏                                        | 531/1000 [02:25<02:18,  3.39it/s]"
     ]
    },
    {
     "name": "stdout",
     "output_type": "stream",
     "text": [
      "0.07629978\n",
      "0.7451659406756399\n",
      "0.46899999999999953\n"
     ]
    },
    {
     "name": "stderr",
     "output_type": "stream",
     "text": [
      " 53%|██████████████████████████████████████████████▎                                        | 532/1000 [02:26<02:54,  2.68it/s]"
     ]
    },
    {
     "name": "stdout",
     "output_type": "stream",
     "text": [
      "0.07691598\n",
      "0.7579076436418759\n",
      "0.4679999999999995\n"
     ]
    },
    {
     "name": "stderr",
     "output_type": "stream",
     "text": [
      " 53%|██████████████████████████████████████████████▍                                        | 534/1000 [02:26<02:14,  3.47it/s]"
     ]
    },
    {
     "name": "stdout",
     "output_type": "stream",
     "text": [
      "0.07351227\n",
      "0.7700122614597983\n",
      "0.4669999999999995\n",
      "0.07026079\n",
      "0.781511648386823\n",
      "0.4659999999999995\n"
     ]
    },
    {
     "name": "stderr",
     "output_type": "stream",
     "text": [
      " 54%|██████████████████████████████████████████████▌                                        | 535/1000 [02:27<02:14,  3.45it/s]"
     ]
    },
    {
     "name": "stdout",
     "output_type": "stream",
     "text": [
      "0.079282515\n",
      "0.6924360659673741\n",
      "0.4649999999999995\n"
     ]
    },
    {
     "name": "stderr",
     "output_type": "stream",
     "text": [
      " 54%|██████████████████████████████████████████████▋                                        | 536/1000 [02:27<02:30,  3.07it/s]"
     ]
    },
    {
     "name": "stdout",
     "output_type": "stream",
     "text": [
      "0.07987844\n",
      "0.707814262669023\n",
      "0.4639999999999995\n"
     ]
    },
    {
     "name": "stderr",
     "output_type": "stream",
     "text": [
      " 54%|██████████████████████████████████████████████▋                                        | 537/1000 [02:27<02:18,  3.35it/s]"
     ]
    },
    {
     "name": "stdout",
     "output_type": "stream",
     "text": [
      "0.07622943\n",
      "0.7224235495355879\n",
      "0.4629999999999995\n"
     ]
    },
    {
     "name": "stderr",
     "output_type": "stream",
     "text": [
      " 54%|██████████████████████████████████████████████▉                                        | 539/1000 [02:28<01:50,  4.19it/s]"
     ]
    },
    {
     "name": "stdout",
     "output_type": "stream",
     "text": [
      "0.07274341\n",
      "0.7363023720588229\n",
      "0.4619999999999995\n",
      "0.06941707\n",
      "0.7494872534558947\n",
      "0.4609999999999995\n"
     ]
    },
    {
     "name": "stderr",
     "output_type": "stream",
     "text": [
      " 54%|██████████████████████████████████████████████▉                                        | 540/1000 [02:28<01:49,  4.21it/s]"
     ]
    },
    {
     "name": "stdout",
     "output_type": "stream",
     "text": [
      "0.066244505\n",
      "0.7620128907831116\n",
      "0.4599999999999995\n"
     ]
    },
    {
     "name": "stderr",
     "output_type": "stream",
     "text": [
      " 54%|███████████████████████████████████████████████                                        | 541/1000 [02:28<01:49,  4.20it/s]"
     ]
    },
    {
     "name": "stdout",
     "output_type": "stream",
     "text": [
      "0.06321844\n",
      "0.7739122462439667\n",
      "0.4589999999999995\n"
     ]
    },
    {
     "name": "stderr",
     "output_type": "stream",
     "text": [
      " 54%|███████████████████████████████████████████████▏                                       | 542/1000 [02:28<01:57,  3.90it/s]"
     ]
    },
    {
     "name": "stdout",
     "output_type": "stream",
     "text": [
      "0.06500411\n",
      "0.7852166339317779\n",
      "0.4579999999999995\n"
     ]
    },
    {
     "name": "stderr",
     "output_type": "stream",
     "text": [
      " 54%|███████████████████████████████████████████████▎                                       | 544/1000 [02:29<01:45,  4.33it/s]"
     ]
    },
    {
     "name": "stdout",
     "output_type": "stream",
     "text": [
      "0.062128954\n",
      "0.7959558022351977\n",
      "0.4569999999999995\n",
      "0.05934049\n",
      "0.8061580121234455\n",
      "0.4559999999999995\n"
     ]
    },
    {
     "name": "stderr",
     "output_type": "stream",
     "text": [
      " 55%|███████████████████████████████████████████████▌                                       | 546/1000 [02:29<02:07,  3.55it/s]"
     ]
    },
    {
     "name": "stdout",
     "output_type": "stream",
     "text": [
      "0.06283069\n",
      "0.8158501115172803\n",
      "0.4549999999999995\n",
      "0.059810016\n",
      "0.8250576059414225\n",
      "0.4539999999999995\n"
     ]
    },
    {
     "name": "stderr",
     "output_type": "stream",
     "text": [
      " 55%|███████████████████████████████████████████████▌                                       | 547/1000 [02:30<02:45,  2.75it/s]"
     ]
    },
    {
     "name": "stdout",
     "output_type": "stream",
     "text": [
      "0.06524277\n",
      "0.8338047256443571\n",
      "0.4529999999999995\n"
     ]
    },
    {
     "name": "stderr",
     "output_type": "stream",
     "text": [
      " 55%|███████████████████████████████████████████████▋                                       | 548/1000 [02:30<02:39,  2.83it/s]"
     ]
    },
    {
     "name": "stdout",
     "output_type": "stream",
     "text": [
      "0.076938115\n",
      "0.7421144893620822\n",
      "0.4519999999999995\n"
     ]
    },
    {
     "name": "stderr",
     "output_type": "stream",
     "text": [
      " 55%|███████████████████████████████████████████████▊                                       | 549/1000 [02:31<02:25,  3.09it/s]"
     ]
    },
    {
     "name": "stdout",
     "output_type": "stream",
     "text": [
      "0.07325204\n",
      "0.7550087648939858\n",
      "0.4509999999999995\n"
     ]
    },
    {
     "name": "stderr",
     "output_type": "stream",
     "text": [
      " 55%|███████████████████████████████████████████████▊                                       | 550/1000 [02:31<02:13,  3.36it/s]"
     ]
    },
    {
     "name": "stdout",
     "output_type": "stream",
     "text": [
      "0.069744\n",
      "0.7672583266492935\n",
      "0.4499999999999995\n"
     ]
    },
    {
     "name": "stderr",
     "output_type": "stream",
     "text": [
      " 55%|███████████████████████████████████████████████▉                                       | 551/1000 [02:31<02:15,  3.31it/s]"
     ]
    },
    {
     "name": "stdout",
     "output_type": "stream",
     "text": [
      "0.07282977\n",
      "0.778895410316835\n",
      "0.4489999999999995\n"
     ]
    },
    {
     "name": "stderr",
     "output_type": "stream",
     "text": [
      " 55%|████████████████████████████████████████████████                                       | 552/1000 [02:31<02:07,  3.52it/s]"
     ]
    },
    {
     "name": "stdout",
     "output_type": "stream",
     "text": [
      "0.06949428\n",
      "0.7899506398009987\n",
      "0.4479999999999995\n"
     ]
    },
    {
     "name": "stderr",
     "output_type": "stream",
     "text": [
      " 55%|████████████████████████████████████████████████                                       | 553/1000 [02:32<02:04,  3.59it/s]"
     ]
    },
    {
     "name": "stdout",
     "output_type": "stream",
     "text": [
      "0.06631367\n",
      "0.8004531078109538\n",
      "0.4469999999999995\n"
     ]
    },
    {
     "name": "stderr",
     "output_type": "stream",
     "text": [
      " 55%|████████████████████████████████████████████████▏                                      | 554/1000 [02:32<01:58,  3.76it/s]"
     ]
    },
    {
     "name": "stdout",
     "output_type": "stream",
     "text": [
      "0.06327999\n",
      "0.8104304524204107\n",
      "0.4459999999999995\n"
     ]
    },
    {
     "name": "stderr",
     "output_type": "stream",
     "text": [
      " 56%|████████████████████████████████████████████████▎                                      | 555/1000 [02:32<02:30,  2.95it/s]"
     ]
    },
    {
     "name": "stdout",
     "output_type": "stream",
     "text": [
      "0.07156363\n",
      "0.7199089297993508\n",
      "0.4449999999999995\n"
     ]
    },
    {
     "name": "stderr",
     "output_type": "stream",
     "text": [
      " 56%|████████████████████████████████████████████████▎                                      | 556/1000 [02:33<02:17,  3.24it/s]"
     ]
    },
    {
     "name": "stdout",
     "output_type": "stream",
     "text": [
      "0.06874126\n",
      "0.7339134833093891\n",
      "0.4439999999999995\n"
     ]
    },
    {
     "name": "stderr",
     "output_type": "stream",
     "text": [
      " 56%|████████████████████████████████████████████████▍                                      | 557/1000 [02:33<02:06,  3.49it/s]"
     ]
    },
    {
     "name": "stdout",
     "output_type": "stream",
     "text": [
      "0.06593584\n",
      "0.7472178091439249\n",
      "0.4429999999999995\n"
     ]
    },
    {
     "name": "stderr",
     "output_type": "stream",
     "text": [
      " 56%|████████████████████████████████████████████████▌                                      | 558/1000 [02:33<02:36,  2.82it/s]"
     ]
    },
    {
     "name": "stdout",
     "output_type": "stream",
     "text": [
      "0.067106\n",
      "0.7598569186867333\n",
      "0.4419999999999995\n"
     ]
    },
    {
     "name": "stderr",
     "output_type": "stream",
     "text": [
      " 56%|████████████████████████████████████████████████▋                                      | 559/1000 [02:34<03:00,  2.44it/s]"
     ]
    },
    {
     "name": "stdout",
     "output_type": "stream",
     "text": [
      "0.06838506\n",
      "0.7718640727524008\n",
      "0.4409999999999995\n"
     ]
    },
    {
     "name": "stderr",
     "output_type": "stream",
     "text": [
      " 56%|████████████████████████████████████████████████▋                                      | 560/1000 [02:34<02:36,  2.81it/s]"
     ]
    },
    {
     "name": "stdout",
     "output_type": "stream",
     "text": [
      "0.06523822\n",
      "0.7832708691147847\n",
      "0.4399999999999995\n"
     ]
    },
    {
     "name": "stderr",
     "output_type": "stream",
     "text": [
      " 56%|████████████████████████████████████████████████▊                                      | 561/1000 [02:35<02:36,  2.80it/s]"
     ]
    },
    {
     "name": "stdout",
     "output_type": "stream",
     "text": [
      "0.065819114\n",
      "0.7941073256590488\n",
      "0.4389999999999995\n"
     ]
    },
    {
     "name": "stderr",
     "output_type": "stream",
     "text": [
      " 56%|████████████████████████████████████████████████▉                                      | 562/1000 [02:35<02:41,  2.71it/s]"
     ]
    },
    {
     "name": "stdout",
     "output_type": "stream",
     "text": [
      "0.068798795\n",
      "0.8044019593760995\n",
      "0.4379999999999995\n"
     ]
    },
    {
     "name": "stderr",
     "output_type": "stream",
     "text": [
      " 56%|█████████████████████████████████████████████████                                      | 564/1000 [02:35<01:58,  3.69it/s]"
     ]
    },
    {
     "name": "stdout",
     "output_type": "stream",
     "text": [
      "0.065794155\n",
      "0.8141818614072973\n",
      "0.4369999999999995\n",
      "0.062909335\n",
      "0.8234727683369351\n",
      "0.4359999999999995\n"
     ]
    },
    {
     "name": "stderr",
     "output_type": "stream",
     "text": [
      " 56%|█████████████████████████████████████████████████▏                                     | 565/1000 [02:36<02:20,  3.09it/s]"
     ]
    },
    {
     "name": "stdout",
     "output_type": "stream",
     "text": [
      "0.063313425\n",
      "0.8322991299200906\n",
      "0.4349999999999995\n"
     ]
    },
    {
     "name": "stderr",
     "output_type": "stream",
     "text": [
      " 57%|█████████████████████████████████████████████████▏                                     | 566/1000 [02:36<02:25,  2.98it/s]"
     ]
    },
    {
     "name": "stdout",
     "output_type": "stream",
     "text": [
      "0.063899204\n",
      "0.8406841734240881\n",
      "0.4339999999999995\n"
     ]
    },
    {
     "name": "stderr",
     "output_type": "stream",
     "text": [
      " 57%|█████████████████████████████████████████████████▍                                     | 568/1000 [02:37<01:57,  3.69it/s]"
     ]
    },
    {
     "name": "stdout",
     "output_type": "stream",
     "text": [
      "0.061422195\n",
      "0.8486499647528856\n",
      "0.4329999999999995\n",
      "0.05890833\n",
      "0.856217466515243\n",
      "0.4319999999999995\n"
     ]
    },
    {
     "name": "stderr",
     "output_type": "stream",
     "text": [
      " 57%|█████████████████████████████████████████████████▌                                     | 569/1000 [02:37<01:53,  3.81it/s]"
     ]
    },
    {
     "name": "stdout",
     "output_type": "stream",
     "text": [
      "0.05639379\n",
      "0.8634065931894823\n",
      "0.4309999999999995\n"
     ]
    },
    {
     "name": "stderr",
     "output_type": "stream",
     "text": [
      " 57%|█████████████████████████████████████████████████▋                                     | 571/1000 [02:37<01:47,  4.00it/s]"
     ]
    },
    {
     "name": "stdout",
     "output_type": "stream",
     "text": [
      "0.059622627\n",
      "0.8702362635300097\n",
      "0.4299999999999995\n",
      "0.05695535\n",
      "0.8767244503535104\n",
      "0.4289999999999995\n"
     ]
    },
    {
     "name": "stderr",
     "output_type": "stream",
     "text": [
      " 57%|█████████████████████████████████████████████████▊                                     | 572/1000 [02:38<01:47,  4.00it/s]"
     ]
    },
    {
     "name": "stdout",
     "output_type": "stream",
     "text": [
      "0.054371938\n",
      "0.8828882278358361\n",
      "0.4279999999999995\n"
     ]
    },
    {
     "name": "stderr",
     "output_type": "stream",
     "text": [
      " 57%|█████████████████████████████████████████████████▉                                     | 574/1000 [02:38<01:25,  4.97it/s]"
     ]
    },
    {
     "name": "stdout",
     "output_type": "stream",
     "text": [
      "0.051875513\n",
      "0.8887438164440454\n",
      "0.4269999999999995\n",
      "0.0744855\n",
      "0.7943066256218275\n",
      "0.4259999999999995\n"
     ]
    },
    {
     "name": "stderr",
     "output_type": "stream",
     "text": [
      " 58%|██████████████████████████████████████████████████                                     | 576/1000 [02:38<01:26,  4.93it/s]"
     ]
    },
    {
     "name": "stdout",
     "output_type": "stream",
     "text": [
      "0.076253496\n",
      "0.8045912943407378\n",
      "0.4249999999999995\n",
      "0.092597544\n",
      "0.7143617296236875\n",
      "0.4239999999999995\n"
     ]
    },
    {
     "name": "stderr",
     "output_type": "stream",
     "text": [
      " 58%|██████████████████████████████████████████████████▎                                    | 578/1000 [02:39<01:20,  5.27it/s]"
     ]
    },
    {
     "name": "stdout",
     "output_type": "stream",
     "text": [
      "0.08838593\n",
      "0.7286436431425052\n",
      "0.4229999999999995\n",
      "0.08433162\n",
      "0.7422114609853817\n",
      "0.4219999999999995\n"
     ]
    },
    {
     "name": "stderr",
     "output_type": "stream",
     "text": [
      " 58%|██████████████████████████████████████████████████▎                                    | 579/1000 [02:39<01:24,  4.97it/s]"
     ]
    },
    {
     "name": "stdout",
     "output_type": "stream",
     "text": [
      "0.08044631\n",
      "0.7551008879361143\n",
      "0.4209999999999995\n"
     ]
    },
    {
     "name": "stderr",
     "output_type": "stream",
     "text": [
      " 58%|██████████████████████████████████████████████████▌                                    | 581/1000 [02:40<01:53,  3.69it/s]"
     ]
    },
    {
     "name": "stdout",
     "output_type": "stream",
     "text": [
      "0.08264331\n",
      "0.76734584353931\n",
      "0.4199999999999995\n",
      "0.079004295\n",
      "0.778978551362346\n",
      "0.4189999999999995\n"
     ]
    },
    {
     "name": "stderr",
     "output_type": "stream",
     "text": [
      " 58%|██████████████████████████████████████████████████▋                                    | 582/1000 [02:40<01:45,  3.95it/s]"
     ]
    },
    {
     "name": "stdout",
     "output_type": "stream",
     "text": [
      "0.07552203\n",
      "0.7900296237942299\n",
      "0.4179999999999995\n"
     ]
    },
    {
     "name": "stderr",
     "output_type": "stream",
     "text": [
      " 58%|██████████████████████████████████████████████████▋                                    | 583/1000 [02:40<02:16,  3.06it/s]"
     ]
    },
    {
     "name": "stdout",
     "output_type": "stream",
     "text": [
      "0.07554796\n",
      "0.8005281426045195\n",
      "0.4169999999999995\n"
     ]
    },
    {
     "name": "stderr",
     "output_type": "stream",
     "text": [
      " 58%|██████████████████████████████████████████████████▉                                    | 585/1000 [02:41<02:50,  2.44it/s]"
     ]
    },
    {
     "name": "stdout",
     "output_type": "stream",
     "text": [
      "0.07709916\n",
      "0.8105017354742945\n",
      "0.4159999999999995\n",
      "0.09457682\n",
      "0.7199766487005713\n",
      "0.4149999999999995\n"
     ]
    },
    {
     "name": "stderr",
     "output_type": "stream",
     "text": [
      " 59%|██████████████████████████████████████████████████▉                                    | 586/1000 [02:42<02:24,  2.86it/s]"
     ]
    },
    {
     "name": "stdout",
     "output_type": "stream",
     "text": [
      "0.09002242\n",
      "0.733977816265544\n",
      "0.4139999999999995\n"
     ]
    },
    {
     "name": "stderr",
     "output_type": "stream",
     "text": [
      " 59%|███████████████████████████████████████████████████                                    | 587/1000 [02:42<02:19,  2.97it/s]"
     ]
    },
    {
     "name": "stdout",
     "output_type": "stream",
     "text": [
      "0.098163135\n",
      "0.6472789254522594\n",
      "0.4129999999999995\n"
     ]
    },
    {
     "name": "stderr",
     "output_type": "stream",
     "text": [
      " 59%|███████████████████████████████████████████████████▏                                   | 589/1000 [02:42<01:47,  3.81it/s]"
     ]
    },
    {
     "name": "stdout",
     "output_type": "stream",
     "text": [
      "0.09391478\n",
      "0.6649149791796478\n",
      "0.4119999999999995\n",
      "0.08972085\n",
      "0.6816692302206667\n",
      "0.4109999999999995\n"
     ]
    },
    {
     "name": "stderr",
     "output_type": "stream",
     "text": [
      " 59%|███████████████████████████████████████████████████▍                                   | 591/1000 [02:43<01:49,  3.73it/s]"
     ]
    },
    {
     "name": "stdout",
     "output_type": "stream",
     "text": [
      "0.09089648\n",
      "0.6975857687096345\n",
      "0.4099999999999995\n",
      "0.0865309\n",
      "0.7127064802741538\n",
      "0.4089999999999995\n"
     ]
    },
    {
     "name": "stderr",
     "output_type": "stream",
     "text": [
      " 59%|███████████████████████████████████████████████████▌                                   | 592/1000 [02:43<01:46,  3.84it/s]"
     ]
    },
    {
     "name": "stdout",
     "output_type": "stream",
     "text": [
      "0.08774779\n",
      "0.727071156260447\n",
      "0.4079999999999995\n"
     ]
    },
    {
     "name": "stderr",
     "output_type": "stream",
     "text": [
      " 59%|███████████████████████████████████████████████████▌                                   | 593/1000 [02:43<01:41,  4.01it/s]"
     ]
    },
    {
     "name": "stdout",
     "output_type": "stream",
     "text": [
      "0.08358438\n",
      "0.7407175984474256\n",
      "0.4069999999999995\n"
     ]
    },
    {
     "name": "stderr",
     "output_type": "stream",
     "text": [
      " 59%|███████████████████████████████████████████████████▋                                   | 594/1000 [02:44<01:39,  4.07it/s]"
     ]
    },
    {
     "name": "stdout",
     "output_type": "stream",
     "text": [
      "0.07959667\n",
      "0.753681718525055\n",
      "0.4059999999999995\n"
     ]
    },
    {
     "name": "stderr",
     "output_type": "stream",
     "text": [
      " 60%|███████████████████████████████████████████████████▊                                   | 596/1000 [02:44<01:27,  4.60it/s]"
     ]
    },
    {
     "name": "stdout",
     "output_type": "stream",
     "text": [
      "0.075780116\n",
      "0.7659976325988029\n",
      "0.40499999999999947\n",
      "0.07212995\n",
      "0.7776977509688634\n",
      "0.40399999999999947\n"
     ]
    },
    {
     "name": "stderr",
     "output_type": "stream",
     "text": [
      " 60%|████████████████████████████████████████████████████                                   | 598/1000 [02:45<01:27,  4.62it/s]"
     ]
    },
    {
     "name": "stdout",
     "output_type": "stream",
     "text": [
      "0.08265022\n",
      "0.6888128634204157\n",
      "0.40299999999999947\n",
      "0.07884702\n",
      "0.7043722202493957\n",
      "0.40199999999999947\n"
     ]
    },
    {
     "name": "stderr",
     "output_type": "stream",
     "text": [
      " 60%|████████████████████████████████████████████████████                                   | 599/1000 [02:45<01:29,  4.50it/s]"
     ]
    },
    {
     "name": "stdout",
     "output_type": "stream",
     "text": [
      "0.07515044\n",
      "0.7191536092369265\n",
      "0.40099999999999947\n"
     ]
    },
    {
     "name": "stderr",
     "output_type": "stream",
     "text": [
      " 60%|████████████████████████████████████████████████████▏                                  | 600/1000 [02:45<01:31,  4.38it/s]"
     ]
    },
    {
     "name": "stdout",
     "output_type": "stream",
     "text": [
      "0.07158375\n",
      "0.7331959287750808\n",
      "0.39999999999999947\n"
     ]
    },
    {
     "name": "stderr",
     "output_type": "stream",
     "text": [
      " 60%|████████████████████████████████████████████████████▎                                  | 602/1000 [02:45<01:19,  5.03it/s]"
     ]
    },
    {
     "name": "stdout",
     "output_type": "stream",
     "text": [
      "0.068159975\n",
      "0.7465361323363273\n",
      "0.39899999999999947\n",
      "0.06488497\n",
      "0.7592093257195115\n",
      "0.39799999999999947\n"
     ]
    },
    {
     "name": "stderr",
     "output_type": "stream",
     "text": [
      " 60%|████████████████████████████████████████████████████▍                                  | 603/1000 [02:46<01:14,  5.34it/s]"
     ]
    },
    {
     "name": "stdout",
     "output_type": "stream",
     "text": [
      "0.06175965\n",
      "0.7712488594335364\n",
      "0.39699999999999946\n"
     ]
    },
    {
     "name": "stderr",
     "output_type": "stream",
     "text": [
      " 60%|████████████████████████████████████████████████████▌                                  | 604/1000 [02:46<01:36,  4.11it/s]"
     ]
    },
    {
     "name": "stdout",
     "output_type": "stream",
     "text": [
      "0.070184544\n",
      "0.7826864164618599\n",
      "0.39599999999999946\n"
     ]
    },
    {
     "name": "stderr",
     "output_type": "stream",
     "text": [
      " 60%|████████████████████████████████████████████████████▋                                  | 605/1000 [02:46<01:40,  3.93it/s]"
     ]
    },
    {
     "name": "stdout",
     "output_type": "stream",
     "text": [
      "0.07866955\n",
      "0.6935520956387639\n",
      "0.39499999999999946\n"
     ]
    },
    {
     "name": "stderr",
     "output_type": "stream",
     "text": [
      " 61%|████████████████████████████████████████████████████▊                                  | 607/1000 [02:47<01:22,  4.78it/s]"
     ]
    },
    {
     "name": "stdout",
     "output_type": "stream",
     "text": [
      "0.075728714\n",
      "0.7088744908568262\n",
      "0.39399999999999946\n",
      "0.07271183\n",
      "0.7234307663139854\n",
      "0.39299999999999946\n"
     ]
    },
    {
     "name": "stderr",
     "output_type": "stream",
     "text": [
      " 61%|████████████████████████████████████████████████████▉                                  | 608/1000 [02:47<01:12,  5.39it/s]"
     ]
    },
    {
     "name": "stdout",
     "output_type": "stream",
     "text": [
      "0.07935646\n",
      "0.6372592279982836\n",
      "0.39199999999999946\n"
     ]
    },
    {
     "name": "stderr",
     "output_type": "stream",
     "text": [
      " 61%|█████████████████████████████████████████████████████                                  | 610/1000 [02:47<01:13,  5.32it/s]"
     ]
    },
    {
     "name": "stdout",
     "output_type": "stream",
     "text": [
      "0.076330386\n",
      "0.6553962665983699\n",
      "0.39099999999999946\n",
      "0.07328351\n",
      "0.6726264532684518\n",
      "0.38999999999999946\n"
     ]
    },
    {
     "name": "stderr",
     "output_type": "stream",
     "text": [
      " 61%|█████████████████████████████████████████████████████▏                                 | 611/1000 [02:47<01:18,  4.95it/s]"
     ]
    },
    {
     "name": "stdout",
     "output_type": "stream",
     "text": [
      "0.07028008\n",
      "0.6889951306050297\n",
      "0.38899999999999946\n"
     ]
    },
    {
     "name": "stderr",
     "output_type": "stream",
     "text": [
      " 61%|█████████████████████████████████████████████████████▎                                 | 613/1000 [02:48<01:17,  5.00it/s]"
     ]
    },
    {
     "name": "stdout",
     "output_type": "stream",
     "text": [
      "0.06735827\n",
      "0.7045453740747787\n",
      "0.38799999999999946\n",
      "0.064538516\n",
      "0.71931810537104\n",
      "0.38699999999999946\n"
     ]
    },
    {
     "name": "stderr",
     "output_type": "stream",
     "text": [
      " 62%|█████████████████████████████████████████████████████▌                                 | 615/1000 [02:48<01:17,  4.98it/s]"
     ]
    },
    {
     "name": "stdout",
     "output_type": "stream",
     "text": [
      "0.061829593\n",
      "0.7333522001024884\n",
      "0.38599999999999945\n",
      "0.059232898\n",
      "0.7466845900973642\n",
      "0.38499999999999945\n"
     ]
    },
    {
     "name": "stderr",
     "output_type": "stream",
     "text": [
      " 62%|█████████████████████████████████████████████████████▋                                 | 617/1000 [02:49<01:43,  3.69it/s]"
     ]
    },
    {
     "name": "stdout",
     "output_type": "stream",
     "text": [
      "0.0696402\n",
      "0.7593503605924963\n",
      "0.38399999999999945\n",
      "0.0665254\n",
      "0.7713828425628716\n",
      "0.38299999999999945\n"
     ]
    },
    {
     "name": "stderr",
     "output_type": "stream",
     "text": [
      " 62%|█████████████████████████████████████████████████████▊                                 | 618/1000 [02:49<01:32,  4.15it/s]"
     ]
    },
    {
     "name": "stdout",
     "output_type": "stream",
     "text": [
      "0.06352708\n",
      "0.7828137004347283\n",
      "0.38199999999999945\n"
     ]
    },
    {
     "name": "stderr",
     "output_type": "stream",
     "text": [
      " 62%|█████████████████████████████████████████████████████▊                                 | 619/1000 [02:50<02:03,  3.08it/s]"
     ]
    },
    {
     "name": "stdout",
     "output_type": "stream",
     "text": [
      "0.07225476\n",
      "0.7936730154129921\n",
      "0.38099999999999945\n"
     ]
    },
    {
     "name": "stderr",
     "output_type": "stream",
     "text": [
      " 62%|█████████████████████████████████████████████████████▉                                 | 620/1000 [02:50<02:06,  3.01it/s]"
     ]
    },
    {
     "name": "stdout",
     "output_type": "stream",
     "text": [
      "0.074278876\n",
      "0.8039893646423427\n",
      "0.37999999999999945\n"
     ]
    },
    {
     "name": "stderr",
     "output_type": "stream",
     "text": [
      " 62%|██████████████████████████████████████████████████████                                 | 622/1000 [02:50<01:40,  3.77it/s]"
     ]
    },
    {
     "name": "stdout",
     "output_type": "stream",
     "text": [
      "0.071476325\n",
      "0.8137898964102257\n",
      "0.37899999999999945\n",
      "0.06861906\n",
      "0.8231004015897146\n",
      "0.37799999999999945\n"
     ]
    },
    {
     "name": "stderr",
     "output_type": "stream",
     "text": [
      " 62%|██████████████████████████████████████████████████████▎                                | 624/1000 [02:51<01:17,  4.85it/s]"
     ]
    },
    {
     "name": "stdout",
     "output_type": "stream",
     "text": [
      "0.06574975\n",
      "0.8319453815102289\n",
      "0.37699999999999945\n",
      "0.06290108\n",
      "0.8403481124347175\n",
      "0.37599999999999945\n"
     ]
    },
    {
     "name": "stderr",
     "output_type": "stream",
     "text": [
      " 62%|██████████████████████████████████████████████████████▍                                | 625/1000 [02:51<01:20,  4.66it/s]"
     ]
    },
    {
     "name": "stdout",
     "output_type": "stream",
     "text": [
      "0.060097724\n",
      "0.8483307068129818\n",
      "0.37499999999999944\n"
     ]
    },
    {
     "name": "stderr",
     "output_type": "stream",
     "text": [
      " 63%|██████████████████████████████████████████████████████▍                                | 626/1000 [02:51<01:20,  4.63it/s]"
     ]
    },
    {
     "name": "stdout",
     "output_type": "stream",
     "text": [
      "0.057357974\n",
      "0.8559141714723327\n",
      "0.37399999999999944\n"
     ]
    },
    {
     "name": "stderr",
     "output_type": "stream",
     "text": [
      " 63%|██████████████████████████████████████████████████████▋                                | 628/1000 [02:52<01:20,  4.60it/s]"
     ]
    },
    {
     "name": "stdout",
     "output_type": "stream",
     "text": [
      "0.06373245\n",
      "0.8631184628987163\n",
      "0.37299999999999944\n",
      "0.060786173\n",
      "0.8699625397537805\n",
      "0.37199999999999944\n"
     ]
    },
    {
     "name": "stderr",
     "output_type": "stream",
     "text": [
      " 63%|██████████████████████████████████████████████████████▋                                | 629/1000 [02:52<01:28,  4.20it/s]"
     ]
    },
    {
     "name": "stdout",
     "output_type": "stream",
     "text": [
      "0.06411667\n",
      "0.8764644127660915\n",
      "0.37099999999999944\n"
     ]
    },
    {
     "name": "stderr",
     "output_type": "stream",
     "text": [
      " 63%|██████████████████████████████████████████████████████▊                                | 630/1000 [02:52<01:51,  3.30it/s]"
     ]
    },
    {
     "name": "stdout",
     "output_type": "stream",
     "text": [
      "0.06440417\n",
      "0.8826411921277869\n",
      "0.36999999999999944\n"
     ]
    },
    {
     "name": "stderr",
     "output_type": "stream",
     "text": [
      " 63%|██████████████████████████████████████████████████████▉                                | 631/1000 [02:52<01:42,  3.61it/s]"
     ]
    },
    {
     "name": "stdout",
     "output_type": "stream",
     "text": [
      "0.061631817\n",
      "0.8885091325213976\n",
      "0.36899999999999944\n"
     ]
    },
    {
     "name": "stderr",
     "output_type": "stream",
     "text": [
      " 63%|██████████████████████████████████████████████████████▉                                | 632/1000 [02:53<01:37,  3.77it/s]"
     ]
    },
    {
     "name": "stdout",
     "output_type": "stream",
     "text": [
      "0.058928777\n",
      "0.8940836758953278\n",
      "0.36799999999999944\n"
     ]
    },
    {
     "name": "stderr",
     "output_type": "stream",
     "text": [
      " 63%|███████████████████████████████████████████████████████▏                               | 634/1000 [02:53<01:17,  4.73it/s]"
     ]
    },
    {
     "name": "stdout",
     "output_type": "stream",
     "text": [
      "0.05630158\n",
      "0.8993794921005615\n",
      "0.36699999999999944\n",
      "0.05375513\n",
      "0.9044105174955334\n",
      "0.36599999999999944\n"
     ]
    },
    {
     "name": "stderr",
     "output_type": "stream",
     "text": [
      " 64%|███████████████████████████████████████████████████████▎                               | 636/1000 [02:54<01:26,  4.20it/s]"
     ]
    },
    {
     "name": "stdout",
     "output_type": "stream",
     "text": [
      "0.054558307\n",
      "0.9091899916207568\n",
      "0.36499999999999944\n",
      "0.052234083\n",
      "0.913730492039719\n",
      "0.36399999999999944\n"
     ]
    },
    {
     "name": "stderr",
     "output_type": "stream",
     "text": [
      " 64%|███████████████████████████████████████████████████████▌                               | 638/1000 [02:54<01:14,  4.88it/s]"
     ]
    },
    {
     "name": "stdout",
     "output_type": "stream",
     "text": [
      "0.04992928\n",
      "0.9180439674377331\n",
      "0.36299999999999943\n",
      "0.047665007\n",
      "0.9221417690658466\n",
      "0.36199999999999943\n"
     ]
    },
    {
     "name": "stderr",
     "output_type": "stream",
     "text": [
      " 64%|███████████████████████████████████████████████████████▌                               | 639/1000 [02:54<01:10,  5.10it/s]"
     ]
    },
    {
     "name": "stdout",
     "output_type": "stream",
     "text": [
      "0.04545652\n",
      "0.9260346806125542\n",
      "0.36099999999999943\n"
     ]
    },
    {
     "name": "stderr",
     "output_type": "stream",
     "text": [
      " 64%|███████████████████████████████████████████████████████▊                               | 641/1000 [02:55<01:08,  5.21it/s]"
     ]
    },
    {
     "name": "stdout",
     "output_type": "stream",
     "text": [
      "0.043314517\n",
      "0.9297329465819265\n",
      "0.35999999999999943\n",
      "0.041246146\n",
      "0.9332462992528302\n",
      "0.35899999999999943\n"
     ]
    },
    {
     "name": "stderr",
     "output_type": "stream",
     "text": [
      " 64%|███████████████████████████████████████████████████████▊                               | 642/1000 [02:55<01:12,  4.93it/s]"
     ]
    },
    {
     "name": "stdout",
     "output_type": "stream",
     "text": [
      "0.03925584\n",
      "0.9365839842901887\n",
      "0.35799999999999943\n"
     ]
    },
    {
     "name": "stderr",
     "output_type": "stream",
     "text": [
      " 64%|███████████████████████████████████████████████████████▉                               | 643/1000 [02:55<01:33,  3.81it/s]"
     ]
    },
    {
     "name": "stdout",
     "output_type": "stream",
     "text": [
      "0.04159482\n",
      "0.9397547850756793\n",
      "0.35699999999999943\n"
     ]
    },
    {
     "name": "stderr",
     "output_type": "stream",
     "text": [
      " 64%|████████████████████████████████████████████████████████                               | 644/1000 [02:56<01:50,  3.23it/s]"
     ]
    },
    {
     "name": "stdout",
     "output_type": "stream",
     "text": [
      "0.04245524\n",
      "0.9427670458218955\n",
      "0.35599999999999943\n"
     ]
    },
    {
     "name": "stderr",
     "output_type": "stream",
     "text": [
      " 64%|████████████████████████████████████████████████████████                               | 645/1000 [02:56<01:42,  3.47it/s]"
     ]
    },
    {
     "name": "stdout",
     "output_type": "stream",
     "text": [
      "0.04043818\n",
      "0.9456286935308007\n",
      "0.3549999999999994\n"
     ]
    },
    {
     "name": "stderr",
     "output_type": "stream",
     "text": [
      " 65%|████████████████████████████████████████████████████████▏                              | 646/1000 [02:56<02:19,  2.54it/s]"
     ]
    },
    {
     "name": "stdout",
     "output_type": "stream",
     "text": [
      "0.044383902\n",
      "0.9483472588542606\n",
      "0.3539999999999994\n"
     ]
    },
    {
     "name": "stderr",
     "output_type": "stream",
     "text": [
      " 65%|████████████████████████████████████████████████████████▎                              | 647/1000 [02:57<02:50,  2.07it/s]"
     ]
    },
    {
     "name": "stdout",
     "output_type": "stream",
     "text": [
      "0.0462954\n",
      "0.9509298959115475\n",
      "0.3529999999999994\n"
     ]
    },
    {
     "name": "stderr",
     "output_type": "stream",
     "text": [
      " 65%|████████████████████████████████████████████████████████▍                              | 648/1000 [02:57<02:22,  2.47it/s]"
     ]
    },
    {
     "name": "stdout",
     "output_type": "stream",
     "text": [
      "0.044018313\n",
      "0.9533834011159701\n",
      "0.3519999999999994\n"
     ]
    },
    {
     "name": "stderr",
     "output_type": "stream",
     "text": [
      " 65%|████████████████████████████████████████████████████████▍                              | 649/1000 [02:58<02:28,  2.36it/s]"
     ]
    },
    {
     "name": "stdout",
     "output_type": "stream",
     "text": [
      "0.052687265\n",
      "0.8557142310601712\n",
      "0.3509999999999994\n"
     ]
    },
    {
     "name": "stderr",
     "output_type": "stream",
     "text": [
      " 65%|████████████████████████████████████████████████████████▌                              | 650/1000 [02:58<02:24,  2.42it/s]"
     ]
    },
    {
     "name": "stdout",
     "output_type": "stream",
     "text": [
      "0.053127173\n",
      "0.8629285195071627\n",
      "0.3499999999999994\n"
     ]
    },
    {
     "name": "stderr",
     "output_type": "stream",
     "text": [
      " 65%|████████████████████████████████████████████████████████▋                              | 651/1000 [02:59<02:22,  2.45it/s]"
     ]
    },
    {
     "name": "stdout",
     "output_type": "stream",
     "text": [
      "0.05268377\n",
      "0.8697820935318045\n",
      "0.3489999999999994\n"
     ]
    },
    {
     "name": "stderr",
     "output_type": "stream",
     "text": [
      " 65%|████████████████████████████████████████████████████████▋                              | 652/1000 [02:59<02:03,  2.81it/s]"
     ]
    },
    {
     "name": "stdout",
     "output_type": "stream",
     "text": [
      "0.05036486\n",
      "0.8762929888552143\n",
      "0.3479999999999994\n"
     ]
    },
    {
     "name": "stderr",
     "output_type": "stream",
     "text": [
      " 65%|████████████████████████████████████████████████████████▊                              | 653/1000 [02:59<02:07,  2.72it/s]"
     ]
    },
    {
     "name": "stdout",
     "output_type": "stream",
     "text": [
      "0.049832076\n",
      "0.8824783394124537\n",
      "0.3469999999999994\n"
     ]
    },
    {
     "name": "stderr",
     "output_type": "stream",
     "text": [
      " 65%|████████████████████████████████████████████████████████▉                              | 654/1000 [02:59<01:51,  3.10it/s]"
     ]
    },
    {
     "name": "stdout",
     "output_type": "stream",
     "text": [
      "0.047535557\n",
      "0.8883544224418309\n",
      "0.3459999999999994\n"
     ]
    },
    {
     "name": "stderr",
     "output_type": "stream",
     "text": [
      " 66%|█████████████████████████████████████████████████████████                              | 656/1000 [03:00<01:28,  3.87it/s]"
     ]
    },
    {
     "name": "stdout",
     "output_type": "stream",
     "text": [
      "0.045347247\n",
      "0.8939367013197395\n",
      "0.3449999999999994\n",
      "0.04326164\n",
      "0.8992398662537525\n",
      "0.3439999999999994\n"
     ]
    },
    {
     "name": "stderr",
     "output_type": "stream",
     "text": [
      " 66%|█████████████████████████████████████████████████████████▏                             | 657/1000 [03:00<01:25,  4.02it/s]"
     ]
    },
    {
     "name": "stdout",
     "output_type": "stream",
     "text": [
      "0.04127305\n",
      "0.9042778729410649\n",
      "0.3429999999999994\n"
     ]
    },
    {
     "name": "stderr",
     "output_type": "stream",
     "text": [
      " 66%|█████████████████████████████████████████████████████████▏                             | 658/1000 [03:00<01:23,  4.11it/s]"
     ]
    },
    {
     "name": "stdout",
     "output_type": "stream",
     "text": [
      "0.039375912\n",
      "0.9090639792940116\n",
      "0.3419999999999994\n"
     ]
    },
    {
     "name": "stderr",
     "output_type": "stream",
     "text": [
      " 66%|█████████████████████████████████████████████████████████▍                             | 660/1000 [03:01<01:09,  4.87it/s]"
     ]
    },
    {
     "name": "stdout",
     "output_type": "stream",
     "text": [
      "0.037564944\n",
      "0.913610780329311\n",
      "0.3409999999999994\n",
      "0.035835247\n",
      "0.9179302413128455\n",
      "0.3399999999999994\n"
     ]
    },
    {
     "name": "stderr",
     "output_type": "stream",
     "text": [
      " 66%|█████████████████████████████████████████████████████████▌                             | 662/1000 [03:01<01:09,  4.87it/s]"
     ]
    },
    {
     "name": "stdout",
     "output_type": "stream",
     "text": [
      "0.034182318\n",
      "0.9220337292472032\n",
      "0.3389999999999994\n",
      "0.03260209\n",
      "0.925932042784843\n",
      "0.3379999999999994\n"
     ]
    },
    {
     "name": "stderr",
     "output_type": "stream",
     "text": [
      " 66%|█████████████████████████████████████████████████████████▋                             | 663/1000 [03:01<01:21,  4.12it/s]"
     ]
    },
    {
     "name": "stdout",
     "output_type": "stream",
     "text": [
      "0.033805996\n",
      "0.9296354406456008\n",
      "0.3369999999999994\n"
     ]
    },
    {
     "name": "stderr",
     "output_type": "stream",
     "text": [
      " 66%|█████████████████████████████████████████████████████████▊                             | 665/1000 [03:02<01:13,  4.53it/s]"
     ]
    },
    {
     "name": "stdout",
     "output_type": "stream",
     "text": [
      "0.032294378\n",
      "0.9331536686133208\n",
      "0.3359999999999994\n",
      "0.030849164\n",
      "0.9364959851826548\n",
      "0.3349999999999994\n"
     ]
    },
    {
     "name": "stderr",
     "output_type": "stream",
     "text": [
      " 67%|█████████████████████████████████████████████████████████▉                             | 666/1000 [03:02<01:03,  5.27it/s]"
     ]
    },
    {
     "name": "stdout",
     "output_type": "stream",
     "text": [
      "0.056443837\n",
      "0.8396711859235217\n",
      "0.3339999999999994\n"
     ]
    },
    {
     "name": "stderr",
     "output_type": "stream",
     "text": [
      " 67%|██████████████████████████████████████████████████████████                             | 667/1000 [03:02<01:05,  5.06it/s]"
     ]
    },
    {
     "name": "stdout",
     "output_type": "stream",
     "text": [
      "0.053829394\n",
      "0.8476876266273456\n",
      "0.3329999999999994\n"
     ]
    },
    {
     "name": "stderr",
     "output_type": "stream",
     "text": [
      " 67%|██████████████████████████████████████████████████████████                             | 668/1000 [03:03<01:25,  3.87it/s]"
     ]
    },
    {
     "name": "stdout",
     "output_type": "stream",
     "text": [
      "0.0543541\n",
      "0.8553032452959785\n",
      "0.3319999999999994\n"
     ]
    },
    {
     "name": "stderr",
     "output_type": "stream",
     "text": [
      " 67%|██████████████████████████████████████████████████████████▎                            | 670/1000 [03:03<01:27,  3.76it/s]"
     ]
    },
    {
     "name": "stdout",
     "output_type": "stream",
     "text": [
      "0.05400815\n",
      "0.8625380830311795\n",
      "0.3309999999999994\n",
      "0.051716775\n",
      "0.8694111788796207\n",
      "0.3299999999999994\n"
     ]
    },
    {
     "name": "stderr",
     "output_type": "stream",
     "text": [
      " 67%|██████████████████████████████████████████████████████████▍                            | 671/1000 [03:04<01:58,  2.78it/s]"
     ]
    },
    {
     "name": "stdout",
     "output_type": "stream",
     "text": [
      "0.051238585\n",
      "0.8759406199356397\n",
      "0.3289999999999994\n"
     ]
    },
    {
     "name": "stderr",
     "output_type": "stream",
     "text": [
      " 67%|██████████████████████████████████████████████████████████▍                            | 672/1000 [03:04<01:45,  3.12it/s]"
     ]
    },
    {
     "name": "stdout",
     "output_type": "stream",
     "text": [
      "0.049067765\n",
      "0.8821435889388577\n",
      "0.3279999999999994\n"
     ]
    },
    {
     "name": "stderr",
     "output_type": "stream",
     "text": [
      " 67%|██████████████████████████████████████████████████████████▌                            | 673/1000 [03:04<01:35,  3.43it/s]"
     ]
    },
    {
     "name": "stdout",
     "output_type": "stream",
     "text": [
      "0.04698121\n",
      "0.8880364094919148\n",
      "0.3269999999999994\n"
     ]
    },
    {
     "name": "stderr",
     "output_type": "stream",
     "text": [
      " 68%|██████████████████████████████████████████████████████████▋                            | 675/1000 [03:05<01:19,  4.06it/s]"
     ]
    },
    {
     "name": "stdout",
     "output_type": "stream",
     "text": [
      "0.044973824\n",
      "0.8936345890173191\n",
      "0.3259999999999994\n",
      "0.043041233\n",
      "0.8989528595664531\n",
      "0.3249999999999994\n"
     ]
    },
    {
     "name": "stderr",
     "output_type": "stream",
     "text": [
      " 68%|██████████████████████████████████████████████████████████▉                            | 677/1000 [03:05<01:11,  4.53it/s]"
     ]
    },
    {
     "name": "stdout",
     "output_type": "stream",
     "text": [
      "0.041179735\n",
      "0.9040052165881305\n",
      "0.3239999999999994\n",
      "0.039386228\n",
      "0.9088049557587239\n",
      "0.3229999999999994\n"
     ]
    },
    {
     "name": "stderr",
     "output_type": "stream",
     "text": [
      " 68%|██████████████████████████████████████████████████████████▉                            | 678/1000 [03:05<01:13,  4.35it/s]"
     ]
    },
    {
     "name": "stdout",
     "output_type": "stream",
     "text": [
      "0.037658084\n",
      "0.9133647079707877\n",
      "0.3219999999999994\n"
     ]
    },
    {
     "name": "stderr",
     "output_type": "stream",
     "text": [
      " 68%|███████████████████████████████████████████████████████████▏                           | 680/1000 [03:06<01:11,  4.47it/s]"
     ]
    },
    {
     "name": "stdout",
     "output_type": "stream",
     "text": [
      "0.049869288\n",
      "0.8176964725722483\n",
      "0.3209999999999994\n",
      "0.04756718\n",
      "0.8268116489436358\n",
      "0.3199999999999994\n"
     ]
    },
    {
     "name": "stderr",
     "output_type": "stream",
     "text": [
      " 68%|███████████████████████████████████████████████████████████▏                           | 681/1000 [03:06<01:29,  3.58it/s]"
     ]
    },
    {
     "name": "stdout",
     "output_type": "stream",
     "text": [
      "0.048758022\n",
      "0.8354710664964541\n",
      "0.3189999999999994\n"
     ]
    },
    {
     "name": "stderr",
     "output_type": "stream",
     "text": [
      " 68%|███████████████████████████████████████████████████████████▎                           | 682/1000 [03:06<01:22,  3.86it/s]"
     ]
    },
    {
     "name": "stdout",
     "output_type": "stream",
     "text": [
      "0.046620384\n",
      "0.8436975131716314\n",
      "0.3179999999999994\n"
     ]
    },
    {
     "name": "stderr",
     "output_type": "stream",
     "text": [
      " 68%|███████████████████████████████████████████████████████████▍                           | 683/1000 [03:07<01:19,  3.99it/s]"
     ]
    },
    {
     "name": "stdout",
     "output_type": "stream",
     "text": [
      "0.044576548\n",
      "0.8515126375130498\n",
      "0.3169999999999994\n"
     ]
    },
    {
     "name": "stderr",
     "output_type": "stream",
     "text": [
      " 68%|███████████████████████████████████████████████████████████▌                           | 685/1000 [03:07<01:10,  4.45it/s]"
     ]
    },
    {
     "name": "stdout",
     "output_type": "stream",
     "text": [
      "0.042624384\n",
      "0.8589370056373974\n",
      "0.3159999999999994\n",
      "0.040759962\n",
      "0.8659901553555276\n",
      "0.3149999999999994\n"
     ]
    },
    {
     "name": "stderr",
     "output_type": "stream",
     "text": [
      " 69%|███████████████████████████████████████████████████████████▊                           | 687/1000 [03:07<01:06,  4.73it/s]"
     ]
    },
    {
     "name": "stdout",
     "output_type": "stream",
     "text": [
      "0.03897849\n",
      "0.8726906475877513\n",
      "0.3139999999999994\n",
      "0.037274912\n",
      "0.8790561152083638\n",
      "0.3129999999999994\n"
     ]
    },
    {
     "name": "stderr",
     "output_type": "stream",
     "text": [
      " 69%|███████████████████████████████████████████████████████████▊                           | 688/1000 [03:08<01:07,  4.64it/s]"
     ]
    },
    {
     "name": "stdout",
     "output_type": "stream",
     "text": [
      "0.035644285\n",
      "0.8851033094479457\n",
      "0.3119999999999994\n"
     ]
    },
    {
     "name": "stderr",
     "output_type": "stream",
     "text": [
      " 69%|███████████████████████████████████████████████████████████▉                           | 689/1000 [03:08<01:20,  3.84it/s]"
     ]
    },
    {
     "name": "stdout",
     "output_type": "stream",
     "text": [
      "0.03734316\n",
      "0.8908481439755485\n",
      "0.3109999999999994\n"
     ]
    },
    {
     "name": "stderr",
     "output_type": "stream",
     "text": [
      " 69%|████████████████████████████████████████████████████████████                           | 690/1000 [03:08<01:25,  3.64it/s]"
     ]
    },
    {
     "name": "stdout",
     "output_type": "stream",
     "text": [
      "0.03800256\n",
      "0.8963057367767711\n",
      "0.3099999999999994\n"
     ]
    },
    {
     "name": "stderr",
     "output_type": "stream",
     "text": [
      " 69%|████████████████████████████████████████████████████████████▏                          | 692/1000 [03:09<01:34,  3.27it/s]"
     ]
    },
    {
     "name": "stdout",
     "output_type": "stream",
     "text": [
      "0.039178636\n",
      "0.9014904499379325\n",
      "0.3089999999999994\n",
      "0.037848055\n",
      "0.9064159274410357\n",
      "0.3079999999999994\n"
     ]
    },
    {
     "name": "stderr",
     "output_type": "stream",
     "text": [
      " 69%|████████████████████████████████████████████████████████████▎                          | 693/1000 [03:09<01:21,  3.75it/s]"
     ]
    },
    {
     "name": "stdout",
     "output_type": "stream",
     "text": [
      "0.036532283\n",
      "0.911095131068984\n",
      "0.3069999999999994\n"
     ]
    },
    {
     "name": "stderr",
     "output_type": "stream",
     "text": [
      " 69%|████████████████████████████████████████████████████████████▍                          | 694/1000 [03:09<01:18,  3.91it/s]"
     ]
    },
    {
     "name": "stdout",
     "output_type": "stream",
     "text": [
      "0.03523162\n",
      "0.9155403745155348\n",
      "0.3059999999999994\n"
     ]
    },
    {
     "name": "stderr",
     "output_type": "stream",
     "text": [
      " 70%|████████████████████████████████████████████████████████████▍                          | 695/1000 [03:10<01:48,  2.81it/s]"
     ]
    },
    {
     "name": "stdout",
     "output_type": "stream",
     "text": [
      "0.03645829\n",
      "0.9197633557897581\n",
      "0.3049999999999994\n"
     ]
    },
    {
     "name": "stderr",
     "output_type": "stream",
     "text": [
      " 70%|████████████████████████████████████████████████████████████▋                          | 697/1000 [03:10<01:22,  3.69it/s]"
     ]
    },
    {
     "name": "stdout",
     "output_type": "stream",
     "text": [
      "0.03497213\n",
      "0.9237751880002703\n",
      "0.3039999999999994\n",
      "0.033525273\n",
      "0.9275864286002568\n",
      "0.3029999999999994\n"
     ]
    },
    {
     "name": "stderr",
     "output_type": "stream",
     "text": [
      " 70%|████████████████████████████████████████████████████████████▋                          | 698/1000 [03:11<01:12,  4.17it/s]"
     ]
    },
    {
     "name": "stdout",
     "output_type": "stream",
     "text": [
      "0.032118145\n",
      "0.9312071071702439\n",
      "0.3019999999999994\n"
     ]
    },
    {
     "name": "stderr",
     "output_type": "stream",
     "text": [
      " 70%|████████████████████████████████████████████████████████████▊                          | 699/1000 [03:11<01:13,  4.10it/s]"
     ]
    },
    {
     "name": "stdout",
     "output_type": "stream",
     "text": [
      "0.03075125\n",
      "0.9346467518117316\n",
      "0.3009999999999994\n"
     ]
    },
    {
     "name": "stderr",
     "output_type": "stream",
     "text": [
      " 70%|████████████████████████████████████████████████████████████▉                          | 700/1000 [03:11<01:26,  3.45it/s]"
     ]
    },
    {
     "name": "stdout",
     "output_type": "stream",
     "text": [
      "0.031927135\n",
      "0.9379144142211451\n",
      "0.2999999999999994\n"
     ]
    },
    {
     "name": "stderr",
     "output_type": "stream",
     "text": [
      " 70%|████████████████████████████████████████████████████████████▉                          | 701/1000 [03:12<01:36,  3.11it/s]"
     ]
    },
    {
     "name": "stdout",
     "output_type": "stream",
     "text": [
      "0.03397443\n",
      "0.9410186935100878\n",
      "0.2989999999999994\n"
     ]
    },
    {
     "name": "stderr",
     "output_type": "stream",
     "text": [
      " 70%|█████████████████████████████████████████████████████████████                          | 702/1000 [03:12<01:27,  3.40it/s]"
     ]
    },
    {
     "name": "stdout",
     "output_type": "stream",
     "text": [
      "0.032612197\n",
      "0.9439677588345834\n",
      "0.2979999999999994\n"
     ]
    },
    {
     "name": "stderr",
     "output_type": "stream",
     "text": [
      " 70%|█████████████████████████████████████████████████████████████▏                         | 703/1000 [03:12<01:23,  3.55it/s]"
     ]
    },
    {
     "name": "stdout",
     "output_type": "stream",
     "text": [
      "0.031267844\n",
      "0.9467693708928543\n",
      "0.2969999999999994\n"
     ]
    },
    {
     "name": "stderr",
     "output_type": "stream",
     "text": [
      " 70%|█████████████████████████████████████████████████████████████▎                         | 705/1000 [03:13<01:14,  3.95it/s]"
     ]
    },
    {
     "name": "stdout",
     "output_type": "stream",
     "text": [
      "0.03234488\n",
      "0.9494309023482116\n",
      "0.2959999999999994\n",
      "0.05869354\n",
      "0.851959357230801\n",
      "0.2949999999999994\n"
     ]
    },
    {
     "name": "stderr",
     "output_type": "stream",
     "text": [
      " 71%|█████████████████████████████████████████████████████████████▍                         | 706/1000 [03:13<01:03,  4.65it/s]"
     ]
    },
    {
     "name": "stdout",
     "output_type": "stream",
     "text": [
      "0.07760935\n",
      "0.7593613893692609\n",
      "0.2939999999999994\n"
     ]
    },
    {
     "name": "stderr",
     "output_type": "stream",
     "text": [
      " 71%|█████████████████████████████████████████████████████████████▌                         | 707/1000 [03:13<01:05,  4.48it/s]"
     ]
    },
    {
     "name": "stdout",
     "output_type": "stream",
     "text": [
      "0.07417157\n",
      "0.7713933199007978\n",
      "0.29299999999999937\n"
     ]
    },
    {
     "name": "stderr",
     "output_type": "stream",
     "text": [
      " 71%|█████████████████████████████████████████████████████████████▌                         | 708/1000 [03:13<01:05,  4.46it/s]"
     ]
    },
    {
     "name": "stdout",
     "output_type": "stream",
     "text": [
      "0.070837945\n",
      "0.7828236539057579\n",
      "0.29199999999999937\n"
     ]
    },
    {
     "name": "stderr",
     "output_type": "stream",
     "text": [
      " 71%|█████████████████████████████████████████████████████████████▋                         | 709/1000 [03:13<01:05,  4.43it/s]"
     ]
    },
    {
     "name": "stdout",
     "output_type": "stream",
     "text": [
      "0.06762895\n",
      "0.79368247121047\n",
      "0.29099999999999937\n"
     ]
    },
    {
     "name": "stderr",
     "output_type": "stream",
     "text": [
      " 71%|█████████████████████████████████████████████████████████████▊                         | 710/1000 [03:14<01:05,  4.45it/s]"
     ]
    },
    {
     "name": "stdout",
     "output_type": "stream",
     "text": [
      "0.064554274\n",
      "0.8039983476499465\n",
      "0.28999999999999937\n"
     ]
    },
    {
     "name": "stderr",
     "output_type": "stream",
     "text": [
      " 71%|█████████████████████████████████████████████████████████████▊                         | 711/1000 [03:14<01:04,  4.45it/s]"
     ]
    },
    {
     "name": "stdout",
     "output_type": "stream",
     "text": [
      "0.06161642\n",
      "0.8137984302674491\n",
      "0.28899999999999937\n"
     ]
    },
    {
     "name": "stderr",
     "output_type": "stream",
     "text": [
      " 71%|██████████████████████████████████████████████████████████████                         | 713/1000 [03:14<01:02,  4.59it/s]"
     ]
    },
    {
     "name": "stdout",
     "output_type": "stream",
     "text": [
      "0.058813352\n",
      "0.8231085087540767\n",
      "0.28799999999999937\n",
      "0.056140333\n",
      "0.8319530833163729\n",
      "0.28699999999999937\n"
     ]
    },
    {
     "name": "stderr",
     "output_type": "stream",
     "text": [
      " 71%|██████████████████████████████████████████████████████████████                         | 714/1000 [03:15<01:47,  2.65it/s]"
     ]
    },
    {
     "name": "stdout",
     "output_type": "stream",
     "text": [
      "0.059220135\n",
      "0.8403554291505543\n",
      "0.28599999999999937\n"
     ]
    },
    {
     "name": "stderr",
     "output_type": "stream",
     "text": [
      " 72%|██████████████████████████████████████████████████████████████▏                        | 715/1000 [03:15<01:45,  2.71it/s]"
     ]
    },
    {
     "name": "stdout",
     "output_type": "stream",
     "text": [
      "0.059651308\n",
      "0.8483376576930266\n",
      "0.28499999999999936\n"
     ]
    },
    {
     "name": "stderr",
     "output_type": "stream",
     "text": [
      " 72%|██████████████████████████████████████████████████████████████▎                        | 716/1000 [03:16<01:32,  3.06it/s]"
     ]
    },
    {
     "name": "stdout",
     "output_type": "stream",
     "text": [
      "0.057022665\n",
      "0.8559207748083753\n",
      "0.28399999999999936\n"
     ]
    },
    {
     "name": "stderr",
     "output_type": "stream",
     "text": [
      " 72%|██████████████████████████████████████████████████████████████▍                        | 717/1000 [03:16<01:23,  3.37it/s]"
     ]
    },
    {
     "name": "stdout",
     "output_type": "stream",
     "text": [
      "0.054496314\n",
      "0.8631247360679565\n",
      "0.28299999999999936\n"
     ]
    },
    {
     "name": "stderr",
     "output_type": "stream",
     "text": [
      " 72%|██████████████████████████████████████████████████████████████▍                        | 718/1000 [03:16<01:32,  3.04it/s]"
     ]
    },
    {
     "name": "stdout",
     "output_type": "stream",
     "text": [
      "0.055357136\n",
      "0.8699684992645587\n",
      "0.28199999999999936\n"
     ]
    },
    {
     "name": "stderr",
     "output_type": "stream",
     "text": [
      " 72%|██████████████████████████████████████████████████████████████▋                        | 720/1000 [03:17<01:44,  2.69it/s]"
     ]
    },
    {
     "name": "stdout",
     "output_type": "stream",
     "text": [
      "0.057692505\n",
      "0.8764700743013307\n",
      "0.28099999999999936\n",
      "0.05550287\n",
      "0.8826465705862642\n",
      "0.27999999999999936\n"
     ]
    },
    {
     "name": "stderr",
     "output_type": "stream",
     "text": [
      " 72%|██████████████████████████████████████████████████████████████▋                        | 721/1000 [03:17<01:27,  3.18it/s]"
     ]
    },
    {
     "name": "stdout",
     "output_type": "stream",
     "text": [
      "0.05337156\n",
      "0.888514242056951\n",
      "0.27899999999999936\n"
     ]
    },
    {
     "name": "stderr",
     "output_type": "stream",
     "text": [
      " 72%|██████████████████████████████████████████████████████████████▉                        | 723/1000 [03:18<01:12,  3.82it/s]"
     ]
    },
    {
     "name": "stdout",
     "output_type": "stream",
     "text": [
      "0.051295523\n",
      "0.8940885299541034\n",
      "0.27799999999999936\n",
      "0.0492727\n",
      "0.8993841034563982\n",
      "0.27699999999999936\n"
     ]
    },
    {
     "name": "stderr",
     "output_type": "stream",
     "text": [
      " 72%|██████████████████████████████████████████████████████████████▉                        | 724/1000 [03:18<01:04,  4.28it/s]"
     ]
    },
    {
     "name": "stdout",
     "output_type": "stream",
     "text": [
      "0.047301866\n",
      "0.9044148982835782\n",
      "0.27599999999999936\n"
     ]
    },
    {
     "name": "stderr",
     "output_type": "stream",
     "text": [
      " 72%|███████████████████████████████████████████████████████████████                        | 725/1000 [03:18<01:03,  4.34it/s]"
     ]
    },
    {
     "name": "stdout",
     "output_type": "stream",
     "text": [
      "0.045382414\n",
      "0.9091941533693993\n",
      "0.27499999999999936\n"
     ]
    },
    {
     "name": "stderr",
     "output_type": "stream",
     "text": [
      " 73%|███████████████████████████████████████████████████████████████▏                       | 727/1000 [03:19<01:09,  3.95it/s]"
     ]
    },
    {
     "name": "stdout",
     "output_type": "stream",
     "text": [
      "0.045612507\n",
      "0.9137344457009294\n",
      "0.27399999999999936\n",
      "0.043785308\n",
      "0.9180477234158829\n",
      "0.27299999999999935\n"
     ]
    },
    {
     "name": "stderr",
     "output_type": "stream",
     "text": [
      " 73%|███████████████████████████████████████████████████████████████▎                       | 728/1000 [03:19<01:02,  4.37it/s]"
     ]
    },
    {
     "name": "stdout",
     "output_type": "stream",
     "text": [
      "0.042013247\n",
      "0.9221453372450887\n",
      "0.27199999999999935\n"
     ]
    },
    {
     "name": "stderr",
     "output_type": "stream",
     "text": [
      " 73%|███████████████████████████████████████████████████████████████▍                       | 729/1000 [03:19<01:03,  4.30it/s]"
     ]
    },
    {
     "name": "stdout",
     "output_type": "stream",
     "text": [
      "0.0402941\n",
      "0.9260380703828343\n",
      "0.27099999999999935\n"
     ]
    },
    {
     "name": "stderr",
     "output_type": "stream",
     "text": [
      " 73%|███████████████████████████████████████████████████████████████▌                       | 731/1000 [03:20<01:09,  3.86it/s]"
     ]
    },
    {
     "name": "stdout",
     "output_type": "stream",
     "text": [
      "0.040386222\n",
      "0.9297361668636924\n",
      "0.26999999999999935\n",
      "0.038764346\n",
      "0.9332493585205078\n",
      "0.26899999999999935\n"
     ]
    },
    {
     "name": "stderr",
     "output_type": "stream",
     "text": [
      " 73%|███████████████████████████████████████████████████████████████▊                       | 733/1000 [03:20<00:59,  4.49it/s]"
     ]
    },
    {
     "name": "stdout",
     "output_type": "stream",
     "text": [
      "0.037194073\n",
      "0.9365868905944824\n",
      "0.26799999999999935\n",
      "0.035672795\n",
      "0.9397575460647583\n",
      "0.26699999999999935\n"
     ]
    },
    {
     "name": "stderr",
     "output_type": "stream",
     "text": [
      " 73%|███████████████████████████████████████████████████████████████▊                       | 734/1000 [03:20<00:59,  4.45it/s]"
     ]
    },
    {
     "name": "stdout",
     "output_type": "stream",
     "text": [
      "0.034198523\n",
      "0.9427696687615204\n",
      "0.26599999999999935\n"
     ]
    },
    {
     "name": "stderr",
     "output_type": "stream",
     "text": [
      " 74%|████████████████████████████████████████████████████████████████                       | 736/1000 [03:21<01:03,  4.15it/s]"
     ]
    },
    {
     "name": "stdout",
     "output_type": "stream",
     "text": [
      "0.034965616\n",
      "0.9456311853234444\n",
      "0.26499999999999935\n",
      "0.033628974\n",
      "0.9483496260572721\n",
      "0.26399999999999935\n"
     ]
    },
    {
     "name": "stderr",
     "output_type": "stream",
     "text": [
      " 74%|████████████████████████████████████████████████████████████████▏                      | 738/1000 [03:21<00:59,  4.37it/s]"
     ]
    },
    {
     "name": "stdout",
     "output_type": "stream",
     "text": [
      "0.03228649\n",
      "0.9509321447544086\n",
      "0.26299999999999935\n",
      "0.030950805\n",
      "0.9533855375166882\n",
      "0.26199999999999934\n"
     ]
    },
    {
     "name": "stderr",
     "output_type": "stream",
     "text": [
      " 74%|████████████████████████████████████████████████████████████████▎                      | 739/1000 [03:22<01:07,  3.84it/s]"
     ]
    },
    {
     "name": "stdout",
     "output_type": "stream",
     "text": [
      "0.031877264\n",
      "0.9557162606408538\n",
      "0.26099999999999934\n"
     ]
    },
    {
     "name": "stderr",
     "output_type": "stream",
     "text": [
      " 74%|████████████████████████████████████████████████████████████████▍                      | 740/1000 [03:22<01:06,  3.94it/s]"
     ]
    },
    {
     "name": "stdout",
     "output_type": "stream",
     "text": [
      "0.030519068\n",
      "0.9579304476088111\n",
      "0.25999999999999934\n"
     ]
    },
    {
     "name": "stderr",
     "output_type": "stream",
     "text": [
      " 74%|████████████████████████████████████████████████████████████████▌                      | 742/1000 [03:22<00:54,  4.75it/s]"
     ]
    },
    {
     "name": "stdout",
     "output_type": "stream",
     "text": [
      "0.029199334\n",
      "0.9600339252283705\n",
      "0.25899999999999934\n",
      "0.027919237\n",
      "0.962032228966952\n",
      "0.25799999999999934\n"
     ]
    },
    {
     "name": "stderr",
     "output_type": "stream",
     "text": [
      " 74%|████████████████████████████████████████████████████████████████▋                      | 744/1000 [03:23<00:53,  4.77it/s]"
     ]
    },
    {
     "name": "stdout",
     "output_type": "stream",
     "text": [
      "0.02667968\n",
      "0.9639306175186043\n",
      "0.25699999999999934\n",
      "0.0254813\n",
      "0.9657340866426741\n",
      "0.25599999999999934\n"
     ]
    },
    {
     "name": "stderr",
     "output_type": "stream",
     "text": [
      " 74%|████████████████████████████████████████████████████████████████▊                      | 745/1000 [03:23<00:54,  4.69it/s]"
     ]
    },
    {
     "name": "stdout",
     "output_type": "stream",
     "text": [
      "0.024324473\n",
      "0.9674473823105404\n",
      "0.25499999999999934\n"
     ]
    },
    {
     "name": "stderr",
     "output_type": "stream",
     "text": [
      " 75%|████████████████████████████████████████████████████████████████▉                      | 746/1000 [03:23<00:54,  4.65it/s]"
     ]
    },
    {
     "name": "stdout",
     "output_type": "stream",
     "text": [
      "0.02320934\n",
      "0.9690750131950133\n",
      "0.25399999999999934\n"
     ]
    },
    {
     "name": "stderr",
     "output_type": "stream",
     "text": [
      " 75%|████████████████████████████████████████████████████████████████▉                      | 747/1000 [03:24<01:08,  3.72it/s]"
     ]
    },
    {
     "name": "stdout",
     "output_type": "stream",
     "text": [
      "0.024048703\n",
      "0.9706212625352627\n",
      "0.25299999999999934\n"
     ]
    },
    {
     "name": "stderr",
     "output_type": "stream",
     "text": [
      " 75%|█████████████████████████████████████████████████████████████████                      | 748/1000 [03:24<01:14,  3.40it/s]"
     ]
    },
    {
     "name": "stdout",
     "output_type": "stream",
     "text": [
      "0.024258722\n",
      "0.9720901994084996\n",
      "0.25199999999999934\n"
     ]
    },
    {
     "name": "stderr",
     "output_type": "stream",
     "text": [
      " 75%|█████████████████████████████████████████████████████████████████▏                     | 749/1000 [03:24<01:21,  3.07it/s]"
     ]
    },
    {
     "name": "stdout",
     "output_type": "stream",
     "text": [
      "0.024081266\n",
      "0.9734856894380747\n",
      "0.25099999999999933\n"
     ]
    },
    {
     "name": "stderr",
     "output_type": "stream",
     "text": [
      " 75%|█████████████████████████████████████████████████████████████████▎                     | 751/1000 [03:25<01:05,  3.80it/s]"
     ]
    },
    {
     "name": "stdout",
     "output_type": "stream",
     "text": [
      "0.023064025\n",
      "0.9748114049661709\n",
      "0.24999999999999933\n",
      "0.022088788\n",
      "0.9760708347178624\n",
      "0.24899999999999933\n"
     ]
    },
    {
     "name": "stderr",
     "output_type": "stream",
     "text": [
      " 75%|█████████████████████████████████████████████████████████████████▍                     | 752/1000 [03:25<00:59,  4.19it/s]"
     ]
    },
    {
     "name": "stdout",
     "output_type": "stream",
     "text": [
      "0.021152655\n",
      "0.9772672929819692\n",
      "0.24799999999999933\n"
     ]
    },
    {
     "name": "stderr",
     "output_type": "stream",
     "text": [
      " 75%|█████████████████████████████████████████████████████████████████▌                     | 753/1000 [03:25<00:57,  4.27it/s]"
     ]
    },
    {
     "name": "stdout",
     "output_type": "stream",
     "text": [
      "0.020253044\n",
      "0.9784039283328708\n",
      "0.24699999999999933\n"
     ]
    },
    {
     "name": "stderr",
     "output_type": "stream",
     "text": [
      " 75%|█████████████████████████████████████████████████████████████████▌                     | 754/1000 [03:25<00:58,  4.23it/s]"
     ]
    },
    {
     "name": "stdout",
     "output_type": "stream",
     "text": [
      "0.019387703\n",
      "0.9794837319162273\n",
      "0.24599999999999933\n"
     ]
    },
    {
     "name": "stderr",
     "output_type": "stream",
     "text": [
      " 76%|█████████████████████████████████████████████████████████████████▊                     | 756/1000 [03:26<01:11,  3.41it/s]"
     ]
    },
    {
     "name": "stdout",
     "output_type": "stream",
     "text": [
      "0.020439459\n",
      "0.9805095453204159\n",
      "0.24499999999999933\n",
      "0.01951012\n",
      "0.9814840680543951\n",
      "0.24399999999999933\n"
     ]
    },
    {
     "name": "stderr",
     "output_type": "stream",
     "text": [
      " 76%|█████████████████████████████████████████████████████████████████▊                     | 757/1000 [03:26<01:05,  3.70it/s]"
     ]
    },
    {
     "name": "stdout",
     "output_type": "stream",
     "text": [
      "0.01861835\n",
      "0.9824098646516753\n",
      "0.24299999999999933\n"
     ]
    },
    {
     "name": "stderr",
     "output_type": "stream",
     "text": [
      " 76%|█████████████████████████████████████████████████████████████████▉                     | 758/1000 [03:27<01:16,  3.17it/s]"
     ]
    },
    {
     "name": "stdout",
     "output_type": "stream",
     "text": [
      "0.019213106\n",
      "0.9832893714190916\n",
      "0.24199999999999933\n"
     ]
    },
    {
     "name": "stderr",
     "output_type": "stream",
     "text": [
      " 76%|██████████████████████████████████████████████████████████████████                     | 759/1000 [03:27<01:11,  3.37it/s]"
     ]
    },
    {
     "name": "stdout",
     "output_type": "stream",
     "text": [
      "0.018355988\n",
      "0.984124902848137\n",
      "0.24099999999999933\n"
     ]
    },
    {
     "name": "stderr",
     "output_type": "stream",
     "text": [
      " 76%|██████████████████████████████████████████████████████████████████▏                    | 761/1000 [03:28<00:59,  4.03it/s]"
     ]
    },
    {
     "name": "stdout",
     "output_type": "stream",
     "text": [
      "0.017535266\n",
      "0.9849186577057302\n",
      "0.23999999999999932\n",
      "0.016748883\n",
      "0.9856727248204437\n",
      "0.23899999999999932\n"
     ]
    },
    {
     "name": "stderr",
     "output_type": "stream",
     "text": [
      " 76%|██████████████████████████████████████████████████████████████████▍                    | 763/1000 [03:28<01:00,  3.90it/s]"
     ]
    },
    {
     "name": "stdout",
     "output_type": "stream",
     "text": [
      "0.017770605\n",
      "0.9863890885794214\n",
      "0.23799999999999932\n",
      "0.017044669\n",
      "0.9870696341504503\n",
      "0.23699999999999932\n"
     ]
    },
    {
     "name": "stderr",
     "output_type": "stream",
     "text": [
      " 76%|██████████████████████████████████████████████████████████████████▌                    | 765/1000 [03:28<00:48,  4.87it/s]"
     ]
    },
    {
     "name": "stdout",
     "output_type": "stream",
     "text": [
      "0.047728088\n",
      "0.8877161524429278\n",
      "0.23599999999999932\n",
      "0.04540977\n",
      "0.8933303448207814\n",
      "0.23499999999999932\n"
     ]
    },
    {
     "name": "stderr",
     "output_type": "stream",
     "text": [
      " 77%|██████████████████████████████████████████████████████████████████▋                    | 766/1000 [03:29<00:51,  4.52it/s]"
     ]
    },
    {
     "name": "stdout",
     "output_type": "stream",
     "text": [
      "0.04320129\n",
      "0.8986638275797424\n",
      "0.23399999999999932\n"
     ]
    },
    {
     "name": "stderr",
     "output_type": "stream",
     "text": [
      " 77%|██████████████████████████████████████████████████████████████████▋                    | 767/1000 [03:29<00:52,  4.43it/s]"
     ]
    },
    {
     "name": "stdout",
     "output_type": "stream",
     "text": [
      "0.041099478\n",
      "0.9037306362007552\n",
      "0.23299999999999932\n"
     ]
    },
    {
     "name": "stderr",
     "output_type": "stream",
     "text": [
      " 77%|██████████████████████████████████████████████████████████████████▊                    | 768/1000 [03:29<01:04,  3.58it/s]"
     ]
    },
    {
     "name": "stdout",
     "output_type": "stream",
     "text": [
      "0.04166312\n",
      "0.9085441043907174\n",
      "0.23199999999999932\n"
     ]
    },
    {
     "name": "stderr",
     "output_type": "stream",
     "text": [
      " 77%|██████████████████████████████████████████████████████████████████▉                    | 769/1000 [03:29<01:00,  3.83it/s]"
     ]
    },
    {
     "name": "stdout",
     "output_type": "stream",
     "text": [
      "0.039699446\n",
      "0.9131168991711816\n",
      "0.23099999999999932\n"
     ]
    },
    {
     "name": "stderr",
     "output_type": "stream",
     "text": [
      " 77%|███████████████████████████████████████████████████████████████████                    | 771/1000 [03:30<00:48,  4.68it/s]"
     ]
    },
    {
     "name": "stdout",
     "output_type": "stream",
     "text": [
      "0.037829723\n",
      "0.9174610542126225\n",
      "0.22999999999999932\n",
      "0.03604977\n",
      "0.9215880015019914\n",
      "0.22899999999999932\n"
     ]
    },
    {
     "name": "stderr",
     "output_type": "stream",
     "text": [
      " 77%|███████████████████████████████████████████████████████████████████▏                   | 772/1000 [03:30<00:49,  4.57it/s]"
     ]
    },
    {
     "name": "stdout",
     "output_type": "stream",
     "text": [
      "0.034355033\n",
      "0.9255086014268918\n",
      "0.22799999999999931\n"
     ]
    },
    {
     "name": "stderr",
     "output_type": "stream",
     "text": [
      " 77%|███████████████████████████████████████████████████████████████████▎                   | 773/1000 [03:30<00:55,  4.11it/s]"
     ]
    },
    {
     "name": "stdout",
     "output_type": "stream",
     "text": [
      "0.0327409\n",
      "0.9292331713555473\n",
      "0.2269999999999993\n"
     ]
    },
    {
     "name": "stderr",
     "output_type": "stream",
     "text": [
      " 77%|███████████████████████████████████████████████████████████████████▎                   | 774/1000 [03:31<01:09,  3.23it/s]"
     ]
    },
    {
     "name": "stdout",
     "output_type": "stream",
     "text": [
      "0.033451848\n",
      "0.9327715127877699\n",
      "0.2259999999999993\n"
     ]
    },
    {
     "name": "stderr",
     "output_type": "stream",
     "text": [
      " 78%|███████████████████████████████████████████████████████████████████▍                   | 775/1000 [03:31<01:05,  3.44it/s]"
     ]
    },
    {
     "name": "stdout",
     "output_type": "stream",
     "text": [
      "0.03200546\n",
      "0.9361329371483814\n",
      "0.2249999999999993\n"
     ]
    },
    {
     "name": "stderr",
     "output_type": "stream",
     "text": [
      " 78%|███████████████████████████████████████████████████████████████████▌                   | 776/1000 [03:31<01:00,  3.71it/s]"
     ]
    },
    {
     "name": "stdout",
     "output_type": "stream",
     "text": [
      "0.03062383\n",
      "0.9393262902909624\n",
      "0.2239999999999993\n"
     ]
    },
    {
     "name": "stderr",
     "output_type": "stream",
     "text": [
      " 78%|███████████████████████████████████████████████████████████████████▌                   | 777/1000 [03:32<00:57,  3.85it/s]"
     ]
    },
    {
     "name": "stdout",
     "output_type": "stream",
     "text": [
      "0.029303107\n",
      "0.9423599757764143\n",
      "0.2229999999999993\n"
     ]
    },
    {
     "name": "stderr",
     "output_type": "stream",
     "text": [
      " 78%|███████████████████████████████████████████████████████████████████▋                   | 778/1000 [03:32<00:56,  3.96it/s]"
     ]
    },
    {
     "name": "stdout",
     "output_type": "stream",
     "text": [
      "0.028039332\n",
      "0.9452419769875936\n",
      "0.2219999999999993\n"
     ]
    },
    {
     "name": "stderr",
     "output_type": "stream",
     "text": [
      " 78%|███████████████████████████████████████████████████████████████████▊                   | 780/1000 [03:32<00:56,  3.90it/s]"
     ]
    },
    {
     "name": "stdout",
     "output_type": "stream",
     "text": [
      "0.028056359\n",
      "0.9479798781382139\n",
      "0.2209999999999993\n",
      "0.026895957\n",
      "0.9505808842313033\n",
      "0.2199999999999993\n"
     ]
    },
    {
     "name": "stderr",
     "output_type": "stream",
     "text": [
      " 78%|███████████████████████████████████████████████████████████████████▉                   | 781/1000 [03:33<00:52,  4.21it/s]"
     ]
    },
    {
     "name": "stdout",
     "output_type": "stream",
     "text": [
      "0.02578206\n",
      "0.9530518400197381\n",
      "0.2189999999999993\n"
     ]
    },
    {
     "name": "stderr",
     "output_type": "stream",
     "text": [
      " 78%|████████████████████████████████████████████████████████████████████                   | 783/1000 [03:33<00:50,  4.28it/s]"
     ]
    },
    {
     "name": "stdout",
     "output_type": "stream",
     "text": [
      "0.026685525\n",
      "0.9553992480187512\n",
      "0.2179999999999993\n",
      "0.025666729\n",
      "0.9576292856178137\n",
      "0.2169999999999993\n"
     ]
    },
    {
     "name": "stderr",
     "output_type": "stream",
     "text": [
      " 78%|████████████████████████████████████████████████████████████████████▏                  | 784/1000 [03:33<00:51,  4.16it/s]"
     ]
    },
    {
     "name": "stdout",
     "output_type": "stream",
     "text": [
      "0.024652425\n",
      "0.959747821336923\n",
      "0.2159999999999993\n"
     ]
    },
    {
     "name": "stderr",
     "output_type": "stream",
     "text": [
      " 78%|████████████████████████████████████████████████████████████████████▎                  | 785/1000 [03:34<01:00,  3.52it/s]"
     ]
    },
    {
     "name": "stdout",
     "output_type": "stream",
     "text": [
      "0.02562831\n",
      "0.9617604302700768\n",
      "0.2149999999999993\n"
     ]
    },
    {
     "name": "stderr",
     "output_type": "stream",
     "text": [
      " 79%|████████████████████████████████████████████████████████████████████▍                  | 786/1000 [03:34<00:57,  3.69it/s]"
     ]
    },
    {
     "name": "stdout",
     "output_type": "stream",
     "text": [
      "0.024707532\n",
      "0.963672408756573\n",
      "0.2139999999999993\n"
     ]
    },
    {
     "name": "stderr",
     "output_type": "stream",
     "text": [
      " 79%|████████████████████████████████████████████████████████████████████▍                  | 787/1000 [03:34<00:54,  3.89it/s]"
     ]
    },
    {
     "name": "stdout",
     "output_type": "stream",
     "text": [
      "0.02375338\n",
      "0.9654887883187444\n",
      "0.2129999999999993\n"
     ]
    },
    {
     "name": "stderr",
     "output_type": "stream",
     "text": [
      " 79%|████████████████████████████████████████████████████████████████████▌                  | 788/1000 [03:34<00:52,  4.04it/s]"
     ]
    },
    {
     "name": "stdout",
     "output_type": "stream",
     "text": [
      "0.022784336\n",
      "0.9672143489028072\n",
      "0.2119999999999993\n"
     ]
    },
    {
     "name": "stderr",
     "output_type": "stream",
     "text": [
      " 79%|████████████████████████████████████████████████████████████████████▋                  | 790/1000 [03:35<00:46,  4.54it/s]"
     ]
    },
    {
     "name": "stdout",
     "output_type": "stream",
     "text": [
      "0.021814525\n",
      "0.9688536314576669\n",
      "0.2109999999999993\n",
      "0.050848417\n",
      "0.8704109498847835\n",
      "0.2099999999999993\n"
     ]
    },
    {
     "name": "stderr",
     "output_type": "stream",
     "text": [
      " 79%|████████████████████████████████████████████████████████████████████▊                  | 791/1000 [03:35<00:47,  4.38it/s]"
     ]
    },
    {
     "name": "stdout",
     "output_type": "stream",
     "text": [
      "0.048350547\n",
      "0.8768904023905444\n",
      "0.2089999999999993\n"
     ]
    },
    {
     "name": "stderr",
     "output_type": "stream",
     "text": [
      " 79%|████████████████████████████████████████████████████████████████████▉                  | 793/1000 [03:36<00:52,  3.97it/s]"
     ]
    },
    {
     "name": "stdout",
     "output_type": "stream",
     "text": [
      "0.049646746\n",
      "0.8830458822710172\n",
      "0.2079999999999993\n",
      "0.047285795\n",
      "0.8888935881574663\n",
      "0.2069999999999993\n"
     ]
    },
    {
     "name": "stderr",
     "output_type": "stream",
     "text": [
      " 80%|█████████████████████████████████████████████████████████████████████▏                 | 795/1000 [03:36<00:46,  4.43it/s]"
     ]
    },
    {
     "name": "stdout",
     "output_type": "stream",
     "text": [
      "0.045032885\n",
      "0.894448908749593\n",
      "0.2059999999999993\n",
      "0.042882826\n",
      "0.8997264633121134\n",
      "0.2049999999999993\n"
     ]
    },
    {
     "name": "stderr",
     "output_type": "stream",
     "text": [
      " 80%|█████████████████████████████████████████████████████████████████████▎                 | 796/1000 [03:36<00:47,  4.26it/s]"
     ]
    },
    {
     "name": "stdout",
     "output_type": "stream",
     "text": [
      "0.04083081\n",
      "0.9047401401465077\n",
      "0.2039999999999993\n"
     ]
    },
    {
     "name": "stderr",
     "output_type": "stream",
     "text": [
      " 80%|█████████████████████████████████████████████████████████████████████▎                 | 797/1000 [03:37<00:47,  4.32it/s]"
     ]
    },
    {
     "name": "stdout",
     "output_type": "stream",
     "text": [
      "0.03887237\n",
      "0.9095031331391823\n",
      "0.2029999999999993\n"
     ]
    },
    {
     "name": "stderr",
     "output_type": "stream",
     "text": [
      " 80%|█████████████████████████████████████████████████████████████████████▍                 | 798/1000 [03:37<00:46,  4.37it/s]"
     ]
    },
    {
     "name": "stdout",
     "output_type": "stream",
     "text": [
      "0.037003342\n",
      "0.9140279764822232\n",
      "0.2019999999999993\n"
     ]
    },
    {
     "name": "stderr",
     "output_type": "stream",
     "text": [
      " 80%|█████████████████████████████████████████████████████████████████████▌                 | 799/1000 [03:37<00:46,  4.30it/s]"
     ]
    },
    {
     "name": "stdout",
     "output_type": "stream",
     "text": [
      "0.03521981\n",
      "0.9183265776581121\n",
      "0.2009999999999993\n"
     ]
    },
    {
     "name": "stderr",
     "output_type": "stream",
     "text": [
      " 80%|█████████████████████████████████████████████████████████████████████▌                 | 800/1000 [03:37<00:46,  4.33it/s]"
     ]
    },
    {
     "name": "stdout",
     "output_type": "stream",
     "text": [
      "0.033518095\n",
      "0.9224102487752065\n",
      "0.1999999999999993\n"
     ]
    },
    {
     "name": "stderr",
     "output_type": "stream",
     "text": [
      " 80%|█████████████████████████████████████████████████████████████████████▋                 | 801/1000 [03:37<00:45,  4.38it/s]"
     ]
    },
    {
     "name": "stdout",
     "output_type": "stream",
     "text": [
      "0.031894695\n",
      "0.9262897363364462\n",
      "0.1989999999999993\n"
     ]
    },
    {
     "name": "stderr",
     "output_type": "stream",
     "text": [
      " 80%|█████████████████████████████████████████████████████████████████████▊                 | 802/1000 [03:38<00:56,  3.50it/s]"
     ]
    },
    {
     "name": "stdout",
     "output_type": "stream",
     "text": [
      "0.03315171\n",
      "0.9299752495196238\n",
      "0.1979999999999993\n"
     ]
    },
    {
     "name": "stderr",
     "output_type": "stream",
     "text": [
      " 80%|█████████████████████████████████████████████████████████████████████▊                 | 803/1000 [03:38<00:52,  3.75it/s]"
     ]
    },
    {
     "name": "stdout",
     "output_type": "stream",
     "text": [
      "0.031578276\n",
      "0.9334764870436426\n",
      "0.1969999999999993\n"
     ]
    },
    {
     "name": "stderr",
     "output_type": "stream",
     "text": [
      " 80%|█████████████████████████████████████████████████████████████████████▉                 | 804/1000 [03:38<00:50,  3.88it/s]"
     ]
    },
    {
     "name": "stdout",
     "output_type": "stream",
     "text": [
      "0.030079324\n",
      "0.9368026626914605\n",
      "0.19599999999999929\n"
     ]
    },
    {
     "name": "stderr",
     "output_type": "stream",
     "text": [
      " 80%|██████████████████████████████████████████████████████████████████████                 | 805/1000 [03:39<00:48,  3.99it/s]"
     ]
    },
    {
     "name": "stdout",
     "output_type": "stream",
     "text": [
      "0.02865077\n",
      "0.9399625295568875\n",
      "0.19499999999999929\n"
     ]
    },
    {
     "name": "stderr",
     "output_type": "stream",
     "text": [
      " 81%|██████████████████████████████████████████████████████████████████████                 | 806/1000 [03:39<00:47,  4.12it/s]"
     ]
    },
    {
     "name": "stdout",
     "output_type": "stream",
     "text": [
      "0.02728884\n",
      "0.9429644030790432\n",
      "0.19399999999999928\n"
     ]
    },
    {
     "name": "stderr",
     "output_type": "stream",
     "text": [
      " 81%|██████████████████████████████████████████████████████████████████████▏                | 807/1000 [03:39<01:06,  2.89it/s]"
     ]
    },
    {
     "name": "stdout",
     "output_type": "stream",
     "text": [
      "0.028441407\n",
      "0.9458161829250911\n",
      "0.19299999999999928\n"
     ]
    },
    {
     "name": "stderr",
     "output_type": "stream",
     "text": [
      " 81%|██████████████████████████████████████████████████████████████████████▍                | 809/1000 [03:40<00:52,  3.62it/s]"
     ]
    },
    {
     "name": "stdout",
     "output_type": "stream",
     "text": [
      "0.027049106\n",
      "0.9485253737788365\n",
      "0.19199999999999928\n",
      "0.025724525\n",
      "0.9510991050898947\n",
      "0.19099999999999928\n"
     ]
    },
    {
     "name": "stderr",
     "output_type": "stream",
     "text": [
      " 81%|██████████████████████████████████████████████████████████████████████▍                | 810/1000 [03:40<00:50,  3.76it/s]"
     ]
    },
    {
     "name": "stdout",
     "output_type": "stream",
     "text": [
      "0.024464214\n",
      "0.9535441498353999\n",
      "0.18999999999999928\n"
     ]
    },
    {
     "name": "stderr",
     "output_type": "stream",
     "text": [
      " 81%|██████████████████████████████████████████████████████████████████████▌                | 811/1000 [03:41<01:04,  2.95it/s]"
     ]
    },
    {
     "name": "stdout",
     "output_type": "stream",
     "text": [
      "0.02643308\n",
      "0.9558669423436299\n",
      "0.18899999999999928\n"
     ]
    },
    {
     "name": "stderr",
     "output_type": "stream",
     "text": [
      " 81%|██████████████████████████████████████████████████████████████████████▋                | 812/1000 [03:41<00:58,  3.24it/s]"
     ]
    },
    {
     "name": "stdout",
     "output_type": "stream",
     "text": [
      "0.025226224\n",
      "0.9580735952264484\n",
      "0.18799999999999928\n"
     ]
    },
    {
     "name": "stderr",
     "output_type": "stream",
     "text": [
      " 81%|██████████████████████████████████████████████████████████████████████▋                | 813/1000 [03:41<00:53,  3.51it/s]"
     ]
    },
    {
     "name": "stdout",
     "output_type": "stream",
     "text": [
      "0.02406113\n",
      "0.960169915465126\n",
      "0.18699999999999928\n"
     ]
    },
    {
     "name": "stderr",
     "output_type": "stream",
     "text": [
      " 81%|██████████████████████████████████████████████████████████████████████▊                | 814/1000 [03:41<00:50,  3.72it/s]"
     ]
    },
    {
     "name": "stdout",
     "output_type": "stream",
     "text": [
      "0.02293858\n",
      "0.9621614196918696\n",
      "0.18599999999999928\n"
     ]
    },
    {
     "name": "stderr",
     "output_type": "stream",
     "text": [
      " 82%|██████████████████████████████████████████████████████████████████████▉                | 815/1000 [03:42<00:56,  3.29it/s]"
     ]
    },
    {
     "name": "stdout",
     "output_type": "stream",
     "text": [
      "0.023956707\n",
      "0.9640533487072761\n",
      "0.18499999999999928\n"
     ]
    },
    {
     "name": "stderr",
     "output_type": "stream",
     "text": [
      " 82%|██████████████████████████████████████████████████████████████████████▉                | 816/1000 [03:42<00:52,  3.49it/s]"
     ]
    },
    {
     "name": "stdout",
     "output_type": "stream",
     "text": [
      "0.022847127\n",
      "0.9658506812719123\n",
      "0.18399999999999928\n"
     ]
    },
    {
     "name": "stderr",
     "output_type": "stream",
     "text": [
      " 82%|███████████████████████████████████████████████████████████████████████                | 817/1000 [03:42<00:49,  3.73it/s]"
     ]
    },
    {
     "name": "stdout",
     "output_type": "stream",
     "text": [
      "0.021785628\n",
      "0.9675581472083167\n",
      "0.18299999999999927\n"
     ]
    },
    {
     "name": "stderr",
     "output_type": "stream",
     "text": [
      " 82%|███████████████████████████████████████████████████████████████████████▏               | 818/1000 [03:42<00:46,  3.96it/s]"
     ]
    },
    {
     "name": "stdout",
     "output_type": "stream",
     "text": [
      "0.020769995\n",
      "0.9691802398479008\n",
      "0.18199999999999927\n"
     ]
    },
    {
     "name": "stderr",
     "output_type": "stream",
     "text": [
      " 82%|███████████████████████████████████████████████████████████████████████▎               | 819/1000 [03:43<01:02,  2.90it/s]"
     ]
    },
    {
     "name": "stdout",
     "output_type": "stream",
     "text": [
      "0.021457305\n",
      "0.9707212278555057\n",
      "0.18099999999999927\n"
     ]
    },
    {
     "name": "stderr",
     "output_type": "stream",
     "text": [
      " 82%|███████████████████████████████████████████████████████████████████████▎               | 820/1000 [03:43<01:05,  2.74it/s]"
     ]
    },
    {
     "name": "stdout",
     "output_type": "stream",
     "text": [
      "0.021212615\n",
      "0.9721851664627305\n",
      "0.17999999999999927\n"
     ]
    },
    {
     "name": "stderr",
     "output_type": "stream",
     "text": [
      " 82%|███████████████████████████████████████████████████████████████████████▍               | 821/1000 [03:44<00:57,  3.13it/s]"
     ]
    },
    {
     "name": "stdout",
     "output_type": "stream",
     "text": [
      "0.02032654\n",
      "0.9735759081395939\n",
      "0.17899999999999927\n"
     ]
    },
    {
     "name": "stderr",
     "output_type": "stream",
     "text": [
      " 82%|███████████████████████████████████████████████████████████████████████▌               | 822/1000 [03:44<00:52,  3.36it/s]"
     ]
    },
    {
     "name": "stdout",
     "output_type": "stream",
     "text": [
      "0.01947816\n",
      "0.9748971127326143\n",
      "0.17799999999999927\n"
     ]
    },
    {
     "name": "stderr",
     "output_type": "stream",
     "text": [
      " 82%|███████████████████████████████████████████████████████████████████████▌               | 823/1000 [03:44<00:49,  3.59it/s]"
     ]
    },
    {
     "name": "stdout",
     "output_type": "stream",
     "text": [
      "0.018664792\n",
      "0.9761522570959835\n",
      "0.17699999999999927\n"
     ]
    },
    {
     "name": "stderr",
     "output_type": "stream",
     "text": [
      " 82%|███████████████████████████████████████████████████████████████████████▋               | 824/1000 [03:44<00:46,  3.80it/s]"
     ]
    },
    {
     "name": "stdout",
     "output_type": "stream",
     "text": [
      "0.01788391\n",
      "0.9773446442411844\n",
      "0.17599999999999927\n"
     ]
    },
    {
     "name": "stderr",
     "output_type": "stream",
     "text": [
      " 82%|███████████████████████████████████████████████████████████████████████▊               | 825/1000 [03:44<00:44,  3.95it/s]"
     ]
    },
    {
     "name": "stdout",
     "output_type": "stream",
     "text": [
      "0.017133247\n",
      "0.9784774120291252\n",
      "0.17499999999999927\n"
     ]
    },
    {
     "name": "stderr",
     "output_type": "stream",
     "text": [
      " 83%|███████████████████████████████████████████████████████████████████████▊               | 826/1000 [03:45<00:43,  3.96it/s]"
     ]
    },
    {
     "name": "stdout",
     "output_type": "stream",
     "text": [
      "0.016410826\n",
      "0.9795535414276689\n",
      "0.17399999999999927\n"
     ]
    },
    {
     "name": "stderr",
     "output_type": "stream",
     "text": [
      " 83%|███████████████████████████████████████████████████████████████████████▉               | 827/1000 [03:45<00:42,  4.10it/s]"
     ]
    },
    {
     "name": "stdout",
     "output_type": "stream",
     "text": [
      "0.015714964\n",
      "0.9805758643562855\n",
      "0.17299999999999927\n"
     ]
    },
    {
     "name": "stderr",
     "output_type": "stream",
     "text": [
      " 83%|████████████████████████████████████████████████████████████████████████               | 828/1000 [03:45<00:41,  4.11it/s]"
     ]
    },
    {
     "name": "stdout",
     "output_type": "stream",
     "text": [
      "0.015044247\n",
      "0.9815470711384713\n",
      "0.17199999999999926\n"
     ]
    },
    {
     "name": "stderr",
     "output_type": "stream",
     "text": [
      " 83%|████████████████████████████████████████████████████████████████████████               | 829/1000 [03:46<00:49,  3.46it/s]"
     ]
    },
    {
     "name": "stdout",
     "output_type": "stream",
     "text": [
      "0.015981248\n",
      "0.9824697175815478\n",
      "0.17099999999999926\n"
     ]
    },
    {
     "name": "stderr",
     "output_type": "stream",
     "text": [
      " 83%|████████████████████████████████████████████████████████████████████████▏              | 830/1000 [03:46<00:46,  3.69it/s]"
     ]
    },
    {
     "name": "stdout",
     "output_type": "stream",
     "text": [
      "0.015368101\n",
      "0.9833462317024704\n",
      "0.16999999999999926\n"
     ]
    },
    {
     "name": "stderr",
     "output_type": "stream",
     "text": [
      " 83%|████████████████████████████████████████████████████████████████████████▎              | 831/1000 [03:46<00:43,  3.85it/s]"
     ]
    },
    {
     "name": "stdout",
     "output_type": "stream",
     "text": [
      "0.014750123\n",
      "0.9841789201173469\n",
      "0.16899999999999926\n"
     ]
    },
    {
     "name": "stderr",
     "output_type": "stream",
     "text": [
      " 83%|████████████████████████████████████████████████████████████████████████▍              | 833/1000 [03:46<00:37,  4.45it/s]"
     ]
    },
    {
     "name": "stdout",
     "output_type": "stream",
     "text": [
      "0.0141341165\n",
      "0.9849699741114796\n",
      "0.16799999999999926\n",
      "0.013525373\n",
      "0.9857214754059056\n",
      "0.16699999999999926\n"
     ]
    },
    {
     "name": "stderr",
     "output_type": "stream",
     "text": [
      " 83%|████████████████████████████████████████████████████████████████████████▌              | 834/1000 [03:47<00:38,  4.36it/s]"
     ]
    },
    {
     "name": "stdout",
     "output_type": "stream",
     "text": [
      "0.012927947\n",
      "0.9864354016356103\n",
      "0.16599999999999926\n"
     ]
    },
    {
     "name": "stderr",
     "output_type": "stream",
     "text": [
      " 84%|████████████████████████████████████████████████████████████████████████▋              | 835/1000 [03:47<00:37,  4.42it/s]"
     ]
    },
    {
     "name": "stdout",
     "output_type": "stream",
     "text": [
      "0.012344885\n",
      "0.9871136315538298\n",
      "0.16499999999999926\n"
     ]
    },
    {
     "name": "stderr",
     "output_type": "stream",
     "text": [
      " 84%|████████████████████████████████████████████████████████████████████████▋              | 836/1000 [03:47<00:37,  4.36it/s]"
     ]
    },
    {
     "name": "stdout",
     "output_type": "stream",
     "text": [
      "0.011778424\n",
      "0.9877579499761383\n",
      "0.16399999999999926\n"
     ]
    },
    {
     "name": "stderr",
     "output_type": "stream",
     "text": [
      " 84%|████████████████████████████████████████████████████████████████████████▊              | 837/1000 [03:47<00:37,  4.35it/s]"
     ]
    },
    {
     "name": "stdout",
     "output_type": "stream",
     "text": [
      "0.011230141\n",
      "0.9883700524773313\n",
      "0.16299999999999926\n"
     ]
    },
    {
     "name": "stderr",
     "output_type": "stream",
     "text": [
      " 84%|████████████████████████████████████████████████████████████████████████▉              | 838/1000 [03:48<00:36,  4.38it/s]"
     ]
    },
    {
     "name": "stdout",
     "output_type": "stream",
     "text": [
      "0.010701089\n",
      "0.9889515498534648\n",
      "0.16199999999999926\n"
     ]
    },
    {
     "name": "stderr",
     "output_type": "stream",
     "text": [
      " 84%|████████████████████████████████████████████████████████████████████████▉              | 839/1000 [03:48<00:41,  3.83it/s]"
     ]
    },
    {
     "name": "stdout",
     "output_type": "stream",
     "text": [
      "0.011500717\n",
      "0.9895039723607916\n",
      "0.16099999999999925\n"
     ]
    },
    {
     "name": "stderr",
     "output_type": "stream",
     "text": [
      " 84%|█████████████████████████████████████████████████████████████████████████              | 840/1000 [03:48<00:40,  3.91it/s]"
     ]
    },
    {
     "name": "stdout",
     "output_type": "stream",
     "text": [
      "0.010959858\n",
      "0.990028773742752\n",
      "0.15999999999999925\n"
     ]
    },
    {
     "name": "stderr",
     "output_type": "stream",
     "text": [
      " 84%|█████████████████████████████████████████████████████████████████████████▏             | 841/1000 [03:48<00:38,  4.11it/s]"
     ]
    },
    {
     "name": "stdout",
     "output_type": "stream",
     "text": [
      "0.010442964\n",
      "0.9905273350556144\n",
      "0.15899999999999925\n"
     ]
    },
    {
     "name": "stderr",
     "output_type": "stream",
     "text": [
      " 84%|█████████████████████████████████████████████████████████████████████████▎             | 842/1000 [03:49<00:45,  3.46it/s]"
     ]
    },
    {
     "name": "stdout",
     "output_type": "stream",
     "text": [
      "0.011406837\n",
      "0.9910009683028337\n",
      "0.15799999999999925\n"
     ]
    },
    {
     "name": "stderr",
     "output_type": "stream",
     "text": [
      " 84%|█████████████████████████████████████████████████████████████████████████▎             | 843/1000 [03:49<00:41,  3.77it/s]"
     ]
    },
    {
     "name": "stdout",
     "output_type": "stream",
     "text": [
      "0.010922697\n",
      "0.991450919887692\n",
      "0.15699999999999925\n"
     ]
    },
    {
     "name": "stderr",
     "output_type": "stream",
     "text": [
      " 84%|█████████████████████████████████████████████████████████████████████████▌             | 845/1000 [03:49<00:36,  4.28it/s]"
     ]
    },
    {
     "name": "stdout",
     "output_type": "stream",
     "text": [
      "0.010442149\n",
      "0.9918783738933074\n",
      "0.15599999999999925\n",
      "0.009969721\n",
      "0.992284455198642\n",
      "0.15499999999999925\n"
     ]
    },
    {
     "name": "stderr",
     "output_type": "stream",
     "text": [
      " 85%|█████████████████████████████████████████████████████████████████████████▌             | 846/1000 [03:50<00:40,  3.76it/s]"
     ]
    },
    {
     "name": "stdout",
     "output_type": "stream",
     "text": [
      "0.010725248\n",
      "0.9926702324387099\n",
      "0.15399999999999925\n"
     ]
    },
    {
     "name": "stderr",
     "output_type": "stream",
     "text": [
      " 85%|█████████████████████████████████████████████████████████████████████████▋             | 847/1000 [03:50<00:38,  3.95it/s]"
     ]
    },
    {
     "name": "stdout",
     "output_type": "stream",
     "text": [
      "0.010225533\n",
      "0.9930367208167744\n",
      "0.15299999999999925\n"
     ]
    },
    {
     "name": "stderr",
     "output_type": "stream",
     "text": [
      " 85%|█████████████████████████████████████████████████████████████████████████▊             | 848/1000 [03:50<00:37,  4.03it/s]"
     ]
    },
    {
     "name": "stdout",
     "output_type": "stream",
     "text": [
      "0.0097455\n",
      "0.9933848847759357\n",
      "0.15199999999999925\n"
     ]
    },
    {
     "name": "stderr",
     "output_type": "stream",
     "text": [
      " 85%|█████████████████████████████████████████████████████████████████████████▊             | 849/1000 [03:51<00:44,  3.42it/s]"
     ]
    },
    {
     "name": "stdout",
     "output_type": "stream",
     "text": [
      "0.010620453\n",
      "0.9937156405371389\n",
      "0.15099999999999925\n"
     ]
    },
    {
     "name": "stderr",
     "output_type": "stream",
     "text": [
      " 85%|█████████████████████████████████████████████████████████████████████████▉             | 850/1000 [03:51<00:40,  3.67it/s]"
     ]
    },
    {
     "name": "stdout",
     "output_type": "stream",
     "text": [
      "0.010175187\n",
      "0.9940298585102819\n",
      "0.14999999999999925\n"
     ]
    },
    {
     "name": "stderr",
     "output_type": "stream",
     "text": [
      " 85%|██████████████████████████████████████████████████████████████████████████             | 851/1000 [03:51<00:38,  3.91it/s]"
     ]
    },
    {
     "name": "stdout",
     "output_type": "stream",
     "text": [
      "0.009730075\n",
      "0.9943283655847678\n",
      "0.14899999999999924\n"
     ]
    },
    {
     "name": "stderr",
     "output_type": "stream",
     "text": [
      " 85%|██████████████████████████████████████████████████████████████████████████             | 852/1000 [03:51<00:37,  3.98it/s]"
     ]
    },
    {
     "name": "stdout",
     "output_type": "stream",
     "text": [
      "0.009290516\n",
      "0.9946119473055294\n",
      "0.14799999999999924\n"
     ]
    },
    {
     "name": "stderr",
     "output_type": "stream",
     "text": [
      " 85%|██████████████████████████████████████████████████████████████████████████▎            | 854/1000 [03:52<00:32,  4.53it/s]"
     ]
    },
    {
     "name": "stdout",
     "output_type": "stream",
     "text": [
      "0.008860393\n",
      "0.9948813499402529\n",
      "0.14699999999999924\n",
      "0.008442413\n",
      "0.9951372824432403\n",
      "0.14599999999999924\n"
     ]
    },
    {
     "name": "stderr",
     "output_type": "stream",
     "text": [
      " 86%|██████████████████████████████████████████████████████████████████████████▍            | 855/1000 [03:52<00:31,  4.62it/s]"
     ]
    },
    {
     "name": "stdout",
     "output_type": "stream",
     "text": [
      "0.008038385\n",
      "0.9953804183210783\n",
      "0.14499999999999924\n"
     ]
    },
    {
     "name": "stderr",
     "output_type": "stream",
     "text": [
      " 86%|██████████████████████████████████████████████████████████████████████████▍            | 856/1000 [03:52<00:31,  4.53it/s]"
     ]
    },
    {
     "name": "stdout",
     "output_type": "stream",
     "text": [
      "0.0076494426\n",
      "0.9956113974050244\n",
      "0.14399999999999924\n"
     ]
    },
    {
     "name": "stderr",
     "output_type": "stream",
     "text": [
      " 86%|██████████████████████████████████████████████████████████████████████████▌            | 857/1000 [03:52<00:33,  4.25it/s]"
     ]
    },
    {
     "name": "stdout",
     "output_type": "stream",
     "text": [
      "0.007276211\n",
      "0.9958308275347731\n",
      "0.14299999999999924\n"
     ]
    },
    {
     "name": "stderr",
     "output_type": "stream",
     "text": [
      " 86%|██████████████████████████████████████████████████████████████████████████▋            | 858/1000 [03:53<00:32,  4.39it/s]"
     ]
    },
    {
     "name": "stdout",
     "output_type": "stream",
     "text": [
      "0.0069189356\n",
      "0.9960392861580345\n",
      "0.14199999999999924\n"
     ]
    },
    {
     "name": "stderr",
     "output_type": "stream",
     "text": [
      " 86%|██████████████████████████████████████████████████████████████████████████▋            | 859/1000 [03:53<00:32,  4.32it/s]"
     ]
    },
    {
     "name": "stdout",
     "output_type": "stream",
     "text": [
      "0.0065775854\n",
      "0.9962373218501328\n",
      "0.14099999999999924\n"
     ]
    },
    {
     "name": "stderr",
     "output_type": "stream",
     "text": [
      " 86%|██████████████████████████████████████████████████████████████████████████▊            | 860/1000 [03:53<00:32,  4.26it/s]"
     ]
    },
    {
     "name": "stdout",
     "output_type": "stream",
     "text": [
      "0.006251929\n",
      "0.9964254557576262\n",
      "0.13999999999999924\n"
     ]
    },
    {
     "name": "stderr",
     "output_type": "stream",
     "text": [
      " 86%|██████████████████████████████████████████████████████████████████████████▉            | 861/1000 [03:53<00:32,  4.34it/s]"
     ]
    },
    {
     "name": "stdout",
     "output_type": "stream",
     "text": [
      "0.005941595\n",
      "0.9966041829697448\n",
      "0.13899999999999924\n"
     ]
    },
    {
     "name": "stderr",
     "output_type": "stream",
     "text": [
      " 86%|██████████████████████████████████████████████████████████████████████████▉            | 862/1000 [03:54<00:31,  4.37it/s]"
     ]
    },
    {
     "name": "stdout",
     "output_type": "stream",
     "text": [
      "0.005646116\n",
      "0.9967739738212577\n",
      "0.13799999999999923\n"
     ]
    },
    {
     "name": "stderr",
     "output_type": "stream",
     "text": [
      " 86%|███████████████████████████████████████████████████████████████████████████            | 863/1000 [03:54<00:31,  4.39it/s]"
     ]
    },
    {
     "name": "stdout",
     "output_type": "stream",
     "text": [
      "0.005364963\n",
      "0.9969352751301948\n",
      "0.13699999999999923\n"
     ]
    },
    {
     "name": "stderr",
     "output_type": "stream",
     "text": [
      " 86%|███████████████████████████████████████████████████████████████████████████▏           | 864/1000 [03:54<00:31,  4.38it/s]"
     ]
    },
    {
     "name": "stdout",
     "output_type": "stream",
     "text": [
      "0.0050975694\n",
      "0.997088511373685\n",
      "0.13599999999999923\n"
     ]
    },
    {
     "name": "stderr",
     "output_type": "stream",
     "text": [
      " 86%|███████████████████████████████████████████████████████████████████████████▎           | 865/1000 [03:54<00:31,  4.31it/s]"
     ]
    },
    {
     "name": "stdout",
     "output_type": "stream",
     "text": [
      "0.004843353\n",
      "0.9972340858050008\n",
      "0.13499999999999923\n"
     ]
    },
    {
     "name": "stderr",
     "output_type": "stream",
     "text": [
      " 87%|███████████████████████████████████████████████████████████████████████████▎           | 866/1000 [03:54<00:30,  4.34it/s]"
     ]
    },
    {
     "name": "stdout",
     "output_type": "stream",
     "text": [
      "0.0046017244\n",
      "0.9973723815147508\n",
      "0.13399999999999923\n"
     ]
    },
    {
     "name": "stderr",
     "output_type": "stream",
     "text": [
      " 87%|███████████████████████████████████████████████████████████████████████████▌           | 868/1000 [03:55<00:27,  4.76it/s]"
     ]
    },
    {
     "name": "stdout",
     "output_type": "stream",
     "text": [
      "0.0043721017\n",
      "0.9975037624390133\n",
      "0.13299999999999923\n",
      "0.004153915\n",
      "0.9976285743170626\n",
      "0.13199999999999923\n"
     ]
    },
    {
     "name": "stderr",
     "output_type": "stream",
     "text": [
      " 87%|███████████████████████████████████████████████████████████████████████████▌           | 869/1000 [03:55<00:28,  4.65it/s]"
     ]
    },
    {
     "name": "stdout",
     "output_type": "stream",
     "text": [
      "0.0039466107\n",
      "0.9977471456012095\n",
      "0.13099999999999923\n"
     ]
    },
    {
     "name": "stderr",
     "output_type": "stream",
     "text": [
      " 87%|███████████████████████████████████████████████████████████████████████████▋           | 870/1000 [03:55<00:28,  4.61it/s]"
     ]
    },
    {
     "name": "stdout",
     "output_type": "stream",
     "text": [
      "0.0037496544\n",
      "0.997859788321149\n",
      "0.12999999999999923\n"
     ]
    },
    {
     "name": "stderr",
     "output_type": "stream",
     "text": [
      " 87%|███████████████████████████████████████████████████████████████████████████▊           | 871/1000 [03:55<00:28,  4.57it/s]"
     ]
    },
    {
     "name": "stdout",
     "output_type": "stream",
     "text": [
      "0.0035625338\n",
      "0.9979667989050915\n",
      "0.12899999999999923\n"
     ]
    },
    {
     "name": "stderr",
     "output_type": "stream",
     "text": [
      " 87%|███████████████████████████████████████████████████████████████████████████▊           | 872/1000 [03:56<00:28,  4.54it/s]"
     ]
    },
    {
     "name": "stdout",
     "output_type": "stream",
     "text": [
      "0.003384759\n",
      "0.998068458959837\n",
      "0.12799999999999923\n"
     ]
    },
    {
     "name": "stderr",
     "output_type": "stream",
     "text": [
      " 87%|███████████████████████████████████████████████████████████████████████████▉           | 873/1000 [03:56<00:27,  4.54it/s]"
     ]
    },
    {
     "name": "stdout",
     "output_type": "stream",
     "text": [
      "0.0032158622\n",
      "0.9981650360118451\n",
      "0.12699999999999922\n"
     ]
    },
    {
     "name": "stderr",
     "output_type": "stream",
     "text": [
      " 87%|████████████████████████████████████████████████████████████████████████████           | 874/1000 [03:56<00:29,  4.33it/s]"
     ]
    },
    {
     "name": "stdout",
     "output_type": "stream",
     "text": [
      "0.0030553986\n",
      "0.9982567842112529\n",
      "0.12599999999999922\n"
     ]
    },
    {
     "name": "stderr",
     "output_type": "stream",
     "text": [
      " 88%|████████████████████████████████████████████████████████████████████████████▏          | 876/1000 [03:57<00:26,  4.65it/s]"
     ]
    },
    {
     "name": "stdout",
     "output_type": "stream",
     "text": [
      "0.0029029446\n",
      "0.9983439450006902\n",
      "0.12499999999999922\n",
      "0.0027580983\n",
      "0.9984267477506558\n",
      "0.12399999999999922\n"
     ]
    },
    {
     "name": "stderr",
     "output_type": "stream",
     "text": [
      " 88%|████████████████████████████████████████████████████████████████████████████▎          | 877/1000 [03:57<00:27,  4.43it/s]"
     ]
    },
    {
     "name": "stdout",
     "output_type": "stream",
     "text": [
      "0.0026204782\n",
      "0.998505410363123\n",
      "0.12299999999999922\n"
     ]
    },
    {
     "name": "stderr",
     "output_type": "stream",
     "text": [
      " 88%|████████████████████████████████████████████████████████████████████████████▍          | 878/1000 [03:57<00:27,  4.36it/s]"
     ]
    },
    {
     "name": "stdout",
     "output_type": "stream",
     "text": [
      "0.0024897214\n",
      "0.9985801398449669\n",
      "0.12199999999999922\n"
     ]
    },
    {
     "name": "stderr",
     "output_type": "stream",
     "text": [
      " 88%|████████████████████████████████████████████████████████████████████████████▍          | 879/1000 [03:57<00:28,  4.32it/s]"
     ]
    },
    {
     "name": "stdout",
     "output_type": "stream",
     "text": [
      "0.0023654844\n",
      "0.9986511328527186\n",
      "0.12099999999999922\n"
     ]
    },
    {
     "name": "stderr",
     "output_type": "stream",
     "text": [
      " 88%|████████████████████████████████████████████████████████████████████████████▌          | 880/1000 [03:58<00:33,  3.53it/s]"
     ]
    },
    {
     "name": "stdout",
     "output_type": "stream",
     "text": [
      "0.0032856981\n",
      "0.9987185762100826\n",
      "0.11999999999999922\n"
     ]
    },
    {
     "name": "stderr",
     "output_type": "stream",
     "text": [
      " 88%|████████████████████████████████████████████████████████████████████████████▋          | 881/1000 [03:58<00:31,  3.80it/s]"
     ]
    },
    {
     "name": "stdout",
     "output_type": "stream",
     "text": [
      "0.0031256238\n",
      "0.9987826473995786\n",
      "0.11899999999999922\n"
     ]
    },
    {
     "name": "stderr",
     "output_type": "stream",
     "text": [
      " 88%|████████████████████████████████████████████████████████████████████████████▋          | 882/1000 [03:58<00:35,  3.32it/s]"
     ]
    },
    {
     "name": "stdout",
     "output_type": "stream",
     "text": [
      "0.0036861114\n",
      "0.9988435150295997\n",
      "0.11799999999999922\n"
     ]
    },
    {
     "name": "stderr",
     "output_type": "stream",
     "text": [
      " 88%|████████████████████████████████████████████████████████████████████████████▊          | 883/1000 [03:59<00:32,  3.62it/s]"
     ]
    },
    {
     "name": "stdout",
     "output_type": "stream",
     "text": [
      "0.0035163413\n",
      "0.9989013392781196\n",
      "0.11699999999999922\n"
     ]
    },
    {
     "name": "stderr",
     "output_type": "stream",
     "text": [
      " 88%|████████████████████████████████████████████████████████████████████████████▉          | 884/1000 [03:59<00:31,  3.74it/s]"
     ]
    },
    {
     "name": "stdout",
     "output_type": "stream",
     "text": [
      "0.0033543243\n",
      "0.9989562723142137\n",
      "0.11599999999999921\n"
     ]
    },
    {
     "name": "stderr",
     "output_type": "stream",
     "text": [
      " 88%|████████████████████████████████████████████████████████████████████████████▉          | 885/1000 [03:59<00:29,  3.88it/s]"
     ]
    },
    {
     "name": "stdout",
     "output_type": "stream",
     "text": [
      "0.0031999156\n",
      "0.999008458698503\n",
      "0.11499999999999921\n"
     ]
    },
    {
     "name": "stderr",
     "output_type": "stream",
     "text": [
      " 89%|█████████████████████████████████████████████████████████████████████████████          | 886/1000 [03:59<00:28,  4.02it/s]"
     ]
    },
    {
     "name": "stdout",
     "output_type": "stream",
     "text": [
      "0.0030528358\n",
      "0.9990580357635778\n",
      "0.11399999999999921\n"
     ]
    },
    {
     "name": "stderr",
     "output_type": "stream",
     "text": [
      " 89%|█████████████████████████████████████████████████████████████████████████████▏         | 887/1000 [03:59<00:27,  4.15it/s]"
     ]
    },
    {
     "name": "stdout",
     "output_type": "stream",
     "text": [
      "0.0029127323\n",
      "0.9991051339753989\n",
      "0.11299999999999921\n"
     ]
    },
    {
     "name": "stderr",
     "output_type": "stream",
     "text": [
      " 89%|█████████████████████████████████████████████████████████████████████████████▎         | 889/1000 [04:00<00:23,  4.66it/s]"
     ]
    },
    {
     "name": "stdout",
     "output_type": "stream",
     "text": [
      "0.0027792237\n",
      "0.999149877276629\n",
      "0.11199999999999921\n",
      "0.002651926\n",
      "0.9991923834127975\n",
      "0.11099999999999921\n"
     ]
    },
    {
     "name": "stderr",
     "output_type": "stream",
     "text": [
      " 89%|█████████████████████████████████████████████████████████████████████████████▌         | 891/1000 [04:00<00:22,  4.94it/s]"
     ]
    },
    {
     "name": "stdout",
     "output_type": "stream",
     "text": [
      "0.0025304686\n",
      "0.9992327642421576\n",
      "0.10999999999999921\n",
      "0.0024145048\n",
      "0.9992711260300496\n",
      "0.10899999999999921\n"
     ]
    },
    {
     "name": "stderr",
     "output_type": "stream",
     "text": [
      " 89%|█████████████████████████████████████████████████████████████████████████████▌         | 892/1000 [04:00<00:22,  4.78it/s]"
     ]
    },
    {
     "name": "stdout",
     "output_type": "stream",
     "text": [
      "0.0023037174\n",
      "0.9993075697285472\n",
      "0.10799999999999921\n"
     ]
    },
    {
     "name": "stderr",
     "output_type": "stream",
     "text": [
      " 89%|█████████████████████████████████████████████████████████████████████████████▋         | 893/1000 [04:01<00:22,  4.70it/s]"
     ]
    },
    {
     "name": "stdout",
     "output_type": "stream",
     "text": [
      "0.0021978172\n",
      "0.9993421912421199\n",
      "0.1069999999999992\n"
     ]
    },
    {
     "name": "stderr",
     "output_type": "stream",
     "text": [
      " 89%|█████████████████████████████████████████████████████████████████████████████▊         | 894/1000 [04:01<00:23,  4.53it/s]"
     ]
    },
    {
     "name": "stdout",
     "output_type": "stream",
     "text": [
      "0.0020965429\n",
      "0.9993750816800139\n",
      "0.1059999999999992\n"
     ]
    },
    {
     "name": "stderr",
     "output_type": "stream",
     "text": [
      " 90%|█████████████████████████████████████████████████████████████████████████████▊         | 895/1000 [04:01<00:25,  4.18it/s]"
     ]
    },
    {
     "name": "stdout",
     "output_type": "stream",
     "text": [
      "0.00199966\n",
      "0.9994063275960132\n",
      "0.1049999999999992\n"
     ]
    },
    {
     "name": "stderr",
     "output_type": "stream",
     "text": [
      " 90%|██████████████████████████████████████████████████████████████████████████████         | 897/1000 [04:02<00:21,  4.74it/s]"
     ]
    },
    {
     "name": "stdout",
     "output_type": "stream",
     "text": [
      "0.0019069567\n",
      "0.9994360112162126\n",
      "0.1039999999999992\n",
      "0.0018182419\n",
      "0.999464210655402\n",
      "0.1029999999999992\n"
     ]
    },
    {
     "name": "stderr",
     "output_type": "stream",
     "text": [
      " 90%|██████████████████████████████████████████████████████████████████████████████▏        | 898/1000 [04:02<00:22,  4.48it/s]"
     ]
    },
    {
     "name": "stdout",
     "output_type": "stream",
     "text": [
      "0.0017333404\n",
      "0.9994910001226319\n",
      "0.1019999999999992\n"
     ]
    },
    {
     "name": "stderr",
     "output_type": "stream",
     "text": [
      " 90%|██████████████████████████████████████████████████████████████████████████████▏        | 899/1000 [04:02<00:22,  4.52it/s]"
     ]
    },
    {
     "name": "stdout",
     "output_type": "stream",
     "text": [
      "0.0016520941\n",
      "0.9995164501165004\n",
      "0.1009999999999992\n"
     ]
    },
    {
     "name": "stderr",
     "output_type": "stream",
     "text": [
      " 90%|██████████████████████████████████████████████████████████████████████████████▎        | 900/1000 [04:02<00:22,  4.41it/s]"
     ]
    },
    {
     "name": "stdout",
     "output_type": "stream",
     "text": [
      "0.0015743541\n",
      "0.9995406276106753\n",
      "0.0999999999999992\n"
     ]
    },
    {
     "name": "stderr",
     "output_type": "stream",
     "text": [
      " 90%|██████████████████████████████████████████████████████████████████████████████▍        | 901/1000 [04:03<00:22,  4.42it/s]"
     ]
    },
    {
     "name": "stdout",
     "output_type": "stream",
     "text": [
      "0.0014999836\n",
      "0.9995635962301416\n",
      "0.0989999999999992\n"
     ]
    },
    {
     "name": "stderr",
     "output_type": "stream",
     "text": [
      " 90%|██████████████████████████████████████████████████████████████████████████████▍        | 902/1000 [04:03<00:22,  4.43it/s]"
     ]
    },
    {
     "name": "stdout",
     "output_type": "stream",
     "text": [
      "0.001428853\n",
      "0.9995854164186345\n",
      "0.0979999999999992\n"
     ]
    },
    {
     "name": "stderr",
     "output_type": "stream",
     "text": [
      " 90%|██████████████████████████████████████████████████████████████████████████████▌        | 903/1000 [04:03<00:27,  3.58it/s]"
     ]
    },
    {
     "name": "stdout",
     "output_type": "stream",
     "text": [
      "0.0020353552\n",
      "0.9996061455977028\n",
      "0.0969999999999992\n"
     ]
    },
    {
     "name": "stderr",
     "output_type": "stream",
     "text": [
      " 90%|██████████████████████████████████████████████████████████████████████████████▋        | 904/1000 [04:03<00:25,  3.80it/s]"
     ]
    },
    {
     "name": "stdout",
     "output_type": "stream",
     "text": [
      "0.0019438614\n",
      "0.9996258383178176\n",
      "0.0959999999999992\n"
     ]
    },
    {
     "name": "stderr",
     "output_type": "stream",
     "text": [
      " 90%|██████████████████████████████████████████████████████████████████████████████▋        | 905/1000 [04:04<00:23,  4.04it/s]"
     ]
    },
    {
     "name": "stdout",
     "output_type": "stream",
     "text": [
      "0.0018566109\n",
      "0.9996445464019267\n",
      "0.0949999999999992\n"
     ]
    },
    {
     "name": "stderr",
     "output_type": "stream",
     "text": [
      " 91%|██████████████████████████████████████████████████████████████████████████████▊        | 906/1000 [04:04<00:22,  4.15it/s]"
     ]
    },
    {
     "name": "stdout",
     "output_type": "stream",
     "text": [
      "0.0017733483\n",
      "0.9996623190818303\n",
      "0.0939999999999992\n"
     ]
    },
    {
     "name": "stderr",
     "output_type": "stream",
     "text": [
      " 91%|██████████████████████████████████████████████████████████████████████████████▉        | 907/1000 [04:04<00:21,  4.26it/s]"
     ]
    },
    {
     "name": "stdout",
     "output_type": "stream",
     "text": [
      "0.0016938254\n",
      "0.9996792031277388\n",
      "0.0929999999999992\n"
     ]
    },
    {
     "name": "stderr",
     "output_type": "stream",
     "text": [
      " 91%|██████████████████████████████████████████████████████████████████████████████▉        | 908/1000 [04:04<00:21,  4.33it/s]"
     ]
    },
    {
     "name": "stdout",
     "output_type": "stream",
     "text": [
      "0.0016178095\n",
      "0.9996952429713519\n",
      "0.0919999999999992\n"
     ]
    },
    {
     "name": "stderr",
     "output_type": "stream",
     "text": [
      " 91%|███████████████████████████████████████████████████████████████████████████████        | 909/1000 [04:05<00:21,  4.30it/s]"
     ]
    },
    {
     "name": "stdout",
     "output_type": "stream",
     "text": [
      "0.001545089\n",
      "0.9997104808227844\n",
      "0.09099999999999919\n"
     ]
    },
    {
     "name": "stderr",
     "output_type": "stream",
     "text": [
      " 91%|███████████████████████████████████████████████████████████████████████████████▎       | 911/1000 [04:05<00:19,  4.61it/s]"
     ]
    },
    {
     "name": "stdout",
     "output_type": "stream",
     "text": [
      "0.0014754732\n",
      "0.9997249567816452\n",
      "0.08999999999999919\n",
      "0.0014087925\n",
      "0.9997387089425629\n",
      "0.08899999999999919\n"
     ]
    },
    {
     "name": "stderr",
     "output_type": "stream",
     "text": [
      " 91%|███████████████████████████████████████████████████████████████████████████████▎       | 912/1000 [04:05<00:19,  4.48it/s]"
     ]
    },
    {
     "name": "stdout",
     "output_type": "stream",
     "text": [
      "0.0013448962\n",
      "0.9997517734954348\n",
      "0.08799999999999919\n"
     ]
    },
    {
     "name": "stderr",
     "output_type": "stream",
     "text": [
      " 91%|███████████████████████████████████████████████████████████████████████████████▍       | 913/1000 [04:06<00:23,  3.68it/s]"
     ]
    },
    {
     "name": "stdout",
     "output_type": "stream",
     "text": [
      "0.002458578\n",
      "0.999764184820663\n",
      "0.08699999999999919\n"
     ]
    },
    {
     "name": "stderr",
     "output_type": "stream",
     "text": [
      " 91%|███████████████████████████████████████████████████████████████████████████████▌       | 914/1000 [04:06<00:21,  3.93it/s]"
     ]
    },
    {
     "name": "stdout",
     "output_type": "stream",
     "text": [
      "0.0023764286\n",
      "0.9997759755796298\n",
      "0.08599999999999919\n"
     ]
    },
    {
     "name": "stderr",
     "output_type": "stream",
     "text": [
      " 92%|███████████████████████████████████████████████████████████████████████████████▌       | 915/1000 [04:06<00:21,  3.93it/s]"
     ]
    },
    {
     "name": "stdout",
     "output_type": "stream",
     "text": [
      "0.0022875136\n",
      "0.9997871768006483\n",
      "0.08499999999999919\n"
     ]
    },
    {
     "name": "stderr",
     "output_type": "stream",
     "text": [
      " 92%|███████████████████████████████████████████████████████████████████████████████▊       | 917/1000 [04:06<00:18,  4.42it/s]"
     ]
    },
    {
     "name": "stdout",
     "output_type": "stream",
     "text": [
      "0.00219492\n",
      "0.999797817960616\n",
      "0.08399999999999919\n",
      "0.0021009257\n",
      "0.9998079270625851\n",
      "0.08299999999999919\n"
     ]
    },
    {
     "name": "stderr",
     "output_type": "stream",
     "text": [
      " 92%|███████████████████████████████████████████████████████████████████████████████▊       | 918/1000 [04:07<00:17,  4.70it/s]"
     ]
    },
    {
     "name": "stdout",
     "output_type": "stream",
     "text": [
      "0.0020071869\n",
      "0.9998175307094559\n",
      "0.08199999999999918\n"
     ]
    },
    {
     "name": "stderr",
     "output_type": "stream",
     "text": [
      " 92%|███████████████████████████████████████████████████████████████████████████████▉       | 919/1000 [04:07<00:17,  4.62it/s]"
     ]
    },
    {
     "name": "stdout",
     "output_type": "stream",
     "text": [
      "0.0019148848\n",
      "0.9998266541739831\n",
      "0.08099999999999918\n"
     ]
    },
    {
     "name": "stderr",
     "output_type": "stream",
     "text": [
      " 92%|████████████████████████████████████████████████████████████████████████████████       | 920/1000 [04:07<00:17,  4.62it/s]"
     ]
    },
    {
     "name": "stdout",
     "output_type": "stream",
     "text": [
      "0.0018248425\n",
      "0.999835321465284\n",
      "0.07999999999999918\n"
     ]
    },
    {
     "name": "stderr",
     "output_type": "stream",
     "text": [
      " 92%|████████████████████████████████████████████████████████████████████████████████▏      | 921/1000 [04:07<00:17,  4.52it/s]"
     ]
    },
    {
     "name": "stdout",
     "output_type": "stream",
     "text": [
      "0.0017376123\n",
      "0.9998435553920197\n",
      "0.07899999999999918\n"
     ]
    },
    {
     "name": "stderr",
     "output_type": "stream",
     "text": [
      " 92%|████████████████████████████████████████████████████████████████████████████████▏      | 922/1000 [04:08<00:17,  4.39it/s]"
     ]
    },
    {
     "name": "stdout",
     "output_type": "stream",
     "text": [
      "0.0016535446\n",
      "0.9998513776224187\n",
      "0.07799999999999918\n"
     ]
    },
    {
     "name": "stderr",
     "output_type": "stream",
     "text": [
      " 92%|████████████████████████████████████████████████████████████████████████████████▎      | 923/1000 [04:08<00:17,  4.43it/s]"
     ]
    },
    {
     "name": "stdout",
     "output_type": "stream",
     "text": [
      "0.0015728404\n",
      "0.9998588087412977\n",
      "0.07699999999999918\n"
     ]
    },
    {
     "name": "stderr",
     "output_type": "stream",
     "text": [
      " 92%|████████████████████████████████████████████████████████████████████████████████▍      | 924/1000 [04:08<00:17,  4.37it/s]"
     ]
    },
    {
     "name": "stdout",
     "output_type": "stream",
     "text": [
      "0.0014955916\n",
      "0.9998658683042329\n",
      "0.07599999999999918\n"
     ]
    },
    {
     "name": "stderr",
     "output_type": "stream",
     "text": [
      " 92%|████████████████████████████████████████████████████████████████████████████████▍      | 925/1000 [04:08<00:17,  4.39it/s]"
     ]
    },
    {
     "name": "stdout",
     "output_type": "stream",
     "text": [
      "0.0014218118\n",
      "0.9998725748890213\n",
      "0.07499999999999918\n"
     ]
    },
    {
     "name": "stderr",
     "output_type": "stream",
     "text": [
      " 93%|████████████████████████████████████████████████████████████████████████████████▌      | 926/1000 [04:08<00:16,  4.49it/s]"
     ]
    },
    {
     "name": "stdout",
     "output_type": "stream",
     "text": [
      "0.001351459\n",
      "0.9998789461445702\n",
      "0.07399999999999918\n"
     ]
    },
    {
     "name": "stderr",
     "output_type": "stream",
     "text": [
      " 93%|████████████████████████████████████████████████████████████████████████████████▋      | 927/1000 [04:09<00:16,  4.44it/s]"
     ]
    },
    {
     "name": "stdout",
     "output_type": "stream",
     "text": [
      "0.0012844534\n",
      "0.9998849988373417\n",
      "0.07299999999999918\n"
     ]
    },
    {
     "name": "stderr",
     "output_type": "stream",
     "text": [
      " 93%|████████████████████████████████████████████████████████████████████████████████▋      | 928/1000 [04:09<00:16,  4.40it/s]"
     ]
    },
    {
     "name": "stdout",
     "output_type": "stream",
     "text": [
      "0.00122069\n",
      "0.9998907488954747\n",
      "0.07199999999999918\n"
     ]
    },
    {
     "name": "stderr",
     "output_type": "stream",
     "text": [
      " 93%|████████████████████████████████████████████████████████████████████████████████▊      | 929/1000 [04:09<00:16,  4.38it/s]"
     ]
    },
    {
     "name": "stdout",
     "output_type": "stream",
     "text": [
      "0.0011600478\n",
      "0.999896211450701\n",
      "0.07099999999999917\n"
     ]
    },
    {
     "name": "stderr",
     "output_type": "stream",
     "text": [
      " 93%|████████████████████████████████████████████████████████████████████████████████▉      | 930/1000 [04:09<00:16,  4.35it/s]"
     ]
    },
    {
     "name": "stdout",
     "output_type": "stream",
     "text": [
      "0.0011023973\n",
      "0.9999014008781659\n",
      "0.06999999999999917\n"
     ]
    },
    {
     "name": "stderr",
     "output_type": "stream",
     "text": [
      " 93%|████████████████████████████████████████████████████████████████████████████████▉      | 931/1000 [04:10<00:16,  4.23it/s]"
     ]
    },
    {
     "name": "stdout",
     "output_type": "stream",
     "text": [
      "0.0010476052\n",
      "0.9999063308342576\n",
      "0.06899999999999917\n"
     ]
    },
    {
     "name": "stderr",
     "output_type": "stream",
     "text": [
      " 93%|█████████████████████████████████████████████████████████████████████████████████      | 932/1000 [04:10<00:16,  4.21it/s]"
     ]
    },
    {
     "name": "stdout",
     "output_type": "stream",
     "text": [
      "0.0009955377\n",
      "0.9999110142925447\n",
      "0.06799999999999917\n"
     ]
    },
    {
     "name": "stderr",
     "output_type": "stream",
     "text": [
      " 93%|█████████████████████████████████████████████████████████████████████████████████▏     | 933/1000 [04:10<00:19,  3.49it/s]"
     ]
    },
    {
     "name": "stdout",
     "output_type": "stream",
     "text": [
      "0.0016445518\n",
      "0.9999154635779175\n",
      "0.06699999999999917\n"
     ]
    },
    {
     "name": "stderr",
     "output_type": "stream",
     "text": [
      " 93%|█████████████████████████████████████████████████████████████████████████████████▎     | 934/1000 [04:10<00:17,  3.80it/s]"
     ]
    },
    {
     "name": "stdout",
     "output_type": "stream",
     "text": [
      "0.0015643727\n",
      "0.9999196903990216\n",
      "0.06599999999999917\n"
     ]
    },
    {
     "name": "stderr",
     "output_type": "stream",
     "text": [
      " 94%|█████████████████████████████████████████████████████████████████████████████████▎     | 935/1000 [04:11<00:16,  3.87it/s]"
     ]
    },
    {
     "name": "stdout",
     "output_type": "stream",
     "text": [
      "0.0014880162\n",
      "0.9999237058790705\n",
      "0.06499999999999917\n"
     ]
    },
    {
     "name": "stderr",
     "output_type": "stream",
     "text": [
      " 94%|█████████████████████████████████████████████████████████████████████████████████▌     | 937/1000 [04:11<00:14,  4.46it/s]"
     ]
    },
    {
     "name": "stdout",
     "output_type": "stream",
     "text": [
      "0.0014153656\n",
      "0.999927520585117\n",
      "0.06399999999999917\n",
      "0.0013462765\n",
      "0.9999311445558612\n",
      "0.06299999999999917\n"
     ]
    },
    {
     "name": "stderr",
     "output_type": "stream",
     "text": [
      " 94%|█████████████████████████████████████████████████████████████████████████████████▌     | 938/1000 [04:11<00:13,  4.44it/s]"
     ]
    },
    {
     "name": "stdout",
     "output_type": "stream",
     "text": [
      "0.0012805902\n",
      "0.9999345873280682\n",
      "0.06199999999999917\n"
     ]
    },
    {
     "name": "stderr",
     "output_type": "stream",
     "text": [
      " 94%|█████████████████████████████████████████████████████████████████████████████████▋     | 939/1000 [04:12<00:13,  4.38it/s]"
     ]
    },
    {
     "name": "stdout",
     "output_type": "stream",
     "text": [
      "0.0012181425\n",
      "0.9999378579616648\n",
      "0.060999999999999166\n"
     ]
    },
    {
     "name": "stderr",
     "output_type": "stream",
     "text": [
      " 94%|█████████████████████████████████████████████████████████████████████████████████▊     | 940/1000 [04:12<00:13,  4.40it/s]"
     ]
    },
    {
     "name": "stdout",
     "output_type": "stream",
     "text": [
      "0.001158769\n",
      "0.9999409650635815\n",
      "0.059999999999999165\n"
     ]
    },
    {
     "name": "stderr",
     "output_type": "stream",
     "text": [
      " 94%|█████████████████████████████████████████████████████████████████████████████████▊     | 941/1000 [04:12<00:13,  4.49it/s]"
     ]
    },
    {
     "name": "stdout",
     "output_type": "stream",
     "text": [
      "0.0011023104\n",
      "0.9999439168104025\n",
      "0.058999999999999164\n"
     ]
    },
    {
     "name": "stderr",
     "output_type": "stream",
     "text": [
      " 94%|█████████████████████████████████████████████████████████████████████████████████▉     | 942/1000 [04:12<00:12,  4.49it/s]"
     ]
    },
    {
     "name": "stdout",
     "output_type": "stream",
     "text": [
      "0.001048613\n",
      "0.9999467209698824\n",
      "0.05799999999999916\n"
     ]
    },
    {
     "name": "stderr",
     "output_type": "stream",
     "text": [
      " 94%|██████████████████████████████████████████████████████████████████████████████████     | 943/1000 [04:12<00:12,  4.49it/s]"
     ]
    },
    {
     "name": "stdout",
     "output_type": "stream",
     "text": [
      "0.0009975318\n",
      "0.9999493849213882\n",
      "0.05699999999999916\n"
     ]
    },
    {
     "name": "stderr",
     "output_type": "stream",
     "text": [
      " 94%|██████████████████████████████████████████████████████████████████████████████████▏    | 944/1000 [04:13<00:12,  4.52it/s]"
     ]
    },
    {
     "name": "stdout",
     "output_type": "stream",
     "text": [
      "0.00094893\n",
      "0.9999519156753188\n",
      "0.05599999999999916\n"
     ]
    },
    {
     "name": "stderr",
     "output_type": "stream",
     "text": [
      " 94%|██████████████████████████████████████████████████████████████████████████████████▏    | 945/1000 [04:13<00:12,  4.45it/s]"
     ]
    },
    {
     "name": "stdout",
     "output_type": "stream",
     "text": [
      "0.0009026785\n",
      "0.9999543198915529\n",
      "0.05499999999999916\n"
     ]
    },
    {
     "name": "stderr",
     "output_type": "stream",
     "text": [
      " 95%|██████████████████████████████████████████████████████████████████████████████████▎    | 946/1000 [04:13<00:12,  4.42it/s]"
     ]
    },
    {
     "name": "stdout",
     "output_type": "stream",
     "text": [
      "0.00085865747\n",
      "0.9999566038969753\n",
      "0.05399999999999916\n"
     ]
    },
    {
     "name": "stderr",
     "output_type": "stream",
     "text": [
      " 95%|██████████████████████████████████████████████████████████████████████████████████▍    | 947/1000 [04:13<00:11,  4.43it/s]"
     ]
    },
    {
     "name": "stdout",
     "output_type": "stream",
     "text": [
      "0.00081675383\n",
      "0.9999587737021265\n",
      "0.05299999999999916\n"
     ]
    },
    {
     "name": "stderr",
     "output_type": "stream",
     "text": [
      " 95%|██████████████████████████████████████████████████████████████████████████████████▍    | 948/1000 [04:14<00:14,  3.59it/s]"
     ]
    },
    {
     "name": "stdout",
     "output_type": "stream",
     "text": [
      "0.00077686226\n",
      "0.9999608350170202\n",
      "0.05199999999999916\n"
     ]
    },
    {
     "name": "stderr",
     "output_type": "stream",
     "text": [
      " 95%|██████████████████████████████████████████████████████████████████████████████████▌    | 949/1000 [04:14<00:15,  3.22it/s]"
     ]
    },
    {
     "name": "stdout",
     "output_type": "stream",
     "text": [
      "0.0012682296\n",
      "0.9999627932661691\n",
      "0.05099999999999916\n"
     ]
    },
    {
     "name": "stderr",
     "output_type": "stream",
     "text": [
      " 95%|██████████████████████████████████████████████████████████████████████████████████▋    | 950/1000 [04:14<00:14,  3.38it/s]"
     ]
    },
    {
     "name": "stdout",
     "output_type": "stream",
     "text": [
      "0.0012102536\n",
      "0.9999646536028607\n",
      "0.049999999999999156\n"
     ]
    },
    {
     "name": "stderr",
     "output_type": "stream",
     "text": [
      " 95%|██████████████████████████████████████████████████████████████████████████████████▋    | 951/1000 [04:15<00:13,  3.58it/s]"
     ]
    },
    {
     "name": "stdout",
     "output_type": "stream",
     "text": [
      "0.0011550186\n",
      "0.9999664209227177\n",
      "0.048999999999999155\n"
     ]
    },
    {
     "name": "stderr",
     "output_type": "stream",
     "text": [
      " 95%|██████████████████████████████████████████████████████████████████████████████████▉    | 953/1000 [04:15<00:11,  4.12it/s]"
     ]
    },
    {
     "name": "stdout",
     "output_type": "stream",
     "text": [
      "0.0011023938\n",
      "0.9999680998765819\n",
      "0.047999999999999154\n",
      "0.0010522355\n",
      "0.9999696948827528\n",
      "0.046999999999999154\n"
     ]
    },
    {
     "name": "stderr",
     "output_type": "stream",
     "text": [
      " 95%|██████████████████████████████████████████████████████████████████████████████████▉    | 954/1000 [04:15<00:11,  4.11it/s]"
     ]
    },
    {
     "name": "stdout",
     "output_type": "stream",
     "text": [
      "0.0010043978\n",
      "0.9999712101386151\n",
      "0.04599999999999915\n"
     ]
    },
    {
     "name": "stderr",
     "output_type": "stream",
     "text": [
      " 96%|███████████████████████████████████████████████████████████████████████████████████    | 955/1000 [04:16<00:10,  4.14it/s]"
     ]
    },
    {
     "name": "stdout",
     "output_type": "stream",
     "text": [
      "0.00095874013\n",
      "0.9999726496316844\n",
      "0.04499999999999915\n"
     ]
    },
    {
     "name": "stderr",
     "output_type": "stream",
     "text": [
      " 96%|███████████████████████████████████████████████████████████████████████████████████▏   | 956/1000 [04:16<00:10,  4.21it/s]"
     ]
    },
    {
     "name": "stdout",
     "output_type": "stream",
     "text": [
      "0.0009151307\n",
      "0.9999740171501001\n",
      "0.04399999999999915\n"
     ]
    },
    {
     "name": "stderr",
     "output_type": "stream",
     "text": [
      " 96%|███████████████████████████████████████████████████████████████████████████████████▎   | 957/1000 [04:16<00:10,  4.28it/s]"
     ]
    },
    {
     "name": "stdout",
     "output_type": "stream",
     "text": [
      "0.0008734488\n",
      "0.9999753162925952\n",
      "0.04299999999999915\n"
     ]
    },
    {
     "name": "stderr",
     "output_type": "stream",
     "text": [
      " 96%|███████████████████████████████████████████████████████████████████████████████████▎   | 958/1000 [04:16<00:09,  4.33it/s]"
     ]
    },
    {
     "name": "stdout",
     "output_type": "stream",
     "text": [
      "0.0008335856\n",
      "0.9999765504779654\n",
      "0.04199999999999915\n"
     ]
    },
    {
     "name": "stderr",
     "output_type": "stream",
     "text": [
      " 96%|███████████████████████████████████████████████████████████████████████████████████▍   | 959/1000 [04:16<00:09,  4.35it/s]"
     ]
    },
    {
     "name": "stdout",
     "output_type": "stream",
     "text": [
      "0.00079544296\n",
      "0.9999777229540672\n",
      "0.04099999999999915\n"
     ]
    },
    {
     "name": "stderr",
     "output_type": "stream",
     "text": [
      " 96%|███████████████████████████████████████████████████████████████████████████████████▌   | 960/1000 [04:17<00:09,  4.26it/s]"
     ]
    },
    {
     "name": "stdout",
     "output_type": "stream",
     "text": [
      "0.000758933\n",
      "0.9999788368063638\n",
      "0.03999999999999915\n"
     ]
    },
    {
     "name": "stderr",
     "output_type": "stream",
     "text": [
      " 96%|███████████████████████████████████████████████████████████████████████████████████▌   | 961/1000 [04:17<00:09,  4.30it/s]"
     ]
    },
    {
     "name": "stdout",
     "output_type": "stream",
     "text": [
      "0.00072397705\n",
      "0.9999798949660456\n",
      "0.038999999999999146\n"
     ]
    },
    {
     "name": "stderr",
     "output_type": "stream",
     "text": [
      " 96%|███████████████████████████████████████████████████████████████████████████████████▋   | 962/1000 [04:17<00:08,  4.27it/s]"
     ]
    },
    {
     "name": "stdout",
     "output_type": "stream",
     "text": [
      "0.00069050415\n",
      "0.9999809002177433\n",
      "0.037999999999999146\n"
     ]
    },
    {
     "name": "stderr",
     "output_type": "stream",
     "text": [
      " 96%|███████████████████████████████████████████████████████████████████████████████████▊   | 963/1000 [04:18<00:10,  3.47it/s]"
     ]
    },
    {
     "name": "stdout",
     "output_type": "stream",
     "text": [
      "0.0017181567\n",
      "0.9999818552068561\n",
      "0.036999999999999145\n"
     ]
    },
    {
     "name": "stderr",
     "output_type": "stream",
     "text": [
      " 96%|███████████████████████████████████████████████████████████████████████████████████▊   | 964/1000 [04:18<00:09,  3.67it/s]"
     ]
    },
    {
     "name": "stdout",
     "output_type": "stream",
     "text": [
      "0.0016630612\n",
      "0.9999827624465133\n",
      "0.035999999999999144\n"
     ]
    },
    {
     "name": "stderr",
     "output_type": "stream",
     "text": [
      " 96%|███████████████████████████████████████████████████████████████████████████████████▉   | 965/1000 [04:18<00:09,  3.84it/s]"
     ]
    },
    {
     "name": "stdout",
     "output_type": "stream",
     "text": [
      "0.0016020754\n",
      "0.9999836243241876\n",
      "0.03499999999999914\n"
     ]
    },
    {
     "name": "stderr",
     "output_type": "stream",
     "text": [
      " 97%|████████████████████████████████████████████████████████████████████████████████████   | 966/1000 [04:18<00:08,  3.97it/s]"
     ]
    },
    {
     "name": "stdout",
     "output_type": "stream",
     "text": [
      "0.0015378017\n",
      "0.9999844431079783\n",
      "0.03399999999999914\n"
     ]
    },
    {
     "name": "stderr",
     "output_type": "stream",
     "text": [
      " 97%|████████████████████████████████████████████████████████████████████████████████████▏  | 967/1000 [04:18<00:08,  4.06it/s]"
     ]
    },
    {
     "name": "stdout",
     "output_type": "stream",
     "text": [
      "0.0014721368\n",
      "0.9999852209525794\n",
      "0.03299999999999914\n"
     ]
    },
    {
     "name": "stderr",
     "output_type": "stream",
     "text": [
      " 97%|████████████████████████████████████████████████████████████████████████████████████▏  | 968/1000 [04:19<00:07,  4.12it/s]"
     ]
    },
    {
     "name": "stdout",
     "output_type": "stream",
     "text": [
      "0.0014064402\n",
      "0.9999859599049504\n",
      "0.03199999999999914\n"
     ]
    },
    {
     "name": "stderr",
     "output_type": "stream",
     "text": [
      " 97%|████████████████████████████████████████████████████████████████████████████████████▎  | 969/1000 [04:19<00:07,  4.16it/s]"
     ]
    },
    {
     "name": "stdout",
     "output_type": "stream",
     "text": [
      "0.0013416675\n",
      "0.9999866619097029\n",
      "0.03099999999999914\n"
     ]
    },
    {
     "name": "stderr",
     "output_type": "stream",
     "text": [
      " 97%|████████████████████████████████████████████████████████████████████████████████████▍  | 970/1000 [04:19<00:07,  4.23it/s]"
     ]
    },
    {
     "name": "stdout",
     "output_type": "stream",
     "text": [
      "0.0012784731\n",
      "0.9999873288142177\n",
      "0.02999999999999914\n"
     ]
    },
    {
     "name": "stderr",
     "output_type": "stream",
     "text": [
      " 97%|████████████████████████████████████████████████████████████████████████████████████▍  | 971/1000 [04:19<00:07,  4.10it/s]"
     ]
    },
    {
     "name": "stdout",
     "output_type": "stream",
     "text": [
      "0.0012172868\n",
      "0.9999879623735068\n",
      "0.028999999999999138\n"
     ]
    },
    {
     "name": "stderr",
     "output_type": "stream",
     "text": [
      " 97%|████████████████████████████████████████████████████████████████████████████████████▌  | 972/1000 [04:20<00:06,  4.04it/s]"
     ]
    },
    {
     "name": "stdout",
     "output_type": "stream",
     "text": [
      "0.0011583739\n",
      "0.9999885642548315\n",
      "0.027999999999999137\n"
     ]
    },
    {
     "name": "stderr",
     "output_type": "stream",
     "text": [
      " 97%|████████████████████████████████████████████████████████████████████████████████████▋  | 973/1000 [04:20<00:06,  4.17it/s]"
     ]
    },
    {
     "name": "stdout",
     "output_type": "stream",
     "text": [
      "0.0011018802\n",
      "0.9999891360420899\n",
      "0.026999999999999136\n"
     ]
    },
    {
     "name": "stderr",
     "output_type": "stream",
     "text": [
      " 97%|████████████████████████████████████████████████████████████████████████████████████▋  | 974/1000 [04:20<00:06,  4.16it/s]"
     ]
    },
    {
     "name": "stdout",
     "output_type": "stream",
     "text": [
      "0.0010478662\n",
      "0.9999896792399855\n",
      "0.025999999999999135\n"
     ]
    },
    {
     "name": "stderr",
     "output_type": "stream",
     "text": [
      " 98%|████████████████████████████████████████████████████████████████████████████████████▊  | 975/1000 [04:20<00:06,  4.05it/s]"
     ]
    },
    {
     "name": "stdout",
     "output_type": "stream",
     "text": [
      "0.000996332\n",
      "0.9999901952779863\n",
      "0.024999999999999134\n"
     ]
    },
    {
     "name": "stderr",
     "output_type": "stream",
     "text": [
      " 98%|████████████████████████████████████████████████████████████████████████████████████▉  | 976/1000 [04:21<00:05,  4.12it/s]"
     ]
    },
    {
     "name": "stdout",
     "output_type": "stream",
     "text": [
      "0.00094723696\n",
      "0.999990685514087\n",
      "0.023999999999999133\n"
     ]
    },
    {
     "name": "stderr",
     "output_type": "stream",
     "text": [
      " 98%|████████████████████████████████████████████████████████████████████████████████████▉  | 977/1000 [04:21<00:05,  4.06it/s]"
     ]
    },
    {
     "name": "stdout",
     "output_type": "stream",
     "text": [
      "0.0009005131\n",
      "0.9999911512383827\n",
      "0.022999999999999132\n"
     ]
    },
    {
     "name": "stderr",
     "output_type": "stream",
     "text": [
      " 98%|█████████████████████████████████████████████████████████████████████████████████████  | 978/1000 [04:21<00:05,  4.21it/s]"
     ]
    },
    {
     "name": "stdout",
     "output_type": "stream",
     "text": [
      "0.0008560755\n",
      "0.9999915936764635\n",
      "0.02199999999999913\n"
     ]
    },
    {
     "name": "stderr",
     "output_type": "stream",
     "text": [
      " 98%|█████████████████████████████████████████████████████████████████████████████████████▏ | 979/1000 [04:21<00:04,  4.23it/s]"
     ]
    },
    {
     "name": "stdout",
     "output_type": "stream",
     "text": [
      "0.00081382965\n",
      "0.9999920139926404\n",
      "0.02099999999999913\n"
     ]
    },
    {
     "name": "stderr",
     "output_type": "stream",
     "text": [
      " 98%|█████████████████████████████████████████████████████████████████████████████████████▎ | 980/1000 [04:22<00:04,  4.13it/s]"
     ]
    },
    {
     "name": "stdout",
     "output_type": "stream",
     "text": [
      "0.0007736763\n",
      "0.9999924132930084\n",
      "0.01999999999999913\n"
     ]
    },
    {
     "name": "stderr",
     "output_type": "stream",
     "text": [
      " 98%|█████████████████████████████████████████████████████████████████████████████████████▎ | 981/1000 [04:22<00:04,  4.16it/s]"
     ]
    },
    {
     "name": "stdout",
     "output_type": "stream",
     "text": [
      "0.00073551515\n",
      "0.9999927926283579\n",
      "0.01899999999999913\n"
     ]
    },
    {
     "name": "stderr",
     "output_type": "stream",
     "text": [
      " 98%|█████████████████████████████████████████████████████████████████████████████████████▍ | 982/1000 [04:22<00:04,  4.20it/s]"
     ]
    },
    {
     "name": "stdout",
     "output_type": "stream",
     "text": [
      "0.0006992473\n",
      "0.99999315299694\n",
      "0.017999999999999128\n"
     ]
    },
    {
     "name": "stderr",
     "output_type": "stream",
     "text": [
      " 98%|█████████████████████████████████████████████████████████████████████████████████████▌ | 983/1000 [04:22<00:04,  4.20it/s]"
     ]
    },
    {
     "name": "stdout",
     "output_type": "stream",
     "text": [
      "0.00066477683\n",
      "0.999993495347093\n",
      "0.016999999999999127\n"
     ]
    },
    {
     "name": "stderr",
     "output_type": "stream",
     "text": [
      " 98%|█████████████████████████████████████████████████████████████████████████████████████▌ | 984/1000 [04:23<00:03,  4.22it/s]"
     ]
    },
    {
     "name": "stdout",
     "output_type": "stream",
     "text": [
      "0.0006320116\n",
      "0.9999938205797384\n",
      "0.015999999999999126\n"
     ]
    },
    {
     "name": "stderr",
     "output_type": "stream",
     "text": [
      " 98%|█████████████████████████████████████████████████████████████████████████████████████▋ | 985/1000 [04:23<00:03,  4.24it/s]"
     ]
    },
    {
     "name": "stdout",
     "output_type": "stream",
     "text": [
      "0.00060086395\n",
      "0.9999941295507515\n",
      "0.014999999999999125\n"
     ]
    },
    {
     "name": "stderr",
     "output_type": "stream",
     "text": [
      " 99%|█████████████████████████████████████████████████████████████████████████████████████▊ | 986/1000 [04:23<00:03,  4.26it/s]"
     ]
    },
    {
     "name": "stdout",
     "output_type": "stream",
     "text": [
      "0.00057125074\n",
      "0.999994423073214\n",
      "0.013999999999999124\n"
     ]
    },
    {
     "name": "stderr",
     "output_type": "stream",
     "text": [
      " 99%|█████████████████████████████████████████████████████████████████████████████████████▊ | 987/1000 [04:23<00:03,  4.26it/s]"
     ]
    },
    {
     "name": "stdout",
     "output_type": "stream",
     "text": [
      "0.0005430934\n",
      "0.9999947019195533\n",
      "0.012999999999999123\n"
     ]
    },
    {
     "name": "stderr",
     "output_type": "stream",
     "text": [
      " 99%|█████████████████████████████████████████████████████████████████████████████████████▉ | 988/1000 [04:24<00:02,  4.26it/s]"
     ]
    },
    {
     "name": "stdout",
     "output_type": "stream",
     "text": [
      "0.00051631784\n",
      "0.9999949668235757\n",
      "0.011999999999999122\n"
     ]
    },
    {
     "name": "stderr",
     "output_type": "stream",
     "text": [
      " 99%|██████████████████████████████████████████████████████████████████████████████████████ | 989/1000 [04:24<00:02,  4.23it/s]"
     ]
    },
    {
     "name": "stdout",
     "output_type": "stream",
     "text": [
      "0.0004908542\n",
      "0.9999952184823969\n",
      "0.010999999999999122\n"
     ]
    },
    {
     "name": "stderr",
     "output_type": "stream",
     "text": [
      " 99%|██████████████████████████████████████████████████████████████████████████████████████▏| 990/1000 [04:24<00:02,  4.21it/s]"
     ]
    },
    {
     "name": "stdout",
     "output_type": "stream",
     "text": [
      "0.00046663673\n",
      "0.9999954575582771\n",
      "0.00999999999999912\n"
     ]
    },
    {
     "name": "stderr",
     "output_type": "stream",
     "text": [
      " 99%|██████████████████████████████████████████████████████████████████████████████████████▏| 991/1000 [04:24<00:02,  4.26it/s]"
     ]
    },
    {
     "name": "stdout",
     "output_type": "stream",
     "text": [
      "0.00044360323\n",
      "0.9999956846803633\n",
      "0.00899999999999912\n"
     ]
    },
    {
     "name": "stderr",
     "output_type": "stream",
     "text": [
      " 99%|██████████████████████████████████████████████████████████████████████████████████████▎| 992/1000 [04:24<00:01,  4.24it/s]"
     ]
    },
    {
     "name": "stdout",
     "output_type": "stream",
     "text": [
      "0.0004216952\n",
      "0.9999959004463451\n",
      "0.007999999999999119\n"
     ]
    },
    {
     "name": "stderr",
     "output_type": "stream",
     "text": [
      " 99%|██████████████████████████████████████████████████████████████████████████████████████▍| 993/1000 [04:25<00:01,  4.23it/s]"
     ]
    },
    {
     "name": "stdout",
     "output_type": "stream",
     "text": [
      "0.0004008574\n",
      "0.9999961054240278\n",
      "0.006999999999999119\n"
     ]
    },
    {
     "name": "stderr",
     "output_type": "stream",
     "text": [
      " 99%|██████████████████████████████████████████████████████████████████████████████████████▍| 994/1000 [04:25<00:01,  4.27it/s]"
     ]
    },
    {
     "name": "stdout",
     "output_type": "stream",
     "text": [
      "0.00038103742\n",
      "0.9999963001528265\n",
      "0.005999999999999119\n"
     ]
    },
    {
     "name": "stderr",
     "output_type": "stream",
     "text": [
      "100%|██████████████████████████████████████████████████████████████████████████████████████▌| 995/1000 [04:25<00:01,  4.26it/s]"
     ]
    },
    {
     "name": "stdout",
     "output_type": "stream",
     "text": [
      "0.00036218588\n",
      "0.9999964851451851\n",
      "0.004999999999999119\n"
     ]
    },
    {
     "name": "stderr",
     "output_type": "stream",
     "text": [
      "100%|██████████████████████████████████████████████████████████████████████████████████████▋| 996/1000 [04:25<00:00,  4.18it/s]"
     ]
    },
    {
     "name": "stdout",
     "output_type": "stream",
     "text": [
      "0.00034425582\n",
      "0.9999966608879258\n",
      "0.003999999999999119\n"
     ]
    },
    {
     "name": "stderr",
     "output_type": "stream",
     "text": [
      "100%|██████████████████████████████████████████████████████████████████████████████████████▋| 997/1000 [04:26<00:00,  4.20it/s]"
     ]
    },
    {
     "name": "stdout",
     "output_type": "stream",
     "text": [
      "0.00032720272\n",
      "0.9999968278435295\n",
      "0.002999999999999119\n"
     ]
    },
    {
     "name": "stderr",
     "output_type": "stream",
     "text": [
      "100%|██████████████████████████████████████████████████████████████████████████████████████▊| 998/1000 [04:26<00:00,  4.07it/s]"
     ]
    },
    {
     "name": "stdout",
     "output_type": "stream",
     "text": [
      "0.00031098432\n",
      "0.999996986451353\n",
      "0.001999999999999119\n"
     ]
    },
    {
     "name": "stderr",
     "output_type": "stream",
     "text": [
      "100%|██████████████████████████████████████████████████████████████████████████████████████▉| 999/1000 [04:26<00:00,  4.09it/s]"
     ]
    },
    {
     "name": "stdout",
     "output_type": "stream",
     "text": [
      "0.00029556043\n",
      "0.9999971371287854\n",
      "0.0009999999999991188\n"
     ]
    },
    {
     "name": "stderr",
     "output_type": "stream",
     "text": [
      "100%|██████████████████████████████████████████████████████████████████████████████████████| 1000/1000 [04:26<00:00,  3.75it/s]"
     ]
    },
    {
     "name": "stdout",
     "output_type": "stream",
     "text": [
      "0.00028089283\n",
      "0.9999972802723461\n",
      "-8.81239525796218e-16\n"
     ]
    },
    {
     "name": "stderr",
     "output_type": "stream",
     "text": [
      "\n"
     ]
    }
   ],
   "source": [
    "(losses, scoress, epsilons) = episodic_semigradient_sarsa(\n",
    "    env,\n",
    "    linear_Q_model\n",
    ")"
   ]
  },
  {
   "cell_type": "code",
   "execution_count": 43,
   "metadata": {},
   "outputs": [
    {
     "name": "stdout",
     "output_type": "stream",
     "text": [
      "\u001b[1m1/1\u001b[0m \u001b[32m━━━━━━━━━━━━━━━━━━━━\u001b[0m\u001b[37m\u001b[0m \u001b[1m0s\u001b[0m 51ms/step\n"
     ]
    },
    {
     "data": {
      "text/plain": [
       "array([[0.0205407]], dtype=float32)"
      ]
     },
     "execution_count": 43,
     "metadata": {},
     "output_type": "execute_result"
    }
   ],
   "source": [
    "linear_Q_model.predict([\n",
    "    np.array([keras.utils.to_categorical(1, 5)]),\n",
    "    np.array([keras.utils.to_categorical(0, 2)]),\n",
    "])"
   ]
  },
  {
   "cell_type": "code",
   "execution_count": 44,
   "metadata": {},
   "outputs": [],
   "source": [
    "import matplotlib.pyplot as plt"
   ]
  },
  {
   "cell_type": "code",
   "execution_count": 45,
   "metadata": {},
   "outputs": [
    {
     "data": {
      "image/png": "[encoded data removed]",
      "text/plain": [
       "<Figure size 640x480 with 1 Axes>"
      ]
     },
     "metadata": {},
     "output_type": "display_data"
    }
   ],
   "source": [
    "plt.plot(np.arange(len(losses)), losses)\n",
    "plt.show()"
   ]
  },
  {
   "cell_type": "code",
   "execution_count": 46,
   "metadata": {},
   "outputs": [
    {
     "data": {
      "image/png": "[encoded data removed]",
      "text/plain": [
       "<Figure size 640x480 with 1 Axes>"
      ]
     },
     "metadata": {},
     "output_type": "display_data"
    }
   ],
   "source": [
    "plt.plot(np.arange(len(scoress)), scoress)\n",
    "plt.show()"
   ]
  },
  {
   "cell_type": "code",
   "execution_count": 47,
   "metadata": {},
   "outputs": [
    {
     "data": {
      "image/png": "[encoded data removed]",
      "text/plain": [
       "<Figure size 640x480 with 1 Axes>"
      ]
     },
     "metadata": {},
     "output_type": "display_data"
    }
   ],
   "source": [
    "plt.plot(np.arange(len(epsilons)), epsilons)\n",
    "plt.show()"
   ]
  },
  {
   "cell_type": "code",
   "execution_count": 48,
   "metadata": {},
   "outputs": [],
   "source": [
    "class DeepLineWorld(DeepEnv):\n",
    "  def __init__(self):\n",
    "    self.agent_pos = 2\n",
    "    \n",
    "  def state_description(self) -> np.ndarray:\n",
    "    return np.array([self.agent_pos / 4.0])\n",
    "    \n",
    "  def state_description_length(self) -> int:\n",
    "    return 1\n",
    "\n",
    "  def action_description_length(self) -> int:\n",
    "    return 2\n",
    "\n",
    "  def available_action_descriptions(self) -> np.ndarray:\n",
    "    if self.is_game_over():\n",
    "        return np.array([])\n",
    "    return np.array([[1, 0], [0, 1]])\n",
    "\n",
    "  def step(self, a_desc: np.ndarray):\n",
    "    if self.is_game_over():\n",
    "        raise Exception(\"Game is over !\")\n",
    "\n",
    "    if np.array_equal(np.array([1, 0]), a_desc):\n",
    "        self.agent_pos -= 1\n",
    "    elif np.array_equal(np.array([0, 1]), a_desc):\n",
    "        self.agent_pos += 1\n",
    "    else:\n",
    "        raise Exception(\"Invalid Action !\")\n",
    "\n",
    "  def score(self) -> float:\n",
    "    if self.agent_pos == 0:\n",
    "        return -1.0\n",
    "    elif self.agent_pos == 4:\n",
    "        return 1.0\n",
    "    return 0.0\n",
    "\n",
    "  def is_game_over(self) -> bool:\n",
    "    return self.agent_pos == 0 or self.agent_pos == 4\n",
    "\n",
    "  def reset(self):\n",
    "    self.agent_pos = 2"
   ]
  },
  {
   "cell_type": "code",
   "execution_count": 49,
   "metadata": {},
   "outputs": [],
   "source": [
    "env = DeepLineWorld()"
   ]
  },
  {
   "cell_type": "code",
   "execution_count": 50,
   "metadata": {},
   "outputs": [],
   "source": [
    "input_state_desc_tensor = keras.layers.Input(shape=(env.state_description_length(),))\n",
    "input_action_desc_tensor = keras.layers.Input(shape=(env.action_description_length(),))\n",
    "\n",
    "hidden_tensor = keras.layers.Concatenate()([input_state_desc_tensor, input_action_desc_tensor])\n",
    "\n",
    "hidden_tensor = keras.layers.Dense(32, activation=keras.activations.tanh)(hidden_tensor)\n",
    "hidden_tensor = keras.layers.Dense(32, activation=keras.activations.tanh)(hidden_tensor)\n",
    "\n",
    "output_tensor = keras.layers.Dense(1, activation=keras.activations.linear)(hidden_tensor)\n",
    "\n",
    "linear_Q_model = keras.models.Model([input_state_desc_tensor, input_action_desc_tensor], output_tensor)"
   ]
  },
  {
   "cell_type": "code",
   "execution_count": 51,
   "metadata": {},
   "outputs": [
    {
     "name": "stderr",
     "output_type": "stream",
     "text": [
      "  0%|                                                                                         | 1/1000 [00:00<02:27,  6.77it/s]"
     ]
    },
    {
     "name": "stdout",
     "output_type": "stream",
     "text": [
      "0.28997537\n",
      "1.0\n",
      "0.999\n"
     ]
    },
    {
     "name": "stderr",
     "output_type": "stream",
     "text": [
      "  0%|▏                                                                                        | 2/1000 [00:00<04:28,  3.71it/s]"
     ]
    },
    {
     "name": "stdout",
     "output_type": "stream",
     "text": [
      "0.35257798\n",
      "1.0000000000000007\n",
      "0.998\n"
     ]
    },
    {
     "name": "stderr",
     "output_type": "stream",
     "text": [
      "  0%|▎                                                                                        | 4/1000 [00:00<03:29,  4.76it/s]"
     ]
    },
    {
     "name": "stdout",
     "output_type": "stream",
     "text": [
      "0.30388483\n",
      "1.0\n",
      "0.997\n",
      "0.30672395\n",
      "0.4608982782438762\n",
      "0.996\n"
     ]
    },
    {
     "name": "stderr",
     "output_type": "stream",
     "text": [
      "  1%|▌                                                                                        | 6/1000 [00:01<04:33,  3.63it/s]"
     ]
    },
    {
     "name": "stdout",
     "output_type": "stream",
     "text": [
      "0.29897103\n",
      "0.580053073555638\n",
      "0.995\n",
      "0.2755122\n",
      "0.6593158276168759\n",
      "0.994\n"
     ]
    },
    {
     "name": "stderr",
     "output_type": "stream",
     "text": [
      "  1%|▌                                                                                        | 7/1000 [00:01<04:30,  3.67it/s]"
     ]
    },
    {
     "name": "stdout",
     "output_type": "stream",
     "text": [
      "0.27292717\n",
      "0.38428749197407225\n",
      "0.993\n"
     ]
    },
    {
     "name": "stderr",
     "output_type": "stream",
     "text": [
      "  1%|▋                                                                                        | 8/1000 [00:02<04:17,  3.85it/s]"
     ]
    },
    {
     "name": "stdout",
     "output_type": "stream",
     "text": [
      "0.26552352\n",
      "0.1786470401077067\n",
      "0.992\n"
     ]
    },
    {
     "name": "stderr",
     "output_type": "stream",
     "text": [
      "  1%|▊                                                                                        | 9/1000 [00:02<05:55,  2.79it/s]"
     ]
    },
    {
     "name": "stdout",
     "output_type": "stream",
     "text": [
      "0.26137808\n",
      "0.019262975402110243\n",
      "0.991\n"
     ]
    },
    {
     "name": "stderr",
     "output_type": "stream",
     "text": [
      "  1%|▉                                                                                       | 10/1000 [00:03<07:03,  2.34it/s]"
     ]
    },
    {
     "name": "stdout",
     "output_type": "stream",
     "text": [
      "0.24879657\n",
      "-0.10774385316908804\n",
      "0.99\n"
     ]
    },
    {
     "name": "stderr",
     "output_type": "stream",
     "text": [
      "  1%|█                                                                                       | 12/1000 [00:03<05:38,  2.92it/s]"
     ]
    },
    {
     "name": "stdout",
     "output_type": "stream",
     "text": [
      "0.24614787\n",
      "0.020705136884883454\n",
      "0.989\n",
      "0.2649242\n",
      "0.1272336211210763\n",
      "0.988\n"
     ]
    },
    {
     "name": "stderr",
     "output_type": "stream",
     "text": [
      "  1%|█▏                                                                                      | 13/1000 [00:04<05:09,  3.19it/s]"
     ]
    },
    {
     "name": "stdout",
     "output_type": "stream",
     "text": [
      "0.26255405\n",
      "0.2169030119696161\n",
      "0.987\n"
     ]
    },
    {
     "name": "stderr",
     "output_type": "stream",
     "text": [
      "  2%|█▎                                                                                      | 15/1000 [00:04<03:56,  4.17it/s]"
     ]
    },
    {
     "name": "stdout",
     "output_type": "stream",
     "text": [
      "0.2565462\n",
      "0.0981402185900566\n",
      "0.986\n",
      "0.26386997\n",
      "0.18215783038335612\n",
      "0.985\n"
     ]
    },
    {
     "name": "stderr",
     "output_type": "stream",
     "text": [
      "  2%|█▍                                                                                      | 17/1000 [00:04<03:34,  4.57it/s]"
     ]
    },
    {
     "name": "stdout",
     "output_type": "stream",
     "text": [
      "0.2574531\n",
      "0.07658414396248345\n",
      "0.984\n",
      "0.2638968\n",
      "0.15593180911807378\n",
      "0.983\n"
     ]
    },
    {
     "name": "stderr",
     "output_type": "stream",
     "text": [
      "  2%|█▋                                                                                      | 19/1000 [00:05<03:13,  5.06it/s]"
     ]
    },
    {
     "name": "stdout",
     "output_type": "stream",
     "text": [
      "0.257347\n",
      "0.06004932181666033\n",
      "0.982\n",
      "0.26336282\n",
      "0.1355296170541061\n",
      "0.981\n"
     ]
    },
    {
     "name": "stderr",
     "output_type": "stream",
     "text": [
      "  2%|█▊                                                                                      | 21/1000 [00:05<03:00,  5.43it/s]"
     ]
    },
    {
     "name": "stdout",
     "output_type": "stream",
     "text": [
      "0.26369014\n",
      "0.20290696800730096\n",
      "0.98\n",
      "0.26464027\n",
      "0.11170003981200127\n",
      "0.979\n"
     ]
    },
    {
     "name": "stderr",
     "output_type": "stream",
     "text": [
      "  2%|██                                                                                      | 23/1000 [00:05<02:26,  6.65it/s]"
     ]
    },
    {
     "name": "stdout",
     "output_type": "stream",
     "text": [
      "0.26288489\n",
      "0.17735739455499996\n",
      "0.978\n",
      "0.2573985\n",
      "0.23674169847085944\n",
      "0.977\n"
     ]
    },
    {
     "name": "stderr",
     "output_type": "stream",
     "text": [
      "  2%|██▏                                                                                     | 25/1000 [00:06<03:21,  4.83it/s]"
     ]
    },
    {
     "name": "stdout",
     "output_type": "stream",
     "text": [
      "0.25514516\n",
      "0.29064328529416517\n",
      "0.976\n",
      "0.26401007\n",
      "0.20133906013441863\n",
      "0.975\n"
     ]
    },
    {
     "name": "stderr",
     "output_type": "stream",
     "text": [
      "  3%|██▎                                                                                     | 26/1000 [00:06<03:01,  5.35it/s]"
     ]
    },
    {
     "name": "stdout",
     "output_type": "stream",
     "text": [
      "0.26773393\n",
      "0.1197795327727764\n",
      "0.974\n"
     ]
    },
    {
     "name": "stderr",
     "output_type": "stream",
     "text": [
      "  3%|██▍                                                                                     | 28/1000 [00:07<03:38,  4.45it/s]"
     ]
    },
    {
     "name": "stdout",
     "output_type": "stream",
     "text": [
      "0.26516324\n",
      "0.04509329889861966\n",
      "0.973\n",
      "0.26400697\n",
      "-0.023466801076090976\n",
      "0.972\n"
     ]
    },
    {
     "name": "stderr",
     "output_type": "stream",
     "text": [
      "  3%|██▋                                                                                     | 30/1000 [00:07<03:23,  4.77it/s]"
     ]
    },
    {
     "name": "stdout",
     "output_type": "stream",
     "text": [
      "0.2580898\n",
      "-0.08654508787510617\n",
      "0.971\n",
      "0.2616031\n",
      "-0.017370226805431415\n",
      "0.97\n"
     ]
    },
    {
     "name": "stderr",
     "output_type": "stream",
     "text": [
      "  3%|██▋                                                                                     | 31/1000 [00:07<02:57,  5.46it/s]"
     ]
    },
    {
     "name": "stdout",
     "output_type": "stream",
     "text": [
      "0.26041597\n",
      "0.046527458773804826\n",
      "0.969\n"
     ]
    },
    {
     "name": "stderr",
     "output_type": "stream",
     "text": [
      "  3%|██▉                                                                                     | 33/1000 [00:08<03:20,  4.82it/s]"
     ]
    },
    {
     "name": "stdout",
     "output_type": "stream",
     "text": [
      "0.25956368\n",
      "-0.01837036865407087\n",
      "0.968\n",
      "0.26063022\n",
      "0.044031757922526706\n",
      "0.967\n"
     ]
    },
    {
     "name": "stderr",
     "output_type": "stream",
     "text": [
      "  4%|███                                                                                     | 35/1000 [00:08<02:59,  5.38it/s]"
     ]
    },
    {
     "name": "stdout",
     "output_type": "stream",
     "text": [
      "0.2617939\n",
      "-0.019229445486556387\n",
      "0.966\n",
      "0.25598145\n",
      "-0.0780345187805312\n",
      "0.965\n"
     ]
    },
    {
     "name": "stderr",
     "output_type": "stream",
     "text": [
      "  4%|███▎                                                                                    | 37/1000 [00:09<04:25,  3.63it/s]"
     ]
    },
    {
     "name": "stdout",
     "output_type": "stream",
     "text": [
      "0.25339544\n",
      "-0.014034998838176401\n",
      "0.964\n",
      "0.25392073\n",
      "0.045606418265186965\n",
      "0.963\n"
     ]
    },
    {
     "name": "stderr",
     "output_type": "stream",
     "text": [
      "  4%|███▎                                                                                    | 38/1000 [00:09<04:46,  3.35it/s]"
     ]
    },
    {
     "name": "stdout",
     "output_type": "stream",
     "text": [
      "0.2507716\n",
      "0.10124942447140267\n",
      "0.962\n"
     ]
    },
    {
     "name": "stderr",
     "output_type": "stream",
     "text": [
      "  4%|███▍                                                                                    | 39/1000 [00:09<04:27,  3.60it/s]"
     ]
    },
    {
     "name": "stdout",
     "output_type": "stream",
     "text": [
      "0.24772994\n",
      "0.1532169035750562\n",
      "0.961\n"
     ]
    },
    {
     "name": "stderr",
     "output_type": "stream",
     "text": [
      "  4%|███▌                                                                                    | 41/1000 [00:10<03:35,  4.45it/s]"
     ]
    },
    {
     "name": "stdout",
     "output_type": "stream",
     "text": [
      "0.25032857\n",
      "0.08705322084198737\n",
      "0.96\n",
      "0.25247228\n",
      "0.025142037041470163\n",
      "0.959\n"
     ]
    },
    {
     "name": "stderr",
     "output_type": "stream",
     "text": [
      "  4%|███▊                                                                                    | 43/1000 [00:10<02:41,  5.93it/s]"
     ]
    },
    {
     "name": "stdout",
     "output_type": "stream",
     "text": [
      "0.24829702\n",
      "0.0802799531811276\n",
      "0.958\n",
      "0.2420202\n",
      "0.13196025153227353\n",
      "0.957\n"
     ]
    },
    {
     "name": "stderr",
     "output_type": "stream",
     "text": [
      "  4%|███▉                                                                                    | 45/1000 [00:10<02:44,  5.80it/s]"
     ]
    },
    {
     "name": "stdout",
     "output_type": "stream",
     "text": [
      "0.24013975\n",
      "0.18043643253063915\n",
      "0.956\n",
      "0.24460852\n",
      "0.11489739185681451\n",
      "0.955\n"
     ]
    },
    {
     "name": "stderr",
     "output_type": "stream",
     "text": [
      "  5%|████                                                                                    | 46/1000 [00:11<03:33,  4.46it/s]"
     ]
    },
    {
     "name": "stdout",
     "output_type": "stream",
     "text": [
      "0.24159822\n",
      "0.1637693724589954\n",
      "0.954\n"
     ]
    },
    {
     "name": "stderr",
     "output_type": "stream",
     "text": [
      "  5%|████▏                                                                                   | 47/1000 [00:11<03:42,  4.28it/s]"
     ]
    },
    {
     "name": "stdout",
     "output_type": "stream",
     "text": [
      "0.23793513\n",
      "0.20970323017687215\n",
      "0.953\n"
     ]
    },
    {
     "name": "stderr",
     "output_type": "stream",
     "text": [
      "  5%|████▏                                                                                   | 48/1000 [00:11<03:50,  4.12it/s]"
     ]
    },
    {
     "name": "stdout",
     "output_type": "stream",
     "text": [
      "0.23351395\n",
      "0.25290100703035573\n",
      "0.952\n"
     ]
    },
    {
     "name": "stderr",
     "output_type": "stream",
     "text": [
      "  5%|████▍                                                                                   | 50/1000 [00:12<03:14,  4.88it/s]"
     ]
    },
    {
     "name": "stdout",
     "output_type": "stream",
     "text": [
      "0.22848478\n",
      "0.2935481611742835\n",
      "0.951\n",
      "0.2184774\n",
      "0.33181521026149785\n",
      "0.95\n"
     ]
    },
    {
     "name": "stderr",
     "output_type": "stream",
     "text": [
      "  5%|████▌                                                                                   | 52/1000 [00:12<03:04,  5.13it/s]"
     ]
    },
    {
     "name": "stdout",
     "output_type": "stream",
     "text": [
      "0.210915\n",
      "0.36785918214780616\n",
      "0.949\n",
      "0.20050007\n",
      "0.4018248988792418\n",
      "0.948\n"
     ]
    },
    {
     "name": "stderr",
     "output_type": "stream",
     "text": [
      "  5%|████▋                                                                                   | 53/1000 [00:12<03:31,  4.48it/s]"
     ]
    },
    {
     "name": "stdout",
     "output_type": "stream",
     "text": [
      "0.19369595\n",
      "0.433846115984199\n",
      "0.947\n"
     ]
    },
    {
     "name": "stderr",
     "output_type": "stream",
     "text": [
      "  6%|████▊                                                                                   | 55/1000 [00:13<03:04,  5.13it/s]"
     ]
    },
    {
     "name": "stdout",
     "output_type": "stream",
     "text": [
      "0.1837156\n",
      "0.4640465358282469\n",
      "0.946\n",
      "0.1742514\n",
      "0.4925407110589972\n",
      "0.945\n"
     ]
    },
    {
     "name": "stderr",
     "output_type": "stream",
     "text": [
      "  6%|████▉                                                                                   | 56/1000 [00:13<03:02,  5.18it/s]"
     ]
    },
    {
     "name": "stdout",
     "output_type": "stream",
     "text": [
      "0.16529179\n",
      "0.5194348518768945\n",
      "0.944\n"
     ]
    },
    {
     "name": "stderr",
     "output_type": "stream",
     "text": [
      "  6%|█████                                                                                   | 58/1000 [00:13<03:28,  4.51it/s]"
     ]
    },
    {
     "name": "stdout",
     "output_type": "stream",
     "text": [
      "0.1629361\n",
      "0.5448275489382203\n",
      "0.943\n",
      "0.19296329\n",
      "0.4634311396764045\n",
      "0.942\n"
     ]
    },
    {
     "name": "stderr",
     "output_type": "stream",
     "text": [
      "  6%|█████▏                                                                                  | 59/1000 [00:14<03:02,  5.15it/s]"
     ]
    },
    {
     "name": "stdout",
     "output_type": "stream",
     "text": [
      "0.18314059\n",
      "0.49162692386063367\n",
      "0.941\n"
     ]
    },
    {
     "name": "stderr",
     "output_type": "stream",
     "text": [
      "  6%|█████▎                                                                                  | 61/1000 [00:14<03:20,  4.68it/s]"
     ]
    },
    {
     "name": "stdout",
     "output_type": "stream",
     "text": [
      "0.19047719\n",
      "0.4134436918863986\n",
      "0.94\n",
      "0.18164851\n",
      "0.44411382585350795\n",
      "0.939\n"
     ]
    },
    {
     "name": "stderr",
     "output_type": "stream",
     "text": [
      "  6%|█████▍                                                                                  | 62/1000 [00:14<03:16,  4.76it/s]"
     ]
    },
    {
     "name": "stdout",
     "output_type": "stream",
     "text": [
      "0.1730173\n",
      "0.4731138994341542\n",
      "0.938\n"
     ]
    },
    {
     "name": "stderr",
     "output_type": "stream",
     "text": [
      "  6%|█████▌                                                                                  | 63/1000 [00:15<03:22,  4.63it/s]"
     ]
    },
    {
     "name": "stdout",
     "output_type": "stream",
     "text": [
      "0.1683714\n",
      "0.5005415727045905\n",
      "0.9369999999999999\n"
     ]
    },
    {
     "name": "stderr",
     "output_type": "stream",
     "text": [
      "  6%|█████▋                                                                                  | 65/1000 [00:15<03:43,  4.19it/s]"
     ]
    },
    {
     "name": "stdout",
     "output_type": "stream",
     "text": [
      "0.17436437\n",
      "0.42258940611857937\n",
      "0.9359999999999999\n",
      "0.16685061\n",
      "0.4525271546438122\n",
      "0.9349999999999999\n"
     ]
    },
    {
     "name": "stderr",
     "output_type": "stream",
     "text": [
      "  7%|█████▊                                                                                  | 66/1000 [00:15<03:10,  4.91it/s]"
     ]
    },
    {
     "name": "stdout",
     "output_type": "stream",
     "text": [
      "0.18327644\n",
      "0.37735505343929415\n",
      "0.9339999999999999\n"
     ]
    },
    {
     "name": "stderr",
     "output_type": "stream",
     "text": [
      "  7%|█████▉                                                                                  | 67/1000 [00:15<03:18,  4.70it/s]"
     ]
    },
    {
     "name": "stdout",
     "output_type": "stream",
     "text": [
      "0.19180228\n",
      "0.3061980182105143\n",
      "0.9329999999999999\n"
     ]
    },
    {
     "name": "stderr",
     "output_type": "stream",
     "text": [
      "  7%|██████                                                                                  | 69/1000 [00:16<03:52,  4.00it/s]"
     ]
    },
    {
     "name": "stdout",
     "output_type": "stream",
     "text": [
      "0.18948054\n",
      "0.34198180014033114\n",
      "0.9319999999999999\n",
      "0.18243814\n",
      "0.3758665701398277\n",
      "0.9309999999999999\n"
     ]
    },
    {
     "name": "stderr",
     "output_type": "stream",
     "text": [
      "  7%|██████▏                                                                                 | 71/1000 [00:16<03:15,  4.76it/s]"
     ]
    },
    {
     "name": "stdout",
     "output_type": "stream",
     "text": [
      "0.17740148\n",
      "0.40795845422908733\n",
      "0.9299999999999999\n",
      "0.16936958\n",
      "0.4383571133606522\n",
      "0.9289999999999999\n"
     ]
    },
    {
     "name": "stderr",
     "output_type": "stream",
     "text": [
      "  7%|██████▍                                                                                 | 73/1000 [00:17<02:49,  5.47it/s]"
     ]
    },
    {
     "name": "stdout",
     "output_type": "stream",
     "text": [
      "0.16149797\n",
      "0.4671561899877481\n",
      "0.9279999999999999\n",
      "0.17865755\n",
      "0.3920214770926607\n",
      "0.9269999999999999\n"
     ]
    },
    {
     "name": "stderr",
     "output_type": "stream",
     "text": [
      "  7%|██████▌                                                                                 | 74/1000 [00:17<03:38,  4.24it/s]"
     ]
    },
    {
     "name": "stdout",
     "output_type": "stream",
     "text": [
      "0.17564248\n",
      "0.4231190757312789\n",
      "0.9259999999999999\n"
     ]
    },
    {
     "name": "stderr",
     "output_type": "stream",
     "text": [
      "  8%|██████▋                                                                                 | 76/1000 [00:18<04:16,  3.60it/s]"
     ]
    },
    {
     "name": "stdout",
     "output_type": "stream",
     "text": [
      "0.17727911\n",
      "0.35041126580104737\n",
      "0.9249999999999999\n",
      "0.17023876\n",
      "0.3835629032509668\n",
      "0.9239999999999999\n"
     ]
    },
    {
     "name": "stderr",
     "output_type": "stream",
     "text": [
      "  8%|██████▊                                                                                 | 78/1000 [00:18<02:59,  5.12it/s]"
     ]
    },
    {
     "name": "stdout",
     "output_type": "stream",
     "text": [
      "0.16304928\n",
      "0.414990131989572\n",
      "0.9229999999999999\n",
      "0.1752706\n",
      "0.34292180500059244\n",
      "0.9219999999999999\n"
     ]
    },
    {
     "name": "stderr",
     "output_type": "stream",
     "text": [
      "  8%|██████▉                                                                                 | 79/1000 [00:18<02:55,  5.24it/s]"
     ]
    },
    {
     "name": "stdout",
     "output_type": "stream",
     "text": [
      "0.1680263\n",
      "0.3763569719075029\n",
      "0.9209999999999999\n"
     ]
    },
    {
     "name": "stderr",
     "output_type": "stream",
     "text": [
      "  8%|███████▏                                                                                | 81/1000 [00:19<03:57,  3.87it/s]"
     ]
    },
    {
     "name": "stdout",
     "output_type": "stream",
     "text": [
      "0.16866177\n",
      "0.40806275621005494\n",
      "0.9199999999999999\n",
      "0.17976497\n",
      "0.3365374139849312\n",
      "0.9189999999999999\n"
     ]
    },
    {
     "name": "stderr",
     "output_type": "stream",
     "text": [
      "  8%|███████▎                                                                                | 83/1000 [00:19<03:30,  4.35it/s]"
     ]
    },
    {
     "name": "stdout",
     "output_type": "stream",
     "text": [
      "0.17982908\n",
      "0.37021247428167\n",
      "0.9179999999999999\n",
      "0.1724532\n",
      "0.402154140378784\n",
      "0.9169999999999999\n"
     ]
    },
    {
     "name": "stderr",
     "output_type": "stream",
     "text": [
      "  8%|███████▍                                                                                | 85/1000 [00:20<02:40,  5.69it/s]"
     ]
    },
    {
     "name": "stdout",
     "output_type": "stream",
     "text": [
      "0.18210596\n",
      "0.3310904940253163\n",
      "0.9159999999999999\n",
      "0.18772791\n",
      "0.26367444057411094\n",
      "0.9149999999999999\n"
     ]
    },
    {
     "name": "stderr",
     "output_type": "stream",
     "text": [
      "  9%|███████▋                                                                                | 87/1000 [00:20<03:32,  4.29it/s]"
     ]
    },
    {
     "name": "stdout",
     "output_type": "stream",
     "text": [
      "0.19271132\n",
      "0.19971422115632717\n",
      "0.9139999999999999\n",
      "0.18893613\n",
      "0.24019539165885834\n",
      "0.9129999999999999\n"
     ]
    },
    {
     "name": "stderr",
     "output_type": "stream",
     "text": [
      "  9%|███████▊                                                                                | 89/1000 [00:21<03:44,  4.06it/s]"
     ]
    },
    {
     "name": "stdout",
     "output_type": "stream",
     "text": [
      "0.19057684\n",
      "0.27860647840235764\n",
      "0.9119999999999999\n",
      "0.1850584\n",
      "0.31505554571477884\n",
      "0.9109999999999999\n"
     ]
    },
    {
     "name": "stderr",
     "output_type": "stream",
     "text": [
      "  9%|████████                                                                                | 91/1000 [00:22<04:35,  3.30it/s]"
     ]
    },
    {
     "name": "stdout",
     "output_type": "stream",
     "text": [
      "0.1851853\n",
      "0.24864608748590186\n",
      "0.9099999999999999\n",
      "0.18211065\n",
      "0.286570038679206\n",
      "0.9089999999999999\n"
     ]
    },
    {
     "name": "stderr",
     "output_type": "stream",
     "text": [
      "  9%|████████▏                                                                               | 93/1000 [00:22<03:25,  4.42it/s]"
     ]
    },
    {
     "name": "stdout",
     "output_type": "stream",
     "text": [
      "0.18516341\n",
      "0.22166228376862615\n",
      "0.9079999999999999\n",
      "0.18146071\n",
      "0.26091192951703496\n",
      "0.9069999999999999\n"
     ]
    },
    {
     "name": "stderr",
     "output_type": "stream",
     "text": [
      "  9%|████████▎                                                                               | 94/1000 [00:22<04:14,  3.56it/s]"
     ]
    },
    {
     "name": "stdout",
     "output_type": "stream",
     "text": [
      "0.18191828\n",
      "0.19735443238805048\n",
      "0.9059999999999999\n"
     ]
    },
    {
     "name": "stderr",
     "output_type": "stream",
     "text": [
      " 10%|████████▎                                                                               | 95/1000 [00:23<04:07,  3.65it/s]"
     ]
    },
    {
     "name": "stdout",
     "output_type": "stream",
     "text": [
      "0.18121113\n",
      "0.13702510525886963\n",
      "0.9049999999999999\n"
     ]
    },
    {
     "name": "stderr",
     "output_type": "stream",
     "text": [
      " 10%|████████▌                                                                               | 97/1000 [00:23<03:44,  4.02it/s]"
     ]
    },
    {
     "name": "stdout",
     "output_type": "stream",
     "text": [
      "0.18257806\n",
      "0.18048978855070322\n",
      "0.9039999999999999\n",
      "0.18288058\n",
      "0.12105487645658546\n",
      "0.9029999999999999\n"
     ]
    },
    {
     "name": "stderr",
     "output_type": "stream",
     "text": [
      " 10%|████████▋                                                                               | 99/1000 [00:23<02:49,  5.33it/s]"
     ]
    },
    {
     "name": "stdout",
     "output_type": "stream",
     "text": [
      "0.18035893\n",
      "0.1652923367069369\n",
      "0.9019999999999999\n",
      "0.17979015\n",
      "0.10666232969294294\n",
      "0.9009999999999999\n"
     ]
    },
    {
     "name": "stderr",
     "output_type": "stream",
     "text": [
      " 10%|████████▊                                                                              | 101/1000 [00:24<02:18,  6.50it/s]"
     ]
    },
    {
     "name": "stdout",
     "output_type": "stream",
     "text": [
      "0.17751922\n",
      "0.050999660750339286\n",
      "0.8999999999999999\n",
      "0.17523801\n",
      "0.09871807003752839\n",
      "0.8989999999999999\n"
     ]
    },
    {
     "name": "stderr",
     "output_type": "stream",
     "text": [
      " 10%|████████▊                                                                              | 102/1000 [00:24<02:09,  6.93it/s]"
     ]
    },
    {
     "name": "stdout",
     "output_type": "stream",
     "text": [
      "0.17134784\n",
      "0.14402425003333252\n",
      "0.8979999999999999\n"
     ]
    },
    {
     "name": "stderr",
     "output_type": "stream",
     "text": [
      " 10%|█████████                                                                              | 104/1000 [00:24<02:49,  5.28it/s]"
     ]
    },
    {
     "name": "stdout",
     "output_type": "stream",
     "text": [
      "0.17599662\n",
      "0.08653119625139247\n",
      "0.8969999999999999\n",
      "0.17421453\n",
      "0.13242595510404087\n",
      "0.8959999999999999\n"
     ]
    },
    {
     "name": "stderr",
     "output_type": "stream",
     "text": [
      " 11%|█████████▏                                                                             | 106/1000 [00:25<03:14,  4.59it/s]"
     ]
    },
    {
     "name": "stdout",
     "output_type": "stream",
     "text": [
      "0.17935611\n",
      "0.17600429813365173\n",
      "0.8949999999999999\n",
      "0.17473651\n",
      "0.21738417395079687\n",
      "0.8939999999999999\n"
     ]
    },
    {
     "name": "stderr",
     "output_type": "stream",
     "text": [
      " 11%|█████████▎                                                                             | 107/1000 [00:25<04:08,  3.60it/s]"
     ]
    },
    {
     "name": "stdout",
     "output_type": "stream",
     "text": [
      "0.17980978\n",
      "0.25667742423259904\n",
      "0.8929999999999999\n"
     ]
    },
    {
     "name": "stderr",
     "output_type": "stream",
     "text": [
      " 11%|█████████▍                                                                             | 109/1000 [00:26<03:49,  3.89it/s]"
     ]
    },
    {
     "name": "stdout",
     "output_type": "stream",
     "text": [
      "0.1797951\n",
      "0.2939901097891194\n",
      "0.8919999999999999\n",
      "0.1848083\n",
      "0.22904827970244812\n",
      "0.8909999999999999\n"
     ]
    },
    {
     "name": "stderr",
     "output_type": "stream",
     "text": [
      " 11%|█████████▋                                                                             | 111/1000 [00:26<03:07,  4.74it/s]"
     ]
    },
    {
     "name": "stdout",
     "output_type": "stream",
     "text": [
      "0.18144879\n",
      "0.2677329968323584\n",
      "0.8899999999999999\n",
      "0.18653244\n",
      "0.2041321649841587\n",
      "0.8889999999999999\n"
     ]
    },
    {
     "name": "stderr",
     "output_type": "stream",
     "text": [
      " 11%|█████████▋                                                                             | 112/1000 [00:26<02:41,  5.48it/s]"
     ]
    },
    {
     "name": "stdout",
     "output_type": "stream",
     "text": [
      "0.17908312\n",
      "0.24405327305001998\n",
      "0.8879999999999999\n"
     ]
    },
    {
     "name": "stderr",
     "output_type": "stream",
     "text": [
      " 11%|█████████▉                                                                             | 114/1000 [00:27<02:50,  5.20it/s]"
     ]
    },
    {
     "name": "stdout",
     "output_type": "stream",
     "text": [
      "0.180988\n",
      "0.18166098320608842\n",
      "0.8869999999999999\n",
      "0.17504755\n",
      "0.2226964154014669\n",
      "0.8859999999999999\n"
     ]
    },
    {
     "name": "stderr",
     "output_type": "stream",
     "text": [
      " 12%|██████████                                                                             | 115/1000 [00:27<02:29,  5.93it/s]"
     ]
    },
    {
     "name": "stdout",
     "output_type": "stream",
     "text": [
      "0.17492595\n",
      "0.16139344491958532\n",
      "0.8849999999999999\n"
     ]
    },
    {
     "name": "stderr",
     "output_type": "stream",
     "text": [
      " 12%|██████████                                                                             | 116/1000 [00:27<03:28,  4.25it/s]"
     ]
    },
    {
     "name": "stdout",
     "output_type": "stream",
     "text": [
      "0.17868616\n",
      "0.20343331945568735\n",
      "0.8839999999999999\n"
     ]
    },
    {
     "name": "stderr",
     "output_type": "stream",
     "text": [
      " 12%|██████████▏                                                                            | 117/1000 [00:28<05:23,  2.73it/s]"
     ]
    },
    {
     "name": "stdout",
     "output_type": "stream",
     "text": [
      "0.18084723\n",
      "0.24336049294783563\n",
      "0.8829999999999999\n"
     ]
    },
    {
     "name": "stderr",
     "output_type": "stream",
     "text": [
      " 12%|██████████▎                                                                            | 119/1000 [00:28<03:55,  3.74it/s]"
     ]
    },
    {
     "name": "stdout",
     "output_type": "stream",
     "text": [
      "0.17662251\n",
      "0.28128164820096463\n",
      "0.8819999999999999\n",
      "0.16855685\n",
      "0.3172980311817625\n",
      "0.8809999999999999\n"
     ]
    },
    {
     "name": "stderr",
     "output_type": "stream",
     "text": [
      " 12%|██████████▌                                                                            | 121/1000 [00:29<03:22,  4.33it/s]"
     ]
    },
    {
     "name": "stdout",
     "output_type": "stream",
     "text": [
      "0.16501269\n",
      "0.3515057329512646\n",
      "0.8799999999999999\n",
      "0.1574935\n",
      "0.38399595650584734\n",
      "0.8789999999999999\n"
     ]
    },
    {
     "name": "stderr",
     "output_type": "stream",
     "text": [
      " 12%|██████████▋                                                                            | 123/1000 [00:29<02:32,  5.73it/s]"
     ]
    },
    {
     "name": "stdout",
     "output_type": "stream",
     "text": [
      "0.17251372\n",
      "0.3146633527848502\n",
      "0.8779999999999999\n",
      "0.18197347\n",
      "0.24881035143040964\n",
      "0.8769999999999999\n"
     ]
    },
    {
     "name": "stderr",
     "output_type": "stream",
     "text": [
      " 12%|██████████▉                                                                            | 125/1000 [00:29<02:06,  6.93it/s]"
     ]
    },
    {
     "name": "stdout",
     "output_type": "stream",
     "text": [
      "0.1736353\n",
      "0.28643487648718263\n",
      "0.8759999999999999\n",
      "0.16564812\n",
      "0.32217182320286786\n",
      "0.8749999999999999\n"
     ]
    },
    {
     "name": "stderr",
     "output_type": "stream",
     "text": [
      " 13%|███████████                                                                            | 127/1000 [00:29<02:25,  5.99it/s]"
     ]
    },
    {
     "name": "stdout",
     "output_type": "stream",
     "text": [
      "0.17628404\n",
      "0.25595992967533315\n",
      "0.8739999999999999\n",
      "0.16836582\n",
      "0.29321715471411625\n",
      "0.8729999999999999\n"
     ]
    },
    {
     "name": "stderr",
     "output_type": "stream",
     "text": [
      " 13%|███████████▏                                                                           | 129/1000 [00:30<02:09,  6.73it/s]"
     ]
    },
    {
     "name": "stdout",
     "output_type": "stream",
     "text": [
      "0.17334628\n",
      "0.2284651221651835\n",
      "0.8719999999999999\n",
      "0.17515904\n",
      "0.16695959269508448\n",
      "0.8709999999999999\n"
     ]
    },
    {
     "name": "stderr",
     "output_type": "stream",
     "text": [
      " 13%|███████████▍                                                                           | 131/1000 [00:30<02:44,  5.27it/s]"
     ]
    },
    {
     "name": "stdout",
     "output_type": "stream",
     "text": [
      "0.17747024\n",
      "0.10853737155795658\n",
      "0.8699999999999999\n",
      "0.17157286\n",
      "0.15316437832348137\n",
      "0.8689999999999999\n"
     ]
    },
    {
     "name": "stderr",
     "output_type": "stream",
     "text": [
      " 13%|███████████▌                                                                           | 133/1000 [00:30<02:14,  6.47it/s]"
     ]
    },
    {
     "name": "stdout",
     "output_type": "stream",
     "text": [
      "0.16517548\n",
      "0.19555477587347403\n",
      "0.8679999999999999\n",
      "0.1629934\n",
      "0.13571183635529846\n",
      "0.8669999999999999\n"
     ]
    },
    {
     "name": "stderr",
     "output_type": "stream",
     "text": [
      " 13%|███████████▋                                                                           | 134/1000 [00:31<02:19,  6.20it/s]"
     ]
    },
    {
     "name": "stdout",
     "output_type": "stream",
     "text": [
      "0.15685076\n",
      "0.17897102013912392\n",
      "0.8659999999999999\n"
     ]
    },
    {
     "name": "stderr",
     "output_type": "stream",
     "text": [
      " 14%|███████████▋                                                                           | 135/1000 [00:31<02:55,  4.93it/s]"
     ]
    },
    {
     "name": "stdout",
     "output_type": "stream",
     "text": [
      "0.15973763\n",
      "0.22006287481565587\n",
      "0.8649999999999999\n"
     ]
    },
    {
     "name": "stderr",
     "output_type": "stream",
     "text": [
      " 14%|███████████▊                                                                           | 136/1000 [00:31<04:10,  3.45it/s]"
     ]
    },
    {
     "name": "stdout",
     "output_type": "stream",
     "text": [
      "0.16633682\n",
      "0.1590026925328665\n",
      "0.8639999999999999\n"
     ]
    },
    {
     "name": "stderr",
     "output_type": "stream",
     "text": [
      " 14%|████████████                                                                           | 138/1000 [00:32<03:26,  4.17it/s]"
     ]
    },
    {
     "name": "stdout",
     "output_type": "stream",
     "text": [
      "0.17583817\n",
      "0.1010010855616708\n",
      "0.8629999999999999\n",
      "0.17039025\n",
      "0.14598895867655515\n",
      "0.8619999999999999\n"
     ]
    },
    {
     "name": "stderr",
     "output_type": "stream",
     "text": [
      " 14%|████████████▏                                                                          | 140/1000 [00:32<02:31,  5.68it/s]"
     ]
    },
    {
     "name": "stdout",
     "output_type": "stream",
     "text": [
      "0.16719939\n",
      "0.08864358253047543\n",
      "0.8609999999999999\n",
      "0.1617707\n",
      "0.13424610053480232\n",
      "0.8599999999999999\n"
     ]
    },
    {
     "name": "stderr",
     "output_type": "stream",
     "text": [
      " 14%|████████████▎                                                                          | 141/1000 [00:32<03:04,  4.67it/s]"
     ]
    },
    {
     "name": "stdout",
     "output_type": "stream",
     "text": [
      "0.16386165\n",
      "0.17756510722161783\n",
      "0.8589999999999999\n"
     ]
    },
    {
     "name": "stderr",
     "output_type": "stream",
     "text": [
      " 14%|████████████▎                                                                          | 142/1000 [00:33<03:13,  4.43it/s]"
     ]
    },
    {
     "name": "stdout",
     "output_type": "stream",
     "text": [
      "0.16529775\n",
      "0.21871510858423227\n",
      "0.8579999999999999\n"
     ]
    },
    {
     "name": "stderr",
     "output_type": "stream",
     "text": [
      " 14%|████████████▌                                                                          | 144/1000 [00:34<04:24,  3.23it/s]"
     ]
    },
    {
     "name": "stdout",
     "output_type": "stream",
     "text": [
      "0.17319591\n",
      "0.25780485304975953\n",
      "0.8569999999999999\n",
      "0.16560185\n",
      "0.29493762251053246\n",
      "0.8559999999999999\n"
     ]
    },
    {
     "name": "stderr",
     "output_type": "stream",
     "text": [
      " 14%|████████████▌                                                                          | 145/1000 [00:34<05:25,  2.62it/s]"
     ]
    },
    {
     "name": "stdout",
     "output_type": "stream",
     "text": [
      "0.16518545\n",
      "0.3302115084955033\n",
      "0.8549999999999999\n"
     ]
    },
    {
     "name": "stderr",
     "output_type": "stream",
     "text": [
      " 15%|████████████▋                                                                          | 146/1000 [00:35<09:05,  1.57it/s]"
     ]
    },
    {
     "name": "stdout",
     "output_type": "stream",
     "text": [
      "0.16460347\n",
      "0.26366371275548767\n",
      "0.8539999999999999\n"
     ]
    },
    {
     "name": "stderr",
     "output_type": "stream",
     "text": [
      " 15%|████████████▊                                                                          | 147/1000 [00:36<07:20,  1.94it/s]"
     ]
    },
    {
     "name": "stdout",
     "output_type": "stream",
     "text": [
      "0.16114965\n",
      "0.30050009964932606\n",
      "0.8529999999999999\n"
     ]
    },
    {
     "name": "stderr",
     "output_type": "stream",
     "text": [
      " 15%|████████████▉                                                                          | 148/1000 [00:36<06:34,  2.16it/s]"
     ]
    },
    {
     "name": "stdout",
     "output_type": "stream",
     "text": [
      "0.15741941\n",
      "0.3354927579128901\n",
      "0.8519999999999999\n"
     ]
    },
    {
     "name": "stderr",
     "output_type": "stream",
     "text": [
      " 15%|████████████▉                                                                          | 149/1000 [00:36<06:07,  2.32it/s]"
     ]
    },
    {
     "name": "stdout",
     "output_type": "stream",
     "text": [
      "0.15913367\n",
      "0.26868608410926664\n",
      "0.8509999999999999\n"
     ]
    },
    {
     "name": "stderr",
     "output_type": "stream",
     "text": [
      " 15%|█████████████▏                                                                         | 151/1000 [00:37<04:26,  3.18it/s]"
     ]
    },
    {
     "name": "stdout",
     "output_type": "stream",
     "text": [
      "0.156089\n",
      "0.3052684451803677\n",
      "0.8499999999999999\n",
      "0.15069436\n",
      "0.3400200626299398\n",
      "0.8489999999999999\n"
     ]
    },
    {
     "name": "stderr",
     "output_type": "stream",
     "text": [
      " 15%|█████████████▎                                                                         | 153/1000 [00:37<03:35,  3.94it/s]"
     ]
    },
    {
     "name": "stdout",
     "output_type": "stream",
     "text": [
      "0.14664166\n",
      "0.37303263223231614\n",
      "0.8479999999999999\n",
      "0.14049612\n",
      "0.4043932494959464\n",
      "0.8469999999999999\n"
     ]
    },
    {
     "name": "stderr",
     "output_type": "stream",
     "text": [
      " 15%|█████████████▍                                                                         | 154/1000 [00:37<03:37,  3.90it/s]"
     ]
    },
    {
     "name": "stdout",
     "output_type": "stream",
     "text": [
      "0.13703771\n",
      "0.4341846411877592\n",
      "0.8459999999999999\n"
     ]
    },
    {
     "name": "stderr",
     "output_type": "stream",
     "text": [
      " 16%|█████████████▍                                                                         | 155/1000 [00:38<04:51,  2.89it/s]"
     ]
    },
    {
     "name": "stdout",
     "output_type": "stream",
     "text": [
      "0.13490151\n",
      "0.46248538513368526\n",
      "0.8449999999999999\n"
     ]
    },
    {
     "name": "stderr",
     "output_type": "stream",
     "text": [
      " 16%|█████████████▋                                                                         | 157/1000 [00:38<04:21,  3.23it/s]"
     ]
    },
    {
     "name": "stdout",
     "output_type": "stream",
     "text": [
      "0.13189314\n",
      "0.4893701188959683\n",
      "0.8439999999999999\n",
      "0.1263449\n",
      "0.5149097378964455\n",
      "0.8429999999999999\n"
     ]
    },
    {
     "name": "stderr",
     "output_type": "stream",
     "text": [
      " 16%|█████████████▊                                                                         | 159/1000 [00:39<03:32,  3.96it/s]"
     ]
    },
    {
     "name": "stdout",
     "output_type": "stream",
     "text": [
      "0.123315714\n",
      "0.5391715835252451\n",
      "0.8419999999999999\n",
      "0.14657019\n",
      "0.4621909021750832\n",
      "0.8409999999999999\n"
     ]
    },
    {
     "name": "stderr",
     "output_type": "stream",
     "text": [
      " 16%|█████████████▉                                                                         | 160/1000 [00:39<03:39,  3.83it/s]"
     ]
    },
    {
     "name": "stdout",
     "output_type": "stream",
     "text": [
      "0.1431836\n",
      "0.4890886936431352\n",
      "0.8399999999999999\n"
     ]
    },
    {
     "name": "stderr",
     "output_type": "stream",
     "text": [
      " 16%|██████████████                                                                         | 162/1000 [00:40<04:04,  3.43it/s]"
     ]
    },
    {
     "name": "stdout",
     "output_type": "stream",
     "text": [
      "0.1411287\n",
      "0.5146408800361453\n",
      "0.8389999999999999\n",
      "0.13582483\n",
      "0.5389148113957248\n",
      "0.8379999999999999\n"
     ]
    },
    {
     "name": "stderr",
     "output_type": "stream",
     "text": [
      " 16%|██████████████▏                                                                        | 163/1000 [00:40<03:20,  4.17it/s]"
     ]
    },
    {
     "name": "stdout",
     "output_type": "stream",
     "text": [
      "0.15935205\n",
      "0.4619510724292291\n",
      "0.8369999999999999\n"
     ]
    },
    {
     "name": "stderr",
     "output_type": "stream",
     "text": [
      " 16%|██████████████▎                                                                        | 165/1000 [00:41<03:23,  4.11it/s]"
     ]
    },
    {
     "name": "stdout",
     "output_type": "stream",
     "text": [
      "0.16364594\n",
      "0.38883727564468484\n",
      "0.8359999999999999\n",
      "0.17275667\n",
      "0.3193807527420879\n",
      "0.8349999999999999\n"
     ]
    },
    {
     "name": "stderr",
     "output_type": "stream",
     "text": [
      " 17%|██████████████▍                                                                        | 166/1000 [00:41<02:52,  4.83it/s]"
     ]
    },
    {
     "name": "stdout",
     "output_type": "stream",
     "text": [
      "0.16551694\n",
      "0.35341853974572174\n",
      "0.8339999999999999\n"
     ]
    },
    {
     "name": "stderr",
     "output_type": "stream",
     "text": [
      " 17%|██████████████▌                                                                        | 167/1000 [00:41<03:31,  3.94it/s]"
     ]
    },
    {
     "name": "stdout",
     "output_type": "stream",
     "text": [
      "0.16416778\n",
      "0.38575377186993404\n",
      "0.8329999999999999\n"
     ]
    },
    {
     "name": "stderr",
     "output_type": "stream",
     "text": [
      " 17%|██████████████▋                                                                        | 169/1000 [00:42<03:57,  3.50it/s]"
     ]
    },
    {
     "name": "stdout",
     "output_type": "stream",
     "text": [
      "0.16653758\n",
      "0.3164535431950192\n",
      "0.8319999999999999\n",
      "0.17006429\n",
      "0.250619548822006\n",
      "0.8309999999999998\n"
     ]
    },
    {
     "name": "stderr",
     "output_type": "stream",
     "text": [
      " 17%|██████████████▊                                                                        | 170/1000 [00:42<04:42,  2.93it/s]"
     ]
    },
    {
     "name": "stdout",
     "output_type": "stream",
     "text": [
      "0.1684167\n",
      "0.2880946914481432\n",
      "0.8299999999999998\n"
     ]
    },
    {
     "name": "stderr",
     "output_type": "stream",
     "text": [
      " 17%|██████████████▉                                                                        | 171/1000 [00:43<05:16,  2.62it/s]"
     ]
    },
    {
     "name": "stdout",
     "output_type": "stream",
     "text": [
      "0.16800882\n",
      "0.2236799632821739\n",
      "0.8289999999999998\n"
     ]
    },
    {
     "name": "stderr",
     "output_type": "stream",
     "text": [
      " 17%|███████████████                                                                        | 173/1000 [00:43<03:54,  3.52it/s]"
     ]
    },
    {
     "name": "stdout",
     "output_type": "stream",
     "text": [
      "0.16457678\n",
      "0.262501686947712\n",
      "0.8279999999999998\n",
      "0.15870118\n",
      "0.29938176647345865\n",
      "0.8269999999999998\n"
     ]
    },
    {
     "name": "stderr",
     "output_type": "stream",
     "text": [
      " 18%|███████████████▏                                                                       | 175/1000 [00:43<03:18,  4.15it/s]"
     ]
    },
    {
     "name": "stdout",
     "output_type": "stream",
     "text": [
      "0.15688182\n",
      "0.33441733847830757\n",
      "0.8259999999999998\n",
      "0.15065925\n",
      "0.36770067744345747\n",
      "0.8249999999999998\n"
     ]
    },
    {
     "name": "stderr",
     "output_type": "stream",
     "text": [
      " 18%|███████████████▎                                                                       | 176/1000 [00:44<03:00,  4.56it/s]"
     ]
    },
    {
     "name": "stdout",
     "output_type": "stream",
     "text": [
      "0.1444879\n",
      "0.3993194393369315\n",
      "0.8239999999999998\n"
     ]
    },
    {
     "name": "stderr",
     "output_type": "stream",
     "text": [
      " 18%|███████████████▍                                                                       | 178/1000 [00:44<02:48,  4.87it/s]"
     ]
    },
    {
     "name": "stdout",
     "output_type": "stream",
     "text": [
      "0.15115601\n",
      "0.3293454871560422\n",
      "0.8229999999999998\n",
      "0.14520907\n",
      "0.3628818462353915\n",
      "0.8219999999999998\n"
     ]
    },
    {
     "name": "stderr",
     "output_type": "stream",
     "text": [
      " 18%|███████████████▋                                                                       | 180/1000 [00:45<03:44,  3.65it/s]"
     ]
    },
    {
     "name": "stdout",
     "output_type": "stream",
     "text": [
      "0.14494647\n",
      "0.39474103306418473\n",
      "0.8209999999999998\n",
      "0.15576634\n",
      "0.32499716187222377\n",
      "0.8199999999999998\n"
     ]
    },
    {
     "name": "stderr",
     "output_type": "stream",
     "text": [
      " 18%|███████████████▊                                                                       | 182/1000 [00:45<03:33,  3.83it/s]"
     ]
    },
    {
     "name": "stdout",
     "output_type": "stream",
     "text": [
      "0.15400961\n",
      "0.35875043914648813\n",
      "0.8189999999999998\n",
      "0.14754513\n",
      "0.3908157468316923\n",
      "0.8179999999999998\n"
     ]
    },
    {
     "name": "stderr",
     "output_type": "stream",
     "text": [
      " 18%|███████████████▉                                                                       | 183/1000 [00:46<04:24,  3.09it/s]"
     ]
    },
    {
     "name": "stdout",
     "output_type": "stream",
     "text": [
      "0.14578068\n",
      "0.42127751321935886\n",
      "0.8169999999999998\n"
     ]
    },
    {
     "name": "stderr",
     "output_type": "stream",
     "text": [
      " 18%|████████████████                                                                       | 184/1000 [00:46<04:04,  3.34it/s]"
     ]
    },
    {
     "name": "stdout",
     "output_type": "stream",
     "text": [
      "0.15428832\n",
      "0.35020797742257953\n",
      "0.8159999999999998\n"
     ]
    },
    {
     "name": "stderr",
     "output_type": "stream",
     "text": [
      " 19%|████████████████▏                                                                      | 186/1000 [00:47<03:29,  3.88it/s]"
     ]
    },
    {
     "name": "stdout",
     "output_type": "stream",
     "text": [
      "0.15138566\n",
      "0.38270003690430215\n",
      "0.8149999999999998\n",
      "0.14511946\n",
      "0.4135672537053061\n",
      "0.8139999999999998\n"
     ]
    },
    {
     "name": "stderr",
     "output_type": "stream",
     "text": [
      " 19%|████████████████▎                                                                      | 187/1000 [00:47<05:27,  2.48it/s]"
     ]
    },
    {
     "name": "stdout",
     "output_type": "stream",
     "text": [
      "0.14660648\n",
      "0.34288406454210363\n",
      "0.8129999999999998\n"
     ]
    },
    {
     "name": "stderr",
     "output_type": "stream",
     "text": [
      " 19%|████████████████▍                                                                      | 189/1000 [00:48<04:33,  2.96it/s]"
     ]
    },
    {
     "name": "stdout",
     "output_type": "stream",
     "text": [
      "0.1474325\n",
      "0.27573550544918835\n",
      "0.8119999999999998\n",
      "0.14338613\n",
      "0.3119509619771945\n",
      "0.8109999999999998\n"
     ]
    },
    {
     "name": "stderr",
     "output_type": "stream",
     "text": [
      " 19%|████████████████▌                                                                      | 190/1000 [00:48<04:22,  3.09it/s]"
     ]
    },
    {
     "name": "stdout",
     "output_type": "stream",
     "text": [
      "0.14037529\n",
      "0.3463554280655149\n",
      "0.8099999999999998\n"
     ]
    },
    {
     "name": "stderr",
     "output_type": "stream",
     "text": [
      " 19%|████████████████▋                                                                      | 192/1000 [00:49<03:51,  3.49it/s]"
     ]
    },
    {
     "name": "stdout",
     "output_type": "stream",
     "text": [
      "0.14241132\n",
      "0.27903391243244297\n",
      "0.8089999999999998\n",
      "0.13824126\n",
      "0.31508412156968796\n",
      "0.8079999999999998\n"
     ]
    },
    {
     "name": "stderr",
     "output_type": "stream",
     "text": [
      " 19%|████████████████▉                                                                      | 194/1000 [00:49<02:46,  4.83it/s]"
     ]
    },
    {
     "name": "stdout",
     "output_type": "stream",
     "text": [
      "0.14247115\n",
      "0.2493266148284005\n",
      "0.8069999999999998\n",
      "0.1439349\n",
      "0.18685730525414712\n",
      "0.8059999999999998\n"
     ]
    },
    {
     "name": "stderr",
     "output_type": "stream",
     "text": [
      " 20%|████████████████▉                                                                      | 195/1000 [00:49<03:08,  4.27it/s]"
     ]
    },
    {
     "name": "stdout",
     "output_type": "stream",
     "text": [
      "0.14274475\n",
      "0.22751628186356154\n",
      "0.8049999999999998\n"
     ]
    },
    {
     "name": "stderr",
     "output_type": "stream",
     "text": [
      " 20%|█████████████████                                                                      | 196/1000 [00:50<03:46,  3.55it/s]"
     ]
    },
    {
     "name": "stdout",
     "output_type": "stream",
     "text": [
      "0.14315662\n",
      "0.26614213005224463\n",
      "0.8039999999999998\n"
     ]
    },
    {
     "name": "stderr",
     "output_type": "stream",
     "text": [
      " 20%|█████████████████▏                                                                     | 197/1000 [00:50<03:38,  3.67it/s]"
     ]
    },
    {
     "name": "stdout",
     "output_type": "stream",
     "text": [
      "0.14109448\n",
      "0.3028365237523857\n",
      "0.8029999999999998\n"
     ]
    },
    {
     "name": "stderr",
     "output_type": "stream",
     "text": [
      " 20%|█████████████████▏                                                                     | 198/1000 [00:50<03:48,  3.51it/s]"
     ]
    },
    {
     "name": "stdout",
     "output_type": "stream",
     "text": [
      "0.14023206\n",
      "0.33769605149207\n",
      "0.8019999999999998\n"
     ]
    },
    {
     "name": "stderr",
     "output_type": "stream",
     "text": [
      " 20%|█████████████████▎                                                                     | 199/1000 [00:51<03:59,  3.35it/s]"
     ]
    },
    {
     "name": "stdout",
     "output_type": "stream",
     "text": [
      "0.13816638\n",
      "0.37081247083198704\n",
      "0.8009999999999998\n"
     ]
    },
    {
     "name": "stderr",
     "output_type": "stream",
     "text": [
      " 20%|█████████████████▍                                                                     | 201/1000 [00:51<03:06,  4.29it/s]"
     ]
    },
    {
     "name": "stdout",
     "output_type": "stream",
     "text": [
      "0.13689084\n",
      "0.40227295006406627\n",
      "0.7999999999999998\n",
      "0.15122832\n",
      "0.3321569676963407\n",
      "0.7989999999999998\n"
     ]
    },
    {
     "name": "stderr",
     "output_type": "stream",
     "text": [
      " 20%|█████████████████▌                                                                     | 202/1000 [00:51<03:51,  3.44it/s]"
     ]
    },
    {
     "name": "stdout",
     "output_type": "stream",
     "text": [
      "0.15020566\n",
      "0.36555017570670395\n",
      "0.7979999999999998\n"
     ]
    },
    {
     "name": "stderr",
     "output_type": "stream",
     "text": [
      " 20%|█████████████████▋                                                                     | 204/1000 [00:52<04:01,  3.29it/s]"
     ]
    },
    {
     "name": "stdout",
     "output_type": "stream",
     "text": [
      "0.14861043\n",
      "0.3972736203149234\n",
      "0.7969999999999998\n",
      "0.14356229\n",
      "0.4274107997342063\n",
      "0.7959999999999998\n"
     ]
    },
    {
     "name": "stderr",
     "output_type": "stream",
     "text": [
      " 21%|█████████████████▉                                                                     | 206/1000 [00:52<03:13,  4.11it/s]"
     ]
    },
    {
     "name": "stdout",
     "output_type": "stream",
     "text": [
      "0.14118138\n",
      "0.45604103628783427\n",
      "0.7949999999999998\n",
      "0.13650204\n",
      "0.4832396852991469\n",
      "0.7939999999999998\n"
     ]
    },
    {
     "name": "stderr",
     "output_type": "stream",
     "text": [
      " 21%|██████████████████                                                                     | 208/1000 [00:53<02:45,  4.77it/s]"
     ]
    },
    {
     "name": "stdout",
     "output_type": "stream",
     "text": [
      "0.13212557\n",
      "0.509078333527715\n",
      "0.7929999999999998\n",
      "0.12802853\n",
      "0.533624987675302\n",
      "0.7919999999999998\n"
     ]
    },
    {
     "name": "stderr",
     "output_type": "stream",
     "text": [
      " 21%|██████████████████▎                                                                    | 210/1000 [00:53<02:38,  4.98it/s]"
     ]
    },
    {
     "name": "stdout",
     "output_type": "stream",
     "text": [
      "0.124189034\n",
      "0.5569442534589426\n",
      "0.7909999999999998\n",
      "0.12058683\n",
      "0.579097505723525\n",
      "0.7899999999999998\n"
     ]
    },
    {
     "name": "stderr",
     "output_type": "stream",
     "text": [
      " 21%|██████████████████▍                                                                    | 212/1000 [00:54<02:23,  5.48it/s]"
     ]
    },
    {
     "name": "stdout",
     "output_type": "stream",
     "text": [
      "0.1172032\n",
      "0.6001430500425653\n",
      "0.7889999999999998\n",
      "0.11402101\n",
      "0.6201362762333701\n",
      "0.7879999999999998\n"
     ]
    },
    {
     "name": "stderr",
     "output_type": "stream",
     "text": [
      " 21%|██████████████████▌                                                                    | 214/1000 [00:54<03:00,  4.35it/s]"
     ]
    },
    {
     "name": "stdout",
     "output_type": "stream",
     "text": [
      "0.113236114\n",
      "0.6391298041914093\n",
      "0.7869999999999998\n",
      "0.11017569\n",
      "0.6571736224284304\n",
      "0.7859999999999998\n"
     ]
    },
    {
     "name": "stderr",
     "output_type": "stream",
     "text": [
      " 22%|██████████████████▊                                                                    | 216/1000 [00:54<02:23,  5.45it/s]"
     ]
    },
    {
     "name": "stdout",
     "output_type": "stream",
     "text": [
      "0.107296124\n",
      "0.6743152196795693\n",
      "0.7849999999999998\n",
      "0.12847744\n",
      "0.590598167141284\n",
      "0.7839999999999998\n"
     ]
    },
    {
     "name": "stderr",
     "output_type": "stream",
     "text": [
      " 22%|██████████████████▉                                                                    | 218/1000 [00:55<02:00,  6.46it/s]"
     ]
    },
    {
     "name": "stdout",
     "output_type": "stream",
     "text": [
      "0.12396765\n",
      "0.6110685588030406\n",
      "0.7829999999999998\n",
      "0.13841917\n",
      "0.5305140092679872\n",
      "0.7819999999999998\n"
     ]
    },
    {
     "name": "stderr",
     "output_type": "stream",
     "text": [
      " 22%|███████████████████                                                                    | 219/1000 [00:55<02:04,  6.27it/s]"
     ]
    },
    {
     "name": "stdout",
     "output_type": "stream",
     "text": [
      "0.1330674\n",
      "0.5539886193091208\n",
      "0.7809999999999998\n"
     ]
    },
    {
     "name": "stderr",
     "output_type": "stream",
     "text": [
      " 22%|███████████████████▏                                                                   | 220/1000 [00:55<02:39,  4.89it/s]"
     ]
    },
    {
     "name": "stdout",
     "output_type": "stream",
     "text": [
      "0.13365522\n",
      "0.5762894685736254\n",
      "0.7799999999999998\n"
     ]
    },
    {
     "name": "stderr",
     "output_type": "stream",
     "text": [
      " 22%|███████████████████▏                                                                   | 221/1000 [00:56<03:22,  3.85it/s]"
     ]
    },
    {
     "name": "stdout",
     "output_type": "stream",
     "text": [
      "0.13329256\n",
      "0.5974752480521575\n",
      "0.7789999999999998\n"
     ]
    },
    {
     "name": "stderr",
     "output_type": "stream",
     "text": [
      " 22%|███████████████████▍                                                                   | 223/1000 [00:56<03:08,  4.11it/s]"
     ]
    },
    {
     "name": "stdout",
     "output_type": "stream",
     "text": [
      "0.13884905\n",
      "0.5176005798138313\n",
      "0.7779999999999998\n",
      "0.1333711\n",
      "0.5417208106867334\n",
      "0.7769999999999998\n"
     ]
    },
    {
     "name": "stderr",
     "output_type": "stream",
     "text": [
      " 22%|███████████████████▍                                                                   | 224/1000 [00:56<03:10,  4.07it/s]"
     ]
    },
    {
     "name": "stdout",
     "output_type": "stream",
     "text": [
      "0.12811261\n",
      "0.5646350046790306\n",
      "0.7759999999999998\n"
     ]
    },
    {
     "name": "stderr",
     "output_type": "stream",
     "text": [
      " 22%|███████████████████▌                                                                   | 225/1000 [00:57<03:33,  3.63it/s]"
     ]
    },
    {
     "name": "stdout",
     "output_type": "stream",
     "text": [
      "0.12763749\n",
      "0.5864034661051437\n",
      "0.7749999999999998\n"
     ]
    },
    {
     "name": "stderr",
     "output_type": "stream",
     "text": [
      " 23%|███████████████████▋                                                                   | 226/1000 [00:57<04:03,  3.18it/s]"
     ]
    },
    {
     "name": "stdout",
     "output_type": "stream",
     "text": [
      "0.12900382\n",
      "0.6070834838229043\n",
      "0.7739999999999998\n"
     ]
    },
    {
     "name": "stderr",
     "output_type": "stream",
     "text": [
      " 23%|███████████████████▊                                                                   | 228/1000 [00:58<03:38,  3.53it/s]"
     ]
    },
    {
     "name": "stdout",
     "output_type": "stream",
     "text": [
      "0.13669801\n",
      "0.5267286044993862\n",
      "0.7729999999999998\n",
      "0.13148086\n",
      "0.5503923715466166\n",
      "0.7719999999999998\n"
     ]
    },
    {
     "name": "stderr",
     "output_type": "stream",
     "text": [
      " 23%|████████████████████                                                                   | 230/1000 [00:58<02:52,  4.46it/s]"
     ]
    },
    {
     "name": "stdout",
     "output_type": "stream",
     "text": [
      "0.13046932\n",
      "0.5728729310072938\n",
      "0.7709999999999998\n",
      "0.14311084\n",
      "0.4942286927643442\n",
      "0.7699999999999998\n"
     ]
    },
    {
     "name": "stderr",
     "output_type": "stream",
     "text": [
      " 23%|████████████████████                                                                   | 231/1000 [00:58<02:27,  5.21it/s]"
     ]
    },
    {
     "name": "stdout",
     "output_type": "stream",
     "text": [
      "0.13747588\n",
      "0.5195174388768812\n",
      "0.7689999999999998\n"
     ]
    },
    {
     "name": "stderr",
     "output_type": "stream",
     "text": [
      " 23%|████████████████████▎                                                                  | 233/1000 [00:59<03:15,  3.93it/s]"
     ]
    },
    {
     "name": "stdout",
     "output_type": "stream",
     "text": [
      "0.13767226\n",
      "0.5435417300604731\n",
      "0.7679999999999998\n",
      "0.13265564\n",
      "0.5663647907798578\n",
      "0.7669999999999998\n"
     ]
    },
    {
     "name": "stderr",
     "output_type": "stream",
     "text": [
      " 24%|████████████████████▍                                                                  | 235/1000 [01:00<03:47,  3.36it/s]"
     ]
    },
    {
     "name": "stdout",
     "output_type": "stream",
     "text": [
      "0.13171531\n",
      "0.5880466841090005\n",
      "0.7659999999999998\n",
      "0.14944553\n",
      "0.5086438876470354\n",
      "0.7649999999999998\n"
     ]
    },
    {
     "name": "stderr",
     "output_type": "stream",
     "text": [
      " 24%|████████████████████▌                                                                  | 237/1000 [01:00<03:05,  4.12it/s]"
     ]
    },
    {
     "name": "stdout",
     "output_type": "stream",
     "text": [
      "0.1437926\n",
      "0.5332118291397024\n",
      "0.7639999999999998\n",
      "0.13852888\n",
      "0.5565513603098522\n",
      "0.7629999999999998\n"
     ]
    },
    {
     "name": "stderr",
     "output_type": "stream",
     "text": [
      " 24%|████████████████████▊                                                                  | 239/1000 [01:00<02:32,  4.99it/s]"
     ]
    },
    {
     "name": "stdout",
     "output_type": "stream",
     "text": [
      "0.13363478\n",
      "0.5787239029652892\n",
      "0.7619999999999998\n",
      "0.12908779\n",
      "0.5997878076974875\n",
      "0.7609999999999998\n"
     ]
    },
    {
     "name": "stderr",
     "output_type": "stream",
     "text": [
      " 24%|████████████████████▉                                                                  | 241/1000 [01:01<02:29,  5.06it/s]"
     ]
    },
    {
     "name": "stdout",
     "output_type": "stream",
     "text": [
      "0.13849503\n",
      "0.5197980569832844\n",
      "0.7599999999999998\n",
      "0.1475341\n",
      "0.4438078289370513\n",
      "0.7589999999999998\n"
     ]
    },
    {
     "name": "stderr",
     "output_type": "stream",
     "text": [
      " 24%|█████████████████████▏                                                                 | 243/1000 [01:01<02:08,  5.89it/s]"
     ]
    },
    {
     "name": "stdout",
     "output_type": "stream",
     "text": [
      "0.14170584\n",
      "0.4716175505502352\n",
      "0.7579999999999998\n",
      "0.14725566\n",
      "0.3980363888366931\n",
      "0.7569999999999998\n"
     ]
    },
    {
     "name": "stderr",
     "output_type": "stream",
     "text": [
      " 24%|█████████████████████▎                                                                 | 245/1000 [01:01<02:26,  5.16it/s]"
     ]
    },
    {
     "name": "stdout",
     "output_type": "stream",
     "text": [
      "0.15102486\n",
      "0.3281343129170678\n",
      "0.7559999999999998\n",
      "0.14590871\n",
      "0.3617277143659245\n",
      "0.7549999999999998\n"
     ]
    },
    {
     "name": "stderr",
     "output_type": "stream",
     "text": [
      " 25%|█████████████████████▍                                                                 | 246/1000 [01:02<02:10,  5.76it/s]"
     ]
    },
    {
     "name": "stdout",
     "output_type": "stream",
     "text": [
      "0.14059253\n",
      "0.3936414343255664\n",
      "0.7539999999999998\n"
     ]
    },
    {
     "name": "stderr",
     "output_type": "stream",
     "text": [
      " 25%|█████████████████████▍                                                                 | 247/1000 [01:02<02:37,  4.77it/s]"
     ]
    },
    {
     "name": "stdout",
     "output_type": "stream",
     "text": [
      "0.14082156\n",
      "0.4239594579835948\n",
      "0.7529999999999998\n"
     ]
    },
    {
     "name": "stderr",
     "output_type": "stream",
     "text": [
      " 25%|█████████████████████▋                                                                 | 249/1000 [01:02<02:43,  4.59it/s]"
     ]
    },
    {
     "name": "stdout",
     "output_type": "stream",
     "text": [
      "0.1443143\n",
      "0.3527612723082199\n",
      "0.7519999999999998\n",
      "0.13898478\n",
      "0.38512330057121447\n",
      "0.7509999999999998\n"
     ]
    },
    {
     "name": "stderr",
     "output_type": "stream",
     "text": [
      " 25%|█████████████████████▊                                                                 | 250/1000 [01:03<02:47,  4.48it/s]"
     ]
    },
    {
     "name": "stdout",
     "output_type": "stream",
     "text": [
      "0.14179118\n",
      "0.31586694874950927\n",
      "0.7499999999999998\n"
     ]
    },
    {
     "name": "stderr",
     "output_type": "stream",
     "text": [
      " 25%|█████████████████████▉                                                                 | 252/1000 [01:03<03:18,  3.76it/s]"
     ]
    },
    {
     "name": "stdout",
     "output_type": "stream",
     "text": [
      "0.14667554\n",
      "0.3500736889589453\n",
      "0.7489999999999998\n",
      "0.14123121\n",
      "0.3825700836123148\n",
      "0.7479999999999998\n"
     ]
    },
    {
     "name": "stderr",
     "output_type": "stream",
     "text": [
      " 25%|██████████████████████                                                                 | 254/1000 [01:04<02:41,  4.61it/s]"
     ]
    },
    {
     "name": "stdout",
     "output_type": "stream",
     "text": [
      "0.1481676\n",
      "0.3134414195751983\n",
      "0.7469999999999998\n",
      "0.14285524\n",
      "0.34776942400910554\n",
      "0.7459999999999998\n"
     ]
    },
    {
     "name": "stderr",
     "output_type": "stream",
     "text": [
      " 26%|██████████████████████▏                                                                | 255/1000 [01:04<04:42,  2.63it/s]"
     ]
    },
    {
     "name": "stdout",
     "output_type": "stream",
     "text": [
      "0.14778319\n",
      "0.2803808121696213\n",
      "0.7449999999999998\n"
     ]
    },
    {
     "name": "stderr",
     "output_type": "stream",
     "text": [
      " 26%|██████████████████████▎                                                                | 256/1000 [01:05<05:08,  2.41it/s]"
     ]
    },
    {
     "name": "stdout",
     "output_type": "stream",
     "text": [
      "0.14826098\n",
      "0.3163618428984216\n",
      "0.7439999999999998\n"
     ]
    },
    {
     "name": "stderr",
     "output_type": "stream",
     "text": [
      " 26%|██████████████████████▎                                                                | 257/1000 [01:05<04:33,  2.72it/s]"
     ]
    },
    {
     "name": "stdout",
     "output_type": "stream",
     "text": [
      "0.1520816\n",
      "0.2505436267846236\n",
      "0.7429999999999998\n"
     ]
    },
    {
     "name": "stderr",
     "output_type": "stream",
     "text": [
      " 26%|██████████████████████▍                                                                | 258/1000 [01:05<04:02,  3.06it/s]"
     ]
    },
    {
     "name": "stdout",
     "output_type": "stream",
     "text": [
      "0.14692603\n",
      "0.288016512496708\n",
      "0.7419999999999998\n"
     ]
    },
    {
     "name": "stderr",
     "output_type": "stream",
     "text": [
      " 26%|██████████████████████▌                                                                | 259/1000 [01:06<04:54,  2.52it/s]"
     ]
    },
    {
     "name": "stdout",
     "output_type": "stream",
     "text": [
      "0.14907354\n",
      "0.22361557739914392\n",
      "0.7409999999999998\n"
     ]
    },
    {
     "name": "stderr",
     "output_type": "stream",
     "text": [
      " 26%|██████████████████████▌                                                                | 260/1000 [01:06<05:30,  2.24it/s]"
     ]
    },
    {
     "name": "stdout",
     "output_type": "stream",
     "text": [
      "0.14800242\n",
      "0.26243486121725595\n",
      "0.7399999999999998\n"
     ]
    },
    {
     "name": "stderr",
     "output_type": "stream",
     "text": [
      " 26%|██████████████████████▊                                                                | 262/1000 [01:07<03:59,  3.08it/s]"
     ]
    },
    {
     "name": "stdout",
     "output_type": "stream",
     "text": [
      "0.14318393\n",
      "0.2993131747323663\n",
      "0.7389999999999998\n",
      "0.1381802\n",
      "0.33434756705555574\n",
      "0.7379999999999998\n"
     ]
    },
    {
     "name": "stderr",
     "output_type": "stream",
     "text": [
      " 26%|██████████████████████▉                                                                | 263/1000 [01:07<03:30,  3.51it/s]"
     ]
    },
    {
     "name": "stdout",
     "output_type": "stream",
     "text": [
      "0.13319647\n",
      "0.36763023478424744\n",
      "0.7369999999999998\n"
     ]
    },
    {
     "name": "stderr",
     "output_type": "stream",
     "text": [
      " 26%|███████████████████████                                                                | 265/1000 [01:08<02:54,  4.21it/s]"
     ]
    },
    {
     "name": "stdout",
     "output_type": "stream",
     "text": [
      "0.13587037\n",
      "0.2992486331012696\n",
      "0.7359999999999998\n",
      "0.13155495\n",
      "0.33428624522763206\n",
      "0.7349999999999998\n"
     ]
    },
    {
     "name": "stderr",
     "output_type": "stream",
     "text": [
      " 27%|███████████████████████▏                                                               | 266/1000 [01:08<02:54,  4.20it/s]"
     ]
    },
    {
     "name": "stdout",
     "output_type": "stream",
     "text": [
      "0.12706384\n",
      "0.3675719724789824\n",
      "0.7339999999999998\n"
     ]
    },
    {
     "name": "stderr",
     "output_type": "stream",
     "text": [
      " 27%|███████████████████████▏                                                               | 267/1000 [01:08<02:53,  4.22it/s]"
     ]
    },
    {
     "name": "stdout",
     "output_type": "stream",
     "text": [
      "0.12259276\n",
      "0.3991934095152694\n",
      "0.7329999999999998\n"
     ]
    },
    {
     "name": "stderr",
     "output_type": "stream",
     "text": [
      " 27%|███████████████████████▍                                                               | 269/1000 [01:09<03:00,  4.05it/s]"
     ]
    },
    {
     "name": "stdout",
     "output_type": "stream",
     "text": [
      "0.12558314\n",
      "0.4292337712228653\n",
      "0.7319999999999998\n",
      "0.12129886\n",
      "0.4577721117072007\n",
      "0.7309999999999998\n"
     ]
    },
    {
     "name": "stderr",
     "output_type": "stream",
     "text": [
      " 27%|███████████████████████▌                                                               | 271/1000 [01:09<03:05,  3.92it/s]"
     ]
    },
    {
     "name": "stdout",
     "output_type": "stream",
     "text": [
      "0.1236067\n",
      "0.48488353233538245\n",
      "0.7299999999999998\n",
      "0.13412172\n",
      "0.410639287522468\n",
      "0.7289999999999998\n"
     ]
    },
    {
     "name": "stderr",
     "output_type": "stream",
     "text": [
      " 27%|███████████████████████▋                                                               | 272/1000 [01:09<02:37,  4.62it/s]"
     ]
    },
    {
     "name": "stdout",
     "output_type": "stream",
     "text": [
      "0.139999\n",
      "0.3401072615993292\n",
      "0.7279999999999998\n"
     ]
    },
    {
     "name": "stderr",
     "output_type": "stream",
     "text": [
      " 27%|███████████████████████▊                                                               | 274/1000 [01:10<02:20,  5.17it/s]"
     ]
    },
    {
     "name": "stdout",
     "output_type": "stream",
     "text": [
      "0.14194088\n",
      "0.3731019258712916\n",
      "0.7269999999999998\n",
      "0.14552823\n",
      "0.30444677550964394\n",
      "0.7259999999999998\n"
     ]
    },
    {
     "name": "stderr",
     "output_type": "stream",
     "text": [
      " 28%|███████████████████████▉                                                               | 275/1000 [01:10<04:20,  2.78it/s]"
     ]
    },
    {
     "name": "stdout",
     "output_type": "stream",
     "text": [
      "0.1481185\n",
      "0.3392244627532547\n",
      "0.7249999999999998\n"
     ]
    },
    {
     "name": "stderr",
     "output_type": "stream",
     "text": [
      " 28%|████████████████████████                                                               | 277/1000 [01:11<03:22,  3.58it/s]"
     ]
    },
    {
     "name": "stdout",
     "output_type": "stream",
     "text": [
      "0.14786227\n",
      "0.3722632630978215\n",
      "0.7239999999999998\n",
      "0.15356311\n",
      "0.3036500536146266\n",
      "0.7229999999999998\n"
     ]
    },
    {
     "name": "stderr",
     "output_type": "stream",
     "text": [
      " 28%|████████████████████████▏                                                              | 278/1000 [01:11<03:12,  3.75it/s]"
     ]
    },
    {
     "name": "stdout",
     "output_type": "stream",
     "text": [
      "0.14782712\n",
      "0.3384675732675656\n",
      "0.7219999999999998\n"
     ]
    },
    {
     "name": "stderr",
     "output_type": "stream",
     "text": [
      " 28%|████████████████████████▎                                                              | 280/1000 [01:12<02:56,  4.08it/s]"
     ]
    },
    {
     "name": "stdout",
     "output_type": "stream",
     "text": [
      "0.1475195\n",
      "0.3715442147603234\n",
      "0.7209999999999998\n",
      "0.1427278\n",
      "0.4029670222132189\n",
      "0.7199999999999998\n"
     ]
    },
    {
     "name": "stderr",
     "output_type": "stream",
     "text": [
      " 28%|████████████████████████▍                                                              | 281/1000 [01:12<03:05,  3.88it/s]"
     ]
    },
    {
     "name": "stdout",
     "output_type": "stream",
     "text": [
      "0.14383972\n",
      "0.4328186875198548\n",
      "0.7189999999999998\n"
     ]
    },
    {
     "name": "stderr",
     "output_type": "stream",
     "text": [
      " 28%|████████████████████████▌                                                              | 283/1000 [01:12<02:31,  4.72it/s]"
     ]
    },
    {
     "name": "stdout",
     "output_type": "stream",
     "text": [
      "0.13931173\n",
      "0.4611777679604716\n",
      "0.7179999999999997\n",
      "0.1351387\n",
      "0.48811889293443744\n",
      "0.7169999999999997\n"
     ]
    },
    {
     "name": "stderr",
     "output_type": "stream",
     "text": [
      " 28%|████████████████████████▊                                                              | 285/1000 [01:12<02:08,  5.57it/s]"
     ]
    },
    {
     "name": "stdout",
     "output_type": "stream",
     "text": [
      "0.13129263\n",
      "0.5137129603559354\n",
      "0.7159999999999997\n",
      "0.14004397\n",
      "0.4380272784348961\n",
      "0.7149999999999997\n"
     ]
    },
    {
     "name": "stderr",
     "output_type": "stream",
     "text": [
      " 29%|████████████████████████▉                                                              | 287/1000 [01:13<01:46,  6.68it/s]"
     ]
    },
    {
     "name": "stdout",
     "output_type": "stream",
     "text": [
      "0.14455317\n",
      "0.36612588391547635\n",
      "0.7139999999999997\n",
      "0.14601676\n",
      "0.297819562105302\n",
      "0.7129999999999997\n"
     ]
    },
    {
     "name": "stderr",
     "output_type": "stream",
     "text": [
      " 29%|█████████████████████████▏                                                             | 289/1000 [01:13<01:52,  6.32it/s]"
     ]
    },
    {
     "name": "stdout",
     "output_type": "stream",
     "text": [
      "0.14065719\n",
      "0.3329285974839897\n",
      "0.7119999999999997\n",
      "0.14058124\n",
      "0.26628214329340705\n",
      "0.7109999999999997\n"
     ]
    },
    {
     "name": "stderr",
     "output_type": "stream",
     "text": [
      " 29%|█████████████████████████▏                                                             | 290/1000 [01:14<03:34,  3.31it/s]"
     ]
    },
    {
     "name": "stdout",
     "output_type": "stream",
     "text": [
      "0.14993735\n",
      "0.2029680141832017\n",
      "0.7099999999999997\n"
     ]
    },
    {
     "name": "stderr",
     "output_type": "stream",
     "text": [
      " 29%|█████████████████████████▎                                                             | 291/1000 [01:14<04:46,  2.47it/s]"
     ]
    },
    {
     "name": "stdout",
     "output_type": "stream",
     "text": [
      "0.15318453\n",
      "0.242819626596495\n",
      "0.7089999999999997\n"
     ]
    },
    {
     "name": "stderr",
     "output_type": "stream",
     "text": [
      " 29%|█████████████████████████▍                                                             | 293/1000 [01:15<03:21,  3.51it/s]"
     ]
    },
    {
     "name": "stdout",
     "output_type": "stream",
     "text": [
      "0.15277869\n",
      "0.28067865710968404\n",
      "0.7079999999999997\n",
      "0.15340137\n",
      "0.21664470522473145\n",
      "0.7069999999999997\n"
     ]
    },
    {
     "name": "stderr",
     "output_type": "stream",
     "text": [
      " 30%|█████████████████████████▋                                                             | 295/1000 [01:15<02:34,  4.56it/s]"
     ]
    },
    {
     "name": "stdout",
     "output_type": "stream",
     "text": [
      "0.14831047\n",
      "0.25581248102129833\n",
      "0.7059999999999997\n",
      "0.14315931\n",
      "0.29302186694990073\n",
      "0.7049999999999997\n"
     ]
    },
    {
     "name": "stderr",
     "output_type": "stream",
     "text": [
      " 30%|█████████████████████████▊                                                             | 296/1000 [01:15<02:15,  5.18it/s]"
     ]
    },
    {
     "name": "stdout",
     "output_type": "stream",
     "text": [
      "0.1381312\n",
      "0.3283707826090552\n",
      "0.7039999999999997\n"
     ]
    },
    {
     "name": "stderr",
     "output_type": "stream",
     "text": [
      " 30%|█████████████████████████▊                                                             | 297/1000 [01:15<02:36,  4.49it/s]"
     ]
    },
    {
     "name": "stdout",
     "output_type": "stream",
     "text": [
      "0.14410836\n",
      "0.2619522274017807\n",
      "0.7029999999999997\n"
     ]
    },
    {
     "name": "stderr",
     "output_type": "stream",
     "text": [
      " 30%|█████████████████████████▉                                                             | 298/1000 [01:16<02:37,  4.47it/s]"
     ]
    },
    {
     "name": "stdout",
     "output_type": "stream",
     "text": [
      "0.1391521\n",
      "0.29885462451741673\n",
      "0.7019999999999997\n"
     ]
    },
    {
     "name": "stderr",
     "output_type": "stream",
     "text": [
      " 30%|██████████████████████████                                                             | 299/1000 [01:16<03:43,  3.14it/s]"
     ]
    },
    {
     "name": "stdout",
     "output_type": "stream",
     "text": [
      "0.14131506\n",
      "0.3339119009499126\n",
      "0.7009999999999997\n"
     ]
    },
    {
     "name": "stderr",
     "output_type": "stream",
     "text": [
      " 30%|██████████████████████████                                                             | 300/1000 [01:17<03:56,  2.96it/s]"
     ]
    },
    {
     "name": "stdout",
     "output_type": "stream",
     "text": [
      "0.14588532\n",
      "0.26721629206105485\n",
      "0.6999999999999997\n"
     ]
    },
    {
     "name": "stderr",
     "output_type": "stream",
     "text": [
      " 30%|██████████████████████████▎                                                            | 302/1000 [01:17<03:20,  3.48it/s]"
     ]
    },
    {
     "name": "stdout",
     "output_type": "stream",
     "text": [
      "0.14743187\n",
      "0.3038554846815589\n",
      "0.6989999999999997\n",
      "0.142459\n",
      "0.3386627169667408\n",
      "0.6979999999999997\n"
     ]
    },
    {
     "name": "stderr",
     "output_type": "stream",
     "text": [
      " 30%|██████████████████████████▎                                                            | 303/1000 [01:17<03:08,  3.69it/s]"
     ]
    },
    {
     "name": "stdout",
     "output_type": "stream",
     "text": [
      "0.13757621\n",
      "0.3717295870020356\n",
      "0.6969999999999997\n"
     ]
    },
    {
     "name": "stderr",
     "output_type": "stream",
     "text": [
      " 30%|██████████████████████████▍                                                            | 304/1000 [01:18<03:18,  3.51it/s]"
     ]
    },
    {
     "name": "stdout",
     "output_type": "stream",
     "text": [
      "0.13772775\n",
      "0.4031431129619115\n",
      "0.6959999999999997\n"
     ]
    },
    {
     "name": "stderr",
     "output_type": "stream",
     "text": [
      " 30%|██████████████████████████▌                                                            | 305/1000 [01:18<03:54,  2.96it/s]"
     ]
    },
    {
     "name": "stdout",
     "output_type": "stream",
     "text": [
      "0.13798293\n",
      "0.4329859621060707\n",
      "0.6949999999999997\n"
     ]
    },
    {
     "name": "stderr",
     "output_type": "stream",
     "text": [
      " 31%|██████████████████████████▌                                                            | 306/1000 [01:18<03:34,  3.23it/s]"
     ]
    },
    {
     "name": "stdout",
     "output_type": "stream",
     "text": [
      "0.13373819\n",
      "0.4613366683257771\n",
      "0.6939999999999997\n"
     ]
    },
    {
     "name": "stderr",
     "output_type": "stream",
     "text": [
      " 31%|██████████████████████████▋                                                            | 307/1000 [01:19<03:56,  2.93it/s]"
     ]
    },
    {
     "name": "stdout",
     "output_type": "stream",
     "text": [
      "0.13358143\n",
      "0.48826983881280955\n",
      "0.6929999999999997\n"
     ]
    },
    {
     "name": "stderr",
     "output_type": "stream",
     "text": [
      " 31%|██████████████████████████▊                                                            | 308/1000 [01:19<04:32,  2.54it/s]"
     ]
    },
    {
     "name": "stdout",
     "output_type": "stream",
     "text": [
      "0.13379557\n",
      "0.5138563503949165\n",
      "0.6919999999999997\n"
     ]
    },
    {
     "name": "stderr",
     "output_type": "stream",
     "text": [
      " 31%|██████████████████████████▉                                                            | 309/1000 [01:20<04:13,  2.72it/s]"
     ]
    },
    {
     "name": "stdout",
     "output_type": "stream",
     "text": [
      "0.13224177\n",
      "0.5381635360544502\n",
      "0.6909999999999997\n"
     ]
    },
    {
     "name": "stderr",
     "output_type": "stream",
     "text": [
      " 31%|██████████████████████████▉                                                            | 310/1000 [01:20<03:48,  3.02it/s]"
     ]
    },
    {
     "name": "stdout",
     "output_type": "stream",
     "text": [
      "0.13196763\n",
      "0.5612553621210274\n",
      "0.6899999999999997\n"
     ]
    },
    {
     "name": "stderr",
     "output_type": "stream",
     "text": [
      " 31%|███████████████████████████▏                                                           | 312/1000 [01:21<03:38,  3.16it/s]"
     ]
    },
    {
     "name": "stdout",
     "output_type": "stream",
     "text": [
      "0.12949638\n",
      "0.5831925966045192\n",
      "0.6889999999999997\n",
      "0.1508638\n",
      "0.5040329578972433\n",
      "0.6879999999999997\n"
     ]
    },
    {
     "name": "stderr",
     "output_type": "stream",
     "text": [
      " 31%|███████████████████████████▎                                                           | 314/1000 [01:21<02:31,  4.52it/s]"
     ]
    },
    {
     "name": "stdout",
     "output_type": "stream",
     "text": [
      "0.14687125\n",
      "0.5288313126442505\n",
      "0.6869999999999997\n",
      "0.1432057\n",
      "0.5523897493963251\n",
      "0.6859999999999997\n"
     ]
    },
    {
     "name": "stderr",
     "output_type": "stream",
     "text": [
      " 32%|███████████████████████████▍                                                           | 315/1000 [01:21<02:47,  4.09it/s]"
     ]
    },
    {
     "name": "stdout",
     "output_type": "stream",
     "text": [
      "0.14210063\n",
      "0.5747702640783278\n",
      "0.6849999999999997\n"
     ]
    },
    {
     "name": "stderr",
     "output_type": "stream",
     "text": [
      " 32%|███████████████████████████▍                                                           | 316/1000 [01:21<03:05,  3.69it/s]"
     ]
    },
    {
     "name": "stdout",
     "output_type": "stream",
     "text": [
      "0.14182639\n",
      "0.5960317528164281\n",
      "0.6839999999999997\n"
     ]
    },
    {
     "name": "stderr",
     "output_type": "stream",
     "text": [
      " 32%|███████████████████████████▋                                                           | 318/1000 [01:22<03:36,  3.15it/s]"
     ]
    },
    {
     "name": "stdout",
     "output_type": "stream",
     "text": [
      "0.14551689\n",
      "0.5162301582510105\n",
      "0.6829999999999997\n",
      "0.14157678\n",
      "0.5404186523324148\n",
      "0.6819999999999997\n"
     ]
    },
    {
     "name": "stderr",
     "output_type": "stream",
     "text": [
      " 32%|███████████████████████████▊                                                           | 320/1000 [01:23<03:52,  2.93it/s]"
     ]
    },
    {
     "name": "stdout",
     "output_type": "stream",
     "text": [
      "0.14104776\n",
      "0.5633977215153384\n",
      "0.6809999999999997\n",
      "0.13812175\n",
      "0.58522783706366\n",
      "0.6799999999999997\n"
     ]
    },
    {
     "name": "stderr",
     "output_type": "stream",
     "text": [
      " 32%|███████████████████████████▉                                                           | 321/1000 [01:23<03:18,  3.42it/s]"
     ]
    },
    {
     "name": "stdout",
     "output_type": "stream",
     "text": [
      "0.1353759\n",
      "0.605966446676217\n",
      "0.6789999999999997\n"
     ]
    },
    {
     "name": "stderr",
     "output_type": "stream",
     "text": [
      " 32%|████████████████████████████                                                           | 322/1000 [01:24<03:16,  3.45it/s]"
     ]
    },
    {
     "name": "stdout",
     "output_type": "stream",
     "text": [
      "0.13511333\n",
      "0.6256681256652366\n",
      "0.6779999999999997\n"
     ]
    },
    {
     "name": "stderr",
     "output_type": "stream",
     "text": [
      " 32%|████████████████████████████▏                                                          | 324/1000 [01:24<02:59,  3.76it/s]"
     ]
    },
    {
     "name": "stdout",
     "output_type": "stream",
     "text": [
      "0.135609\n",
      "0.6443847205758292\n",
      "0.6769999999999997\n",
      "0.13531956\n",
      "0.6621654856244913\n",
      "0.6759999999999997\n"
     ]
    },
    {
     "name": "stderr",
     "output_type": "stream",
     "text": [
      " 32%|████████████████████████████▎                                                          | 325/1000 [01:24<03:14,  3.47it/s]"
     ]
    },
    {
     "name": "stdout",
     "output_type": "stream",
     "text": [
      "0.13437629\n",
      "0.6790572123156686\n",
      "0.6749999999999997\n"
     ]
    },
    {
     "name": "stderr",
     "output_type": "stream",
     "text": [
      " 33%|████████████████████████████▍                                                          | 327/1000 [01:25<03:26,  3.27it/s]"
     ]
    },
    {
     "name": "stdout",
     "output_type": "stream",
     "text": [
      "0.13207263\n",
      "0.6951043525774779\n",
      "0.6739999999999997\n",
      "0.13047695\n",
      "0.7103491357406314\n",
      "0.6729999999999997\n"
     ]
    },
    {
     "name": "stderr",
     "output_type": "stream",
     "text": [
      " 33%|████████████████████████████▌                                                          | 328/1000 [01:25<02:49,  3.96it/s]"
     ]
    },
    {
     "name": "stdout",
     "output_type": "stream",
     "text": [
      "0.1535816\n",
      "0.6248316747327748\n",
      "0.6719999999999997\n"
     ]
    },
    {
     "name": "stderr",
     "output_type": "stream",
     "text": [
      " 33%|████████████████████████████▌                                                          | 329/1000 [01:25<02:44,  4.09it/s]"
     ]
    },
    {
     "name": "stdout",
     "output_type": "stream",
     "text": [
      "0.15027101\n",
      "0.6435900918756897\n",
      "0.6709999999999997\n"
     ]
    },
    {
     "name": "stderr",
     "output_type": "stream",
     "text": [
      " 33%|████████████████████████████▊                                                          | 331/1000 [01:26<02:18,  4.83it/s]"
     ]
    },
    {
     "name": "stdout",
     "output_type": "stream",
     "text": [
      "0.1482785\n",
      "0.6614105880757024\n",
      "0.6699999999999997\n",
      "0.14536537\n",
      "0.6783400593883192\n",
      "0.6689999999999997\n"
     ]
    },
    {
     "name": "stderr",
     "output_type": "stream",
     "text": [
      " 33%|████████████████████████████▉                                                          | 333/1000 [01:26<01:56,  5.71it/s]"
     ]
    },
    {
     "name": "stdout",
     "output_type": "stream",
     "text": [
      "0.1425568\n",
      "0.6944230570654559\n",
      "0.6679999999999997\n",
      "0.13984951\n",
      "0.709701904795697\n",
      "0.6669999999999997\n"
     ]
    },
    {
     "name": "stderr",
     "output_type": "stream",
     "text": [
      " 33%|█████████████████████████████                                                          | 334/1000 [01:27<04:01,  2.76it/s]"
     ]
    },
    {
     "name": "stdout",
     "output_type": "stream",
     "text": [
      "0.13705492\n",
      "0.7242168100825335\n",
      "0.6659999999999997\n"
     ]
    },
    {
     "name": "stderr",
     "output_type": "stream",
     "text": [
      " 34%|█████████████████████████████▏                                                         | 335/1000 [01:27<03:47,  2.92it/s]"
     ]
    },
    {
     "name": "stdout",
     "output_type": "stream",
     "text": [
      "0.13536628\n",
      "0.7380059700536825\n",
      "0.6649999999999997\n"
     ]
    },
    {
     "name": "stderr",
     "output_type": "stream",
     "text": [
      " 34%|█████████████████████████████▎                                                         | 337/1000 [01:28<03:55,  2.82it/s]"
     ]
    },
    {
     "name": "stdout",
     "output_type": "stream",
     "text": [
      "0.13255574\n",
      "0.7511056719799346\n",
      "0.6639999999999997\n",
      "0.1313407\n",
      "0.7635503887680529\n",
      "0.6629999999999997\n"
     ]
    },
    {
     "name": "stderr",
     "output_type": "stream",
     "text": [
      " 34%|█████████████████████████████▍                                                         | 338/1000 [01:28<03:07,  3.53it/s]"
     ]
    },
    {
     "name": "stdout",
     "output_type": "stream",
     "text": [
      "0.15850574\n",
      "0.6753728667238779\n",
      "0.6619999999999997\n"
     ]
    },
    {
     "name": "stderr",
     "output_type": "stream",
     "text": [
      " 34%|█████████████████████████████▌                                                         | 340/1000 [01:29<02:42,  4.05it/s]"
     ]
    },
    {
     "name": "stdout",
     "output_type": "stream",
     "text": [
      "0.15602624\n",
      "0.691604223843361\n",
      "0.6609999999999997\n",
      "0.17646332\n",
      "0.607024010395424\n",
      "0.6599999999999997\n"
     ]
    },
    {
     "name": "stderr",
     "output_type": "stream",
     "text": [
      " 34%|█████████████████████████████▊                                                         | 342/1000 [01:29<02:08,  5.13it/s]"
     ]
    },
    {
     "name": "stdout",
     "output_type": "stream",
     "text": [
      "0.17108427\n",
      "0.6266728103734879\n",
      "0.6589999999999997\n",
      "0.1660485\n",
      "0.6453391703041096\n",
      "0.6579999999999997\n"
     ]
    },
    {
     "name": "stderr",
     "output_type": "stream",
     "text": [
      " 34%|█████████████████████████████▉                                                         | 344/1000 [01:29<02:06,  5.19it/s]"
     ]
    },
    {
     "name": "stdout",
     "output_type": "stream",
     "text": [
      "0.1639645\n",
      "0.6630722121943938\n",
      "0.6569999999999997\n",
      "0.16038655\n",
      "0.6799186019506286\n",
      "0.6559999999999997\n"
     ]
    },
    {
     "name": "stderr",
     "output_type": "stream",
     "text": [
      " 34%|██████████████████████████████                                                         | 345/1000 [01:30<02:43,  4.01it/s]"
     ]
    },
    {
     "name": "stdout",
     "output_type": "stream",
     "text": [
      "0.15782729\n",
      "0.695922672183371\n",
      "0.6549999999999997\n"
     ]
    },
    {
     "name": "stderr",
     "output_type": "stream",
     "text": [
      " 35%|██████████████████████████████▏                                                        | 347/1000 [01:30<03:02,  3.59it/s]"
     ]
    },
    {
     "name": "stdout",
     "output_type": "stream",
     "text": [
      "0.15568078\n",
      "0.7111265388722748\n",
      "0.6539999999999997\n",
      "0.15295847\n",
      "0.7255702121976713\n",
      "0.6529999999999997\n"
     ]
    },
    {
     "name": "stderr",
     "output_type": "stream",
     "text": [
      " 35%|██████████████████████████████▎                                                        | 348/1000 [01:31<02:41,  4.05it/s]"
     ]
    },
    {
     "name": "stdout",
     "output_type": "stream",
     "text": [
      "0.1502105\n",
      "0.7392917018305694\n",
      "0.6519999999999997\n"
     ]
    },
    {
     "name": "stderr",
     "output_type": "stream",
     "text": [
      " 35%|██████████████████████████████▎                                                        | 349/1000 [01:31<03:03,  3.55it/s]"
     ]
    },
    {
     "name": "stdout",
     "output_type": "stream",
     "text": [
      "0.14893688\n",
      "0.7523271169581514\n",
      "0.6509999999999997\n"
     ]
    },
    {
     "name": "stderr",
     "output_type": "stream",
     "text": [
      " 35%|██████████████████████████████▌                                                        | 351/1000 [01:31<03:02,  3.56it/s]"
     ]
    },
    {
     "name": "stdout",
     "output_type": "stream",
     "text": [
      "0.1465131\n",
      "0.764710761307991\n",
      "0.6499999999999997\n",
      "0.17085922\n",
      "0.6764752219040587\n",
      "0.6489999999999997\n"
     ]
    },
    {
     "name": "stderr",
     "output_type": "stream",
     "text": [
      " 35%|██████████████████████████████▋                                                        | 353/1000 [01:32<03:08,  3.44it/s]"
     ]
    },
    {
     "name": "stdout",
     "output_type": "stream",
     "text": [
      "0.16781549\n",
      "0.6926514610419795\n",
      "0.6479999999999997\n",
      "0.164034\n",
      "0.7080188882002748\n",
      "0.6469999999999997\n"
     ]
    },
    {
     "name": "stderr",
     "output_type": "stream",
     "text": [
      " 35%|██████████████████████████████▊                                                        | 354/1000 [01:32<02:36,  4.12it/s]"
     ]
    },
    {
     "name": "stdout",
     "output_type": "stream",
     "text": [
      "0.16033596\n",
      "0.7226179439801419\n",
      "0.6459999999999997\n"
     ]
    },
    {
     "name": "stderr",
     "output_type": "stream",
     "text": [
      " 36%|██████████████████████████████▉                                                        | 355/1000 [01:33<02:55,  3.67it/s]"
     ]
    },
    {
     "name": "stdout",
     "output_type": "stream",
     "text": [
      "0.15842968\n",
      "0.7364870469525022\n",
      "0.6449999999999997\n"
     ]
    },
    {
     "name": "stderr",
     "output_type": "stream",
     "text": [
      " 36%|██████████████████████████████▉                                                        | 356/1000 [01:33<02:51,  3.76it/s]"
     ]
    },
    {
     "name": "stdout",
     "output_type": "stream",
     "text": [
      "0.15592623\n",
      "0.7496626947595363\n",
      "0.6439999999999997\n"
     ]
    },
    {
     "name": "stderr",
     "output_type": "stream",
     "text": [
      " 36%|███████████████████████████████▏                                                       | 358/1000 [01:33<02:49,  3.79it/s]"
     ]
    },
    {
     "name": "stdout",
     "output_type": "stream",
     "text": [
      "0.15467854\n",
      "0.7621795601611393\n",
      "0.6429999999999997\n",
      "0.15311934\n",
      "0.7740705822790531\n",
      "0.6419999999999997\n"
     ]
    },
    {
     "name": "stderr",
     "output_type": "stream",
     "text": [
      " 36%|███████████████████████████████▎                                                       | 360/1000 [01:34<03:06,  3.44it/s]"
     ]
    },
    {
     "name": "stdout",
     "output_type": "stream",
     "text": [
      "0.15132041\n",
      "0.7853670532787891\n",
      "0.6409999999999997\n",
      "0.15025234\n",
      "0.7960987007174536\n",
      "0.6399999999999997\n"
     ]
    },
    {
     "name": "stderr",
     "output_type": "stream",
     "text": [
      " 36%|███████████████████████████████▍                                                       | 361/1000 [01:34<02:34,  4.15it/s]"
     ]
    },
    {
     "name": "stdout",
     "output_type": "stream",
     "text": [
      "0.17796013\n",
      "0.7062937648658973\n",
      "0.6389999999999997\n"
     ]
    },
    {
     "name": "stderr",
     "output_type": "stream",
     "text": [
      " 36%|███████████████████████████████▍                                                       | 362/1000 [01:35<03:01,  3.51it/s]"
     ]
    },
    {
     "name": "stdout",
     "output_type": "stream",
     "text": [
      "0.17490748\n",
      "0.7209790767493176\n",
      "0.6379999999999997\n"
     ]
    },
    {
     "name": "stderr",
     "output_type": "stream",
     "text": [
      " 36%|███████████████████████████████▌                                                       | 363/1000 [01:35<03:42,  2.87it/s]"
     ]
    },
    {
     "name": "stdout",
     "output_type": "stream",
     "text": [
      "0.17670356\n",
      "0.634930122206486\n",
      "0.6369999999999997\n"
     ]
    },
    {
     "name": "stderr",
     "output_type": "stream",
     "text": [
      " 36%|███████████████████████████████▋                                                       | 364/1000 [01:35<03:26,  3.09it/s]"
     ]
    },
    {
     "name": "stdout",
     "output_type": "stream",
     "text": [
      "0.17048918\n",
      "0.6531836162383089\n",
      "0.6359999999999997\n"
     ]
    },
    {
     "name": "stderr",
     "output_type": "stream",
     "text": [
      " 37%|███████████████████████████████▊                                                       | 366/1000 [01:36<02:56,  3.59it/s]"
     ]
    },
    {
     "name": "stdout",
     "output_type": "stream",
     "text": [
      "0.1751943\n",
      "0.5705244348148785\n",
      "0.6349999999999997\n",
      "0.16828202\n",
      "0.5919982132250551\n",
      "0.6339999999999997\n"
     ]
    },
    {
     "name": "stderr",
     "output_type": "stream",
     "text": [
      " 37%|███████████████████████████████▉                                                       | 367/1000 [01:36<03:01,  3.50it/s]"
     ]
    },
    {
     "name": "stdout",
     "output_type": "stream",
     "text": [
      "0.1705408\n",
      "0.5123983020323359\n",
      "0.6329999999999997\n"
     ]
    },
    {
     "name": "stderr",
     "output_type": "stream",
     "text": [
      " 37%|████████████████████████████████                                                       | 369/1000 [01:37<02:32,  4.14it/s]"
     ]
    },
    {
     "name": "stdout",
     "output_type": "stream",
     "text": [
      "0.16393237\n",
      "0.5367783870853592\n",
      "0.6319999999999997\n",
      "0.15753752\n",
      "0.559939467870654\n",
      "0.6309999999999997\n"
     ]
    },
    {
     "name": "stderr",
     "output_type": "stream",
     "text": [
      " 37%|████████████████████████████████▏                                                      | 370/1000 [01:37<03:19,  3.16it/s]"
     ]
    },
    {
     "name": "stdout",
     "output_type": "stream",
     "text": [
      "0.15636161\n",
      "0.5819424946030765\n",
      "0.6299999999999997\n"
     ]
    },
    {
     "name": "stderr",
     "output_type": "stream",
     "text": [
      " 37%|████████████████████████████████▎                                                      | 372/1000 [01:38<02:40,  3.91it/s]"
     ]
    },
    {
     "name": "stdout",
     "output_type": "stream",
     "text": [
      "0.15031962\n",
      "0.6028453699865973\n",
      "0.6289999999999997\n",
      "0.14464825\n",
      "0.6227031015898589\n",
      "0.6279999999999997\n"
     ]
    },
    {
     "name": "stderr",
     "output_type": "stream",
     "text": [
      " 37%|████████████████████████████████▍                                                      | 373/1000 [01:38<04:05,  2.55it/s]"
     ]
    },
    {
     "name": "stdout",
     "output_type": "stream",
     "text": [
      "0.14563772\n",
      "0.6415679466029547\n",
      "0.6269999999999997\n"
     ]
    },
    {
     "name": "stderr",
     "output_type": "stream",
     "text": [
      " 38%|████████████████████████████████▋                                                      | 375/1000 [01:39<03:48,  2.74it/s]"
     ]
    },
    {
     "name": "stdout",
     "output_type": "stream",
     "text": [
      "0.14530668\n",
      "0.6594895493563683\n",
      "0.6259999999999997\n",
      "0.14028428\n",
      "0.676515071963964\n",
      "0.6249999999999997\n"
     ]
    },
    {
     "name": "stderr",
     "output_type": "stream",
     "text": [
      " 38%|████████████████████████████████▋                                                      | 376/1000 [01:39<04:02,  2.57it/s]"
     ]
    },
    {
     "name": "stdout",
     "output_type": "stream",
     "text": [
      "0.13869774\n",
      "0.692689318433827\n",
      "0.6239999999999997\n"
     ]
    },
    {
     "name": "stderr",
     "output_type": "stream",
     "text": [
      " 38%|████████████████████████████████▉                                                      | 378/1000 [01:40<03:21,  3.09it/s]"
     ]
    },
    {
     "name": "stdout",
     "output_type": "stream",
     "text": [
      "0.13793953\n",
      "0.7080548525735608\n",
      "0.6229999999999997\n",
      "0.1564904\n",
      "0.6226521096205471\n",
      "0.6219999999999997\n"
     ]
    },
    {
     "name": "stderr",
     "output_type": "stream",
     "text": [
      " 38%|█████████████████████████████████                                                      | 380/1000 [01:40<02:48,  3.69it/s]"
     ]
    },
    {
     "name": "stdout",
     "output_type": "stream",
     "text": [
      "0.15421528\n",
      "0.6415195042075902\n",
      "0.6209999999999997\n",
      "0.14930922\n",
      "0.6594435290586442\n",
      "0.6199999999999997\n"
     ]
    },
    {
     "name": "stderr",
     "output_type": "stream",
     "text": [
      " 38%|█████████████████████████████████▏                                                     | 382/1000 [01:41<02:28,  4.17it/s]"
     ]
    },
    {
     "name": "stdout",
     "output_type": "stream",
     "text": [
      "0.14474253\n",
      "0.6764713526611558\n",
      "0.6189999999999997\n",
      "0.14048764\n",
      "0.6926477850781361\n",
      "0.6179999999999997\n"
     ]
    },
    {
     "name": "stderr",
     "output_type": "stream",
     "text": [
      " 38%|█████████████████████████████████▍                                                     | 384/1000 [01:41<02:14,  4.59it/s]"
     ]
    },
    {
     "name": "stdout",
     "output_type": "stream",
     "text": [
      "0.1387394\n",
      "0.7080153958693886\n",
      "0.6169999999999997\n",
      "0.15357672\n",
      "0.622614625837508\n",
      "0.6159999999999997\n"
     ]
    },
    {
     "name": "stderr",
     "output_type": "stream",
     "text": [
      " 38%|█████████████████████████████████▍                                                     | 385/1000 [01:42<02:08,  4.80it/s]"
     ]
    },
    {
     "name": "stdout",
     "output_type": "stream",
     "text": [
      "0.14819475\n",
      "0.6414838945956756\n",
      "0.6149999999999997\n"
     ]
    },
    {
     "name": "stderr",
     "output_type": "stream",
     "text": [
      " 39%|█████████████████████████████████▋                                                     | 387/1000 [01:42<02:04,  4.91it/s]"
     ]
    },
    {
     "name": "stdout",
     "output_type": "stream",
     "text": [
      "0.14320706\n",
      "0.6594096999110556\n",
      "0.6139999999999997\n",
      "0.13858834\n",
      "0.6764392149562632\n",
      "0.6129999999999997\n"
     ]
    },
    {
     "name": "stderr",
     "output_type": "stream",
     "text": [
      " 39%|█████████████████████████████████▊                                                     | 388/1000 [01:42<02:45,  3.70it/s]"
     ]
    },
    {
     "name": "stdout",
     "output_type": "stream",
     "text": [
      "0.13801993\n",
      "0.6926172542452362\n",
      "0.6119999999999997\n"
     ]
    },
    {
     "name": "stderr",
     "output_type": "stream",
     "text": [
      " 39%|█████████████████████████████████▉                                                     | 390/1000 [01:43<02:48,  3.61it/s]"
     ]
    },
    {
     "name": "stdout",
     "output_type": "stream",
     "text": [
      "0.13585526\n",
      "0.7079863915661739\n",
      "0.6109999999999997\n",
      "0.14989437\n",
      "0.6225870718126142\n",
      "0.6099999999999997\n"
     ]
    },
    {
     "name": "stderr",
     "output_type": "stream",
     "text": [
      " 39%|██████████████████████████████████                                                     | 392/1000 [01:44<03:12,  3.16it/s]"
     ]
    },
    {
     "name": "stdout",
     "output_type": "stream",
     "text": [
      "0.14792106\n",
      "0.6414577182587724\n",
      "0.6089999999999997\n",
      "0.14254792\n",
      "0.6593848323790357\n",
      "0.6079999999999997\n"
     ]
    },
    {
     "name": "stderr",
     "output_type": "stream",
     "text": [
      " 39%|██████████████████████████████████▏                                                    | 393/1000 [01:44<02:45,  3.67it/s]"
     ]
    },
    {
     "name": "stdout",
     "output_type": "stream",
     "text": [
      "0.1375581\n",
      "0.6764155907900488\n",
      "0.6069999999999997\n"
     ]
    },
    {
     "name": "stderr",
     "output_type": "stream",
     "text": [
      " 40%|██████████████████████████████████▎                                                    | 395/1000 [01:44<02:23,  4.21it/s]"
     ]
    },
    {
     "name": "stdout",
     "output_type": "stream",
     "text": [
      "0.13294478\n",
      "0.6925948112775895\n",
      "0.6059999999999997\n",
      "0.12869252\n",
      "0.7079650707381165\n",
      "0.6049999999999996\n"
     ]
    },
    {
     "name": "stderr",
     "output_type": "stream",
     "text": [
      " 40%|██████████████████████████████████▌                                                    | 397/1000 [01:45<02:11,  4.58it/s]"
     ]
    },
    {
     "name": "stdout",
     "output_type": "stream",
     "text": [
      "0.12478066\n",
      "0.7225668172232377\n",
      "0.6039999999999996\n",
      "0.12118562\n",
      "0.7364384763819549\n",
      "0.6029999999999996\n"
     ]
    },
    {
     "name": "stderr",
     "output_type": "stream",
     "text": [
      " 40%|██████████████████████████████████▋                                                    | 399/1000 [01:45<02:06,  4.74it/s]"
     ]
    },
    {
     "name": "stdout",
     "output_type": "stream",
     "text": [
      "0.117882654\n",
      "0.7496165525807983\n",
      "0.6019999999999996\n",
      "0.11484695\n",
      "0.7621357249679501\n",
      "0.6009999999999996\n"
     ]
    },
    {
     "name": "stderr",
     "output_type": "stream",
     "text": [
      " 40%|██████████████████████████████████▊                                                    | 400/1000 [01:45<02:19,  4.29it/s]"
     ]
    },
    {
     "name": "stdout",
     "output_type": "stream",
     "text": [
      "0.11531262\n",
      "0.7740289387341656\n",
      "0.5999999999999996\n"
     ]
    },
    {
     "name": "stderr",
     "output_type": "stream",
     "text": [
      " 40%|██████████████████████████████████▉                                                    | 401/1000 [01:46<02:41,  3.70it/s]"
     ]
    },
    {
     "name": "stdout",
     "output_type": "stream",
     "text": [
      "0.1154209\n",
      "0.7853274918106457\n",
      "0.5989999999999996\n"
     ]
    },
    {
     "name": "stderr",
     "output_type": "stream",
     "text": [
      " 40%|██████████████████████████████████▉                                                    | 402/1000 [01:46<02:33,  3.90it/s]"
     ]
    },
    {
     "name": "stdout",
     "output_type": "stream",
     "text": [
      "0.11330798\n",
      "0.7960611172320158\n",
      "0.5979999999999996\n"
     ]
    },
    {
     "name": "stderr",
     "output_type": "stream",
     "text": [
      " 40%|███████████████████████████████████                                                    | 403/1000 [01:46<03:03,  3.25it/s]"
     ]
    },
    {
     "name": "stdout",
     "output_type": "stream",
     "text": [
      "0.1195255\n",
      "0.706258061275812\n",
      "0.5969999999999996\n"
     ]
    },
    {
     "name": "stderr",
     "output_type": "stream",
     "text": [
      " 40%|███████████████████████████████████▏                                                   | 404/1000 [01:47<02:49,  3.51it/s]"
     ]
    },
    {
     "name": "stdout",
     "output_type": "stream",
     "text": [
      "0.11559866\n",
      "0.72094515822672\n",
      "0.5959999999999996\n"
     ]
    },
    {
     "name": "stderr",
     "output_type": "stream",
     "text": [
      " 40%|███████████████████████████████████▏                                                   | 405/1000 [01:47<03:15,  3.04it/s]"
     ]
    },
    {
     "name": "stdout",
     "output_type": "stream",
     "text": [
      "0.115681544\n",
      "0.7348979003286493\n",
      "0.5949999999999996\n"
     ]
    },
    {
     "name": "stderr",
     "output_type": "stream",
     "text": [
      " 41%|███████████████████████████████████▍                                                   | 407/1000 [01:48<03:32,  2.80it/s]"
     ]
    },
    {
     "name": "stdout",
     "output_type": "stream",
     "text": [
      "0.11578334\n",
      "0.7481530053241888\n",
      "0.5939999999999996\n",
      "0.13396555\n",
      "0.6607453549829801\n",
      "0.5929999999999996\n"
     ]
    },
    {
     "name": "stderr",
     "output_type": "stream",
     "text": [
      " 41%|███████████████████████████████████▍                                                   | 408/1000 [01:48<03:09,  3.12it/s]"
     ]
    },
    {
     "name": "stdout",
     "output_type": "stream",
     "text": [
      "0.12975086\n",
      "0.6777080872476581\n",
      "0.5919999999999996\n"
     ]
    },
    {
     "name": "stderr",
     "output_type": "stream",
     "text": [
      " 41%|███████████████████████████████████▋                                                   | 410/1000 [01:49<02:33,  3.84it/s]"
     ]
    },
    {
     "name": "stdout",
     "output_type": "stream",
     "text": [
      "0.12586339\n",
      "0.6938226828977542\n",
      "0.5909999999999996\n",
      "0.122277856\n",
      "0.7091315487641285\n",
      "0.5899999999999996\n"
     ]
    },
    {
     "name": "stderr",
     "output_type": "stream",
     "text": [
      " 41%|███████████████████████████████████▊                                                   | 412/1000 [01:49<02:15,  4.34it/s]"
     ]
    },
    {
     "name": "stdout",
     "output_type": "stream",
     "text": [
      "0.121762626\n",
      "0.7236749713360863\n",
      "0.5889999999999996\n",
      "0.13562565\n",
      "0.6374912227120615\n",
      "0.5879999999999996\n"
     ]
    },
    {
     "name": "stderr",
     "output_type": "stream",
     "text": [
      " 41%|███████████████████████████████████▉                                                   | 413/1000 [01:49<02:38,  3.70it/s]"
     ]
    },
    {
     "name": "stdout",
     "output_type": "stream",
     "text": [
      "0.13472368\n",
      "0.6556166615878909\n",
      "0.5869999999999996\n"
     ]
    },
    {
     "name": "stderr",
     "output_type": "stream",
     "text": [
      " 41%|████████████████████████████████████                                                   | 414/1000 [01:50<04:28,  2.18it/s]"
     ]
    },
    {
     "name": "stdout",
     "output_type": "stream",
     "text": [
      "0.13447541\n",
      "0.6728358285188141\n",
      "0.5859999999999996\n"
     ]
    },
    {
     "name": "stderr",
     "output_type": "stream",
     "text": [
      " 42%|████████████████████████████████████▏                                                  | 416/1000 [01:51<03:30,  2.78it/s]"
     ]
    },
    {
     "name": "stdout",
     "output_type": "stream",
     "text": [
      "0.1331006\n",
      "0.6891940371021852\n",
      "0.5849999999999996\n",
      "0.1291003\n",
      "0.7047343352554798\n",
      "0.5839999999999996\n"
     ]
    },
    {
     "name": "stderr",
     "output_type": "stream",
     "text": [
      " 42%|████████████████████████████████████▎                                                  | 417/1000 [01:51<03:05,  3.15it/s]"
     ]
    },
    {
     "name": "stdout",
     "output_type": "stream",
     "text": [
      "0.12540004\n",
      "0.7194976185002904\n",
      "0.5829999999999996\n"
     ]
    },
    {
     "name": "stderr",
     "output_type": "stream",
     "text": [
      " 42%|████████████████████████████████████▍                                                  | 419/1000 [01:52<02:29,  3.88it/s]"
     ]
    },
    {
     "name": "stdout",
     "output_type": "stream",
     "text": [
      "0.12197466\n",
      "0.7335227375821208\n",
      "0.5819999999999996\n",
      "0.118800215\n",
      "0.7468466007091924\n",
      "0.5809999999999996\n"
     ]
    },
    {
     "name": "stderr",
     "output_type": "stream",
     "text": [
      " 42%|████████████████████████████████████▌                                                  | 420/1000 [01:52<03:28,  2.78it/s]"
     ]
    },
    {
     "name": "stdout",
     "output_type": "stream",
     "text": [
      "0.12359554\n",
      "0.6595042706352612\n",
      "0.5799999999999996\n"
     ]
    },
    {
     "name": "stderr",
     "output_type": "stream",
     "text": [
      " 42%|████████████████████████████████████▋                                                  | 422/1000 [01:53<02:48,  3.42it/s]"
     ]
    },
    {
     "name": "stdout",
     "output_type": "stream",
     "text": [
      "0.12277051\n",
      "0.6765290571106222\n",
      "0.5789999999999996\n",
      "0.118805274\n",
      "0.6927026042615204\n",
      "0.5779999999999996\n"
     ]
    },
    {
     "name": "stderr",
     "output_type": "stream",
     "text": [
      " 42%|████████████████████████████████████▊                                                  | 423/1000 [01:53<02:56,  3.28it/s]"
     ]
    },
    {
     "name": "stdout",
     "output_type": "stream",
     "text": [
      "0.11840273\n",
      "0.7080674740542469\n",
      "0.5769999999999996\n"
     ]
    },
    {
     "name": "stderr",
     "output_type": "stream",
     "text": [
      " 42%|████████████████████████████████████▉                                                  | 425/1000 [01:53<02:28,  3.88it/s]"
     ]
    },
    {
     "name": "stdout",
     "output_type": "stream",
     "text": [
      "0.115537554\n",
      "0.7226641003567712\n",
      "0.5759999999999996\n",
      "0.11286906\n",
      "0.7365308953436588\n",
      "0.5749999999999996\n"
     ]
    },
    {
     "name": "stderr",
     "output_type": "stream",
     "text": [
      " 43%|█████████████████████████████████████                                                  | 426/1000 [01:54<04:45,  2.01it/s]"
     ]
    },
    {
     "name": "stdout",
     "output_type": "stream",
     "text": [
      "0.11379054\n",
      "0.7497043505807413\n",
      "0.5739999999999996\n"
     ]
    },
    {
     "name": "stderr",
     "output_type": "stream",
     "text": [
      " 43%|█████████████████████████████████████▏                                                 | 427/1000 [01:55<04:08,  2.31it/s]"
     ]
    },
    {
     "name": "stdout",
     "output_type": "stream",
     "text": [
      "0.11295316\n",
      "0.7622191330555538\n",
      "0.5729999999999996\n"
     ]
    },
    {
     "name": "stderr",
     "output_type": "stream",
     "text": [
      " 43%|█████████████████████████████████████▎                                                 | 429/1000 [01:55<03:01,  3.15it/s]"
     ]
    },
    {
     "name": "stdout",
     "output_type": "stream",
     "text": [
      "0.11066991\n",
      "0.7741081764062502\n",
      "0.5719999999999996\n",
      "0.10850654\n",
      "0.7854027675890731\n",
      "0.5709999999999996\n"
     ]
    },
    {
     "name": "stderr",
     "output_type": "stream",
     "text": [
      " 43%|█████████████████████████████████████▍                                                 | 431/1000 [01:55<02:13,  4.26it/s]"
     ]
    },
    {
     "name": "stdout",
     "output_type": "stream",
     "text": [
      "0.10645384\n",
      "0.7961326292124493\n",
      "0.5699999999999996\n",
      "0.10450349\n",
      "0.8063259977543806\n",
      "0.5689999999999996\n"
     ]
    },
    {
     "name": "stderr",
     "output_type": "stream",
     "text": [
      " 43%|█████████████████████████████████████▋                                                 | 433/1000 [01:56<01:53,  4.98it/s]"
     ]
    },
    {
     "name": "stdout",
     "output_type": "stream",
     "text": [
      "0.10264793\n",
      "0.8160096978689665\n",
      "0.5679999999999996\n",
      "0.1008803\n",
      "0.8252092129775983\n",
      "0.5669999999999996\n"
     ]
    },
    {
     "name": "stderr",
     "output_type": "stream",
     "text": [
      " 43%|█████████████████████████████████████▊                                                 | 434/1000 [01:56<02:49,  3.34it/s]"
     ]
    },
    {
     "name": "stdout",
     "output_type": "stream",
     "text": [
      "0.10077649\n",
      "0.8339487523305957\n",
      "0.5659999999999996\n"
     ]
    },
    {
     "name": "stderr",
     "output_type": "stream",
     "text": [
      " 44%|█████████████████████████████████████▉                                                 | 436/1000 [01:57<02:09,  4.34it/s]"
     ]
    },
    {
     "name": "stdout",
     "output_type": "stream",
     "text": [
      "0.09962116\n",
      "0.8422513147157602\n",
      "0.5649999999999996\n",
      "0.09845068\n",
      "0.8501387489815013\n",
      "0.5639999999999996\n"
     ]
    },
    {
     "name": "stderr",
     "output_type": "stream",
     "text": [
      " 44%|██████████████████████████████████████                                                 | 437/1000 [01:57<03:09,  2.97it/s]"
     ]
    },
    {
     "name": "stdout",
     "output_type": "stream",
     "text": [
      "0.097600184\n",
      "0.8576318115338062\n",
      "0.5629999999999996\n"
     ]
    },
    {
     "name": "stderr",
     "output_type": "stream",
     "text": [
      " 44%|██████████████████████████████████████                                                 | 438/1000 [01:58<02:51,  3.28it/s]"
     ]
    },
    {
     "name": "stdout",
     "output_type": "stream",
     "text": [
      "0.09620846\n",
      "0.8647502209583613\n",
      "0.5619999999999996\n"
     ]
    },
    {
     "name": "stderr",
     "output_type": "stream",
     "text": [
      " 44%|██████████████████████████████████████▏                                                | 439/1000 [01:58<03:13,  2.89it/s]"
     ]
    },
    {
     "name": "stdout",
     "output_type": "stream",
     "text": [
      "0.095694795\n",
      "0.8715127099115673\n",
      "0.5609999999999996\n"
     ]
    },
    {
     "name": "stderr",
     "output_type": "stream",
     "text": [
      " 44%|██████████████████████████████████████▎                                                | 441/1000 [01:58<02:39,  3.51it/s]"
     ]
    },
    {
     "name": "stdout",
     "output_type": "stream",
     "text": [
      "0.10739665\n",
      "0.7779370744012131\n",
      "0.5599999999999996\n",
      "0.103942044\n",
      "0.7890402206828179\n",
      "0.5589999999999996\n"
     ]
    },
    {
     "name": "stderr",
     "output_type": "stream",
     "text": [
      " 44%|██████████████████████████████████████▍                                                | 442/1000 [01:59<02:24,  3.85it/s]"
     ]
    },
    {
     "name": "stdout",
     "output_type": "stream",
     "text": [
      "0.10076702\n",
      "0.7995882096501802\n",
      "0.5579999999999996\n"
     ]
    },
    {
     "name": "stderr",
     "output_type": "stream",
     "text": [
      " 44%|██████████████████████████████████████▌                                                | 443/1000 [01:59<02:31,  3.68it/s]"
     ]
    },
    {
     "name": "stdout",
     "output_type": "stream",
     "text": [
      "0.10052144\n",
      "0.8096087991690278\n",
      "0.5569999999999996\n"
     ]
    },
    {
     "name": "stderr",
     "output_type": "stream",
     "text": [
      " 44%|██████████████████████████████████████▋                                                | 445/1000 [01:59<02:11,  4.22it/s]"
     ]
    },
    {
     "name": "stdout",
     "output_type": "stream",
     "text": [
      "0.09830291\n",
      "0.8191283592118008\n",
      "0.5559999999999996\n",
      "0.09623063\n",
      "0.8281719412523157\n",
      "0.5549999999999996\n"
     ]
    },
    {
     "name": "stderr",
     "output_type": "stream",
     "text": [
      " 45%|██████████████████████████████████████▊                                                | 446/1000 [02:00<02:39,  3.48it/s]"
     ]
    },
    {
     "name": "stdout",
     "output_type": "stream",
     "text": [
      "0.09604521\n",
      "0.8367633441906972\n",
      "0.5539999999999996\n"
     ]
    },
    {
     "name": "stderr",
     "output_type": "stream",
     "text": [
      " 45%|██████████████████████████████████████▉                                                | 447/1000 [02:00<02:33,  3.61it/s]"
     ]
    },
    {
     "name": "stdout",
     "output_type": "stream",
     "text": [
      "0.094001174\n",
      "0.8449251769820623\n",
      "0.5529999999999996\n"
     ]
    },
    {
     "name": "stderr",
     "output_type": "stream",
     "text": [
      " 45%|██████████████████████████████████████▉                                                | 448/1000 [02:00<02:34,  3.57it/s]"
     ]
    },
    {
     "name": "stdout",
     "output_type": "stream",
     "text": [
      "0.09436962\n",
      "0.8526789181337714\n",
      "0.5519999999999996\n"
     ]
    },
    {
     "name": "stderr",
     "output_type": "stream",
     "text": [
      " 45%|███████████████████████████████████████                                                | 449/1000 [02:01<02:30,  3.66it/s]"
     ]
    },
    {
     "name": "stdout",
     "output_type": "stream",
     "text": [
      "0.10777326\n",
      "0.7600449722178642\n",
      "0.5509999999999996\n"
     ]
    },
    {
     "name": "stderr",
     "output_type": "stream",
     "text": [
      " 45%|███████████████████████████████████████▏                                               | 451/1000 [02:01<02:05,  4.39it/s]"
     ]
    },
    {
     "name": "stdout",
     "output_type": "stream",
     "text": [
      "0.10483658\n",
      "0.7720427236081052\n",
      "0.5499999999999996\n",
      "0.12242806\n",
      "0.6834405874197421\n",
      "0.5489999999999996\n"
     ]
    },
    {
     "name": "stderr",
     "output_type": "stream",
     "text": [
      " 45%|███████████████████████████████████████▎                                               | 452/1000 [02:01<01:49,  5.03it/s]"
     ]
    },
    {
     "name": "stdout",
     "output_type": "stream",
     "text": [
      "0.13390537\n",
      "0.5992685580415731\n",
      "0.5479999999999996\n"
     ]
    },
    {
     "name": "stderr",
     "output_type": "stream",
     "text": [
      " 45%|███████████████████████████████████████▍                                               | 454/1000 [02:02<01:58,  4.60it/s]"
     ]
    },
    {
     "name": "stdout",
     "output_type": "stream",
     "text": [
      "0.137872\n",
      "0.5193051301330127\n",
      "0.5469999999999996\n",
      "0.13269602\n",
      "0.5433398736282129\n",
      "0.5459999999999996\n"
     ]
    },
    {
     "name": "stderr",
     "output_type": "stream",
     "text": [
      " 46%|███████████████████████████████████████▌                                               | 455/1000 [02:02<01:51,  4.90it/s]"
     ]
    },
    {
     "name": "stdout",
     "output_type": "stream",
     "text": [
      "0.12763496\n",
      "0.5661728799484725\n",
      "0.5449999999999996\n"
     ]
    },
    {
     "name": "stderr",
     "output_type": "stream",
     "text": [
      " 46%|███████████████████████████████████████▋                                               | 456/1000 [02:02<01:58,  4.58it/s]"
     ]
    },
    {
     "name": "stdout",
     "output_type": "stream",
     "text": [
      "0.12277754\n",
      "0.5878642359525564\n",
      "0.5439999999999996\n"
     ]
    },
    {
     "name": "stderr",
     "output_type": "stream",
     "text": [
      " 46%|███████████████████████████████████████▊                                               | 457/1000 [02:02<02:22,  3.82it/s]"
     ]
    },
    {
     "name": "stdout",
     "output_type": "stream",
     "text": [
      "0.12523091\n",
      "0.6084710241562893\n",
      "0.5429999999999996\n"
     ]
    },
    {
     "name": "stderr",
     "output_type": "stream",
     "text": [
      " 46%|███████████████████████████████████████▊                                               | 458/1000 [02:03<02:17,  3.94it/s]"
     ]
    },
    {
     "name": "stdout",
     "output_type": "stream",
     "text": [
      "0.12054675\n",
      "0.6280474729497026\n",
      "0.5419999999999996\n"
     ]
    },
    {
     "name": "stderr",
     "output_type": "stream",
     "text": [
      " 46%|███████████████████████████████████████▉                                               | 459/1000 [02:03<02:15,  4.00it/s]"
     ]
    },
    {
     "name": "stdout",
     "output_type": "stream",
     "text": [
      "0.11616054\n",
      "0.6466450993033257\n",
      "0.5409999999999996\n"
     ]
    },
    {
     "name": "stderr",
     "output_type": "stream",
     "text": [
      " 46%|████████████████████████████████████████                                               | 460/1000 [02:03<02:24,  3.74it/s]"
     ]
    },
    {
     "name": "stdout",
     "output_type": "stream",
     "text": [
      "0.11751291\n",
      "0.6643128443391596\n",
      "0.5399999999999996\n"
     ]
    },
    {
     "name": "stderr",
     "output_type": "stream",
     "text": [
      " 46%|████████████████████████████████████████                                               | 461/1000 [02:04<02:51,  3.15it/s]"
     ]
    },
    {
     "name": "stdout",
     "output_type": "stream",
     "text": [
      "0.119246624\n",
      "0.6810972021231042\n",
      "0.5389999999999996\n"
     ]
    },
    {
     "name": "stderr",
     "output_type": "stream",
     "text": [
      " 46%|████████████████████████████████████████▏                                              | 462/1000 [02:04<02:37,  3.41it/s]"
     ]
    },
    {
     "name": "stdout",
     "output_type": "stream",
     "text": [
      "0.11655399\n",
      "0.6970423420177636\n",
      "0.5379999999999996\n"
     ]
    },
    {
     "name": "stderr",
     "output_type": "stream",
     "text": [
      " 46%|████████████████████████████████████████▎                                              | 463/1000 [02:04<02:33,  3.49it/s]"
     ]
    },
    {
     "name": "stdout",
     "output_type": "stream",
     "text": [
      "0.12841284\n",
      "0.6121902249127573\n",
      "0.5369999999999996\n"
     ]
    },
    {
     "name": "stderr",
     "output_type": "stream",
     "text": [
      " 46%|████████████████████████████████████████▎                                              | 464/1000 [02:05<03:03,  2.92it/s]"
     ]
    },
    {
     "name": "stdout",
     "output_type": "stream",
     "text": [
      "0.13068354\n",
      "0.6315807136680135\n",
      "0.5359999999999996\n"
     ]
    },
    {
     "name": "stderr",
     "output_type": "stream",
     "text": [
      " 47%|████████████████████████████████████████▌                                              | 466/1000 [02:05<02:50,  3.13it/s]"
     ]
    },
    {
     "name": "stdout",
     "output_type": "stream",
     "text": [
      "0.13703093\n",
      "0.5500016779810395\n",
      "0.5349999999999996\n",
      "0.13187833\n",
      "0.5725015940829238\n",
      "0.5339999999999996\n"
     ]
    },
    {
     "name": "stderr",
     "output_type": "stream",
     "text": [
      " 47%|████████████████████████████████████████▋                                              | 467/1000 [02:05<02:28,  3.60it/s]"
     ]
    },
    {
     "name": "stdout",
     "output_type": "stream",
     "text": [
      "0.12705365\n",
      "0.5938765143796225\n",
      "0.5329999999999996\n"
     ]
    },
    {
     "name": "stderr",
     "output_type": "stream",
     "text": [
      " 47%|████████████████████████████████████████▋                                              | 468/1000 [02:06<03:07,  2.84it/s]"
     ]
    },
    {
     "name": "stdout",
     "output_type": "stream",
     "text": [
      "0.12738943\n",
      "0.614182688661404\n",
      "0.5319999999999996\n"
     ]
    },
    {
     "name": "stderr",
     "output_type": "stream",
     "text": [
      " 47%|████████████████████████████████████████▊                                              | 469/1000 [02:06<03:33,  2.49it/s]"
     ]
    },
    {
     "name": "stdout",
     "output_type": "stream",
     "text": [
      "0.12680547\n",
      "0.633473554229022\n",
      "0.5309999999999996\n"
     ]
    },
    {
     "name": "stderr",
     "output_type": "stream",
     "text": [
      " 47%|████████████████████████████████████████▉                                              | 470/1000 [02:07<03:09,  2.79it/s]"
     ]
    },
    {
     "name": "stdout",
     "output_type": "stream",
     "text": [
      "0.12340998\n",
      "0.651799876518192\n",
      "0.5299999999999996\n"
     ]
    },
    {
     "name": "stderr",
     "output_type": "stream",
     "text": [
      " 47%|████████████████████████████████████████▉                                              | 471/1000 [02:08<04:39,  1.89it/s]"
     ]
    },
    {
     "name": "stdout",
     "output_type": "stream",
     "text": [
      "0.12223142\n",
      "0.6692098826928431\n",
      "0.5289999999999996\n"
     ]
    },
    {
     "name": "stderr",
     "output_type": "stream",
     "text": [
      " 47%|█████████████████████████████████████████                                              | 472/1000 [02:08<03:54,  2.25it/s]"
     ]
    },
    {
     "name": "stdout",
     "output_type": "stream",
     "text": [
      "0.11870054\n",
      "0.6857493885587067\n",
      "0.5279999999999996\n"
     ]
    },
    {
     "name": "stderr",
     "output_type": "stream",
     "text": [
      " 47%|█████████████████████████████████████████▏                                             | 474/1000 [02:08<03:15,  2.69it/s]"
     ]
    },
    {
     "name": "stdout",
     "output_type": "stream",
     "text": [
      "0.117068835\n",
      "0.7014619191312279\n",
      "0.5269999999999996\n",
      "0.11390197\n",
      "0.7163888231750786\n",
      "0.5259999999999996\n"
     ]
    },
    {
     "name": "stderr",
     "output_type": "stream",
     "text": [
      " 48%|█████████████████████████████████████████▎                                             | 475/1000 [02:09<03:12,  2.73it/s]"
     ]
    },
    {
     "name": "stdout",
     "output_type": "stream",
     "text": [
      "0.111833446\n",
      "0.7305693820166965\n",
      "0.5249999999999996\n"
     ]
    },
    {
     "name": "stderr",
     "output_type": "stream",
     "text": [
      " 48%|█████████████████████████████████████████▍                                             | 477/1000 [02:09<02:19,  3.75it/s]"
     ]
    },
    {
     "name": "stdout",
     "output_type": "stream",
     "text": [
      "0.10896754\n",
      "0.7440409129161973\n",
      "0.5239999999999996\n",
      "0.1063178\n",
      "0.7568388672706904\n",
      "0.5229999999999996\n"
     ]
    },
    {
     "name": "stderr",
     "output_type": "stream",
     "text": [
      " 48%|█████████████████████████████████████████▌                                             | 478/1000 [02:09<01:56,  4.50it/s]"
     ]
    },
    {
     "name": "stdout",
     "output_type": "stream",
     "text": [
      "0.12736395\n",
      "0.6689969239051807\n",
      "0.5219999999999996\n"
     ]
    },
    {
     "name": "stderr",
     "output_type": "stream",
     "text": [
      " 48%|█████████████████████████████████████████▋                                             | 479/1000 [02:10<02:18,  3.77it/s]"
     ]
    },
    {
     "name": "stdout",
     "output_type": "stream",
     "text": [
      "0.12582345\n",
      "0.6855470777102752\n",
      "0.5209999999999996\n"
     ]
    },
    {
     "name": "stderr",
     "output_type": "stream",
     "text": [
      " 48%|█████████████████████████████████████████▊                                             | 481/1000 [02:11<02:46,  3.11it/s]"
     ]
    },
    {
     "name": "stdout",
     "output_type": "stream",
     "text": [
      "0.12460673\n",
      "0.7012697238250805\n",
      "0.5199999999999996\n",
      "0.14588197\n",
      "0.6162062376321866\n",
      "0.5189999999999996\n"
     ]
    },
    {
     "name": "stderr",
     "output_type": "stream",
     "text": [
      " 48%|█████████████████████████████████████████▉                                             | 482/1000 [02:11<02:58,  2.91it/s]"
     ]
    },
    {
     "name": "stdout",
     "output_type": "stream",
     "text": [
      "0.14290258\n",
      "0.6353959257509287\n",
      "0.5179999999999996\n"
     ]
    },
    {
     "name": "stderr",
     "output_type": "stream",
     "text": [
      " 48%|██████████████████████████████████████████                                             | 484/1000 [02:11<02:13,  3.86it/s]"
     ]
    },
    {
     "name": "stdout",
     "output_type": "stream",
     "text": [
      "0.13819139\n",
      "0.6536261294636995\n",
      "0.5169999999999996\n",
      "0.15360835\n",
      "0.5709448229891478\n",
      "0.5159999999999996\n"
     ]
    },
    {
     "name": "stderr",
     "output_type": "stream",
     "text": [
      " 48%|██████████████████████████████████████████▏                                            | 485/1000 [02:12<02:54,  2.95it/s]"
     ]
    },
    {
     "name": "stdout",
     "output_type": "stream",
     "text": [
      "0.15101095\n",
      "0.5923975818400273\n",
      "0.5149999999999996\n"
     ]
    },
    {
     "name": "stderr",
     "output_type": "stream",
     "text": [
      " 49%|██████████████████████████████████████████▎                                            | 487/1000 [02:12<02:20,  3.65it/s]"
     ]
    },
    {
     "name": "stdout",
     "output_type": "stream",
     "text": [
      "0.14804457\n",
      "0.6127777027483301\n",
      "0.5139999999999996\n",
      "0.1431909\n",
      "0.632138817611188\n",
      "0.5129999999999996\n"
     ]
    },
    {
     "name": "stderr",
     "output_type": "stream",
     "text": [
      " 49%|██████████████████████████████████████████▌                                            | 489/1000 [02:13<03:09,  2.70it/s]"
     ]
    },
    {
     "name": "stdout",
     "output_type": "stream",
     "text": [
      "0.14115089\n",
      "0.6505318767308762\n",
      "0.5119999999999996\n",
      "0.13651267\n",
      "0.6680052828945559\n",
      "0.5109999999999996\n"
     ]
    },
    {
     "name": "stderr",
     "output_type": "stream",
     "text": [
      " 49%|██████████████████████████████████████████▋                                            | 491/1000 [02:14<02:11,  3.87it/s]"
     ]
    },
    {
     "name": "stdout",
     "output_type": "stream",
     "text": [
      "0.15335006\n",
      "0.5846050187488147\n",
      "0.5099999999999996\n",
      "0.1476662\n",
      "0.6053747678116137\n",
      "0.5089999999999996\n"
     ]
    },
    {
     "name": "stderr",
     "output_type": "stream",
     "text": [
      " 49%|██████████████████████████████████████████▊                                            | 492/1000 [02:14<02:02,  4.14it/s]"
     ]
    },
    {
     "name": "stdout",
     "output_type": "stream",
     "text": [
      "0.14238223\n",
      "0.6251060294212494\n",
      "0.5079999999999996\n"
     ]
    },
    {
     "name": "stderr",
     "output_type": "stream",
     "text": [
      " 49%|██████████████████████████████████████████▉                                            | 493/1000 [02:14<02:05,  4.06it/s]"
     ]
    },
    {
     "name": "stdout",
     "output_type": "stream",
     "text": [
      "0.13748023\n",
      "0.6438507279503822\n",
      "0.5069999999999996\n"
     ]
    },
    {
     "name": "stderr",
     "output_type": "stream",
     "text": [
      " 50%|███████████████████████████████████████████                                            | 495/1000 [02:15<02:39,  3.17it/s]"
     ]
    },
    {
     "name": "stdout",
     "output_type": "stream",
     "text": [
      "0.13530964\n",
      "0.6616581915530394\n",
      "0.5059999999999996\n",
      "0.13073951\n",
      "0.6785752819755464\n",
      "0.5049999999999996\n"
     ]
    },
    {
     "name": "stderr",
     "output_type": "stream",
     "text": [
      " 50%|███████████████████████████████████████████▏                                           | 497/1000 [02:15<01:57,  4.28it/s]"
     ]
    },
    {
     "name": "stdout",
     "output_type": "stream",
     "text": [
      "0.1460393\n",
      "0.5946465178760194\n",
      "0.5039999999999996\n",
      "0.14063698\n",
      "0.6149141919823905\n",
      "0.5029999999999996\n"
     ]
    },
    {
     "name": "stderr",
     "output_type": "stream",
     "text": [
      " 50%|███████████████████████████████████████████▍                                           | 499/1000 [02:16<01:29,  5.62it/s]"
     ]
    },
    {
     "name": "stdout",
     "output_type": "stream",
     "text": [
      "0.15082835\n",
      "0.5341684823826199\n",
      "0.5019999999999996\n",
      "0.1565081\n",
      "0.45746005826290154\n",
      "0.5009999999999996\n"
     ]
    },
    {
     "name": "stderr",
     "output_type": "stream",
     "text": [
      " 50%|███████████████████████████████████████████▌                                           | 500/1000 [02:16<01:46,  4.69it/s]"
     ]
    },
    {
     "name": "stdout",
     "output_type": "stream",
     "text": [
      "0.15788467\n",
      "0.3845870553492263\n",
      "0.49999999999999956\n"
     ]
    },
    {
     "name": "stderr",
     "output_type": "stream",
     "text": [
      " 50%|███████████████████████████████████████████▌                                           | 501/1000 [02:17<02:56,  2.82it/s]"
     ]
    },
    {
     "name": "stdout",
     "output_type": "stream",
     "text": [
      "0.15830676\n",
      "0.4153577025819777\n",
      "0.49899999999999956\n"
     ]
    },
    {
     "name": "stderr",
     "output_type": "stream",
     "text": [
      " 50%|███████████████████████████████████████████▊                                           | 503/1000 [02:17<02:59,  2.77it/s]"
     ]
    },
    {
     "name": "stdout",
     "output_type": "stream",
     "text": [
      "0.15645882\n",
      "0.4445898174530707\n",
      "0.49799999999999955\n",
      "0.15096694\n",
      "0.4723603265805904\n",
      "0.49699999999999955\n"
     ]
    },
    {
     "name": "stderr",
     "output_type": "stream",
     "text": [
      " 50%|███████████████████████████████████████████▊                                           | 504/1000 [02:18<02:42,  3.06it/s]"
     ]
    },
    {
     "name": "stdout",
     "output_type": "stream",
     "text": [
      "0.15189236\n",
      "0.3987423102511246\n",
      "0.49599999999999955\n"
     ]
    },
    {
     "name": "stderr",
     "output_type": "stream",
     "text": [
      " 51%|████████████████████████████████████████████                                           | 506/1000 [02:18<02:52,  2.87it/s]"
     ]
    },
    {
     "name": "stdout",
     "output_type": "stream",
     "text": [
      "0.15182918\n",
      "0.32880519473817466\n",
      "0.49499999999999955\n",
      "0.14883143\n",
      "0.26236493500091057\n",
      "0.49399999999999955\n"
     ]
    },
    {
     "name": "stderr",
     "output_type": "stream",
     "text": [
      " 51%|████████████████████████████████████████████                                           | 507/1000 [02:19<02:44,  3.00it/s]"
     ]
    },
    {
     "name": "stdout",
     "output_type": "stream",
     "text": [
      "0.14990848\n",
      "0.29924668825105244\n",
      "0.49299999999999955\n"
     ]
    },
    {
     "name": "stderr",
     "output_type": "stream",
     "text": [
      " 51%|████████████████████████████████████████████▎                                          | 509/1000 [02:20<02:51,  2.86it/s]"
     ]
    },
    {
     "name": "stdout",
     "output_type": "stream",
     "text": [
      "0.14957777\n",
      "0.33428435383866895\n",
      "0.49199999999999955\n",
      "0.14939304\n",
      "0.2675701361464296\n",
      "0.49099999999999955\n"
     ]
    },
    {
     "name": "stderr",
     "output_type": "stream",
     "text": [
      " 51%|████████████████████████████████████████████▎                                          | 510/1000 [02:20<02:33,  3.19it/s]"
     ]
    },
    {
     "name": "stdout",
     "output_type": "stream",
     "text": [
      "0.14583094\n",
      "0.30419162933926763\n",
      "0.48999999999999955\n"
     ]
    },
    {
     "name": "stderr",
     "output_type": "stream",
     "text": [
      " 51%|████████████████████████████████████████████▌                                          | 512/1000 [02:20<02:35,  3.14it/s]"
     ]
    },
    {
     "name": "stdout",
     "output_type": "stream",
     "text": [
      "0.14524606\n",
      "0.33898204787244823\n",
      "0.48899999999999955\n",
      "0.14050905\n",
      "0.37203294547895577\n",
      "0.48799999999999955\n"
     ]
    },
    {
     "name": "stderr",
     "output_type": "stream",
     "text": [
      " 51%|████████████████████████████████████████████▋                                          | 513/1000 [02:21<02:30,  3.24it/s]"
     ]
    },
    {
     "name": "stdout",
     "output_type": "stream",
     "text": [
      "0.13976134\n",
      "0.4034312982051253\n",
      "0.48699999999999954\n"
     ]
    },
    {
     "name": "stderr",
     "output_type": "stream",
     "text": [
      " 52%|████████████████████████████████████████████▊                                          | 515/1000 [02:21<02:18,  3.49it/s]"
     ]
    },
    {
     "name": "stdout",
     "output_type": "stream",
     "text": [
      "0.13933565\n",
      "0.43325973329497486\n",
      "0.48599999999999954\n",
      "0.1346381\n",
      "0.4615967466303216\n",
      "0.48499999999999954\n"
     ]
    },
    {
     "name": "stderr",
     "output_type": "stream",
     "text": [
      " 52%|████████████████████████████████████████████▉                                          | 516/1000 [02:22<02:25,  3.32it/s]"
     ]
    },
    {
     "name": "stdout",
     "output_type": "stream",
     "text": [
      "0.1352098\n",
      "0.48851690929889174\n",
      "0.48399999999999954\n"
     ]
    },
    {
     "name": "stderr",
     "output_type": "stream",
     "text": [
      " 52%|████████████████████████████████████████████▉                                          | 517/1000 [02:22<02:26,  3.30it/s]"
     ]
    },
    {
     "name": "stdout",
     "output_type": "stream",
     "text": [
      "0.14080241\n",
      "0.4140910638337207\n",
      "0.48299999999999954\n"
     ]
    },
    {
     "name": "stderr",
     "output_type": "stream",
     "text": [
      " 52%|█████████████████████████████████████████████                                          | 518/1000 [02:22<02:14,  3.58it/s]"
     ]
    },
    {
     "name": "stdout",
     "output_type": "stream",
     "text": [
      "0.13573423\n",
      "0.44338651064211937\n",
      "0.48199999999999954\n"
     ]
    },
    {
     "name": "stderr",
     "output_type": "stream",
     "text": [
      " 52%|█████████████████████████████████████████████▏                                         | 519/1000 [02:22<02:11,  3.66it/s]"
     ]
    },
    {
     "name": "stdout",
     "output_type": "stream",
     "text": [
      "0.13103224\n",
      "0.4712171851100898\n",
      "0.48099999999999954\n"
     ]
    },
    {
     "name": "stderr",
     "output_type": "stream",
     "text": [
      " 52%|█████████████████████████████████████████████▎                                         | 521/1000 [02:24<03:00,  2.66it/s]"
     ]
    },
    {
     "name": "stdout",
     "output_type": "stream",
     "text": [
      "0.13420816\n",
      "0.4976563258546543\n",
      "0.47999999999999954\n",
      "0.1301472\n",
      "0.5227735095619839\n",
      "0.47899999999999954\n"
     ]
    },
    {
     "name": "stderr",
     "output_type": "stream",
     "text": [
      " 52%|█████████████████████████████████████████████▌                                         | 523/1000 [02:24<02:13,  3.57it/s]"
     ]
    },
    {
     "name": "stdout",
     "output_type": "stream",
     "text": [
      "0.12639536\n",
      "0.5466348340839409\n",
      "0.47799999999999954\n",
      "0.12292692\n",
      "0.5693030923797945\n",
      "0.47699999999999954\n"
     ]
    },
    {
     "name": "stderr",
     "output_type": "stream",
     "text": [
      " 52%|█████████████████████████████████████████████▌                                         | 524/1000 [02:24<02:31,  3.15it/s]"
     ]
    },
    {
     "name": "stdout",
     "output_type": "stream",
     "text": [
      "0.12453633\n",
      "0.5908379377608506\n",
      "0.47599999999999953\n"
     ]
    },
    {
     "name": "stderr",
     "output_type": "stream",
     "text": [
      " 52%|█████████████████████████████████████████████▋                                         | 525/1000 [02:25<02:17,  3.45it/s]"
     ]
    },
    {
     "name": "stdout",
     "output_type": "stream",
     "text": [
      "0.122298524\n",
      "0.6112960408728493\n",
      "0.47499999999999953\n"
     ]
    },
    {
     "name": "stderr",
     "output_type": "stream",
     "text": [
      " 53%|█████████████████████████████████████████████▊                                         | 527/1000 [02:25<01:54,  4.12it/s]"
     ]
    },
    {
     "name": "stdout",
     "output_type": "stream",
     "text": [
      "0.12010888\n",
      "0.6307312388292442\n",
      "0.47399999999999953\n",
      "0.117970996\n",
      "0.6491946768878156\n",
      "0.47299999999999953\n"
     ]
    },
    {
     "name": "stderr",
     "output_type": "stream",
     "text": [
      " 53%|█████████████████████████████████████████████▉                                         | 528/1000 [02:25<01:47,  4.37it/s]"
     ]
    },
    {
     "name": "stdout",
     "output_type": "stream",
     "text": [
      "0.11588742\n",
      "0.6667349430434553\n",
      "0.47199999999999953\n"
     ]
    },
    {
     "name": "stderr",
     "output_type": "stream",
     "text": [
      " 53%|██████████████████████████████████████████████                                         | 529/1000 [02:25<01:49,  4.31it/s]"
     ]
    },
    {
     "name": "stdout",
     "output_type": "stream",
     "text": [
      "0.11385986\n",
      "0.6833981958913099\n",
      "0.47099999999999953\n"
     ]
    },
    {
     "name": "stderr",
     "output_type": "stream",
     "text": [
      " 53%|██████████████████████████████████████████████                                         | 530/1000 [02:26<02:38,  2.96it/s]"
     ]
    },
    {
     "name": "stdout",
     "output_type": "stream",
     "text": [
      "0.11734972\n",
      "0.6992282860967691\n",
      "0.46999999999999953\n"
     ]
    },
    {
     "name": "stderr",
     "output_type": "stream",
     "text": [
      " 53%|██████████████████████████████████████████████▏                                        | 531/1000 [02:26<02:23,  3.28it/s]"
     ]
    },
    {
     "name": "stdout",
     "output_type": "stream",
     "text": [
      "0.11600931\n",
      "0.7142668717919529\n",
      "0.46899999999999953\n"
     ]
    },
    {
     "name": "stderr",
     "output_type": "stream",
     "text": [
      " 53%|██████████████████████████████████████████████▎                                        | 532/1000 [02:27<02:56,  2.65it/s]"
     ]
    },
    {
     "name": "stdout",
     "output_type": "stream",
     "text": [
      "0.1172493\n",
      "0.7285535282023755\n",
      "0.4679999999999995\n"
     ]
    },
    {
     "name": "stderr",
     "output_type": "stream",
     "text": [
      " 53%|██████████████████████████████████████████████▎                                        | 533/1000 [02:27<02:39,  2.92it/s]"
     ]
    },
    {
     "name": "stdout",
     "output_type": "stream",
     "text": [
      "0.11540552\n",
      "0.7421258517922749\n",
      "0.4669999999999995\n"
     ]
    },
    {
     "name": "stderr",
     "output_type": "stream",
     "text": [
      " 53%|██████████████████████████████████████████████▍                                        | 534/1000 [02:27<02:23,  3.25it/s]"
     ]
    },
    {
     "name": "stdout",
     "output_type": "stream",
     "text": [
      "0.1135616\n",
      "0.7550195592026775\n",
      "0.4659999999999995\n"
     ]
    },
    {
     "name": "stderr",
     "output_type": "stream",
     "text": [
      " 54%|██████████████████████████████████████████████▋                                        | 536/1000 [02:28<02:25,  3.19it/s]"
     ]
    },
    {
     "name": "stdout",
     "output_type": "stream",
     "text": [
      "0.115137495\n",
      "0.7672685812425584\n",
      "0.4649999999999995\n",
      "0.11401401\n",
      "0.7789051521804439\n",
      "0.4639999999999995\n"
     ]
    },
    {
     "name": "stderr",
     "output_type": "stream",
     "text": [
      " 54%|██████████████████████████████████████████████▋                                        | 537/1000 [02:28<02:15,  3.43it/s]"
     ]
    },
    {
     "name": "stdout",
     "output_type": "stream",
     "text": [
      "0.11275599\n",
      "0.7899598945714338\n",
      "0.4629999999999995\n"
     ]
    },
    {
     "name": "stderr",
     "output_type": "stream",
     "text": [
      " 54%|██████████████████████████████████████████████▊                                        | 538/1000 [02:29<02:37,  2.93it/s]"
     ]
    },
    {
     "name": "stdout",
     "output_type": "stream",
     "text": [
      "0.11323942\n",
      "0.800461899842873\n",
      "0.4619999999999995\n"
     ]
    },
    {
     "name": "stderr",
     "output_type": "stream",
     "text": [
      " 54%|██████████████████████████████████████████████▉                                        | 539/1000 [02:29<03:36,  2.13it/s]"
     ]
    },
    {
     "name": "stdout",
     "output_type": "stream",
     "text": [
      "0.11748138\n",
      "0.7104388048506407\n",
      "0.4609999999999995\n"
     ]
    },
    {
     "name": "stderr",
     "output_type": "stream",
     "text": [
      " 54%|███████████████████████████████████████████████                                        | 541/1000 [02:30<02:32,  3.02it/s]"
     ]
    },
    {
     "name": "stdout",
     "output_type": "stream",
     "text": [
      "0.11359063\n",
      "0.7249168646081222\n",
      "0.4599999999999995\n",
      "0.11000233\n",
      "0.7386710213777283\n",
      "0.4589999999999995\n"
     ]
    },
    {
     "name": "stderr",
     "output_type": "stream",
     "text": [
      " 54%|███████████████████████████████████████████████▏                                       | 542/1000 [02:30<02:09,  3.54it/s]"
     ]
    },
    {
     "name": "stdout",
     "output_type": "stream",
     "text": [
      "0.10669779\n",
      "0.7517374703088529\n",
      "0.4579999999999995\n"
     ]
    },
    {
     "name": "stderr",
     "output_type": "stream",
     "text": [
      " 54%|███████████████████████████████████████████████▏                                       | 543/1000 [02:30<02:03,  3.70it/s]"
     ]
    },
    {
     "name": "stdout",
     "output_type": "stream",
     "text": [
      "0.10365672\n",
      "0.7641505967934202\n",
      "0.4569999999999995\n"
     ]
    },
    {
     "name": "stderr",
     "output_type": "stream",
     "text": [
      " 55%|███████████████████████████████████████████████▍                                       | 545/1000 [02:31<01:47,  4.23it/s]"
     ]
    },
    {
     "name": "stdout",
     "output_type": "stream",
     "text": [
      "0.100858375\n",
      "0.7759430669537583\n",
      "0.4559999999999995\n",
      "0.09828229\n",
      "0.7871459136060784\n",
      "0.4549999999999995\n"
     ]
    },
    {
     "name": "stderr",
     "output_type": "stream",
     "text": [
      " 55%|███████████████████████████████████████████████▌                                       | 546/1000 [02:31<01:38,  4.59it/s]"
     ]
    },
    {
     "name": "stdout",
     "output_type": "stream",
     "text": [
      "0.095908746\n",
      "0.7977886179257818\n",
      "0.4539999999999995\n"
     ]
    },
    {
     "name": "stderr",
     "output_type": "stream",
     "text": [
      " 55%|███████████████████████████████████████████████▋                                       | 548/1000 [02:31<01:39,  4.52it/s]"
     ]
    },
    {
     "name": "stdout",
     "output_type": "stream",
     "text": [
      "0.10403819\n",
      "0.7078991870294339\n",
      "0.4529999999999995\n",
      "0.100434326\n",
      "0.7225042276779713\n",
      "0.4519999999999995\n"
     ]
    },
    {
     "name": "stderr",
     "output_type": "stream",
     "text": [
      " 55%|███████████████████████████████████████████████▊                                       | 549/1000 [02:32<01:41,  4.46it/s]"
     ]
    },
    {
     "name": "stdout",
     "output_type": "stream",
     "text": [
      "0.09709064\n",
      "0.736379016294081\n",
      "0.4509999999999995\n"
     ]
    },
    {
     "name": "stderr",
     "output_type": "stream",
     "text": [
      " 55%|███████████████████████████████████████████████▉                                       | 551/1000 [02:32<01:46,  4.20it/s]"
     ]
    },
    {
     "name": "stdout",
     "output_type": "stream",
     "text": [
      "0.0994879\n",
      "0.7495600654793844\n",
      "0.4499999999999995\n",
      "0.096305415\n",
      "0.7620820622054219\n",
      "0.4489999999999995\n"
     ]
    },
    {
     "name": "stderr",
     "output_type": "stream",
     "text": [
      " 55%|████████████████████████████████████████████████                                       | 553/1000 [02:33<02:14,  3.32it/s]"
     ]
    },
    {
     "name": "stdout",
     "output_type": "stream",
     "text": [
      "0.09959601\n",
      "0.7739779590951568\n",
      "0.4479999999999995\n",
      "0.0968897\n",
      "0.7852790611404044\n",
      "0.4469999999999995\n"
     ]
    },
    {
     "name": "stderr",
     "output_type": "stream",
     "text": [
      " 55%|████████████████████████████████████████████████▏                                      | 554/1000 [02:33<02:22,  3.13it/s]"
     ]
    },
    {
     "name": "stdout",
     "output_type": "stream",
     "text": [
      "0.0976644\n",
      "0.7960151080833889\n",
      "0.4459999999999995\n"
     ]
    },
    {
     "name": "stderr",
     "output_type": "stream",
     "text": [
      " 56%|████████████████████████████████████████████████▎                                      | 555/1000 [02:34<03:14,  2.29it/s]"
     ]
    },
    {
     "name": "stdout",
     "output_type": "stream",
     "text": [
      "0.09899802\n",
      "0.806214352679224\n",
      "0.4449999999999995\n"
     ]
    },
    {
     "name": "stderr",
     "output_type": "stream",
     "text": [
      " 56%|████████████████████████████████████████████████▍                                      | 557/1000 [02:34<02:21,  3.14it/s]"
     ]
    },
    {
     "name": "stdout",
     "output_type": "stream",
     "text": [
      "0.099489905\n",
      "0.8159036350452669\n",
      "0.4439999999999995\n",
      "0.09818475\n",
      "0.8251084532930071\n",
      "0.4429999999999995\n"
     ]
    },
    {
     "name": "stderr",
     "output_type": "stream",
     "text": [
      " 56%|████████████████████████████████████████████████▌                                      | 558/1000 [02:35<02:08,  3.43it/s]"
     ]
    },
    {
     "name": "stdout",
     "output_type": "stream",
     "text": [
      "0.096868634\n",
      "0.83385303062836\n",
      "0.4419999999999995\n"
     ]
    },
    {
     "name": "stderr",
     "output_type": "stream",
     "text": [
      " 56%|████████████████████████████████████████████████▋                                      | 560/1000 [02:35<02:08,  3.41it/s]"
     ]
    },
    {
     "name": "stdout",
     "output_type": "stream",
     "text": [
      "0.096732445\n",
      "0.842160379096945\n",
      "0.4409999999999995\n",
      "0.095054895\n",
      "0.8500523601421004\n",
      "0.4399999999999995\n"
     ]
    },
    {
     "name": "stderr",
     "output_type": "stream",
     "text": [
      " 56%|████████████████████████████████████████████████▊                                      | 561/1000 [02:35<01:45,  4.15it/s]"
     ]
    },
    {
     "name": "stdout",
     "output_type": "stream",
     "text": [
      "0.1178619\n",
      "0.757549742134966\n",
      "0.4389999999999995\n"
     ]
    },
    {
     "name": "stderr",
     "output_type": "stream",
     "text": [
      " 56%|████████████████████████████████████████████████▉                                      | 562/1000 [02:36<01:44,  4.18it/s]"
     ]
    },
    {
     "name": "stdout",
     "output_type": "stream",
     "text": [
      "0.117080465\n",
      "0.7696722550282213\n",
      "0.4379999999999995\n"
     ]
    },
    {
     "name": "stderr",
     "output_type": "stream",
     "text": [
      " 56%|█████████████████████████████████████████████████                                      | 564/1000 [02:36<01:34,  4.61it/s]"
     ]
    },
    {
     "name": "stdout",
     "output_type": "stream",
     "text": [
      "0.11425994\n",
      "0.7811886422768136\n",
      "0.4369999999999995\n",
      "0.111588225\n",
      "0.792129210162976\n",
      "0.4359999999999995\n"
     ]
    },
    {
     "name": "stderr",
     "output_type": "stream",
     "text": [
      " 57%|█████████████████████████████████████████████████▏                                     | 566/1000 [02:37<01:44,  4.14it/s]"
     ]
    },
    {
     "name": "stdout",
     "output_type": "stream",
     "text": [
      "0.1107882\n",
      "0.80252274965483\n",
      "0.4349999999999995\n",
      "0.10814949\n",
      "0.8123966121720909\n",
      "0.4339999999999995\n"
     ]
    },
    {
     "name": "stderr",
     "output_type": "stream",
     "text": [
      " 57%|█████████████████████████████████████████████████▍                                     | 568/1000 [02:37<01:27,  4.95it/s]"
     ]
    },
    {
     "name": "stdout",
     "output_type": "stream",
     "text": [
      "0.10566612\n",
      "0.8217767815634885\n",
      "0.4329999999999995\n",
      "0.1254993\n",
      "0.7306879424852939\n",
      "0.4319999999999995\n"
     ]
    },
    {
     "name": "stderr",
     "output_type": "stream",
     "text": [
      " 57%|█████████████████████████████████████████████████▌                                     | 570/1000 [02:37<01:27,  4.89it/s]"
     ]
    },
    {
     "name": "stdout",
     "output_type": "stream",
     "text": [
      "0.121397234\n",
      "0.744153545361032\n",
      "0.4309999999999995\n",
      "0.11759193\n",
      "0.756945868092983\n",
      "0.4299999999999995\n"
     ]
    },
    {
     "name": "stderr",
     "output_type": "stream",
     "text": [
      " 57%|█████████████████████████████████████████████████▋                                     | 571/1000 [02:38<01:30,  4.72it/s]"
     ]
    },
    {
     "name": "stdout",
     "output_type": "stream",
     "text": [
      "0.11406091\n",
      "0.7690985746883363\n",
      "0.4289999999999995\n"
     ]
    },
    {
     "name": "stderr",
     "output_type": "stream",
     "text": [
      " 57%|█████████████████████████████████████████████████▊                                     | 572/1000 [02:38<01:30,  4.72it/s]"
     ]
    },
    {
     "name": "stdout",
     "output_type": "stream",
     "text": [
      "0.110782325\n",
      "0.7806436459539215\n",
      "0.4279999999999995\n"
     ]
    },
    {
     "name": "stderr",
     "output_type": "stream",
     "text": [
      " 57%|█████████████████████████████████████████████████▉                                     | 574/1000 [02:38<01:43,  4.13it/s]"
     ]
    },
    {
     "name": "stdout",
     "output_type": "stream",
     "text": [
      "0.11121595\n",
      "0.7916114636562275\n",
      "0.4269999999999995\n",
      "0.1089804\n",
      "0.8020308904734178\n",
      "0.4259999999999995\n"
     ]
    },
    {
     "name": "stderr",
     "output_type": "stream",
     "text": [
      " 58%|██████████████████████████████████████████████████                                     | 576/1000 [02:39<01:44,  4.06it/s]"
     ]
    },
    {
     "name": "stdout",
     "output_type": "stream",
     "text": [
      "0.10999955\n",
      "0.8119293459497485\n",
      "0.4249999999999995\n",
      "0.13056426\n",
      "0.7213328786522477\n",
      "0.4239999999999995\n"
     ]
    },
    {
     "name": "stderr",
     "output_type": "stream",
     "text": [
      " 58%|██████████████████████████████████████████████████▎                                    | 578/1000 [02:40<02:04,  3.40it/s]"
     ]
    },
    {
     "name": "stdout",
     "output_type": "stream",
     "text": [
      "0.13121234\n",
      "0.7352662347196373\n",
      "0.4229999999999995\n",
      "0.1273358\n",
      "0.7485029229836572\n",
      "0.4219999999999995\n"
     ]
    },
    {
     "name": "stderr",
     "output_type": "stream",
     "text": [
      " 58%|██████████████████████████████████████████████████▍                                    | 580/1000 [02:40<01:53,  3.71it/s]"
     ]
    },
    {
     "name": "stdout",
     "output_type": "stream",
     "text": [
      "0.12618236\n",
      "0.761077776834476\n",
      "0.4209999999999995\n",
      "0.12248856\n",
      "0.7730238879927536\n",
      "0.4199999999999995\n"
     ]
    },
    {
     "name": "stderr",
     "output_type": "stream",
     "text": [
      " 58%|██████████████████████████████████████████████████▋                                    | 582/1000 [02:41<01:37,  4.28it/s]"
     ]
    },
    {
     "name": "stdout",
     "output_type": "stream",
     "text": [
      "0.11902987\n",
      "0.7843726935931172\n",
      "0.4189999999999995\n",
      "0.115787454\n",
      "0.7951540589134626\n",
      "0.4179999999999995\n"
     ]
    },
    {
     "name": "stderr",
     "output_type": "stream",
     "text": [
      " 58%|██████████████████████████████████████████████████▋                                    | 583/1000 [02:41<01:24,  4.95it/s]"
     ]
    },
    {
     "name": "stdout",
     "output_type": "stream",
     "text": [
      "0.13302961\n",
      "0.7053963559677802\n",
      "0.4169999999999995\n"
     ]
    },
    {
     "name": "stderr",
     "output_type": "stream",
     "text": [
      " 58%|██████████████████████████████████████████████████▊                                    | 584/1000 [02:41<01:28,  4.73it/s]"
     ]
    },
    {
     "name": "stdout",
     "output_type": "stream",
     "text": [
      "0.12843607\n",
      "0.7201265381693924\n",
      "0.4159999999999995\n"
     ]
    },
    {
     "name": "stderr",
     "output_type": "stream",
     "text": [
      " 58%|██████████████████████████████████████████████████▉                                    | 585/1000 [02:41<01:30,  4.59it/s]"
     ]
    },
    {
     "name": "stdout",
     "output_type": "stream",
     "text": [
      "0.12416662\n",
      "0.7341202112609241\n",
      "0.4149999999999995\n"
     ]
    },
    {
     "name": "stderr",
     "output_type": "stream",
     "text": [
      " 59%|██████████████████████████████████████████████████▉                                    | 586/1000 [02:41<01:31,  4.55it/s]"
     ]
    },
    {
     "name": "stdout",
     "output_type": "stream",
     "text": [
      "0.120198295\n",
      "0.7474142006978791\n",
      "0.4139999999999995\n"
     ]
    },
    {
     "name": "stderr",
     "output_type": "stream",
     "text": [
      " 59%|███████████████████████████████████████████████████▏                                   | 588/1000 [02:42<01:56,  3.54it/s]"
     ]
    },
    {
     "name": "stdout",
     "output_type": "stream",
     "text": [
      "0.12046608\n",
      "0.7600434906629864\n",
      "0.4129999999999995\n",
      "0.11668818\n",
      "0.772041316129838\n",
      "0.4119999999999995\n"
     ]
    },
    {
     "name": "stderr",
     "output_type": "stream",
     "text": [
      " 59%|███████████████████████████████████████████████████▏                                   | 589/1000 [02:42<01:43,  3.98it/s]"
     ]
    },
    {
     "name": "stdout",
     "output_type": "stream",
     "text": [
      "0.11317288\n",
      "0.7834392503233469\n",
      "0.4109999999999995\n"
     ]
    },
    {
     "name": "stderr",
     "output_type": "stream",
     "text": [
      " 59%|███████████████████████████████████████████████████▎                                   | 590/1000 [02:43<01:54,  3.59it/s]"
     ]
    },
    {
     "name": "stdout",
     "output_type": "stream",
     "text": [
      "0.113844186\n",
      "0.7942672878071805\n",
      "0.4099999999999995\n"
     ]
    },
    {
     "name": "stderr",
     "output_type": "stream",
     "text": [
      " 59%|███████████████████████████████████████████████████▍                                   | 591/1000 [02:43<01:48,  3.77it/s]"
     ]
    },
    {
     "name": "stdout",
     "output_type": "stream",
     "text": [
      "0.1113727\n",
      "0.8045539234168222\n",
      "0.4089999999999995\n"
     ]
    },
    {
     "name": "stderr",
     "output_type": "stream",
     "text": [
      " 59%|███████████████████████████████████████████████████▌                                   | 592/1000 [02:43<01:44,  3.91it/s]"
     ]
    },
    {
     "name": "stdout",
     "output_type": "stream",
     "text": [
      "0.10897757\n",
      "0.8143262272459816\n",
      "0.4079999999999995\n"
     ]
    },
    {
     "name": "stderr",
     "output_type": "stream",
     "text": [
      " 59%|███████████████████████████████████████████████████▋                                   | 594/1000 [02:44<01:31,  4.44it/s]"
     ]
    },
    {
     "name": "stdout",
     "output_type": "stream",
     "text": [
      "0.10665927\n",
      "0.8236099158836832\n",
      "0.4069999999999995\n",
      "0.10441766\n",
      "0.8324294200894995\n",
      "0.4059999999999995\n"
     ]
    },
    {
     "name": "stderr",
     "output_type": "stream",
     "text": [
      " 60%|███████████████████████████████████████████████████▊                                   | 596/1000 [02:44<01:20,  4.99it/s]"
     ]
    },
    {
     "name": "stdout",
     "output_type": "stream",
     "text": [
      "0.1022521\n",
      "0.8408079490850249\n",
      "0.40499999999999947\n",
      "0.10016158\n",
      "0.8487675516307741\n",
      "0.40399999999999947\n"
     ]
    },
    {
     "name": "stderr",
     "output_type": "stream",
     "text": [
      " 60%|████████████████████████████████████████████████████                                   | 598/1000 [02:44<01:23,  4.84it/s]"
     ]
    },
    {
     "name": "stdout",
     "output_type": "stream",
     "text": [
      "0.09814475\n",
      "0.8563291740492358\n",
      "0.40299999999999947\n",
      "0.09620001\n",
      "0.8635127153467744\n",
      "0.40199999999999947\n"
     ]
    },
    {
     "name": "stderr",
     "output_type": "stream",
     "text": [
      " 60%|████████████████████████████████████████████████████                                   | 599/1000 [02:45<01:24,  4.74it/s]"
     ]
    },
    {
     "name": "stdout",
     "output_type": "stream",
     "text": [
      "0.09432559\n",
      "0.870337079579436\n",
      "0.40099999999999947\n"
     ]
    },
    {
     "name": "stderr",
     "output_type": "stream",
     "text": [
      " 60%|████████████████████████████████████████████████████▏                                  | 600/1000 [02:45<01:53,  3.52it/s]"
     ]
    },
    {
     "name": "stdout",
     "output_type": "stream",
     "text": [
      "0.09723386\n",
      "0.8768202256004645\n",
      "0.39999999999999947\n"
     ]
    },
    {
     "name": "stderr",
     "output_type": "stream",
     "text": [
      " 60%|████████████████████████████████████████████████████▎                                  | 601/1000 [02:45<01:48,  3.69it/s]"
     ]
    },
    {
     "name": "stdout",
     "output_type": "stream",
     "text": [
      "0.09591691\n",
      "0.8829792143204416\n",
      "0.39899999999999947\n"
     ]
    },
    {
     "name": "stderr",
     "output_type": "stream",
     "text": [
      " 60%|████████████████████████████████████████████████████▎                                  | 602/1000 [02:46<01:56,  3.41it/s]"
     ]
    },
    {
     "name": "stdout",
     "output_type": "stream",
     "text": [
      "0.09669099\n",
      "0.8888302536044197\n",
      "0.39799999999999947\n"
     ]
    },
    {
     "name": "stderr",
     "output_type": "stream",
     "text": [
      " 60%|████████████████████████████████████████████████████▍                                  | 603/1000 [02:46<01:49,  3.61it/s]"
     ]
    },
    {
     "name": "stdout",
     "output_type": "stream",
     "text": [
      "0.095009066\n",
      "0.894388740924199\n",
      "0.39699999999999946\n"
     ]
    },
    {
     "name": "stderr",
     "output_type": "stream",
     "text": [
      " 60%|████████████████████████████████████████████████████▌                                  | 604/1000 [02:46<01:43,  3.83it/s]"
     ]
    },
    {
     "name": "stdout",
     "output_type": "stream",
     "text": [
      "0.09336021\n",
      "0.8996693038779892\n",
      "0.39599999999999946\n"
     ]
    },
    {
     "name": "stderr",
     "output_type": "stream",
     "text": [
      " 61%|████████████████████████████████████████████████████▋                                  | 606/1000 [02:46<01:31,  4.32it/s]"
     ]
    },
    {
     "name": "stdout",
     "output_type": "stream",
     "text": [
      "0.09174769\n",
      "0.9046858386840898\n",
      "0.39499999999999946\n",
      "0.09017395\n",
      "0.9094515467498855\n",
      "0.39399999999999946\n"
     ]
    },
    {
     "name": "stderr",
     "output_type": "stream",
     "text": [
      " 61%|████████████████████████████████████████████████████▊                                  | 607/1000 [02:47<01:17,  5.04it/s]"
     ]
    },
    {
     "name": "stdout",
     "output_type": "stream",
     "text": [
      "0.0886407\n",
      "0.9139789694123914\n",
      "0.39299999999999946\n"
     ]
    },
    {
     "name": "stderr",
     "output_type": "stream",
     "text": [
      " 61%|████████████████████████████████████████████████████▉                                  | 608/1000 [02:47<01:22,  4.76it/s]"
     ]
    },
    {
     "name": "stdout",
     "output_type": "stream",
     "text": [
      "0.087149076\n",
      "0.9182800209417719\n",
      "0.39199999999999946\n"
     ]
    },
    {
     "name": "stderr",
     "output_type": "stream",
     "text": [
      " 61%|█████████████████████████████████████████████████████                                  | 610/1000 [02:47<01:21,  4.76it/s]"
     ]
    },
    {
     "name": "stdout",
     "output_type": "stream",
     "text": [
      "0.08569977\n",
      "0.9223660198946834\n",
      "0.39099999999999946\n",
      "0.08429302\n",
      "0.9262477188999494\n",
      "0.38999999999999946\n"
     ]
    },
    {
     "name": "stderr",
     "output_type": "stream",
     "text": [
      " 61%|█████████████████████████████████████████████████████▏                                 | 611/1000 [02:48<02:02,  3.18it/s]"
     ]
    },
    {
     "name": "stdout",
     "output_type": "stream",
     "text": [
      "0.08559872\n",
      "0.9299353329549521\n",
      "0.38899999999999946\n"
     ]
    },
    {
     "name": "stderr",
     "output_type": "stream",
     "text": [
      " 61%|█████████████████████████████████████████████████████▏                                 | 612/1000 [02:48<02:13,  2.91it/s]"
     ]
    },
    {
     "name": "stdout",
     "output_type": "stream",
     "text": [
      "0.08580493\n",
      "0.9334385663072046\n",
      "0.38799999999999946\n"
     ]
    },
    {
     "name": "stderr",
     "output_type": "stream",
     "text": [
      " 61%|█████████████████████████████████████████████████████▎                                 | 613/1000 [02:48<01:59,  3.23it/s]"
     ]
    },
    {
     "name": "stdout",
     "output_type": "stream",
     "text": [
      "0.084709436\n",
      "0.9367666379918443\n",
      "0.38699999999999946\n"
     ]
    },
    {
     "name": "stderr",
     "output_type": "stream",
     "text": [
      " 62%|█████████████████████████████████████████████████████▌                                 | 615/1000 [02:49<01:38,  3.90it/s]"
     ]
    },
    {
     "name": "stdout",
     "output_type": "stream",
     "text": [
      "0.083600424\n",
      "0.9399283060922523\n",
      "0.38599999999999945\n",
      "0.0824861\n",
      "0.9429318907876398\n",
      "0.38499999999999945\n"
     ]
    },
    {
     "name": "stderr",
     "output_type": "stream",
     "text": [
      " 62%|█████████████████████████████████████████████████████▌                                 | 616/1000 [02:49<02:05,  3.07it/s]"
     ]
    },
    {
     "name": "stdout",
     "output_type": "stream",
     "text": [
      "0.082808144\n",
      "0.9457852962482579\n",
      "0.38399999999999945\n"
     ]
    },
    {
     "name": "stderr",
     "output_type": "stream",
     "text": [
      " 62%|█████████████████████████████████████████████████████▊                                 | 618/1000 [02:50<01:38,  3.86it/s]"
     ]
    },
    {
     "name": "stdout",
     "output_type": "stream",
     "text": [
      "0.08152713\n",
      "0.948496031435845\n",
      "0.38299999999999945\n",
      "0.080275185\n",
      "0.9510712298640528\n",
      "0.38199999999999945\n"
     ]
    },
    {
     "name": "stderr",
     "output_type": "stream",
     "text": [
      " 62%|█████████████████████████████████████████████████████▉                                 | 620/1000 [02:50<01:26,  4.38it/s]"
     ]
    },
    {
     "name": "stdout",
     "output_type": "stream",
     "text": [
      "0.07905371\n",
      "0.9535176683708502\n",
      "0.38099999999999945\n",
      "0.077863656\n",
      "0.9558417849523078\n",
      "0.37999999999999945\n"
     ]
    },
    {
     "name": "stderr",
     "output_type": "stream",
     "text": [
      " 62%|██████████████████████████████████████████████████████                                 | 622/1000 [02:51<01:34,  4.00it/s]"
     ]
    },
    {
     "name": "stdout",
     "output_type": "stream",
     "text": [
      "0.07776019\n",
      "0.9580496957046923\n",
      "0.37899999999999945\n",
      "0.07646133\n",
      "0.9601472109194579\n",
      "0.37799999999999945\n"
     ]
    },
    {
     "name": "stderr",
     "output_type": "stream",
     "text": [
      " 62%|██████████████████████████████████████████████████████▏                                | 623/1000 [02:51<01:24,  4.45it/s]"
     ]
    },
    {
     "name": "stdout",
     "output_type": "stream",
     "text": [
      "0.07522326\n",
      "0.9621398503734849\n",
      "0.37699999999999945\n"
     ]
    },
    {
     "name": "stderr",
     "output_type": "stream",
     "text": [
      " 62%|██████████████████████████████████████████████████████▍                                | 625/1000 [02:51<01:24,  4.45it/s]"
     ]
    },
    {
     "name": "stdout",
     "output_type": "stream",
     "text": [
      "0.075832814\n",
      "0.9640328578548107\n",
      "0.37599999999999945\n",
      "0.10482554\n",
      "0.865831214962069\n",
      "0.37499999999999944\n"
     ]
    },
    {
     "name": "stderr",
     "output_type": "stream",
     "text": [
      " 63%|██████████████████████████████████████████████████████▍                                | 626/1000 [02:52<01:18,  4.78it/s]"
     ]
    },
    {
     "name": "stdout",
     "output_type": "stream",
     "text": [
      "0.10181598\n",
      "0.8725396542139656\n",
      "0.37399999999999944\n"
     ]
    },
    {
     "name": "stderr",
     "output_type": "stream",
     "text": [
      " 63%|██████████████████████████████████████████████████████▌                                | 627/1000 [02:52<01:19,  4.72it/s]"
     ]
    },
    {
     "name": "stdout",
     "output_type": "stream",
     "text": [
      "0.098989\n",
      "0.8789126715032674\n",
      "0.37299999999999944\n"
     ]
    },
    {
     "name": "stderr",
     "output_type": "stream",
     "text": [
      " 63%|██████████████████████████████████████████████████████▋                                | 628/1000 [02:52<01:31,  4.08it/s]"
     ]
    },
    {
     "name": "stdout",
     "output_type": "stream",
     "text": [
      "0.09633064\n",
      "0.884967037928104\n",
      "0.37199999999999944\n"
     ]
    },
    {
     "name": "stderr",
     "output_type": "stream",
     "text": [
      " 63%|██████████████████████████████████████████████████████▋                                | 629/1000 [02:53<02:01,  3.05it/s]"
     ]
    },
    {
     "name": "stdout",
     "output_type": "stream",
     "text": [
      "0.09625291\n",
      "0.890718686031699\n",
      "0.37099999999999944\n"
     ]
    },
    {
     "name": "stderr",
     "output_type": "stream",
     "text": [
      " 63%|██████████████████████████████████████████████████████▊                                | 630/1000 [02:53<01:51,  3.33it/s]"
     ]
    },
    {
     "name": "stdout",
     "output_type": "stream",
     "text": [
      "0.09365891\n",
      "0.8961827517301141\n",
      "0.36999999999999944\n"
     ]
    },
    {
     "name": "stderr",
     "output_type": "stream",
     "text": [
      " 63%|██████████████████████████████████████████████████████▉                                | 631/1000 [02:54<02:50,  2.16it/s]"
     ]
    },
    {
     "name": "stdout",
     "output_type": "stream",
     "text": [
      "0.09348652\n",
      "0.9013736141436085\n",
      "0.36899999999999944\n"
     ]
    },
    {
     "name": "stderr",
     "output_type": "stream",
     "text": [
      " 63%|███████████████████████████████████████████████████████                                | 633/1000 [02:54<02:09,  2.84it/s]"
     ]
    },
    {
     "name": "stdout",
     "output_type": "stream",
     "text": [
      "0.09215866\n",
      "0.9063049334364282\n",
      "0.36799999999999944\n",
      "0.08949063\n",
      "0.9109896867646068\n",
      "0.36699999999999944\n"
     ]
    },
    {
     "name": "stderr",
     "output_type": "stream",
     "text": [
      " 64%|███████████████████████████████████████████████████████▏                               | 635/1000 [02:55<01:30,  4.04it/s]"
     ]
    },
    {
     "name": "stdout",
     "output_type": "stream",
     "text": [
      "0.08701307\n",
      "0.9154402024263765\n",
      "0.36599999999999944\n",
      "0.11123432\n",
      "0.8196681923050568\n",
      "0.36499999999999944\n"
     ]
    },
    {
     "name": "stderr",
     "output_type": "stream",
     "text": [
      " 64%|███████████████████████████████████████████████████████▍                               | 637/1000 [02:55<01:10,  5.14it/s]"
     ]
    },
    {
     "name": "stdout",
     "output_type": "stream",
     "text": [
      "0.107159145\n",
      "0.8286847826898042\n",
      "0.36399999999999944\n",
      "0.12462451\n",
      "0.7372505435553133\n",
      "0.36299999999999943\n"
     ]
    },
    {
     "name": "stderr",
     "output_type": "stream",
     "text": [
      " 64%|███████████████████████████████████████████████████████▌                               | 638/1000 [02:55<01:13,  4.89it/s]"
     ]
    },
    {
     "name": "stdout",
     "output_type": "stream",
     "text": [
      "0.11966553\n",
      "0.7503880163775476\n",
      "0.36199999999999943\n"
     ]
    },
    {
     "name": "stderr",
     "output_type": "stream",
     "text": [
      " 64%|███████████████████████████████████████████████████████▌                               | 639/1000 [02:55<01:16,  4.72it/s]"
     ]
    },
    {
     "name": "stdout",
     "output_type": "stream",
     "text": [
      "0.11501758\n",
      "0.7628686155586704\n",
      "0.36099999999999943\n"
     ]
    },
    {
     "name": "stderr",
     "output_type": "stream",
     "text": [
      " 64%|███████████████████████████████████████████████████████▊                               | 641/1000 [02:56<01:18,  4.58it/s]"
     ]
    },
    {
     "name": "stdout",
     "output_type": "stream",
     "text": [
      "0.11428745\n",
      "0.7747251847807369\n",
      "0.35999999999999943\n",
      "0.11047071\n",
      "0.7859889255417001\n",
      "0.35899999999999943\n"
     ]
    },
    {
     "name": "stderr",
     "output_type": "stream",
     "text": [
      " 64%|███████████████████████████████████████████████████████▉                               | 643/1000 [02:56<01:28,  4.05it/s]"
     ]
    },
    {
     "name": "stdout",
     "output_type": "stream",
     "text": [
      "0.11043873\n",
      "0.7966894792646152\n",
      "0.35799999999999943\n",
      "0.10756442\n",
      "0.8068550053013845\n",
      "0.35699999999999943\n"
     ]
    },
    {
     "name": "stderr",
     "output_type": "stream",
     "text": [
      " 64%|████████████████████████████████████████████████████████                               | 644/1000 [02:57<01:32,  3.87it/s]"
     ]
    },
    {
     "name": "stdout",
     "output_type": "stream",
     "text": [
      "0.107752725\n",
      "0.8165122550363153\n",
      "0.35599999999999943\n"
     ]
    },
    {
     "name": "stderr",
     "output_type": "stream",
     "text": [
      " 65%|████████████████████████████████████████████████████████▏                              | 646/1000 [02:57<01:20,  4.40it/s]"
     ]
    },
    {
     "name": "stdout",
     "output_type": "stream",
     "text": [
      "0.10478667\n",
      "0.8256866422844996\n",
      "0.3549999999999994\n",
      "0.10196663\n",
      "0.8344023101702747\n",
      "0.3539999999999994\n"
     ]
    },
    {
     "name": "stderr",
     "output_type": "stream",
     "text": [
      " 65%|████████████████████████████████████████████████████████▍                              | 648/1000 [02:57<01:14,  4.73it/s]"
     ]
    },
    {
     "name": "stdout",
     "output_type": "stream",
     "text": [
      "0.09928412\n",
      "0.8426821946617609\n",
      "0.3529999999999994\n",
      "0.09673123\n",
      "0.8505480849286728\n",
      "0.3519999999999994\n"
     ]
    },
    {
     "name": "stderr",
     "output_type": "stream",
     "text": [
      " 65%|████████████████████████████████████████████████████████▍                              | 649/1000 [02:58<01:15,  4.64it/s]"
     ]
    },
    {
     "name": "stdout",
     "output_type": "stream",
     "text": [
      "0.09430058\n",
      "0.8580206806822392\n",
      "0.3509999999999994\n"
     ]
    },
    {
     "name": "stderr",
     "output_type": "stream",
     "text": [
      " 65%|████████████████████████████████████████████████████████▋                              | 651/1000 [02:58<01:21,  4.29it/s]"
     ]
    },
    {
     "name": "stdout",
     "output_type": "stream",
     "text": [
      "0.0945458\n",
      "0.8651196466481273\n",
      "0.3499999999999994\n",
      "0.09207227\n",
      "0.8718636643157209\n",
      "0.3489999999999994\n"
     ]
    },
    {
     "name": "stderr",
     "output_type": "stream",
     "text": [
      " 65%|████████████████████████████████████████████████████████▋                              | 652/1000 [02:58<01:23,  4.17it/s]"
     ]
    },
    {
     "name": "stdout",
     "output_type": "stream",
     "text": [
      "0.089736655\n",
      "0.878270481099935\n",
      "0.3479999999999994\n"
     ]
    },
    {
     "name": "stderr",
     "output_type": "stream",
     "text": [
      " 65%|████████████████████████████████████████████████████████▊                              | 653/1000 [02:59<01:22,  4.23it/s]"
     ]
    },
    {
     "name": "stdout",
     "output_type": "stream",
     "text": [
      "0.08752907\n",
      "0.8843569570449382\n",
      "0.3469999999999994\n"
     ]
    },
    {
     "name": "stderr",
     "output_type": "stream",
     "text": [
      " 65%|████████████████████████████████████████████████████████▉                              | 654/1000 [02:59<01:39,  3.47it/s]"
     ]
    },
    {
     "name": "stdout",
     "output_type": "stream",
     "text": [
      "0.087617576\n",
      "0.8901391091926912\n",
      "0.3459999999999994\n"
     ]
    },
    {
     "name": "stderr",
     "output_type": "stream",
     "text": [
      " 66%|█████████████████████████████████████████████████████████                              | 656/1000 [03:00<01:46,  3.23it/s]"
     ]
    },
    {
     "name": "stdout",
     "output_type": "stream",
     "text": [
      "0.08787411\n",
      "0.8956321537330568\n",
      "0.3449999999999994\n",
      "0.086167686\n",
      "0.900850546046404\n",
      "0.3439999999999994\n"
     ]
    },
    {
     "name": "stderr",
     "output_type": "stream",
     "text": [
      " 66%|█████████████████████████████████████████████████████████▏                             | 657/1000 [03:00<01:37,  3.52it/s]"
     ]
    },
    {
     "name": "stdout",
     "output_type": "stream",
     "text": [
      "0.08450659\n",
      "0.9058080187440838\n",
      "0.3429999999999994\n"
     ]
    },
    {
     "name": "stderr",
     "output_type": "stream",
     "text": [
      " 66%|█████████████████████████████████████████████████████████▏                             | 658/1000 [03:01<01:57,  2.91it/s]"
     ]
    },
    {
     "name": "stdout",
     "output_type": "stream",
     "text": [
      "0.08395577\n",
      "0.9105176178068796\n",
      "0.3419999999999994\n"
     ]
    },
    {
     "name": "stderr",
     "output_type": "stream",
     "text": [
      " 66%|█████████████████████████████████████████████████████████▍                             | 660/1000 [03:01<01:53,  2.99it/s]"
     ]
    },
    {
     "name": "stdout",
     "output_type": "stream",
     "text": [
      "0.08340893\n",
      "0.9149917369165356\n",
      "0.3409999999999994\n",
      "0.08153109\n",
      "0.9192421500707089\n",
      "0.3399999999999994\n"
     ]
    },
    {
     "name": "stderr",
     "output_type": "stream",
     "text": [
      " 66%|█████████████████████████████████████████████████████████▌                             | 661/1000 [03:02<02:03,  2.74it/s]"
     ]
    },
    {
     "name": "stdout",
     "output_type": "stream",
     "text": [
      "0.081394196\n",
      "0.9232800425671734\n",
      "0.3389999999999994\n"
     ]
    },
    {
     "name": "stderr",
     "output_type": "stream",
     "text": [
      " 66%|█████████████████████████████████████████████████████████▌                             | 662/1000 [03:02<01:54,  2.95it/s]"
     ]
    },
    {
     "name": "stdout",
     "output_type": "stream",
     "text": [
      "0.08166598\n",
      "0.9271160404388148\n",
      "0.3379999999999994\n"
     ]
    },
    {
     "name": "stderr",
     "output_type": "stream",
     "text": [
      " 66%|█████████████████████████████████████████████████████████▊                             | 664/1000 [03:02<01:29,  3.76it/s]"
     ]
    },
    {
     "name": "stdout",
     "output_type": "stream",
     "text": [
      "0.081143625\n",
      "0.930760238416874\n",
      "0.3369999999999994\n",
      "0.08046729\n",
      "0.9342222264960305\n",
      "0.3359999999999994\n"
     ]
    },
    {
     "name": "stderr",
     "output_type": "stream",
     "text": [
      " 66%|█████████████████████████████████████████████████████████▊                             | 665/1000 [03:03<01:24,  3.95it/s]"
     ]
    },
    {
     "name": "stdout",
     "output_type": "stream",
     "text": [
      "0.07967065\n",
      "0.937511115171229\n",
      "0.3349999999999994\n"
     ]
    },
    {
     "name": "stderr",
     "output_type": "stream",
     "text": [
      " 67%|█████████████████████████████████████████████████████████▉                             | 666/1000 [03:03<01:22,  4.05it/s]"
     ]
    },
    {
     "name": "stdout",
     "output_type": "stream",
     "text": [
      "0.07878131\n",
      "0.9406355594126675\n",
      "0.3339999999999994\n"
     ]
    },
    {
     "name": "stderr",
     "output_type": "stream",
     "text": [
      " 67%|██████████████████████████████████████████████████████████                             | 668/1000 [03:03<01:21,  4.05it/s]"
     ]
    },
    {
     "name": "stdout",
     "output_type": "stream",
     "text": [
      "0.07911647\n",
      "0.943603781442034\n",
      "0.3329999999999994\n",
      "0.07876999\n",
      "0.9464235923699325\n",
      "0.3319999999999994\n"
     ]
    },
    {
     "name": "stderr",
     "output_type": "stream",
     "text": [
      " 67%|██████████████████████████████████████████████████████████▏                            | 669/1000 [03:04<01:39,  3.34it/s]"
     ]
    },
    {
     "name": "stdout",
     "output_type": "stream",
     "text": [
      "0.07932294\n",
      "0.9491024127514358\n",
      "0.3309999999999994\n"
     ]
    },
    {
     "name": "stderr",
     "output_type": "stream",
     "text": [
      " 67%|██████████████████████████████████████████████████████████▎                            | 670/1000 [03:04<02:08,  2.56it/s]"
     ]
    },
    {
     "name": "stdout",
     "output_type": "stream",
     "text": [
      "0.07973026\n",
      "0.9516472921138641\n",
      "0.3299999999999994\n"
     ]
    },
    {
     "name": "stderr",
     "output_type": "stream",
     "text": [
      " 67%|██████████████████████████████████████████████████████████▍                            | 671/1000 [03:05<01:54,  2.88it/s]"
     ]
    },
    {
     "name": "stdout",
     "output_type": "stream",
     "text": [
      "0.08019713\n",
      "0.954064927508171\n",
      "0.3289999999999994\n"
     ]
    },
    {
     "name": "stderr",
     "output_type": "stream",
     "text": [
      " 67%|██████████████████████████████████████████████████████████▌                            | 673/1000 [03:05<01:23,  3.94it/s]"
     ]
    },
    {
     "name": "stdout",
     "output_type": "stream",
     "text": [
      "0.08029537\n",
      "0.9563616811327624\n",
      "0.3279999999999994\n",
      "0.11814485\n",
      "0.858543597076124\n",
      "0.3269999999999994\n"
     ]
    },
    {
     "name": "stderr",
     "output_type": "stream",
     "text": [
      " 68%|██████████████████████████████████████████████████████████▋                            | 675/1000 [03:05<01:11,  4.56it/s]"
     ]
    },
    {
     "name": "stdout",
     "output_type": "stream",
     "text": [
      "0.11471347\n",
      "0.8656164172223179\n",
      "0.3259999999999994\n",
      "0.111413255\n",
      "0.872335596361202\n",
      "0.3249999999999994\n"
     ]
    },
    {
     "name": "stderr",
     "output_type": "stream",
     "text": [
      " 68%|██████████████████████████████████████████████████████████▊                            | 676/1000 [03:06<01:30,  3.57it/s]"
     ]
    },
    {
     "name": "stdout",
     "output_type": "stream",
     "text": [
      "0.10990363\n",
      "0.8787188165431419\n",
      "0.3239999999999994\n"
     ]
    },
    {
     "name": "stderr",
     "output_type": "stream",
     "text": [
      " 68%|██████████████████████████████████████████████████████████▉                            | 678/1000 [03:06<01:16,  4.18it/s]"
     ]
    },
    {
     "name": "stdout",
     "output_type": "stream",
     "text": [
      "0.10741376\n",
      "0.8847828757159847\n",
      "0.3229999999999994\n",
      "0.10492604\n",
      "0.8905437319301854\n",
      "0.3219999999999994\n"
     ]
    },
    {
     "name": "stderr",
     "output_type": "stream",
     "text": [
      " 68%|███████████████████████████████████████████████████████████                            | 679/1000 [03:06<01:11,  4.49it/s]"
     ]
    },
    {
     "name": "stdout",
     "output_type": "stream",
     "text": [
      "0.10245692\n",
      "0.8960165453336763\n",
      "0.3209999999999994\n"
     ]
    },
    {
     "name": "stderr",
     "output_type": "stream",
     "text": [
      " 68%|███████████████████████████████████████████████████████████▏                           | 680/1000 [03:07<01:11,  4.49it/s]"
     ]
    },
    {
     "name": "stdout",
     "output_type": "stream",
     "text": [
      "0.100019336\n",
      "0.9012157180669924\n",
      "0.3199999999999994\n"
     ]
    },
    {
     "name": "stderr",
     "output_type": "stream",
     "text": [
      " 68%|███████████████████████████████████████████████████████████▏                           | 681/1000 [03:07<01:28,  3.62it/s]"
     ]
    },
    {
     "name": "stdout",
     "output_type": "stream",
     "text": [
      "0.099131934\n",
      "0.9061549321636428\n",
      "0.3189999999999994\n"
     ]
    },
    {
     "name": "stderr",
     "output_type": "stream",
     "text": [
      " 68%|███████████████████████████████████████████████████████████▍                           | 683/1000 [03:08<01:24,  3.74it/s]"
     ]
    },
    {
     "name": "stdout",
     "output_type": "stream",
     "text": [
      "0.09864576\n",
      "0.9108471855554607\n",
      "0.3179999999999994\n",
      "0.09753357\n",
      "0.9153048262776877\n",
      "0.3169999999999994\n"
     ]
    },
    {
     "name": "stderr",
     "output_type": "stream",
     "text": [
      " 68%|███████████████████████████████████████████████████████████▌                           | 685/1000 [03:08<01:23,  3.77it/s]"
     ]
    },
    {
     "name": "stdout",
     "output_type": "stream",
     "text": [
      "0.09620547\n",
      "0.9195395849638034\n",
      "0.3159999999999994\n",
      "0.09459315\n",
      "0.9235626057156132\n",
      "0.3149999999999994\n"
     ]
    },
    {
     "name": "stderr",
     "output_type": "stream",
     "text": [
      " 69%|███████████████████████████████████████████████████████████▋                           | 686/1000 [03:08<01:21,  3.87it/s]"
     ]
    },
    {
     "name": "stdout",
     "output_type": "stream",
     "text": [
      "0.09289624\n",
      "0.9273844754298326\n",
      "0.3139999999999994\n"
     ]
    },
    {
     "name": "stderr",
     "output_type": "stream",
     "text": [
      " 69%|███████████████████████████████████████████████████████████▊                           | 688/1000 [03:09<01:10,  4.44it/s]"
     ]
    },
    {
     "name": "stdout",
     "output_type": "stream",
     "text": [
      "0.09114277\n",
      "0.9310152516583409\n",
      "0.3129999999999994\n",
      "0.0893554\n",
      "0.9344644890754239\n",
      "0.3119999999999994\n"
     ]
    },
    {
     "name": "stderr",
     "output_type": "stream",
     "text": [
      " 69%|███████████████████████████████████████████████████████████▉                           | 689/1000 [03:09<01:10,  4.44it/s]"
     ]
    },
    {
     "name": "stdout",
     "output_type": "stream",
     "text": [
      "0.08755237\n",
      "0.9377412646216527\n",
      "0.3109999999999994\n"
     ]
    },
    {
     "name": "stderr",
     "output_type": "stream",
     "text": [
      " 69%|████████████████████████████████████████████████████████████                           | 690/1000 [03:09<01:10,  4.40it/s]"
     ]
    },
    {
     "name": "stdout",
     "output_type": "stream",
     "text": [
      "0.085748345\n",
      "0.9408542013905702\n",
      "0.3099999999999994\n"
     ]
    },
    {
     "name": "stderr",
     "output_type": "stream",
     "text": [
      " 69%|████████████████████████████████████████████████████████████                           | 691/1000 [03:09<01:09,  4.46it/s]"
     ]
    },
    {
     "name": "stdout",
     "output_type": "stream",
     "text": [
      "0.08395508\n",
      "0.9438114913210417\n",
      "0.3089999999999994\n"
     ]
    },
    {
     "name": "stderr",
     "output_type": "stream",
     "text": [
      " 69%|████████████████████████████████████████████████████████████▏                          | 692/1000 [03:10<01:26,  3.56it/s]"
     ]
    },
    {
     "name": "stdout",
     "output_type": "stream",
     "text": [
      "0.08331661\n",
      "0.9466209167549895\n",
      "0.3079999999999994\n"
     ]
    },
    {
     "name": "stderr",
     "output_type": "stream",
     "text": [
      " 69%|████████████████████████████████████████████████████████████▎                          | 693/1000 [03:10<01:20,  3.82it/s]"
     ]
    },
    {
     "name": "stdout",
     "output_type": "stream",
     "text": [
      "0.08210859\n",
      "0.94928987091724\n",
      "0.3069999999999994\n"
     ]
    },
    {
     "name": "stderr",
     "output_type": "stream",
     "text": [
      " 69%|████████████████████████████████████████████████████████████▍                          | 694/1000 [03:10<01:19,  3.86it/s]"
     ]
    },
    {
     "name": "stdout",
     "output_type": "stream",
     "text": [
      "0.080818355\n",
      "0.9518253773713781\n",
      "0.3059999999999994\n"
     ]
    },
    {
     "name": "stderr",
     "output_type": "stream",
     "text": [
      " 70%|████████████████████████████████████████████████████████████▍                          | 695/1000 [03:11<01:16,  3.96it/s]"
     ]
    },
    {
     "name": "stdout",
     "output_type": "stream",
     "text": [
      "0.07947015\n",
      "0.9542341085028092\n",
      "0.3049999999999994\n"
     ]
    },
    {
     "name": "stderr",
     "output_type": "stream",
     "text": [
      " 70%|████████████████████████████████████████████████████████████▌                          | 696/1000 [03:11<01:16,  3.96it/s]"
     ]
    },
    {
     "name": "stdout",
     "output_type": "stream",
     "text": [
      "0.07808369\n",
      "0.9565224030776688\n",
      "0.3039999999999994\n"
     ]
    },
    {
     "name": "stderr",
     "output_type": "stream",
     "text": [
      " 70%|████████████████████████████████████████████████████████████▋                          | 697/1000 [03:11<01:12,  4.20it/s]"
     ]
    },
    {
     "name": "stdout",
     "output_type": "stream",
     "text": [
      "0.07667496\n",
      "0.9586962829237854\n",
      "0.3029999999999994\n"
     ]
    },
    {
     "name": "stderr",
     "output_type": "stream",
     "text": [
      " 70%|████████████████████████████████████████████████████████████▋                          | 698/1000 [03:11<01:08,  4.38it/s]"
     ]
    },
    {
     "name": "stdout",
     "output_type": "stream",
     "text": [
      "0.07525694\n",
      "0.9607614687775962\n",
      "0.3019999999999994\n"
     ]
    },
    {
     "name": "stderr",
     "output_type": "stream",
     "text": [
      " 70%|████████████████████████████████████████████████████████████▊                          | 699/1000 [03:12<01:25,  3.51it/s]"
     ]
    },
    {
     "name": "stdout",
     "output_type": "stream",
     "text": [
      "0.074905924\n",
      "0.9627233953387163\n",
      "0.3009999999999994\n"
     ]
    },
    {
     "name": "stderr",
     "output_type": "stream",
     "text": [
      " 70%|████████████████████████████████████████████████████████████▉                          | 701/1000 [03:13<01:42,  2.91it/s]"
     ]
    },
    {
     "name": "stdout",
     "output_type": "stream",
     "text": [
      "0.07460593\n",
      "0.9645872255717806\n",
      "0.2999999999999994\n",
      "0.07411065\n",
      "0.9663578642931916\n",
      "0.2989999999999994\n"
     ]
    },
    {
     "name": "stderr",
     "output_type": "stream",
     "text": [
      " 70%|█████████████████████████████████████████████████████████████                          | 702/1000 [03:13<02:07,  2.34it/s]"
     ]
    },
    {
     "name": "stdout",
     "output_type": "stream",
     "text": [
      "0.07361171\n",
      "0.968039971078532\n",
      "0.2979999999999994\n"
     ]
    },
    {
     "name": "stderr",
     "output_type": "stream",
     "text": [
      " 70%|█████████████████████████████████████████████████████████████▏                         | 703/1000 [03:13<01:48,  2.74it/s]"
     ]
    },
    {
     "name": "stdout",
     "output_type": "stream",
     "text": [
      "0.07332727\n",
      "0.9696379725246054\n",
      "0.2969999999999994\n"
     ]
    },
    {
     "name": "stderr",
     "output_type": "stream",
     "text": [
      " 70%|█████████████████████████████████████████████████████████████▏                         | 704/1000 [03:14<01:37,  3.03it/s]"
     ]
    },
    {
     "name": "stdout",
     "output_type": "stream",
     "text": [
      "0.07283223\n",
      "0.9711560738983751\n",
      "0.2959999999999994\n"
     ]
    },
    {
     "name": "stderr",
     "output_type": "stream",
     "text": [
      " 70%|█████████████████████████████████████████████████████████████▎                         | 705/1000 [03:14<01:32,  3.19it/s]"
     ]
    },
    {
     "name": "stdout",
     "output_type": "stream",
     "text": [
      "0.07217167\n",
      "0.9725982702034563\n",
      "0.2949999999999994\n"
     ]
    },
    {
     "name": "stderr",
     "output_type": "stream",
     "text": [
      " 71%|█████████████████████████████████████████████████████████████▍                         | 706/1000 [03:14<01:25,  3.44it/s]"
     ]
    },
    {
     "name": "stdout",
     "output_type": "stream",
     "text": [
      "0.07138235\n",
      "0.9739683566932835\n",
      "0.2939999999999994\n"
     ]
    },
    {
     "name": "stderr",
     "output_type": "stream",
     "text": [
      " 71%|█████████████████████████████████████████████████████████████▌                         | 707/1000 [03:14<01:23,  3.52it/s]"
     ]
    },
    {
     "name": "stdout",
     "output_type": "stream",
     "text": [
      "0.070494235\n",
      "0.9752699388586193\n",
      "0.29299999999999937\n"
     ]
    },
    {
     "name": "stderr",
     "output_type": "stream",
     "text": [
      " 71%|█████████████████████████████████████████████████████████████▋                         | 709/1000 [03:15<01:10,  4.15it/s]"
     ]
    },
    {
     "name": "stdout",
     "output_type": "stream",
     "text": [
      "0.06953181\n",
      "0.9765064419156884\n",
      "0.29199999999999937\n",
      "0.06851516\n",
      "0.9776811198199038\n",
      "0.29099999999999937\n"
     ]
    },
    {
     "name": "stderr",
     "output_type": "stream",
     "text": [
      " 71%|█████████████████████████████████████████████████████████████▊                         | 711/1000 [03:15<01:10,  4.07it/s]"
     ]
    },
    {
     "name": "stdout",
     "output_type": "stream",
     "text": [
      "0.067460656\n",
      "0.9787970638289086\n",
      "0.28999999999999937\n",
      "0.06638173\n",
      "0.9798572106374632\n",
      "0.28899999999999937\n"
     ]
    },
    {
     "name": "stderr",
     "output_type": "stream",
     "text": [
      " 71%|██████████████████████████████████████████████████████████████                         | 713/1000 [03:16<01:17,  3.69it/s]"
     ]
    },
    {
     "name": "stdout",
     "output_type": "stream",
     "text": [
      "0.06590276\n",
      "0.98086435010559\n",
      "0.28799999999999937\n",
      "0.06526552\n",
      "0.9818211326003106\n",
      "0.28699999999999937\n"
     ]
    },
    {
     "name": "stderr",
     "output_type": "stream",
     "text": [
      " 71%|██████████████████████████████████████████████████████████████                         | 714/1000 [03:17<01:47,  2.67it/s]"
     ]
    },
    {
     "name": "stdout",
     "output_type": "stream",
     "text": [
      "0.06459352\n",
      "0.982730075970295\n",
      "0.28599999999999937\n"
     ]
    },
    {
     "name": "stderr",
     "output_type": "stream",
     "text": [
      " 72%|██████████████████████████████████████████████████████████████▏                        | 715/1000 [03:17<01:39,  2.85it/s]"
     ]
    },
    {
     "name": "stdout",
     "output_type": "stream",
     "text": [
      "0.063758455\n",
      "0.9835935721717803\n",
      "0.28499999999999936\n"
     ]
    },
    {
     "name": "stderr",
     "output_type": "stream",
     "text": [
      " 72%|██████████████████████████████████████████████████████████████▎                        | 716/1000 [03:17<01:33,  3.03it/s]"
     ]
    },
    {
     "name": "stdout",
     "output_type": "stream",
     "text": [
      "0.06287324\n",
      "0.9844138935631913\n",
      "0.28399999999999936\n"
     ]
    },
    {
     "name": "stderr",
     "output_type": "stream",
     "text": [
      " 72%|██████████████████████████████████████████████████████████████▍                        | 717/1000 [03:18<01:37,  2.89it/s]"
     ]
    },
    {
     "name": "stdout",
     "output_type": "stream",
     "text": [
      "0.062559955\n",
      "0.9851931988850318\n",
      "0.28299999999999936\n"
     ]
    },
    {
     "name": "stderr",
     "output_type": "stream",
     "text": [
      " 72%|██████████████████████████████████████████████████████████████▍                        | 718/1000 [03:18<01:44,  2.71it/s]"
     ]
    },
    {
     "name": "stdout",
     "output_type": "stream",
     "text": [
      "0.061540246\n",
      "0.9859335389407802\n",
      "0.28199999999999936\n"
     ]
    },
    {
     "name": "stderr",
     "output_type": "stream",
     "text": [
      " 72%|██████████████████████████████████████████████████████████████▌                        | 719/1000 [03:18<01:33,  2.99it/s]"
     ]
    },
    {
     "name": "stdout",
     "output_type": "stream",
     "text": [
      "0.060902603\n",
      "0.9866368619937411\n",
      "0.28099999999999936\n"
     ]
    },
    {
     "name": "stderr",
     "output_type": "stream",
     "text": [
      " 72%|██████████████████████████████████████████████████████████████▋                        | 720/1000 [03:18<01:23,  3.37it/s]"
     ]
    },
    {
     "name": "stdout",
     "output_type": "stream",
     "text": [
      "0.06019428\n",
      "0.9873050188940541\n",
      "0.27999999999999936\n"
     ]
    },
    {
     "name": "stderr",
     "output_type": "stream",
     "text": [
      " 72%|██████████████████████████████████████████████████████████████▋                        | 721/1000 [03:19<01:17,  3.59it/s]"
     ]
    },
    {
     "name": "stdout",
     "output_type": "stream",
     "text": [
      "0.059432693\n",
      "0.9879397679493513\n",
      "0.27899999999999936\n"
     ]
    },
    {
     "name": "stderr",
     "output_type": "stream",
     "text": [
      " 72%|██████████████████████████████████████████████████████████████▊                        | 722/1000 [03:19<01:23,  3.31it/s]"
     ]
    },
    {
     "name": "stdout",
     "output_type": "stream",
     "text": [
      "0.058199026\n",
      "0.9885427795518837\n",
      "0.27799999999999936\n"
     ]
    },
    {
     "name": "stderr",
     "output_type": "stream",
     "text": [
      " 72%|██████████████████████████████████████████████████████████████▉                        | 723/1000 [03:19<01:36,  2.88it/s]"
     ]
    },
    {
     "name": "stdout",
     "output_type": "stream",
     "text": [
      "0.05687983\n",
      "0.9891156405742896\n",
      "0.27699999999999936\n"
     ]
    },
    {
     "name": "stderr",
     "output_type": "stream",
     "text": [
      " 72%|██████████████████████████████████████████████████████████████▉                        | 724/1000 [03:20<01:27,  3.16it/s]"
     ]
    },
    {
     "name": "stdout",
     "output_type": "stream",
     "text": [
      "0.0559872\n",
      "0.9896598585455751\n",
      "0.27599999999999936\n"
     ]
    },
    {
     "name": "stderr",
     "output_type": "stream",
     "text": [
      " 72%|███████████████████████████████████████████████████████████████                        | 725/1000 [03:20<01:22,  3.35it/s]"
     ]
    },
    {
     "name": "stdout",
     "output_type": "stream",
     "text": [
      "0.05510382\n",
      "0.9901768656182964\n",
      "0.27499999999999936\n"
     ]
    },
    {
     "name": "stderr",
     "output_type": "stream",
     "text": [
      " 73%|███████████████████████████████████████████████████████████████▏                       | 726/1000 [03:20<01:19,  3.46it/s]"
     ]
    },
    {
     "name": "stdout",
     "output_type": "stream",
     "text": [
      "0.054232907\n",
      "0.9906680223373816\n",
      "0.27399999999999936\n"
     ]
    },
    {
     "name": "stderr",
     "output_type": "stream",
     "text": [
      " 73%|███████████████████████████████████████████████████████████████▏                       | 727/1000 [03:21<02:20,  1.94it/s]"
     ]
    },
    {
     "name": "stdout",
     "output_type": "stream",
     "text": [
      "0.053135112\n",
      "0.9911346212205125\n",
      "0.27299999999999935\n"
     ]
    },
    {
     "name": "stderr",
     "output_type": "stream",
     "text": [
      " 73%|███████████████████████████████████████████████████████████████▎                       | 728/1000 [03:22<01:59,  2.28it/s]"
     ]
    },
    {
     "name": "stdout",
     "output_type": "stream",
     "text": [
      "0.05220691\n",
      "0.9915778901594869\n",
      "0.27199999999999935\n"
     ]
    },
    {
     "name": "stderr",
     "output_type": "stream",
     "text": [
      " 73%|███████████████████████████████████████████████████████████████▍                       | 729/1000 [03:22<01:45,  2.57it/s]"
     ]
    },
    {
     "name": "stdout",
     "output_type": "stream",
     "text": [
      "0.051314924\n",
      "0.9919989956515126\n",
      "0.27099999999999935\n"
     ]
    },
    {
     "name": "stderr",
     "output_type": "stream",
     "text": [
      " 73%|███████████████████████████████████████████████████████████████▌                       | 730/1000 [03:22<01:33,  2.88it/s]"
     ]
    },
    {
     "name": "stdout",
     "output_type": "stream",
     "text": [
      "0.05045773\n",
      "0.9923990458689369\n",
      "0.26999999999999935\n"
     ]
    },
    {
     "name": "stderr",
     "output_type": "stream",
     "text": [
      " 73%|███████████████████████████████████████████████████████████████▋                       | 732/1000 [03:22<01:09,  3.86it/s]"
     ]
    },
    {
     "name": "stdout",
     "output_type": "stream",
     "text": [
      "0.04963394\n",
      "0.9927790935754901\n",
      "0.26899999999999935\n",
      "0.09330465\n",
      "0.8931401388967155\n",
      "0.26799999999999935\n"
     ]
    },
    {
     "name": "stderr",
     "output_type": "stream",
     "text": [
      " 73%|███████████████████████████████████████████████████████████████▊                       | 733/1000 [03:23<01:05,  4.08it/s]"
     ]
    },
    {
     "name": "stdout",
     "output_type": "stream",
     "text": [
      "0.089654796\n",
      "0.8984831319518798\n",
      "0.26699999999999935\n"
     ]
    },
    {
     "name": "stderr",
     "output_type": "stream",
     "text": [
      " 73%|███████████████████████████████████████████████████████████████▊                       | 734/1000 [03:23<01:03,  4.18it/s]"
     ]
    },
    {
     "name": "stdout",
     "output_type": "stream",
     "text": [
      "0.086237855\n",
      "0.9035589753542858\n",
      "0.26599999999999935\n"
     ]
    },
    {
     "name": "stderr",
     "output_type": "stream",
     "text": [
      " 74%|███████████████████████████████████████████████████████████████▉                       | 735/1000 [03:24<01:34,  2.80it/s]"
     ]
    },
    {
     "name": "stdout",
     "output_type": "stream",
     "text": [
      "0.08410539\n",
      "0.9083810265865715\n",
      "0.26499999999999935\n"
     ]
    },
    {
     "name": "stderr",
     "output_type": "stream",
     "text": [
      " 74%|████████████████████████████████████████████████████████████████                       | 736/1000 [03:24<01:27,  3.03it/s]"
     ]
    },
    {
     "name": "stdout",
     "output_type": "stream",
     "text": [
      "0.081278354\n",
      "0.9129619752572429\n",
      "0.26399999999999935\n"
     ]
    },
    {
     "name": "stderr",
     "output_type": "stream",
     "text": [
      " 74%|████████████████████████████████████████████████████████████████                       | 737/1000 [03:25<02:06,  2.08it/s]"
     ]
    },
    {
     "name": "stdout",
     "output_type": "stream",
     "text": [
      "0.07918894\n",
      "0.9173138764943808\n",
      "0.26299999999999935\n"
     ]
    },
    {
     "name": "stderr",
     "output_type": "stream",
     "text": [
      " 74%|████████████████████████████████████████████████████████████████▏                      | 738/1000 [03:25<02:01,  2.16it/s]"
     ]
    },
    {
     "name": "stdout",
     "output_type": "stream",
     "text": [
      "0.07767335\n",
      "0.9214481826696618\n",
      "0.26199999999999934\n"
     ]
    },
    {
     "name": "stderr",
     "output_type": "stream",
     "text": [
      " 74%|████████████████████████████████████████████████████████████████▎                      | 739/1000 [03:25<01:42,  2.54it/s]"
     ]
    },
    {
     "name": "stdout",
     "output_type": "stream",
     "text": [
      "0.075887404\n",
      "0.9253757735361787\n",
      "0.26099999999999934\n"
     ]
    },
    {
     "name": "stderr",
     "output_type": "stream",
     "text": [
      " 74%|████████████████████████████████████████████████████████████████▍                      | 740/1000 [03:26<01:35,  2.71it/s]"
     ]
    },
    {
     "name": "stdout",
     "output_type": "stream",
     "text": [
      "0.07412373\n",
      "0.9291069848593698\n",
      "0.25999999999999934\n"
     ]
    },
    {
     "name": "stderr",
     "output_type": "stream",
     "text": [
      " 74%|████████████████████████████████████████████████████████████████▍                      | 741/1000 [03:26<01:28,  2.91it/s]"
     ]
    },
    {
     "name": "stdout",
     "output_type": "stream",
     "text": [
      "0.07216762\n",
      "0.9326516356164013\n",
      "0.25899999999999934\n"
     ]
    },
    {
     "name": "stderr",
     "output_type": "stream",
     "text": [
      " 74%|████████████████████████████████████████████████████████████████▌                      | 742/1000 [03:26<01:24,  3.07it/s]"
     ]
    },
    {
     "name": "stdout",
     "output_type": "stream",
     "text": [
      "0.070424095\n",
      "0.9360190538355813\n",
      "0.25799999999999934\n"
     ]
    },
    {
     "name": "stderr",
     "output_type": "stream",
     "text": [
      " 74%|████████████████████████████████████████████████████████████████▋                      | 743/1000 [03:26<01:15,  3.42it/s]"
     ]
    },
    {
     "name": "stdout",
     "output_type": "stream",
     "text": [
      "0.0687318\n",
      "0.9392181011438022\n",
      "0.25699999999999934\n"
     ]
    },
    {
     "name": "stderr",
     "output_type": "stream",
     "text": [
      " 74%|████████████████████████████████████████████████████████████████▋                      | 744/1000 [03:27<01:10,  3.62it/s]"
     ]
    },
    {
     "name": "stdout",
     "output_type": "stream",
     "text": [
      "0.067092024\n",
      "0.9422571960866121\n",
      "0.25599999999999934\n"
     ]
    },
    {
     "name": "stderr",
     "output_type": "stream",
     "text": [
      " 75%|████████████████████████████████████████████████████████████████▉                      | 746/1000 [03:27<01:00,  4.21it/s]"
     ]
    },
    {
     "name": "stdout",
     "output_type": "stream",
     "text": [
      "0.06550544\n",
      "0.9451443362822814\n",
      "0.25499999999999934\n",
      "0.06397226\n",
      "0.9478871194681674\n",
      "0.25399999999999934\n"
     ]
    },
    {
     "name": "stderr",
     "output_type": "stream",
     "text": [
      " 75%|█████████████████████████████████████████████████████████████████                      | 748/1000 [03:27<00:54,  4.63it/s]"
     ]
    },
    {
     "name": "stdout",
     "output_type": "stream",
     "text": [
      "0.062492292\n",
      "0.950492763494759\n",
      "0.25299999999999934\n",
      "0.061065033\n",
      "0.9529681253200211\n",
      "0.25199999999999934\n"
     ]
    },
    {
     "name": "stderr",
     "output_type": "stream",
     "text": [
      " 75%|█████████████████████████████████████████████████████████████████▏                     | 749/1000 [03:28<01:04,  3.89it/s]"
     ]
    },
    {
     "name": "stdout",
     "output_type": "stream",
     "text": [
      "0.060344655\n",
      "0.95531971905402\n",
      "0.25099999999999933\n"
     ]
    },
    {
     "name": "stderr",
     "output_type": "stream",
     "text": [
      " 75%|█████████████████████████████████████████████████████████████████▎                     | 750/1000 [03:28<01:16,  3.28it/s]"
     ]
    },
    {
     "name": "stdout",
     "output_type": "stream",
     "text": [
      "0.05990593\n",
      "0.957553733101319\n",
      "0.24999999999999933\n"
     ]
    },
    {
     "name": "stderr",
     "output_type": "stream",
     "text": [
      " 75%|█████████████████████████████████████████████████████████████████▎                     | 751/1000 [03:28<01:10,  3.54it/s]"
     ]
    },
    {
     "name": "stdout",
     "output_type": "stream",
     "text": [
      "0.05933465\n",
      "0.959676046446253\n",
      "0.24899999999999933\n"
     ]
    },
    {
     "name": "stderr",
     "output_type": "stream",
     "text": [
      " 75%|█████████████████████████████████████████████████████████████████▍                     | 752/1000 [03:29<01:05,  3.77it/s]"
     ]
    },
    {
     "name": "stdout",
     "output_type": "stream",
     "text": [
      "0.058663875\n",
      "0.9616922441239404\n",
      "0.24799999999999933\n"
     ]
    },
    {
     "name": "stderr",
     "output_type": "stream",
     "text": [
      " 75%|█████████████████████████████████████████████████████████████████▌                     | 753/1000 [03:29<01:18,  3.13it/s]"
     ]
    },
    {
     "name": "stdout",
     "output_type": "stream",
     "text": [
      "0.0574932\n",
      "0.9636076319177433\n",
      "0.24699999999999933\n"
     ]
    },
    {
     "name": "stderr",
     "output_type": "stream",
     "text": [
      " 75%|█████████████████████████████████████████████████████████████████▌                     | 754/1000 [03:30<01:59,  2.06it/s]"
     ]
    },
    {
     "name": "stdout",
     "output_type": "stream",
     "text": [
      "0.05672989\n",
      "0.9654272503218562\n",
      "0.24599999999999933\n"
     ]
    },
    {
     "name": "stderr",
     "output_type": "stream",
     "text": [
      " 76%|█████████████████████████████████████████████████████████████████▋                     | 755/1000 [03:30<01:50,  2.21it/s]"
     ]
    },
    {
     "name": "stdout",
     "output_type": "stream",
     "text": [
      "0.056214053\n",
      "0.9671558878057633\n",
      "0.24499999999999933\n"
     ]
    },
    {
     "name": "stderr",
     "output_type": "stream",
     "text": [
      " 76%|█████████████████████████████████████████████████████████████████▊                     | 756/1000 [03:31<01:40,  2.43it/s]"
     ]
    },
    {
     "name": "stdout",
     "output_type": "stream",
     "text": [
      "0.055610508\n",
      "0.9687980934154752\n",
      "0.24399999999999933\n"
     ]
    },
    {
     "name": "stderr",
     "output_type": "stream",
     "text": [
      " 76%|█████████████████████████████████████████████████████████████████▊                     | 757/1000 [03:31<01:49,  2.22it/s]"
     ]
    },
    {
     "name": "stdout",
     "output_type": "stream",
     "text": [
      "0.055251863\n",
      "0.9703581887447015\n",
      "0.24299999999999933\n"
     ]
    },
    {
     "name": "stderr",
     "output_type": "stream",
     "text": [
      " 76%|█████████████████████████████████████████████████████████████████▉                     | 758/1000 [03:32<01:59,  2.03it/s]"
     ]
    },
    {
     "name": "stdout",
     "output_type": "stream",
     "text": [
      "0.055128086\n",
      "0.9718402793074664\n",
      "0.24199999999999933\n"
     ]
    },
    {
     "name": "stderr",
     "output_type": "stream",
     "text": [
      " 76%|██████████████████████████████████████████████████████████████████                     | 759/1000 [03:32<01:47,  2.24it/s]"
     ]
    },
    {
     "name": "stdout",
     "output_type": "stream",
     "text": [
      "0.055165377\n",
      "0.9732482653420931\n",
      "0.24099999999999933\n"
     ]
    },
    {
     "name": "stderr",
     "output_type": "stream",
     "text": [
      " 76%|██████████████████████████████████████████████████████████████████                     | 760/1000 [03:32<01:39,  2.40it/s]"
     ]
    },
    {
     "name": "stdout",
     "output_type": "stream",
     "text": [
      "0.055005364\n",
      "0.9745858520749884\n",
      "0.23999999999999932\n"
     ]
    },
    {
     "name": "stderr",
     "output_type": "stream",
     "text": [
      " 76%|██████████████████████████████████████████████████████████████████▏                    | 761/1000 [03:33<01:27,  2.74it/s]"
     ]
    },
    {
     "name": "stdout",
     "output_type": "stream",
     "text": [
      "0.05468813\n",
      "0.975856559471239\n",
      "0.23899999999999932\n"
     ]
    },
    {
     "name": "stderr",
     "output_type": "stream",
     "text": [
      " 76%|██████████████████████████████████████████████████████████████████▎                    | 762/1000 [03:33<01:23,  2.86it/s]"
     ]
    },
    {
     "name": "stdout",
     "output_type": "stream",
     "text": [
      "0.054246422\n",
      "0.977063731497677\n",
      "0.23799999999999932\n"
     ]
    },
    {
     "name": "stderr",
     "output_type": "stream",
     "text": [
      " 76%|██████████████████████████████████████████████████████████████████▍                    | 763/1000 [03:34<01:35,  2.48it/s]"
     ]
    },
    {
     "name": "stdout",
     "output_type": "stream",
     "text": [
      "0.05393146\n",
      "0.9782105449227931\n",
      "0.23699999999999932\n"
     ]
    },
    {
     "name": "stderr",
     "output_type": "stream",
     "text": [
      " 76%|██████████████████████████████████████████████████████████████████▍                    | 764/1000 [03:34<02:07,  1.85it/s]"
     ]
    },
    {
     "name": "stdout",
     "output_type": "stream",
     "text": [
      "0.05315973\n",
      "0.9793000176766535\n",
      "0.23599999999999932\n"
     ]
    },
    {
     "name": "stderr",
     "output_type": "stream",
     "text": [
      " 76%|██████████████████████████████████████████████████████████████████▌                    | 765/1000 [03:35<01:57,  1.99it/s]"
     ]
    },
    {
     "name": "stdout",
     "output_type": "stream",
     "text": [
      "0.053257313\n",
      "0.9803350167928209\n",
      "0.23499999999999932\n"
     ]
    },
    {
     "name": "stderr",
     "output_type": "stream",
     "text": [
      " 77%|██████████████████████████████████████████████████████████████████▋                    | 766/1000 [03:35<01:50,  2.11it/s]"
     ]
    },
    {
     "name": "stdout",
     "output_type": "stream",
     "text": [
      "0.053152487\n",
      "0.9813182659531798\n",
      "0.23399999999999932\n"
     ]
    },
    {
     "name": "stderr",
     "output_type": "stream",
     "text": [
      " 77%|██████████████████████████████████████████████████████████████████▋                    | 767/1000 [03:36<01:39,  2.33it/s]"
     ]
    },
    {
     "name": "stdout",
     "output_type": "stream",
     "text": [
      "0.052886102\n",
      "0.9822523526555208\n",
      "0.23299999999999932\n"
     ]
    },
    {
     "name": "stderr",
     "output_type": "stream",
     "text": [
      " 77%|██████████████████████████████████████████████████████████████████▊                    | 768/1000 [03:37<02:19,  1.67it/s]"
     ]
    },
    {
     "name": "stdout",
     "output_type": "stream",
     "text": [
      "0.052098885\n",
      "0.9831397350227448\n",
      "0.23199999999999932\n"
     ]
    },
    {
     "name": "stderr",
     "output_type": "stream",
     "text": [
      " 77%|██████████████████████████████████████████████████████████████████▉                    | 769/1000 [03:37<01:55,  2.00it/s]"
     ]
    },
    {
     "name": "stdout",
     "output_type": "stream",
     "text": [
      "0.051982433\n",
      "0.9839827482716075\n",
      "0.23099999999999932\n"
     ]
    },
    {
     "name": "stderr",
     "output_type": "stream",
     "text": [
      " 77%|██████████████████████████████████████████████████████████████████▉                    | 770/1000 [03:37<01:39,  2.31it/s]"
     ]
    },
    {
     "name": "stdout",
     "output_type": "stream",
     "text": [
      "0.05171334\n",
      "0.9847836108580271\n",
      "0.22999999999999932\n"
     ]
    },
    {
     "name": "stderr",
     "output_type": "stream",
     "text": [
      " 77%|███████████████████████████████████████████████████████████████████                    | 771/1000 [03:37<01:33,  2.45it/s]"
     ]
    },
    {
     "name": "stdout",
     "output_type": "stream",
     "text": [
      "0.05132311\n",
      "0.9855444303151257\n",
      "0.22899999999999932\n"
     ]
    },
    {
     "name": "stderr",
     "output_type": "stream",
     "text": [
      " 77%|███████████████████████████████████████████████████████████████████▏                   | 772/1000 [03:38<01:26,  2.62it/s]"
     ]
    },
    {
     "name": "stdout",
     "output_type": "stream",
     "text": [
      "0.050837528\n",
      "0.9862672087993695\n",
      "0.22799999999999931\n"
     ]
    },
    {
     "name": "stderr",
     "output_type": "stream",
     "text": [
      " 77%|███████████████████████████████████████████████████████████████████▎                   | 773/1000 [03:38<01:17,  2.92it/s]"
     ]
    },
    {
     "name": "stdout",
     "output_type": "stream",
     "text": [
      "0.05027778\n",
      "0.986953848359401\n",
      "0.2269999999999993\n"
     ]
    },
    {
     "name": "stderr",
     "output_type": "stream",
     "text": [
      " 77%|███████████████████████████████████████████████████████████████████▎                   | 774/1000 [03:38<01:12,  3.10it/s]"
     ]
    },
    {
     "name": "stdout",
     "output_type": "stream",
     "text": [
      "0.04966128\n",
      "0.987606155941431\n",
      "0.2259999999999993\n"
     ]
    },
    {
     "name": "stderr",
     "output_type": "stream",
     "text": [
      " 78%|███████████████████████████████████████████████████████████████████▍                   | 775/1000 [03:39<01:10,  3.19it/s]"
     ]
    },
    {
     "name": "stdout",
     "output_type": "stream",
     "text": [
      "0.049002334\n",
      "0.9882258481443594\n",
      "0.2249999999999993\n"
     ]
    },
    {
     "name": "stderr",
     "output_type": "stream",
     "text": [
      " 78%|███████████████████████████████████████████████████████████████████▌                   | 776/1000 [03:39<01:28,  2.53it/s]"
     ]
    },
    {
     "name": "stdout",
     "output_type": "stream",
     "text": [
      "0.04848618\n",
      "0.9888145557371415\n",
      "0.2239999999999993\n"
     ]
    },
    {
     "name": "stderr",
     "output_type": "stream",
     "text": [
      " 78%|███████████████████████████████████████████████████████████████████▌                   | 777/1000 [03:39<01:16,  2.90it/s]"
     ]
    },
    {
     "name": "stdout",
     "output_type": "stream",
     "text": [
      "0.048104476\n",
      "0.9893738279502844\n",
      "0.2229999999999993\n"
     ]
    },
    {
     "name": "stderr",
     "output_type": "stream",
     "text": [
      " 78%|███████████████████████████████████████████████████████████████████▋                   | 778/1000 [03:40<01:49,  2.03it/s]"
     ]
    },
    {
     "name": "stdout",
     "output_type": "stream",
     "text": [
      "0.0468847\n",
      "0.9899051365527701\n",
      "0.2219999999999993\n"
     ]
    },
    {
     "name": "stderr",
     "output_type": "stream",
     "text": [
      " 78%|███████████████████████████████████████████████████████████████████▊                   | 779/1000 [03:40<01:30,  2.43it/s]"
     ]
    },
    {
     "name": "stdout",
     "output_type": "stream",
     "text": [
      "0.046687398\n",
      "0.9904098797251316\n",
      "0.2209999999999993\n"
     ]
    },
    {
     "name": "stderr",
     "output_type": "stream",
     "text": [
      " 78%|███████████████████████████████████████████████████████████████████▉                   | 781/1000 [03:41<01:18,  2.80it/s]"
     ]
    },
    {
     "name": "stdout",
     "output_type": "stream",
     "text": [
      "0.046396963\n",
      "0.9908893857388751\n",
      "0.2199999999999993\n",
      "0.10119736\n",
      "0.8913449164519313\n",
      "0.2189999999999993\n"
     ]
    },
    {
     "name": "stderr",
     "output_type": "stream",
     "text": [
      " 78%|████████████████████████████████████████████████████████████████████                   | 782/1000 [03:41<01:13,  2.96it/s]"
     ]
    },
    {
     "name": "stdout",
     "output_type": "stream",
     "text": [
      "0.09735359\n",
      "0.8967776706293347\n",
      "0.2179999999999993\n"
     ]
    },
    {
     "name": "stderr",
     "output_type": "stream",
     "text": [
      " 78%|████████████████████████████████████████████████████████████████████                   | 783/1000 [03:42<01:09,  3.14it/s]"
     ]
    },
    {
     "name": "stdout",
     "output_type": "stream",
     "text": [
      "0.09371014\n",
      "0.9019387870978679\n",
      "0.2169999999999993\n"
     ]
    },
    {
     "name": "stderr",
     "output_type": "stream",
     "text": [
      " 78%|████████████████████████████████████████████████████████████████████▏                  | 784/1000 [03:42<01:06,  3.27it/s]"
     ]
    },
    {
     "name": "stdout",
     "output_type": "stream",
     "text": [
      "0.09025555\n",
      "0.9068418477429745\n",
      "0.2159999999999993\n"
     ]
    },
    {
     "name": "stderr",
     "output_type": "stream",
     "text": [
      " 78%|████████████████████████████████████████████████████████████████████▎                  | 785/1000 [03:42<01:05,  3.27it/s]"
     ]
    },
    {
     "name": "stdout",
     "output_type": "stream",
     "text": [
      "0.08697908\n",
      "0.9114997553558257\n",
      "0.2149999999999993\n"
     ]
    },
    {
     "name": "stderr",
     "output_type": "stream",
     "text": [
      " 79%|████████████████████████████████████████████████████████████████████▍                  | 786/1000 [03:43<01:00,  3.55it/s]"
     ]
    },
    {
     "name": "stdout",
     "output_type": "stream",
     "text": [
      "0.08387068\n",
      "0.9159247675880344\n",
      "0.2139999999999993\n"
     ]
    },
    {
     "name": "stderr",
     "output_type": "stream",
     "text": [
      " 79%|████████████████████████████████████████████████████████████████████▍                  | 787/1000 [03:43<00:58,  3.67it/s]"
     ]
    },
    {
     "name": "stdout",
     "output_type": "stream",
     "text": [
      "0.08092089\n",
      "0.9201285292086328\n",
      "0.2129999999999993\n"
     ]
    },
    {
     "name": "stderr",
     "output_type": "stream",
     "text": [
      " 79%|████████████████████████████████████████████████████████████████████▌                  | 788/1000 [03:43<01:05,  3.23it/s]"
     ]
    },
    {
     "name": "stdout",
     "output_type": "stream",
     "text": [
      "0.07812087\n",
      "0.9241221027482012\n",
      "0.2119999999999993\n"
     ]
    },
    {
     "name": "stderr",
     "output_type": "stream",
     "text": [
      " 79%|████████████████████████████████████████████████████████████████████▋                  | 789/1000 [03:44<01:13,  2.88it/s]"
     ]
    },
    {
     "name": "stdout",
     "output_type": "stream",
     "text": [
      "0.07609494\n",
      "0.9279159976107911\n",
      "0.2109999999999993\n"
     ]
    },
    {
     "name": "stderr",
     "output_type": "stream",
     "text": [
      " 79%|████████████████████████████████████████████████████████████████████▋                  | 790/1000 [03:44<01:04,  3.27it/s]"
     ]
    },
    {
     "name": "stdout",
     "output_type": "stream",
     "text": [
      "0.07383511\n",
      "0.9315201977302516\n",
      "0.2099999999999993\n"
     ]
    },
    {
     "name": "stderr",
     "output_type": "stream",
     "text": [
      " 79%|████████████████████████████████████████████████████████████████████▊                  | 791/1000 [03:44<01:00,  3.44it/s]"
     ]
    },
    {
     "name": "stdout",
     "output_type": "stream",
     "text": [
      "0.07164999\n",
      "0.934944187843739\n",
      "0.2089999999999993\n"
     ]
    },
    {
     "name": "stderr",
     "output_type": "stream",
     "text": [
      " 79%|████████████████████████████████████████████████████████████████████▉                  | 792/1000 [03:45<01:10,  2.93it/s]"
     ]
    },
    {
     "name": "stdout",
     "output_type": "stream",
     "text": [
      "0.069411024\n",
      "0.938196978451552\n",
      "0.2079999999999993\n"
     ]
    },
    {
     "name": "stderr",
     "output_type": "stream",
     "text": [
      " 79%|████████████████████████████████████████████████████████████████████▉                  | 793/1000 [03:45<01:09,  2.98it/s]"
     ]
    },
    {
     "name": "stdout",
     "output_type": "stream",
     "text": [
      "0.067867644\n",
      "0.9412871295289744\n",
      "0.2069999999999993\n"
     ]
    },
    {
     "name": "stderr",
     "output_type": "stream",
     "text": [
      " 79%|█████████████████████████████████████████████████████████████████████                  | 794/1000 [03:45<01:23,  2.47it/s]"
     ]
    },
    {
     "name": "stdout",
     "output_type": "stream",
     "text": [
      "0.06660133\n",
      "0.9442227730525257\n",
      "0.2059999999999993\n"
     ]
    },
    {
     "name": "stderr",
     "output_type": "stream",
     "text": [
      " 80%|█████████████████████████████████████████████████████████████████████▏                 | 795/1000 [03:46<01:12,  2.83it/s]"
     ]
    },
    {
     "name": "stdout",
     "output_type": "stream",
     "text": [
      "0.06528122\n",
      "0.9470116343998994\n",
      "0.2049999999999993\n"
     ]
    },
    {
     "name": "stderr",
     "output_type": "stream",
     "text": [
      " 80%|█████████████████████████████████████████████████████████████████████▎                 | 796/1000 [03:46<01:19,  2.56it/s]"
     ]
    },
    {
     "name": "stdout",
     "output_type": "stream",
     "text": [
      "0.06425638\n",
      "0.9496610526799044\n",
      "0.2039999999999993\n"
     ]
    },
    {
     "name": "stderr",
     "output_type": "stream",
     "text": [
      " 80%|█████████████████████████████████████████████████████████████████████▎                 | 797/1000 [03:46<01:09,  2.91it/s]"
     ]
    },
    {
     "name": "stdout",
     "output_type": "stream",
     "text": [
      "0.063248515\n",
      "0.9521780000459092\n",
      "0.2029999999999993\n"
     ]
    },
    {
     "name": "stderr",
     "output_type": "stream",
     "text": [
      " 80%|█████████████████████████████████████████████████████████████████████▍                 | 798/1000 [03:47<01:05,  3.07it/s]"
     ]
    },
    {
     "name": "stdout",
     "output_type": "stream",
     "text": [
      "0.0621479\n",
      "0.9545691000436138\n",
      "0.2019999999999993\n"
     ]
    },
    {
     "name": "stderr",
     "output_type": "stream",
     "text": [
      " 80%|█████████████████████████████████████████████████████████████████████▌                 | 799/1000 [03:47<01:04,  3.14it/s]"
     ]
    },
    {
     "name": "stdout",
     "output_type": "stream",
     "text": [
      "0.060980752\n",
      "0.9568406450414332\n",
      "0.2009999999999993\n"
     ]
    },
    {
     "name": "stderr",
     "output_type": "stream",
     "text": [
      " 80%|█████████████████████████████████████████████████████████████████████▌                 | 800/1000 [03:47<01:02,  3.20it/s]"
     ]
    },
    {
     "name": "stdout",
     "output_type": "stream",
     "text": [
      "0.059768252\n",
      "0.9589986127893615\n",
      "0.1999999999999993\n"
     ]
    },
    {
     "name": "stderr",
     "output_type": "stream",
     "text": [
      " 80%|█████████████████████████████████████████████████████████████████████▋                 | 801/1000 [03:48<01:05,  3.04it/s]"
     ]
    },
    {
     "name": "stdout",
     "output_type": "stream",
     "text": [
      "0.058527514\n",
      "0.9610486821498935\n",
      "0.1989999999999993\n"
     ]
    },
    {
     "name": "stderr",
     "output_type": "stream",
     "text": [
      " 80%|█████████████████████████████████████████████████████████████████████▊                 | 802/1000 [03:48<01:23,  2.38it/s]"
     ]
    },
    {
     "name": "stdout",
     "output_type": "stream",
     "text": [
      "0.05763193\n",
      "0.9629962480423988\n",
      "0.1979999999999993\n"
     ]
    },
    {
     "name": "stderr",
     "output_type": "stream",
     "text": [
      " 80%|█████████████████████████████████████████████████████████████████████▊                 | 803/1000 [03:49<01:15,  2.61it/s]"
     ]
    },
    {
     "name": "stdout",
     "output_type": "stream",
     "text": [
      "0.05671218\n",
      "0.9648464356402788\n",
      "0.1969999999999993\n"
     ]
    },
    {
     "name": "stderr",
     "output_type": "stream",
     "text": [
      " 80%|█████████████████████████████████████████████████████████████████████▉                 | 804/1000 [03:49<01:09,  2.81it/s]"
     ]
    },
    {
     "name": "stdout",
     "output_type": "stream",
     "text": [
      "0.055727143\n",
      "0.966604113858265\n",
      "0.19599999999999929\n"
     ]
    },
    {
     "name": "stderr",
     "output_type": "stream",
     "text": [
      " 80%|██████████████████████████████████████████████████████████████████████                 | 805/1000 [03:49<01:10,  2.78it/s]"
     ]
    },
    {
     "name": "stdout",
     "output_type": "stream",
     "text": [
      "0.054696247\n",
      "0.9682739081653517\n",
      "0.19499999999999929\n"
     ]
    },
    {
     "name": "stderr",
     "output_type": "stream",
     "text": [
      " 81%|██████████████████████████████████████████████████████████████████████                 | 806/1000 [03:50<01:06,  2.93it/s]"
     ]
    },
    {
     "name": "stdout",
     "output_type": "stream",
     "text": [
      "0.053635266\n",
      "0.9698602127570841\n",
      "0.19399999999999928\n"
     ]
    },
    {
     "name": "stderr",
     "output_type": "stream",
     "text": [
      " 81%|██████████████████████████████████████████████████████████████████████▏                | 807/1000 [03:50<01:25,  2.25it/s]"
     ]
    },
    {
     "name": "stdout",
     "output_type": "stream",
     "text": [
      "0.052901734\n",
      "0.9713672021192299\n",
      "0.19299999999999928\n"
     ]
    },
    {
     "name": "stderr",
     "output_type": "stream",
     "text": [
      " 81%|██████████████████████████████████████████████████████████████████████▎                | 808/1000 [03:50<01:17,  2.49it/s]"
     ]
    },
    {
     "name": "stdout",
     "output_type": "stream",
     "text": [
      "0.05214081\n",
      "0.9727988420132684\n",
      "0.19199999999999928\n"
     ]
    },
    {
     "name": "stderr",
     "output_type": "stream",
     "text": [
      " 81%|██████████████████████████████████████████████████████████████████████▍                | 809/1000 [03:51<01:09,  2.74it/s]"
     ]
    },
    {
     "name": "stdout",
     "output_type": "stream",
     "text": [
      "0.05131364\n",
      "0.974158899912605\n",
      "0.19099999999999928\n"
     ]
    },
    {
     "name": "stderr",
     "output_type": "stream",
     "text": [
      " 81%|██████████████████████████████████████████████████████████████████████▍                | 810/1000 [03:51<01:02,  3.03it/s]"
     ]
    },
    {
     "name": "stdout",
     "output_type": "stream",
     "text": [
      "0.050438598\n",
      "0.9754509549169748\n",
      "0.18999999999999928\n"
     ]
    },
    {
     "name": "stderr",
     "output_type": "stream",
     "text": [
      " 81%|██████████████████████████████████████████████████████████████████████▌                | 811/1000 [03:51<00:58,  3.25it/s]"
     ]
    },
    {
     "name": "stdout",
     "output_type": "stream",
     "text": [
      "0.049530633\n",
      "0.976678407171126\n",
      "0.18899999999999928\n"
     ]
    },
    {
     "name": "stderr",
     "output_type": "stream",
     "text": [
      " 81%|██████████████████████████████████████████████████████████████████████▋                | 812/1000 [03:52<00:57,  3.27it/s]"
     ]
    },
    {
     "name": "stdout",
     "output_type": "stream",
     "text": [
      "0.048601907\n",
      "0.9778444868125696\n",
      "0.18799999999999928\n"
     ]
    },
    {
     "name": "stderr",
     "output_type": "stream",
     "text": [
      " 81%|██████████████████████████████████████████████████████████████████████▋                | 813/1000 [03:52<01:11,  2.62it/s]"
     ]
    },
    {
     "name": "stdout",
     "output_type": "stream",
     "text": [
      "0.048006676\n",
      "0.9789522624719411\n",
      "0.18699999999999928\n"
     ]
    },
    {
     "name": "stderr",
     "output_type": "stream",
     "text": [
      " 81%|██████████████████████████████████████████████████████████████████████▊                | 814/1000 [03:52<01:04,  2.90it/s]"
     ]
    },
    {
     "name": "stdout",
     "output_type": "stream",
     "text": [
      "0.047366336\n",
      "0.9800046493483441\n",
      "0.18599999999999928\n"
     ]
    },
    {
     "name": "stderr",
     "output_type": "stream",
     "text": [
      " 82%|██████████████████████████████████████████████████████████████████████▉                | 815/1000 [03:53<01:01,  3.02it/s]"
     ]
    },
    {
     "name": "stdout",
     "output_type": "stream",
     "text": [
      "0.046667214\n",
      "0.9810044168809269\n",
      "0.18499999999999928\n"
     ]
    },
    {
     "name": "stderr",
     "output_type": "stream",
     "text": [
      " 82%|██████████████████████████████████████████████████████████████████████▉                | 816/1000 [03:53<00:58,  3.13it/s]"
     ]
    },
    {
     "name": "stdout",
     "output_type": "stream",
     "text": [
      "0.04592512\n",
      "0.9819541960368805\n",
      "0.18399999999999928\n"
     ]
    },
    {
     "name": "stderr",
     "output_type": "stream",
     "text": [
      " 82%|███████████████████████████████████████████████████████████████████████                | 817/1000 [03:53<00:58,  3.11it/s]"
     ]
    },
    {
     "name": "stdout",
     "output_type": "stream",
     "text": [
      "0.045152955\n",
      "0.9828564862350365\n",
      "0.18299999999999927\n"
     ]
    },
    {
     "name": "stderr",
     "output_type": "stream",
     "text": [
      " 82%|███████████████████████████████████████████████████████████████████████▏               | 818/1000 [03:54<00:56,  3.20it/s]"
     ]
    },
    {
     "name": "stdout",
     "output_type": "stream",
     "text": [
      "0.04436127\n",
      "0.9837136619232847\n",
      "0.18199999999999927\n"
     ]
    },
    {
     "name": "stderr",
     "output_type": "stream",
     "text": [
      " 82%|███████████████████████████████████████████████████████████████████████▎               | 819/1000 [03:54<01:09,  2.61it/s]"
     ]
    },
    {
     "name": "stdout",
     "output_type": "stream",
     "text": [
      "0.04323938\n",
      "0.9845279788271205\n",
      "0.18099999999999927\n"
     ]
    },
    {
     "name": "stderr",
     "output_type": "stream",
     "text": [
      " 82%|███████████████████████████████████████████████████████████████████████▎               | 820/1000 [03:54<01:00,  2.98it/s]"
     ]
    },
    {
     "name": "stdout",
     "output_type": "stream",
     "text": [
      "0.042415887\n",
      "0.9853015798857645\n",
      "0.17999999999999927\n"
     ]
    },
    {
     "name": "stderr",
     "output_type": "stream",
     "text": [
      " 82%|███████████████████████████████████████████████████████████████████████▍               | 821/1000 [03:55<01:00,  2.97it/s]"
     ]
    },
    {
     "name": "stdout",
     "output_type": "stream",
     "text": [
      "0.04160056\n",
      "0.9860365008914763\n",
      "0.17899999999999927\n"
     ]
    },
    {
     "name": "stderr",
     "output_type": "stream",
     "text": [
      " 82%|███████████████████████████████████████████████████████████████████████▌               | 822/1000 [03:55<00:57,  3.09it/s]"
     ]
    },
    {
     "name": "stdout",
     "output_type": "stream",
     "text": [
      "0.040796854\n",
      "0.9867346758469026\n",
      "0.17799999999999927\n"
     ]
    },
    {
     "name": "stderr",
     "output_type": "stream",
     "text": [
      " 82%|███████████████████████████████████████████████████████████████████████▌               | 823/1000 [03:55<01:02,  2.82it/s]"
     ]
    },
    {
     "name": "stdout",
     "output_type": "stream",
     "text": [
      "0.040007487\n",
      "0.9873979420545574\n",
      "0.17699999999999927\n"
     ]
    },
    {
     "name": "stderr",
     "output_type": "stream",
     "text": [
      " 82%|███████████████████████████████████████████████████████████████████████▋               | 824/1000 [03:56<01:00,  2.89it/s]"
     ]
    },
    {
     "name": "stdout",
     "output_type": "stream",
     "text": [
      "0.039234575\n",
      "0.9880280449518296\n",
      "0.17599999999999927\n"
     ]
    },
    {
     "name": "stderr",
     "output_type": "stream",
     "text": [
      " 82%|███████████████████████████████████████████████████████████████████████▊               | 825/1000 [03:56<00:57,  3.02it/s]"
     ]
    },
    {
     "name": "stdout",
     "output_type": "stream",
     "text": [
      "0.03847975\n",
      "0.9886266427042382\n",
      "0.17499999999999927\n"
     ]
    },
    {
     "name": "stderr",
     "output_type": "stream",
     "text": [
      " 83%|███████████████████████████████████████████████████████████████████████▊               | 826/1000 [03:56<00:57,  3.04it/s]"
     ]
    },
    {
     "name": "stdout",
     "output_type": "stream",
     "text": [
      "0.037744228\n",
      "0.9891953105690262\n",
      "0.17399999999999927\n"
     ]
    },
    {
     "name": "stderr",
     "output_type": "stream",
     "text": [
      " 83%|███████████████████████████████████████████████████████████████████████▉               | 827/1000 [03:57<00:55,  3.11it/s]"
     ]
    },
    {
     "name": "stdout",
     "output_type": "stream",
     "text": [
      "0.03702888\n",
      "0.9897355450405749\n",
      "0.17299999999999927\n"
     ]
    },
    {
     "name": "stderr",
     "output_type": "stream",
     "text": [
      " 83%|████████████████████████████████████████████████████████████████████████               | 828/1000 [03:57<01:04,  2.65it/s]"
     ]
    },
    {
     "name": "stdout",
     "output_type": "stream",
     "text": [
      "0.03610062\n",
      "0.9902487677885462\n",
      "0.17199999999999926\n"
     ]
    },
    {
     "name": "stderr",
     "output_type": "stream",
     "text": [
      " 83%|████████████████████████████████████████████████████████████████████████               | 829/1000 [03:58<01:02,  2.74it/s]"
     ]
    },
    {
     "name": "stdout",
     "output_type": "stream",
     "text": [
      "0.035412654\n",
      "0.9907363293991189\n",
      "0.17099999999999926\n"
     ]
    },
    {
     "name": "stderr",
     "output_type": "stream",
     "text": [
      " 83%|████████████████████████████████████████████████████████████████████████▏              | 830/1000 [03:58<01:01,  2.77it/s]"
     ]
    },
    {
     "name": "stdout",
     "output_type": "stream",
     "text": [
      "0.03475083\n",
      "0.991199512929163\n",
      "0.16999999999999926\n"
     ]
    },
    {
     "name": "stderr",
     "output_type": "stream",
     "text": [
      " 83%|████████████████████████████████████████████████████████████████████████▎              | 831/1000 [03:58<00:59,  2.85it/s]"
     ]
    },
    {
     "name": "stdout",
     "output_type": "stream",
     "text": [
      "0.034114372\n",
      "0.9916395372827048\n",
      "0.16899999999999926\n"
     ]
    },
    {
     "name": "stderr",
     "output_type": "stream",
     "text": [
      " 83%|████████████████████████████████████████████████████████████████████████▍              | 832/1000 [03:59<01:03,  2.64it/s]"
     ]
    },
    {
     "name": "stdout",
     "output_type": "stream",
     "text": [
      "0.033872455\n",
      "0.9920575604185696\n",
      "0.16799999999999926\n"
     ]
    },
    {
     "name": "stderr",
     "output_type": "stream",
     "text": [
      " 83%|████████████████████████████████████████████████████████████████████████▍              | 833/1000 [03:59<00:58,  2.83it/s]"
     ]
    },
    {
     "name": "stdout",
     "output_type": "stream",
     "text": [
      "0.03350639\n",
      "0.9924546823976411\n",
      "0.16699999999999926\n"
     ]
    },
    {
     "name": "stderr",
     "output_type": "stream",
     "text": [
      " 83%|████████████████████████████████████████████████████████████████████████▌              | 834/1000 [03:59<01:06,  2.49it/s]"
     ]
    },
    {
     "name": "stdout",
     "output_type": "stream",
     "text": [
      "0.033427984\n",
      "0.9928319482777591\n",
      "0.16599999999999926\n"
     ]
    },
    {
     "name": "stderr",
     "output_type": "stream",
     "text": [
      " 84%|████████████████████████████████████████████████████████████████████████▋              | 835/1000 [04:00<01:00,  2.71it/s]"
     ]
    },
    {
     "name": "stdout",
     "output_type": "stream",
     "text": [
      "0.03328699\n",
      "0.9931903508638712\n",
      "0.16499999999999926\n"
     ]
    },
    {
     "name": "stderr",
     "output_type": "stream",
     "text": [
      " 84%|████████████████████████████████████████████████████████████████████████▋              | 836/1000 [04:00<00:56,  2.90it/s]"
     ]
    },
    {
     "name": "stdout",
     "output_type": "stream",
     "text": [
      "0.03308376\n",
      "0.9935308333206776\n",
      "0.16399999999999926\n"
     ]
    },
    {
     "name": "stderr",
     "output_type": "stream",
     "text": [
      " 84%|████████████████████████████████████████████████████████████████████████▊              | 837/1000 [04:00<00:57,  2.82it/s]"
     ]
    },
    {
     "name": "stdout",
     "output_type": "stream",
     "text": [
      "0.032830905\n",
      "0.9938542916546437\n",
      "0.16299999999999926\n"
     ]
    },
    {
     "name": "stderr",
     "output_type": "stream",
     "text": [
      " 84%|████████████████████████████████████████████████████████████████████████▉              | 838/1000 [04:01<00:55,  2.92it/s]"
     ]
    },
    {
     "name": "stdout",
     "output_type": "stream",
     "text": [
      "0.032538887\n",
      "0.9941615770719114\n",
      "0.16199999999999926\n"
     ]
    },
    {
     "name": "stderr",
     "output_type": "stream",
     "text": [
      " 84%|████████████████████████████████████████████████████████████████████████▉              | 839/1000 [04:01<00:52,  3.06it/s]"
     ]
    },
    {
     "name": "stdout",
     "output_type": "stream",
     "text": [
      "0.032216396\n",
      "0.9944534982183159\n",
      "0.16099999999999925\n"
     ]
    },
    {
     "name": "stderr",
     "output_type": "stream",
     "text": [
      " 84%|█████████████████████████████████████████████████████████████████████████              | 840/1000 [04:01<00:50,  3.17it/s]"
     ]
    },
    {
     "name": "stdout",
     "output_type": "stream",
     "text": [
      "0.03187067\n",
      "0.9947308233074\n",
      "0.15999999999999925\n"
     ]
    },
    {
     "name": "stderr",
     "output_type": "stream",
     "text": [
      " 84%|█████████████████████████████████████████████████████████████████████████▏             | 841/1000 [04:02<00:45,  3.47it/s]"
     ]
    },
    {
     "name": "stdout",
     "output_type": "stream",
     "text": [
      "0.031507727\n",
      "0.99499428214203\n",
      "0.15899999999999925\n"
     ]
    },
    {
     "name": "stderr",
     "output_type": "stream",
     "text": [
      " 84%|█████████████████████████████████████████████████████████████████████████▎             | 842/1000 [04:02<00:50,  3.14it/s]"
     ]
    },
    {
     "name": "stdout",
     "output_type": "stream",
     "text": [
      "0.031132573\n",
      "0.9952445680349286\n",
      "0.15799999999999925\n"
     ]
    },
    {
     "name": "stderr",
     "output_type": "stream",
     "text": [
      " 84%|█████████████████████████████████████████████████████████████████████████▎             | 843/1000 [04:02<00:55,  2.82it/s]"
     ]
    },
    {
     "name": "stdout",
     "output_type": "stream",
     "text": [
      "0.030749356\n",
      "0.9954823396331821\n",
      "0.15699999999999925\n"
     ]
    },
    {
     "name": "stderr",
     "output_type": "stream",
     "text": [
      " 84%|█████████████████████████████████████████████████████████████████████████▍             | 844/1000 [04:03<00:52,  2.95it/s]"
     ]
    },
    {
     "name": "stdout",
     "output_type": "stream",
     "text": [
      "0.030361528\n",
      "0.995708222651523\n",
      "0.15599999999999925\n"
     ]
    },
    {
     "name": "stderr",
     "output_type": "stream",
     "text": [
      " 84%|█████████████████████████████████████████████████████████████████████████▌             | 845/1000 [04:03<00:48,  3.22it/s]"
     ]
    },
    {
     "name": "stdout",
     "output_type": "stream",
     "text": [
      "0.029971935\n",
      "0.9959228115189469\n",
      "0.15499999999999925\n"
     ]
    },
    {
     "name": "stderr",
     "output_type": "stream",
     "text": [
      " 85%|█████████████████████████████████████████████████████████████████████████▌             | 846/1000 [04:03<00:44,  3.47it/s]"
     ]
    },
    {
     "name": "stdout",
     "output_type": "stream",
     "text": [
      "0.029582927\n",
      "0.9961266709429996\n",
      "0.15399999999999925\n"
     ]
    },
    {
     "name": "stderr",
     "output_type": "stream",
     "text": [
      " 85%|█████████████████████████████████████████████████████████████████████████▋             | 847/1000 [04:03<00:45,  3.37it/s]"
     ]
    },
    {
     "name": "stdout",
     "output_type": "stream",
     "text": [
      "0.02919643\n",
      "0.9963203373958496\n",
      "0.15299999999999925\n"
     ]
    },
    {
     "name": "stderr",
     "output_type": "stream",
     "text": [
      " 85%|█████████████████████████████████████████████████████████████████████████▊             | 848/1000 [04:04<00:45,  3.36it/s]"
     ]
    },
    {
     "name": "stdout",
     "output_type": "stream",
     "text": [
      "0.028814012\n",
      "0.9965043205260571\n",
      "0.15199999999999925\n"
     ]
    },
    {
     "name": "stderr",
     "output_type": "stream",
     "text": [
      " 85%|█████████████████████████████████████████████████████████████████████████▊             | 849/1000 [04:04<00:45,  3.32it/s]"
     ]
    },
    {
     "name": "stdout",
     "output_type": "stream",
     "text": [
      "0.028436944\n",
      "0.9966791044997543\n",
      "0.15099999999999925\n"
     ]
    },
    {
     "name": "stderr",
     "output_type": "stream",
     "text": [
      " 85%|█████████████████████████████████████████████████████████████████████████▉             | 850/1000 [04:04<00:49,  3.03it/s]"
     ]
    },
    {
     "name": "stdout",
     "output_type": "stream",
     "text": [
      "0.028066233\n",
      "0.9968451492747665\n",
      "0.14999999999999925\n"
     ]
    },
    {
     "name": "stderr",
     "output_type": "stream",
     "text": [
      " 85%|██████████████████████████████████████████████████████████████████████████             | 851/1000 [04:05<00:46,  3.22it/s]"
     ]
    },
    {
     "name": "stdout",
     "output_type": "stream",
     "text": [
      "0.027702684\n",
      "0.9970028918110282\n",
      "0.14899999999999924\n"
     ]
    },
    {
     "name": "stderr",
     "output_type": "stream",
     "text": [
      " 85%|██████████████████████████████████████████████████████████████████████████             | 852/1000 [04:05<00:43,  3.39it/s]"
     ]
    },
    {
     "name": "stdout",
     "output_type": "stream",
     "text": [
      "0.027346905\n",
      "0.9971527472204768\n",
      "0.14799999999999924\n"
     ]
    },
    {
     "name": "stderr",
     "output_type": "stream",
     "text": [
      " 85%|██████████████████████████████████████████████████████████████████████████▏            | 853/1000 [04:05<00:44,  3.32it/s]"
     ]
    },
    {
     "name": "stdout",
     "output_type": "stream",
     "text": [
      "0.026999366\n",
      "0.9972951098594529\n",
      "0.14699999999999924\n"
     ]
    },
    {
     "name": "stderr",
     "output_type": "stream",
     "text": [
      " 85%|██████████████████████████████████████████████████████████████████████████▎            | 854/1000 [04:06<00:40,  3.61it/s]"
     ]
    },
    {
     "name": "stdout",
     "output_type": "stream",
     "text": [
      "0.026660401\n",
      "0.9974303543664803\n",
      "0.14599999999999924\n"
     ]
    },
    {
     "name": "stderr",
     "output_type": "stream",
     "text": [
      " 86%|██████████████████████████████████████████████████████████████████████████▍            | 855/1000 [04:06<00:40,  3.61it/s]"
     ]
    },
    {
     "name": "stdout",
     "output_type": "stream",
     "text": [
      "0.026330236\n",
      "0.9975588366481563\n",
      "0.14499999999999924\n"
     ]
    },
    {
     "name": "stderr",
     "output_type": "stream",
     "text": [
      " 86%|██████████████████████████████████████████████████████████████████████████▍            | 856/1000 [04:06<00:39,  3.60it/s]"
     ]
    },
    {
     "name": "stdout",
     "output_type": "stream",
     "text": [
      "0.026009008\n",
      "0.9976808948157484\n",
      "0.14399999999999924\n"
     ]
    },
    {
     "name": "stderr",
     "output_type": "stream",
     "text": [
      " 86%|██████████████████████████████████████████████████████████████████████████▌            | 857/1000 [04:06<00:41,  3.42it/s]"
     ]
    },
    {
     "name": "stdout",
     "output_type": "stream",
     "text": [
      "0.025696777\n",
      "0.997796850074961\n",
      "0.14299999999999924\n"
     ]
    },
    {
     "name": "stderr",
     "output_type": "stream",
     "text": [
      " 86%|██████████████████████████████████████████████████████████████████████████▋            | 858/1000 [04:07<00:42,  3.35it/s]"
     ]
    },
    {
     "name": "stdout",
     "output_type": "stream",
     "text": [
      "0.025393534\n",
      "0.997907007571213\n",
      "0.14199999999999924\n"
     ]
    },
    {
     "name": "stderr",
     "output_type": "stream",
     "text": [
      " 86%|██████████████████████████████████████████████████████████████████████████▋            | 859/1000 [04:07<00:42,  3.35it/s]"
     ]
    },
    {
     "name": "stdout",
     "output_type": "stream",
     "text": [
      "0.025099227\n",
      "0.9980116571926523\n",
      "0.14099999999999924\n"
     ]
    },
    {
     "name": "stderr",
     "output_type": "stream",
     "text": [
      " 86%|██████████████████████████████████████████████████████████████████████████▊            | 860/1000 [04:07<00:42,  3.33it/s]"
     ]
    },
    {
     "name": "stdout",
     "output_type": "stream",
     "text": [
      "0.02481376\n",
      "0.9981110743330197\n",
      "0.13999999999999924\n"
     ]
    },
    {
     "name": "stderr",
     "output_type": "stream",
     "text": [
      " 86%|██████████████████████████████████████████████████████████████████████████▉            | 861/1000 [04:08<00:41,  3.36it/s]"
     ]
    },
    {
     "name": "stdout",
     "output_type": "stream",
     "text": [
      "0.024536993\n",
      "0.9982055206163687\n",
      "0.13899999999999924\n"
     ]
    },
    {
     "name": "stderr",
     "output_type": "stream",
     "text": [
      " 86%|██████████████████████████████████████████████████████████████████████████▉            | 862/1000 [04:08<00:50,  2.74it/s]"
     ]
    },
    {
     "name": "stdout",
     "output_type": "stream",
     "text": [
      "0.024136882\n",
      "0.9982952445855503\n",
      "0.13799999999999923\n"
     ]
    },
    {
     "name": "stderr",
     "output_type": "stream",
     "text": [
      " 86%|███████████████████████████████████████████████████████████████████████████            | 863/1000 [04:08<00:47,  2.89it/s]"
     ]
    },
    {
     "name": "stdout",
     "output_type": "stream",
     "text": [
      "0.023860415\n",
      "0.9983804823562727\n",
      "0.13699999999999923\n"
     ]
    },
    {
     "name": "stderr",
     "output_type": "stream",
     "text": [
      " 86%|███████████████████████████████████████████████████████████████████████████▏           | 864/1000 [04:09<00:43,  3.12it/s]"
     ]
    },
    {
     "name": "stdout",
     "output_type": "stream",
     "text": [
      "0.023596477\n",
      "0.9984614582384591\n",
      "0.13599999999999923\n"
     ]
    },
    {
     "name": "stderr",
     "output_type": "stream",
     "text": [
      " 86%|███████████████████████████████████████████████████████████████████████████▎           | 865/1000 [04:09<00:42,  3.15it/s]"
     ]
    },
    {
     "name": "stdout",
     "output_type": "stream",
     "text": [
      "0.02334421\n",
      "0.9985383853265362\n",
      "0.13499999999999923\n"
     ]
    },
    {
     "name": "stderr",
     "output_type": "stream",
     "text": [
      " 87%|███████████████████████████████████████████████████████████████████████████▎           | 866/1000 [04:09<00:41,  3.23it/s]"
     ]
    },
    {
     "name": "stdout",
     "output_type": "stream",
     "text": [
      "0.02310283\n",
      "0.9986114660602093\n",
      "0.13399999999999923\n"
     ]
    },
    {
     "name": "stderr",
     "output_type": "stream",
     "text": [
      " 87%|███████████████████████████████████████████████████████████████████████████▍           | 867/1000 [04:10<00:38,  3.42it/s]"
     ]
    },
    {
     "name": "stdout",
     "output_type": "stream",
     "text": [
      "0.022871612\n",
      "0.9986808927571988\n",
      "0.13299999999999923\n"
     ]
    },
    {
     "name": "stderr",
     "output_type": "stream",
     "text": [
      " 87%|███████████████████████████████████████████████████████████████████████████▌           | 868/1000 [04:11<01:05,  2.01it/s]"
     ]
    },
    {
     "name": "stdout",
     "output_type": "stream",
     "text": [
      "0.02270217\n",
      "0.9987468481193389\n",
      "0.13199999999999923\n"
     ]
    },
    {
     "name": "stderr",
     "output_type": "stream",
     "text": [
      " 87%|███████████████████████████████████████████████████████████████████████████▌           | 869/1000 [04:11<01:06,  1.96it/s]"
     ]
    },
    {
     "name": "stdout",
     "output_type": "stream",
     "text": [
      "0.022356525\n",
      "0.9988095057133719\n",
      "0.13099999999999923\n"
     ]
    },
    {
     "name": "stderr",
     "output_type": "stream",
     "text": [
      " 87%|███████████████████████████████████████████████████████████████████████████▋           | 870/1000 [04:11<01:00,  2.15it/s]"
     ]
    },
    {
     "name": "stdout",
     "output_type": "stream",
     "text": [
      "0.022267729\n",
      "0.9988690304277034\n",
      "0.12999999999999923\n"
     ]
    },
    {
     "name": "stderr",
     "output_type": "stream",
     "text": [
      " 87%|███████████████████████████████████████████████████████████████████████████▊           | 871/1000 [04:12<00:57,  2.26it/s]"
     ]
    },
    {
     "name": "stdout",
     "output_type": "stream",
     "text": [
      "0.022169374\n",
      "0.9989255789063182\n",
      "0.12899999999999923\n"
     ]
    },
    {
     "name": "stderr",
     "output_type": "stream",
     "text": [
      " 87%|███████████████████████████████████████████████████████████████████████████▊           | 872/1000 [04:12<00:52,  2.45it/s]"
     ]
    },
    {
     "name": "stdout",
     "output_type": "stream",
     "text": [
      "0.022063274\n",
      "0.9989792999610022\n",
      "0.12799999999999923\n"
     ]
    },
    {
     "name": "stderr",
     "output_type": "stream",
     "text": [
      " 87%|███████████████████████████████████████████████████████████████████████████▉           | 873/1000 [04:12<00:44,  2.85it/s]"
     ]
    },
    {
     "name": "stdout",
     "output_type": "stream",
     "text": [
      "0.02195099\n",
      "0.9990303349629521\n",
      "0.12699999999999922\n"
     ]
    },
    {
     "name": "stderr",
     "output_type": "stream",
     "text": [
      " 87%|████████████████████████████████████████████████████████████████████████████           | 874/1000 [04:13<00:41,  3.00it/s]"
     ]
    },
    {
     "name": "stdout",
     "output_type": "stream",
     "text": [
      "0.021833854\n",
      "0.9990788182148045\n",
      "0.12599999999999922\n"
     ]
    },
    {
     "name": "stderr",
     "output_type": "stream",
     "text": [
      " 88%|████████████████████████████████████████████████████████████████████████████▏          | 875/1000 [04:13<00:40,  3.11it/s]"
     ]
    },
    {
     "name": "stdout",
     "output_type": "stream",
     "text": [
      "0.021712996\n",
      "0.9991248773040643\n",
      "0.12499999999999922\n"
     ]
    },
    {
     "name": "stderr",
     "output_type": "stream",
     "text": [
      " 88%|████████████████████████████████████████████████████████████████████████████▏          | 876/1000 [04:13<00:36,  3.41it/s]"
     ]
    },
    {
     "name": "stdout",
     "output_type": "stream",
     "text": [
      "0.021589382\n",
      "0.9991686334388611\n",
      "0.12399999999999922\n"
     ]
    },
    {
     "name": "stderr",
     "output_type": "stream",
     "text": [
      " 88%|████████████████████████████████████████████████████████████████████████████▎          | 877/1000 [04:13<00:32,  3.75it/s]"
     ]
    },
    {
     "name": "stdout",
     "output_type": "stream",
     "text": [
      "0.021463832\n",
      "0.999210201766918\n",
      "0.12299999999999922\n"
     ]
    },
    {
     "name": "stderr",
     "output_type": "stream",
     "text": [
      " 88%|████████████████████████████████████████████████████████████████████████████▍          | 878/1000 [04:14<00:32,  3.71it/s]"
     ]
    },
    {
     "name": "stdout",
     "output_type": "stream",
     "text": [
      "0.021337043\n",
      "0.9992496916785721\n",
      "0.12199999999999922\n"
     ]
    },
    {
     "name": "stderr",
     "output_type": "stream",
     "text": [
      " 88%|████████████████████████████████████████████████████████████████████████████▍          | 879/1000 [04:14<00:33,  3.59it/s]"
     ]
    },
    {
     "name": "stdout",
     "output_type": "stream",
     "text": [
      "0.021209603\n",
      "0.9992872070946436\n",
      "0.12099999999999922\n"
     ]
    },
    {
     "name": "stderr",
     "output_type": "stream",
     "text": [
      " 88%|████████████████████████████████████████████████████████████████████████████▌          | 880/1000 [04:14<00:41,  2.89it/s]"
     ]
    },
    {
     "name": "stdout",
     "output_type": "stream",
     "text": [
      "0.021387896\n",
      "0.9993228467399115\n",
      "0.11999999999999922\n"
     ]
    },
    {
     "name": "stderr",
     "output_type": "stream",
     "text": [
      " 88%|████████████████████████████████████████████████████████████████████████████▋          | 881/1000 [04:15<00:36,  3.25it/s]"
     ]
    },
    {
     "name": "stdout",
     "output_type": "stream",
     "text": [
      "0.021449419\n",
      "0.9993567044029159\n",
      "0.11899999999999922\n"
     ]
    },
    {
     "name": "stderr",
     "output_type": "stream",
     "text": [
      " 88%|████████████████████████████████████████████████████████████████████████████▋          | 882/1000 [04:15<00:36,  3.25it/s]"
     ]
    },
    {
     "name": "stdout",
     "output_type": "stream",
     "text": [
      "0.021475103\n",
      "0.9993888691827701\n",
      "0.11799999999999922\n"
     ]
    },
    {
     "name": "stderr",
     "output_type": "stream",
     "text": [
      " 88%|████████████████████████████████████████████████████████████████████████████▊          | 883/1000 [04:15<00:35,  3.30it/s]"
     ]
    },
    {
     "name": "stdout",
     "output_type": "stream",
     "text": [
      "0.021470746\n",
      "0.9994194257236316\n",
      "0.11699999999999922\n"
     ]
    },
    {
     "name": "stderr",
     "output_type": "stream",
     "text": [
      " 88%|████████████████████████████████████████████████████████████████████████████▉          | 884/1000 [04:16<00:34,  3.36it/s]"
     ]
    },
    {
     "name": "stdout",
     "output_type": "stream",
     "text": [
      "0.021441266\n",
      "0.99944845443745\n",
      "0.11599999999999921\n"
     ]
    },
    {
     "name": "stderr",
     "output_type": "stream",
     "text": [
      " 88%|████████████████████████████████████████████████████████████████████████████▉          | 885/1000 [04:16<00:34,  3.34it/s]"
     ]
    },
    {
     "name": "stdout",
     "output_type": "stream",
     "text": [
      "0.021390853\n",
      "0.9994760317155775\n",
      "0.11499999999999921\n"
     ]
    },
    {
     "name": "stderr",
     "output_type": "stream",
     "text": [
      " 89%|█████████████████████████████████████████████████████████████████████████████          | 886/1000 [04:16<00:33,  3.38it/s]"
     ]
    },
    {
     "name": "stdout",
     "output_type": "stream",
     "text": [
      "0.021323077\n",
      "0.9995022301297987\n",
      "0.11399999999999921\n"
     ]
    },
    {
     "name": "stderr",
     "output_type": "stream",
     "text": [
      " 89%|█████████████████████████████████████████████████████████████████████████████▏         | 887/1000 [04:16<00:33,  3.34it/s]"
     ]
    },
    {
     "name": "stdout",
     "output_type": "stream",
     "text": [
      "0.02124097\n",
      "0.9995271186233088\n",
      "0.11299999999999921\n"
     ]
    },
    {
     "name": "stderr",
     "output_type": "stream",
     "text": [
      " 89%|█████████████████████████████████████████████████████████████████████████████▎         | 888/1000 [04:17<00:35,  3.18it/s]"
     ]
    },
    {
     "name": "stdout",
     "output_type": "stream",
     "text": [
      "0.021147128\n",
      "0.9995507626921434\n",
      "0.11199999999999921\n"
     ]
    },
    {
     "name": "stderr",
     "output_type": "stream",
     "text": [
      " 89%|█████████████████████████████████████████████████████████████████████████████▎         | 889/1000 [04:17<00:36,  3.04it/s]"
     ]
    },
    {
     "name": "stdout",
     "output_type": "stream",
     "text": [
      "0.021043764\n",
      "0.9995732245575362\n",
      "0.11099999999999921\n"
     ]
    },
    {
     "name": "stderr",
     "output_type": "stream",
     "text": [
      " 89%|█████████████████████████████████████████████████████████████████████████████▍         | 890/1000 [04:17<00:35,  3.09it/s]"
     ]
    },
    {
     "name": "stdout",
     "output_type": "stream",
     "text": [
      "0.020932764\n",
      "0.9995945633296593\n",
      "0.10999999999999921\n"
     ]
    },
    {
     "name": "stderr",
     "output_type": "stream",
     "text": [
      " 89%|█████████████████████████████████████████████████████████████████████████████▌         | 891/1000 [04:18<00:34,  3.18it/s]"
     ]
    },
    {
     "name": "stdout",
     "output_type": "stream",
     "text": [
      "0.02081573\n",
      "0.9996148351631764\n",
      "0.10899999999999921\n"
     ]
    },
    {
     "name": "stderr",
     "output_type": "stream",
     "text": [
      " 89%|█████████████████████████████████████████████████████████████████████████████▌         | 892/1000 [04:18<00:32,  3.30it/s]"
     ]
    },
    {
     "name": "stdout",
     "output_type": "stream",
     "text": [
      "0.02069404\n",
      "0.9996340934050176\n",
      "0.10799999999999921\n"
     ]
    },
    {
     "name": "stderr",
     "output_type": "stream",
     "text": [
      " 89%|█████████████████████████████████████████████████████████████████████████████▋         | 893/1000 [04:18<00:33,  3.21it/s]"
     ]
    },
    {
     "name": "stdout",
     "output_type": "stream",
     "text": [
      "0.020568848\n",
      "0.9996523887347668\n",
      "0.1069999999999992\n"
     ]
    },
    {
     "name": "stderr",
     "output_type": "stream",
     "text": [
      " 89%|█████████████████████████████████████████████████████████████████████████████▊         | 894/1000 [04:19<00:32,  3.25it/s]"
     ]
    },
    {
     "name": "stdout",
     "output_type": "stream",
     "text": [
      "0.02044115\n",
      "0.9996697692980284\n",
      "0.1059999999999992\n"
     ]
    },
    {
     "name": "stderr",
     "output_type": "stream",
     "text": [
      " 90%|█████████████████████████████████████████████████████████████████████████████▊         | 895/1000 [04:19<00:41,  2.55it/s]"
     ]
    },
    {
     "name": "stdout",
     "output_type": "stream",
     "text": [
      "0.020126045\n",
      "0.999686280833127\n",
      "0.1049999999999992\n"
     ]
    },
    {
     "name": "stderr",
     "output_type": "stream",
     "text": [
      " 90%|█████████████████████████████████████████████████████████████████████████████▉         | 896/1000 [04:20<00:38,  2.73it/s]"
     ]
    },
    {
     "name": "stdout",
     "output_type": "stream",
     "text": [
      "0.01998555\n",
      "0.9997019667914707\n",
      "0.1039999999999992\n"
     ]
    },
    {
     "name": "stderr",
     "output_type": "stream",
     "text": [
      " 90%|██████████████████████████████████████████████████████████████████████████████         | 897/1000 [04:20<00:35,  2.94it/s]"
     ]
    },
    {
     "name": "stdout",
     "output_type": "stream",
     "text": [
      "0.019848216\n",
      "0.9997168684518972\n",
      "0.1029999999999992\n"
     ]
    },
    {
     "name": "stderr",
     "output_type": "stream",
     "text": [
      " 90%|██████████████████████████████████████████████████████████████████████████████▏        | 898/1000 [04:20<00:38,  2.62it/s]"
     ]
    },
    {
     "name": "stdout",
     "output_type": "stream",
     "text": [
      "0.019714002\n",
      "0.9997310250293023\n",
      "0.1019999999999992\n"
     ]
    },
    {
     "name": "stderr",
     "output_type": "stream",
     "text": [
      " 90%|██████████████████████████████████████████████████████████████████████████████▏        | 899/1000 [04:21<00:38,  2.61it/s]"
     ]
    },
    {
     "name": "stdout",
     "output_type": "stream",
     "text": [
      "0.019582849\n",
      "0.9997444737778373\n",
      "0.1009999999999992\n"
     ]
    },
    {
     "name": "stderr",
     "output_type": "stream",
     "text": [
      " 90%|██████████████████████████████████████████████████████████████████████████████▎        | 900/1000 [04:21<00:35,  2.78it/s]"
     ]
    },
    {
     "name": "stdout",
     "output_type": "stream",
     "text": [
      "0.019454699\n",
      "0.9997572500889454\n",
      "0.0999999999999992\n"
     ]
    },
    {
     "name": "stderr",
     "output_type": "stream",
     "text": [
      " 90%|██████████████████████████████████████████████████████████████████████████████▍        | 901/1000 [04:21<00:34,  2.90it/s]"
     ]
    },
    {
     "name": "stdout",
     "output_type": "stream",
     "text": [
      "0.019329477\n",
      "0.9997693875844982\n",
      "0.0989999999999992\n"
     ]
    },
    {
     "name": "stderr",
     "output_type": "stream",
     "text": [
      " 90%|██████████████████████████████████████████████████████████████████████████████▍        | 902/1000 [04:22<00:33,  2.89it/s]"
     ]
    },
    {
     "name": "stdout",
     "output_type": "stream",
     "text": [
      "0.019207114\n",
      "0.9997809182052733\n",
      "0.0979999999999992\n"
     ]
    },
    {
     "name": "stderr",
     "output_type": "stream",
     "text": [
      " 90%|██████████████████████████████████████████████████████████████████████████████▌        | 903/1000 [04:22<00:31,  3.05it/s]"
     ]
    },
    {
     "name": "stdout",
     "output_type": "stream",
     "text": [
      "0.019087534\n",
      "0.9997918722950097\n",
      "0.0969999999999992\n"
     ]
    },
    {
     "name": "stderr",
     "output_type": "stream",
     "text": [
      " 90%|██████████████████████████████████████████████████████████████████████████████▋        | 904/1000 [04:22<00:30,  3.14it/s]"
     ]
    },
    {
     "name": "stdout",
     "output_type": "stream",
     "text": [
      "0.018970655\n",
      "0.9998022786802592\n",
      "0.0959999999999992\n"
     ]
    },
    {
     "name": "stderr",
     "output_type": "stream",
     "text": [
      " 90%|██████████████████████████████████████████████████████████████████████████████▋        | 905/1000 [04:23<00:29,  3.19it/s]"
     ]
    },
    {
     "name": "stdout",
     "output_type": "stream",
     "text": [
      "0.018856391\n",
      "0.9998121647462462\n",
      "0.0949999999999992\n"
     ]
    },
    {
     "name": "stderr",
     "output_type": "stream",
     "text": [
      " 91%|██████████████████████████████████████████████████████████████████████████████▊        | 906/1000 [04:23<00:34,  2.69it/s]"
     ]
    },
    {
     "name": "stdout",
     "output_type": "stream",
     "text": [
      "0.0185873\n",
      "0.9998215565089339\n",
      "0.0939999999999992\n"
     ]
    },
    {
     "name": "stderr",
     "output_type": "stream",
     "text": [
      " 91%|██████████████████████████████████████████████████████████████████████████████▉        | 907/1000 [04:23<00:32,  2.90it/s]"
     ]
    },
    {
     "name": "stdout",
     "output_type": "stream",
     "text": [
      "0.018467583\n",
      "0.9998304786834872\n",
      "0.0929999999999992\n"
     ]
    },
    {
     "name": "stderr",
     "output_type": "stream",
     "text": [
      " 91%|██████████████████████████████████████████████████████████████████████████████▉        | 908/1000 [04:24<00:32,  2.83it/s]"
     ]
    },
    {
     "name": "stdout",
     "output_type": "stream",
     "text": [
      "0.018353548\n",
      "0.9998389547493128\n",
      "0.0919999999999992\n"
     ]
    },
    {
     "name": "stderr",
     "output_type": "stream",
     "text": [
      " 91%|███████████████████████████████████████████████████████████████████████████████        | 909/1000 [04:24<00:41,  2.22it/s]"
     ]
    },
    {
     "name": "stdout",
     "output_type": "stream",
     "text": [
      "0.01855953\n",
      "0.9998470070118471\n",
      "0.09099999999999919\n"
     ]
    },
    {
     "name": "stderr",
     "output_type": "stream",
     "text": [
      " 91%|███████████████████████████████████████████████████████████████████████████████▏       | 910/1000 [04:25<00:35,  2.51it/s]"
     ]
    },
    {
     "name": "stdout",
     "output_type": "stream",
     "text": [
      "0.018621266\n",
      "0.9998546566612548\n",
      "0.08999999999999919\n"
     ]
    },
    {
     "name": "stderr",
     "output_type": "stream",
     "text": [
      " 91%|███████████████████████████████████████████████████████████████████████████████▎       | 911/1000 [04:25<00:31,  2.83it/s]"
     ]
    },
    {
     "name": "stdout",
     "output_type": "stream",
     "text": [
      "0.018655477\n",
      "0.9998619238281921\n",
      "0.08899999999999919\n"
     ]
    },
    {
     "name": "stderr",
     "output_type": "stream",
     "text": [
      " 91%|███████████████████████████████████████████████████████████████████████████████▎       | 912/1000 [04:25<00:28,  3.05it/s]"
     ]
    },
    {
     "name": "stdout",
     "output_type": "stream",
     "text": [
      "0.018666407\n",
      "0.9998688276367824\n",
      "0.08799999999999919\n"
     ]
    },
    {
     "name": "stderr",
     "output_type": "stream",
     "text": [
      " 91%|███████████████████████████████████████████████████████████████████████████████▍       | 913/1000 [04:25<00:26,  3.25it/s]"
     ]
    },
    {
     "name": "stdout",
     "output_type": "stream",
     "text": [
      "0.018657673\n",
      "0.9998753862549433\n",
      "0.08699999999999919\n"
     ]
    },
    {
     "name": "stderr",
     "output_type": "stream",
     "text": [
      " 92%|███████████████████████████████████████████████████████████████████████████████▌       | 915/1000 [04:26<00:21,  3.88it/s]"
     ]
    },
    {
     "name": "stdout",
     "output_type": "stream",
     "text": [
      "0.018632384\n",
      "0.9998816169421961\n",
      "0.08599999999999919\n",
      "0.018593192\n",
      "0.9998875360950863\n",
      "0.08499999999999919\n"
     ]
    },
    {
     "name": "stderr",
     "output_type": "stream",
     "text": [
      " 92%|███████████████████████████████████████████████████████████████████████████████▋       | 916/1000 [04:26<00:21,  3.90it/s]"
     ]
    },
    {
     "name": "stdout",
     "output_type": "stream",
     "text": [
      "0.018542368\n",
      "0.999893159290332\n",
      "0.08399999999999919\n"
     ]
    },
    {
     "name": "stderr",
     "output_type": "stream",
     "text": [
      " 92%|███████████████████████████████████████████████████████████████████████████████▊       | 917/1000 [04:26<00:20,  4.01it/s]"
     ]
    },
    {
     "name": "stdout",
     "output_type": "stream",
     "text": [
      "0.018481867\n",
      "0.9998985013258154\n",
      "0.08299999999999919\n"
     ]
    },
    {
     "name": "stderr",
     "output_type": "stream",
     "text": [
      " 92%|███████████████████████████████████████████████████████████████████████████████▉       | 919/1000 [04:27<00:19,  4.15it/s]"
     ]
    },
    {
     "name": "stdout",
     "output_type": "stream",
     "text": [
      "0.018413365\n",
      "0.9999035762595246\n",
      "0.08199999999999918\n",
      "0.018338298\n",
      "0.9999083974465484\n",
      "0.08099999999999918\n"
     ]
    },
    {
     "name": "stderr",
     "output_type": "stream",
     "text": [
      " 92%|████████████████████████████████████████████████████████████████████████████████       | 920/1000 [04:27<00:19,  4.14it/s]"
     ]
    },
    {
     "name": "stdout",
     "output_type": "stream",
     "text": [
      "0.0182579\n",
      "0.9999129775742209\n",
      "0.07999999999999918\n"
     ]
    },
    {
     "name": "stderr",
     "output_type": "stream",
     "text": [
      " 92%|████████████████████████████████████████████████████████████████████████████████▏      | 921/1000 [04:27<00:19,  4.11it/s]"
     ]
    },
    {
     "name": "stdout",
     "output_type": "stream",
     "text": [
      "0.018173223\n",
      "0.9999173286955099\n",
      "0.07899999999999918\n"
     ]
    },
    {
     "name": "stderr",
     "output_type": "stream",
     "text": [
      " 92%|████████████████████████████████████████████████████████████████████████████████▎      | 923/1000 [04:28<00:17,  4.44it/s]"
     ]
    },
    {
     "name": "stdout",
     "output_type": "stream",
     "text": [
      "0.01808518\n",
      "0.9999214622607344\n",
      "0.07799999999999918\n",
      "0.017994536\n",
      "0.9999253891476977\n",
      "0.07699999999999918\n"
     ]
    },
    {
     "name": "stderr",
     "output_type": "stream",
     "text": [
      " 92%|████████████████████████████████████████████████████████████████████████████████▍      | 924/1000 [04:28<00:17,  4.25it/s]"
     ]
    },
    {
     "name": "stdout",
     "output_type": "stream",
     "text": [
      "0.017901955\n",
      "0.9999291196903128\n",
      "0.07599999999999918\n"
     ]
    },
    {
     "name": "stderr",
     "output_type": "stream",
     "text": [
      " 92%|████████████████████████████████████████████████████████████████████████████████▍      | 925/1000 [04:28<00:17,  4.22it/s]"
     ]
    },
    {
     "name": "stdout",
     "output_type": "stream",
     "text": [
      "0.017808001\n",
      "0.9999326637057973\n",
      "0.07499999999999918\n"
     ]
    },
    {
     "name": "stderr",
     "output_type": "stream",
     "text": [
      " 93%|████████████████████████████████████████████████████████████████████████████████▌      | 926/1000 [04:29<00:17,  4.14it/s]"
     ]
    },
    {
     "name": "stdout",
     "output_type": "stream",
     "text": [
      "0.017713154\n",
      "0.9999360305205074\n",
      "0.07399999999999918\n"
     ]
    },
    {
     "name": "stderr",
     "output_type": "stream",
     "text": [
      " 93%|████████████████████████████████████████████████████████████████████████████████▋      | 927/1000 [04:29<00:16,  4.30it/s]"
     ]
    },
    {
     "name": "stdout",
     "output_type": "stream",
     "text": [
      "0.017617812\n",
      "0.9999392289944821\n",
      "0.07299999999999918\n"
     ]
    },
    {
     "name": "stderr",
     "output_type": "stream",
     "text": [
      " 93%|████████████████████████████████████████████████████████████████████████████████▊      | 929/1000 [04:29<00:16,  4.37it/s]"
     ]
    },
    {
     "name": "stdout",
     "output_type": "stream",
     "text": [
      "0.01752233\n",
      "0.999942267544758\n",
      "0.07199999999999918\n",
      "0.017426984\n",
      "0.9999451541675202\n",
      "0.07099999999999917\n"
     ]
    },
    {
     "name": "stderr",
     "output_type": "stream",
     "text": [
      " 93%|████████████████████████████████████████████████████████████████████████████████▉      | 930/1000 [04:30<00:20,  3.45it/s]"
     ]
    },
    {
     "name": "stdout",
     "output_type": "stream",
     "text": [
      "0.01766748\n",
      "0.9999478964591442\n",
      "0.06999999999999917\n"
     ]
    },
    {
     "name": "stderr",
     "output_type": "stream",
     "text": [
      " 93%|█████████████████████████████████████████████████████████████████████████████████      | 932/1000 [04:30<00:16,  4.06it/s]"
     ]
    },
    {
     "name": "stdout",
     "output_type": "stream",
     "text": [
      "0.017736977\n",
      "0.9999505016361869\n",
      "0.06899999999999917\n",
      "0.017775342\n",
      "0.9999529765543775\n",
      "0.06799999999999917\n"
     ]
    },
    {
     "name": "stderr",
     "output_type": "stream",
     "text": [
      " 93%|█████████████████████████████████████████████████████████████████████████████████▏     | 933/1000 [04:30<00:16,  4.08it/s]"
     ]
    },
    {
     "name": "stdout",
     "output_type": "stream",
     "text": [
      "0.01778752\n",
      "0.9999553277266586\n",
      "0.06699999999999917\n"
     ]
    },
    {
     "name": "stderr",
     "output_type": "stream",
     "text": [
      " 93%|█████████████████████████████████████████████████████████████████████████████████▎     | 934/1000 [04:31<00:16,  4.01it/s]"
     ]
    },
    {
     "name": "stdout",
     "output_type": "stream",
     "text": [
      "0.017777715\n",
      "0.9999575613403257\n",
      "0.06599999999999917\n"
     ]
    },
    {
     "name": "stderr",
     "output_type": "stream",
     "text": [
      " 94%|█████████████████████████████████████████████████████████████████████████████████▎     | 935/1000 [04:31<00:15,  4.09it/s]"
     ]
    },
    {
     "name": "stdout",
     "output_type": "stream",
     "text": [
      "0.017749503\n",
      "0.9999596832733094\n",
      "0.06499999999999917\n"
     ]
    },
    {
     "name": "stderr",
     "output_type": "stream",
     "text": [
      " 94%|█████████████████████████████████████████████████████████████████████████████████▍     | 936/1000 [04:31<00:19,  3.31it/s]"
     ]
    },
    {
     "name": "stdout",
     "output_type": "stream",
     "text": [
      "0.017560145\n",
      "0.9999616991096439\n",
      "0.06399999999999917\n"
     ]
    },
    {
     "name": "stderr",
     "output_type": "stream",
     "text": [
      " 94%|█████████████████████████████████████████████████████████████████████████████████▌     | 937/1000 [04:31<00:17,  3.52it/s]"
     ]
    },
    {
     "name": "stdout",
     "output_type": "stream",
     "text": [
      "0.01749104\n",
      "0.9999636141541618\n",
      "0.06299999999999917\n"
     ]
    },
    {
     "name": "stderr",
     "output_type": "stream",
     "text": [
      " 94%|█████████████████████████████████████████████████████████████████████████████████▌     | 938/1000 [04:32<00:16,  3.67it/s]"
     ]
    },
    {
     "name": "stdout",
     "output_type": "stream",
     "text": [
      "0.01741527\n",
      "0.9999654334464537\n",
      "0.06199999999999917\n"
     ]
    },
    {
     "name": "stderr",
     "output_type": "stream",
     "text": [
      " 94%|█████████████████████████████████████████████████████████████████████████████████▋     | 939/1000 [04:32<00:16,  3.80it/s]"
     ]
    },
    {
     "name": "stdout",
     "output_type": "stream",
     "text": [
      "0.017334118\n",
      "0.999967161774131\n",
      "0.060999999999999166\n"
     ]
    },
    {
     "name": "stderr",
     "output_type": "stream",
     "text": [
      " 94%|█████████████████████████████████████████████████████████████████████████████████▊     | 940/1000 [04:32<00:15,  3.95it/s]"
     ]
    },
    {
     "name": "stdout",
     "output_type": "stream",
     "text": [
      "0.017248685\n",
      "0.9999688036854245\n",
      "0.059999999999999165\n"
     ]
    },
    {
     "name": "stderr",
     "output_type": "stream",
     "text": [
      " 94%|█████████████████████████████████████████████████████████████████████████████████▊     | 941/1000 [04:32<00:14,  4.09it/s]"
     ]
    },
    {
     "name": "stdout",
     "output_type": "stream",
     "text": [
      "0.017159902\n",
      "0.9999703635011533\n",
      "0.058999999999999164\n"
     ]
    },
    {
     "name": "stderr",
     "output_type": "stream",
     "text": [
      " 94%|█████████████████████████████████████████████████████████████████████████████████▉     | 942/1000 [04:33<00:14,  3.93it/s]"
     ]
    },
    {
     "name": "stdout",
     "output_type": "stream",
     "text": [
      "0.017068565\n",
      "0.9999718453260956\n",
      "0.05799999999999916\n"
     ]
    },
    {
     "name": "stderr",
     "output_type": "stream",
     "text": [
      " 94%|██████████████████████████████████████████████████████████████████████████████████     | 943/1000 [04:33<00:17,  3.31it/s]"
     ]
    },
    {
     "name": "stdout",
     "output_type": "stream",
     "text": [
      "0.016849445\n",
      "0.9999732530597908\n",
      "0.05699999999999916\n"
     ]
    },
    {
     "name": "stderr",
     "output_type": "stream",
     "text": [
      " 94%|██████████████████████████████████████████████████████████████████████████████████▏    | 944/1000 [04:34<00:19,  2.86it/s]"
     ]
    },
    {
     "name": "stdout",
     "output_type": "stream",
     "text": [
      "0.017042961\n",
      "0.9999745904068013\n",
      "0.05599999999999916\n"
     ]
    },
    {
     "name": "stderr",
     "output_type": "stream",
     "text": [
      " 94%|██████████████████████████████████████████████████████████████████████████████████▏    | 945/1000 [04:34<00:17,  3.21it/s]"
     ]
    },
    {
     "name": "stdout",
     "output_type": "stream",
     "text": [
      "0.017093245\n",
      "0.9999758608864612\n",
      "0.05499999999999916\n"
     ]
    },
    {
     "name": "stderr",
     "output_type": "stream",
     "text": [
      " 95%|██████████████████████████████████████████████████████████████████████████████████▎    | 946/1000 [04:34<00:15,  3.47it/s]"
     ]
    },
    {
     "name": "stdout",
     "output_type": "stream",
     "text": [
      "0.017116327\n",
      "0.9999770678421381\n",
      "0.05399999999999916\n"
     ]
    },
    {
     "name": "stderr",
     "output_type": "stream",
     "text": [
      " 95%|██████████████████████████████████████████████████████████████████████████████████▍    | 947/1000 [04:34<00:14,  3.65it/s]"
     ]
    },
    {
     "name": "stdout",
     "output_type": "stream",
     "text": [
      "0.01711654\n",
      "0.9999782144500312\n",
      "0.05299999999999916\n"
     ]
    },
    {
     "name": "stderr",
     "output_type": "stream",
     "text": [
      " 95%|██████████████████████████████████████████████████████████████████████████████████▍    | 948/1000 [04:35<00:13,  3.80it/s]"
     ]
    },
    {
     "name": "stdout",
     "output_type": "stream",
     "text": [
      "0.01709758\n",
      "0.9999793037275296\n",
      "0.05199999999999916\n"
     ]
    },
    {
     "name": "stderr",
     "output_type": "stream",
     "text": [
      " 95%|██████████████████████████████████████████████████████████████████████████████████▌    | 949/1000 [04:35<00:13,  3.87it/s]"
     ]
    },
    {
     "name": "stdout",
     "output_type": "stream",
     "text": [
      "0.017062597\n",
      "0.9999803385411532\n",
      "0.05099999999999916\n"
     ]
    },
    {
     "name": "stderr",
     "output_type": "stream",
     "text": [
      " 95%|██████████████████████████████████████████████████████████████████████████████████▋    | 950/1000 [04:35<00:12,  3.93it/s]"
     ]
    },
    {
     "name": "stdout",
     "output_type": "stream",
     "text": [
      "0.017014278\n",
      "0.9999813216140956\n",
      "0.049999999999999156\n"
     ]
    },
    {
     "name": "stderr",
     "output_type": "stream",
     "text": [
      " 95%|██████████████████████████████████████████████████████████████████████████████████▋    | 951/1000 [04:35<00:11,  4.12it/s]"
     ]
    },
    {
     "name": "stdout",
     "output_type": "stream",
     "text": [
      "0.016954916\n",
      "0.9999822555333908\n",
      "0.048999999999999155\n"
     ]
    },
    {
     "name": "stderr",
     "output_type": "stream",
     "text": [
      " 95%|██████████████████████████████████████████████████████████████████████████████████▊    | 952/1000 [04:35<00:11,  4.18it/s]"
     ]
    },
    {
     "name": "stdout",
     "output_type": "stream",
     "text": [
      "0.016886475\n",
      "0.9999831427567213\n",
      "0.047999999999999154\n"
     ]
    },
    {
     "name": "stderr",
     "output_type": "stream",
     "text": [
      " 95%|██████████████████████████████████████████████████████████████████████████████████▉    | 953/1000 [04:36<00:14,  3.35it/s]"
     ]
    },
    {
     "name": "stdout",
     "output_type": "stream",
     "text": [
      "0.017098075\n",
      "0.9999839856188852\n",
      "0.046999999999999154\n"
     ]
    },
    {
     "name": "stderr",
     "output_type": "stream",
     "text": [
      " 95%|██████████████████████████████████████████████████████████████████████████████████▉    | 954/1000 [04:36<00:12,  3.62it/s]"
     ]
    },
    {
     "name": "stdout",
     "output_type": "stream",
     "text": [
      "0.017177558\n",
      "0.999984786337941\n",
      "0.04599999999999915\n"
     ]
    },
    {
     "name": "stderr",
     "output_type": "stream",
     "text": [
      " 96%|███████████████████████████████████████████████████████████████████████████████████    | 955/1000 [04:36<00:11,  3.82it/s]"
     ]
    },
    {
     "name": "stdout",
     "output_type": "stream",
     "text": [
      "0.017220445\n",
      "0.9999855470210439\n",
      "0.04499999999999915\n"
     ]
    },
    {
     "name": "stderr",
     "output_type": "stream",
     "text": [
      " 96%|███████████████████████████████████████████████████████████████████████████████████▏   | 956/1000 [04:37<00:11,  3.95it/s]"
     ]
    },
    {
     "name": "stdout",
     "output_type": "stream",
     "text": [
      "0.01723275\n",
      "0.9999862696699917\n",
      "0.04399999999999915\n"
     ]
    },
    {
     "name": "stderr",
     "output_type": "stream",
     "text": [
      " 96%|███████████████████████████████████████████████████████████████████████████████████▎   | 957/1000 [04:37<00:10,  3.95it/s]"
     ]
    },
    {
     "name": "stdout",
     "output_type": "stream",
     "text": [
      "0.017219568\n",
      "0.9999869561864921\n",
      "0.04299999999999915\n"
     ]
    },
    {
     "name": "stderr",
     "output_type": "stream",
     "text": [
      " 96%|███████████████████████████████████████████████████████████████████████████████████▎   | 958/1000 [04:37<00:10,  4.02it/s]"
     ]
    },
    {
     "name": "stdout",
     "output_type": "stream",
     "text": [
      "0.017185204\n",
      "0.9999876083771675\n",
      "0.04199999999999915\n"
     ]
    },
    {
     "name": "stderr",
     "output_type": "stream",
     "text": [
      " 96%|███████████████████████████████████████████████████████████████████████████████████▍   | 959/1000 [04:37<00:09,  4.16it/s]"
     ]
    },
    {
     "name": "stdout",
     "output_type": "stream",
     "text": [
      "0.01713331\n",
      "0.9999882279583091\n",
      "0.04099999999999915\n"
     ]
    },
    {
     "name": "stderr",
     "output_type": "stream",
     "text": [
      " 96%|███████████████████████████████████████████████████████████████████████████████████▌   | 960/1000 [04:38<00:09,  4.17it/s]"
     ]
    },
    {
     "name": "stdout",
     "output_type": "stream",
     "text": [
      "0.017066991\n",
      "0.9999888165603936\n",
      "0.03999999999999915\n"
     ]
    },
    {
     "name": "stderr",
     "output_type": "stream",
     "text": [
      " 96%|███████████████████████████████████████████████████████████████████████████████████▌   | 961/1000 [04:38<00:09,  4.19it/s]"
     ]
    },
    {
     "name": "stdout",
     "output_type": "stream",
     "text": [
      "0.016988883\n",
      "0.9999893757323739\n",
      "0.038999999999999146\n"
     ]
    },
    {
     "name": "stderr",
     "output_type": "stream",
     "text": [
      " 96%|███████████████████████████████████████████████████████████████████████████████████▋   | 962/1000 [04:38<00:08,  4.27it/s]"
     ]
    },
    {
     "name": "stdout",
     "output_type": "stream",
     "text": [
      "0.016901227\n",
      "0.9999899069457552\n",
      "0.037999999999999146\n"
     ]
    },
    {
     "name": "stderr",
     "output_type": "stream",
     "text": [
      " 96%|███████████████████████████████████████████████████████████████████████████████████▊   | 963/1000 [04:38<00:08,  4.35it/s]"
     ]
    },
    {
     "name": "stdout",
     "output_type": "stream",
     "text": [
      "0.016805924\n",
      "0.9999904115984675\n",
      "0.036999999999999145\n"
     ]
    },
    {
     "name": "stderr",
     "output_type": "stream",
     "text": [
      " 96%|███████████████████████████████████████████████████████████████████████████████████▊   | 964/1000 [04:38<00:08,  4.22it/s]"
     ]
    },
    {
     "name": "stdout",
     "output_type": "stream",
     "text": [
      "0.016704597\n",
      "0.9999908910185441\n",
      "0.035999999999999144\n"
     ]
    },
    {
     "name": "stderr",
     "output_type": "stream",
     "text": [
      " 96%|███████████████████████████████████████████████████████████████████████████████████▉   | 965/1000 [04:39<00:08,  4.26it/s]"
     ]
    },
    {
     "name": "stdout",
     "output_type": "stream",
     "text": [
      "0.01659862\n",
      "0.9999913464676169\n",
      "0.03499999999999914\n"
     ]
    },
    {
     "name": "stderr",
     "output_type": "stream",
     "text": [
      " 97%|████████████████████████████████████████████████████████████████████████████████████   | 966/1000 [04:39<00:07,  4.32it/s]"
     ]
    },
    {
     "name": "stdout",
     "output_type": "stream",
     "text": [
      "0.016489157\n",
      "0.9999917791442361\n",
      "0.03399999999999914\n"
     ]
    },
    {
     "name": "stderr",
     "output_type": "stream",
     "text": [
      " 97%|████████████████████████████████████████████████████████████████████████████████████▏  | 967/1000 [04:39<00:07,  4.34it/s]"
     ]
    },
    {
     "name": "stdout",
     "output_type": "stream",
     "text": [
      "0.0163772\n",
      "0.9999921901870243\n",
      "0.03299999999999914\n"
     ]
    },
    {
     "name": "stderr",
     "output_type": "stream",
     "text": [
      " 97%|████████████████████████████████████████████████████████████████████████████████████▏  | 968/1000 [04:39<00:07,  4.21it/s]"
     ]
    },
    {
     "name": "stdout",
     "output_type": "stream",
     "text": [
      "0.016263582\n",
      "0.9999925806776732\n",
      "0.03199999999999914\n"
     ]
    },
    {
     "name": "stderr",
     "output_type": "stream",
     "text": [
      " 97%|████████████████████████████████████████████████████████████████████████████████████▎  | 969/1000 [04:40<00:07,  4.14it/s]"
     ]
    },
    {
     "name": "stdout",
     "output_type": "stream",
     "text": [
      "0.016149007\n",
      "0.9999929516437895\n",
      "0.03099999999999914\n"
     ]
    },
    {
     "name": "stderr",
     "output_type": "stream",
     "text": [
      " 97%|████████████████████████████████████████████████████████████████████████████████████▍  | 970/1000 [04:40<00:07,  4.11it/s]"
     ]
    },
    {
     "name": "stdout",
     "output_type": "stream",
     "text": [
      "0.016034069\n",
      "0.9999933040616\n",
      "0.02999999999999914\n"
     ]
    },
    {
     "name": "stderr",
     "output_type": "stream",
     "text": [
      " 97%|████████████████████████████████████████████████████████████████████████████████████▍  | 971/1000 [04:40<00:06,  4.16it/s]"
     ]
    },
    {
     "name": "stdout",
     "output_type": "stream",
     "text": [
      "0.01591926\n",
      "0.99999363885852\n",
      "0.028999999999999138\n"
     ]
    },
    {
     "name": "stderr",
     "output_type": "stream",
     "text": [
      " 97%|████████████████████████████████████████████████████████████████████████████████████▌  | 972/1000 [04:41<00:08,  3.39it/s]"
     ]
    },
    {
     "name": "stdout",
     "output_type": "stream",
     "text": [
      "0.016115228\n",
      "0.999993956915594\n",
      "0.027999999999999137\n"
     ]
    },
    {
     "name": "stderr",
     "output_type": "stream",
     "text": [
      " 97%|████████████████████████████████████████████████████████████████████████████████████▋  | 973/1000 [04:41<00:07,  3.66it/s]"
     ]
    },
    {
     "name": "stdout",
     "output_type": "stream",
     "text": [
      "0.016147899\n",
      "0.9999942590698143\n",
      "0.026999999999999136\n"
     ]
    },
    {
     "name": "stderr",
     "output_type": "stream",
     "text": [
      " 97%|████████████████████████████████████████████████████████████████████████████████████▋  | 974/1000 [04:41<00:06,  3.88it/s]"
     ]
    },
    {
     "name": "stdout",
     "output_type": "stream",
     "text": [
      "0.016153106\n",
      "0.9999945461163237\n",
      "0.025999999999999135\n"
     ]
    },
    {
     "name": "stderr",
     "output_type": "stream",
     "text": [
      " 98%|████████████████████████████████████████████████████████████████████████████████████▊  | 975/1000 [04:41<00:06,  3.77it/s]"
     ]
    },
    {
     "name": "stdout",
     "output_type": "stream",
     "text": [
      "0.01613544\n",
      "0.9999948188105074\n",
      "0.024999999999999134\n"
     ]
    },
    {
     "name": "stderr",
     "output_type": "stream",
     "text": [
      " 98%|████████████████████████████████████████████████████████████████████████████████████▉  | 976/1000 [04:42<00:06,  3.89it/s]"
     ]
    },
    {
     "name": "stdout",
     "output_type": "stream",
     "text": [
      "0.016098788\n",
      "0.9999950778699821\n",
      "0.023999999999999133\n"
     ]
    },
    {
     "name": "stderr",
     "output_type": "stream",
     "text": [
      " 98%|████████████████████████████████████████████████████████████████████████████████████▉  | 977/1000 [04:42<00:05,  3.97it/s]"
     ]
    },
    {
     "name": "stdout",
     "output_type": "stream",
     "text": [
      "0.016046448\n",
      "0.9999953239764829\n",
      "0.022999999999999132\n"
     ]
    },
    {
     "name": "stderr",
     "output_type": "stream",
     "text": [
      " 98%|█████████████████████████████████████████████████████████████████████████████████████  | 978/1000 [04:42<00:05,  4.04it/s]"
     ]
    },
    {
     "name": "stdout",
     "output_type": "stream",
     "text": [
      "0.015981218\n",
      "0.9999955577776588\n",
      "0.02199999999999913\n"
     ]
    },
    {
     "name": "stderr",
     "output_type": "stream",
     "text": [
      " 98%|█████████████████████████████████████████████████████████████████████████████████████▏ | 979/1000 [04:42<00:05,  4.16it/s]"
     ]
    },
    {
     "name": "stdout",
     "output_type": "stream",
     "text": [
      "0.015905475\n",
      "0.9999957798887759\n",
      "0.02099999999999913\n"
     ]
    },
    {
     "name": "stderr",
     "output_type": "stream",
     "text": [
      " 98%|█████████████████████████████████████████████████████████████████████████████████████▎ | 980/1000 [04:42<00:04,  4.28it/s]"
     ]
    },
    {
     "name": "stdout",
     "output_type": "stream",
     "text": [
      "0.01582125\n",
      "0.9999959908943371\n",
      "0.01999999999999913\n"
     ]
    },
    {
     "name": "stderr",
     "output_type": "stream",
     "text": [
      " 98%|█████████████████████████████████████████████████████████████████████████████████████▎ | 981/1000 [04:43<00:04,  4.26it/s]"
     ]
    },
    {
     "name": "stdout",
     "output_type": "stream",
     "text": [
      "0.01573026\n",
      "0.9999961913496203\n",
      "0.01899999999999913\n"
     ]
    },
    {
     "name": "stderr",
     "output_type": "stream",
     "text": [
      " 98%|█████████████████████████████████████████████████████████████████████████████████████▍ | 982/1000 [04:43<00:04,  4.31it/s]"
     ]
    },
    {
     "name": "stdout",
     "output_type": "stream",
     "text": [
      "0.015633961\n",
      "0.9999963817821392\n",
      "0.017999999999999128\n"
     ]
    },
    {
     "name": "stderr",
     "output_type": "stream",
     "text": [
      " 98%|█████████████████████████████████████████████████████████████████████████████████████▌ | 983/1000 [04:43<00:03,  4.43it/s]"
     ]
    },
    {
     "name": "stdout",
     "output_type": "stream",
     "text": [
      "0.015533596\n",
      "0.9999965626930323\n",
      "0.016999999999999127\n"
     ]
    },
    {
     "name": "stderr",
     "output_type": "stream",
     "text": [
      " 98%|█████████████████████████████████████████████████████████████████████████████████████▌ | 984/1000 [04:43<00:03,  4.37it/s]"
     ]
    },
    {
     "name": "stdout",
     "output_type": "stream",
     "text": [
      "0.0154302195\n",
      "0.9999967345583807\n",
      "0.015999999999999126\n"
     ]
    },
    {
     "name": "stderr",
     "output_type": "stream",
     "text": [
      " 98%|█████████████████████████████████████████████████████████████████████████████████████▋ | 985/1000 [04:44<00:03,  4.24it/s]"
     ]
    },
    {
     "name": "stdout",
     "output_type": "stream",
     "text": [
      "0.015324719\n",
      "0.9999968978304616\n",
      "0.014999999999999125\n"
     ]
    },
    {
     "name": "stderr",
     "output_type": "stream",
     "text": [
      " 99%|█████████████████████████████████████████████████████████████████████████████████████▊ | 986/1000 [04:44<00:03,  4.15it/s]"
     ]
    },
    {
     "name": "stdout",
     "output_type": "stream",
     "text": [
      "0.015217846\n",
      "0.9999970529389386\n",
      "0.013999999999999124\n"
     ]
    },
    {
     "name": "stderr",
     "output_type": "stream",
     "text": [
      " 99%|█████████████████████████████████████████████████████████████████████████████████████▊ | 987/1000 [04:44<00:03,  4.15it/s]"
     ]
    },
    {
     "name": "stdout",
     "output_type": "stream",
     "text": [
      "0.015110235\n",
      "0.9999972002919917\n",
      "0.012999999999999123\n"
     ]
    },
    {
     "name": "stderr",
     "output_type": "stream",
     "text": [
      " 99%|█████████████████████████████████████████████████████████████████████████████████████▉ | 988/1000 [04:44<00:02,  4.22it/s]"
     ]
    },
    {
     "name": "stdout",
     "output_type": "stream",
     "text": [
      "0.015002417\n",
      "0.9999973402773921\n",
      "0.011999999999999122\n"
     ]
    },
    {
     "name": "stderr",
     "output_type": "stream",
     "text": [
      " 99%|██████████████████████████████████████████████████████████████████████████████████████ | 989/1000 [04:45<00:02,  4.24it/s]"
     ]
    },
    {
     "name": "stdout",
     "output_type": "stream",
     "text": [
      "0.014894841\n",
      "0.9999974732635225\n",
      "0.010999999999999122\n"
     ]
    },
    {
     "name": "stderr",
     "output_type": "stream",
     "text": [
      " 99%|██████████████████████████████████████████████████████████████████████████████████████▏| 990/1000 [04:45<00:02,  4.27it/s]"
     ]
    },
    {
     "name": "stdout",
     "output_type": "stream",
     "text": [
      "0.0147878695\n",
      "0.9999975996003464\n",
      "0.00999999999999912\n"
     ]
    },
    {
     "name": "stderr",
     "output_type": "stream",
     "text": [
      " 99%|██████████████████████████████████████████████████████████████████████████████████████▏| 991/1000 [04:45<00:02,  4.32it/s]"
     ]
    },
    {
     "name": "stdout",
     "output_type": "stream",
     "text": [
      "0.014681811\n",
      "0.9999977196203291\n",
      "0.00899999999999912\n"
     ]
    },
    {
     "name": "stderr",
     "output_type": "stream",
     "text": [
      " 99%|██████████████████████████████████████████████████████████████████████████████████████▎| 992/1000 [04:45<00:01,  4.39it/s]"
     ]
    },
    {
     "name": "stdout",
     "output_type": "stream",
     "text": [
      "0.014576915\n",
      "0.9999978336393127\n",
      "0.007999999999999119\n"
     ]
    },
    {
     "name": "stderr",
     "output_type": "stream",
     "text": [
      " 99%|██████████████████████████████████████████████████████████████████████████████████████▍| 993/1000 [04:45<00:01,  4.22it/s]"
     ]
    },
    {
     "name": "stdout",
     "output_type": "stream",
     "text": [
      "0.014473383\n",
      "0.999997941957347\n",
      "0.006999999999999119\n"
     ]
    },
    {
     "name": "stderr",
     "output_type": "stream",
     "text": [
      " 99%|██████████████████████████████████████████████████████████████████████████████████████▍| 994/1000 [04:46<00:01,  4.14it/s]"
     ]
    },
    {
     "name": "stdout",
     "output_type": "stream",
     "text": [
      "0.014371373\n",
      "0.9999980448594797\n",
      "0.005999999999999119\n"
     ]
    },
    {
     "name": "stderr",
     "output_type": "stream",
     "text": [
      "100%|██████████████████████████████████████████████████████████████████████████████████████▌| 995/1000 [04:46<00:01,  4.14it/s]"
     ]
    },
    {
     "name": "stdout",
     "output_type": "stream",
     "text": [
      "0.014271014\n",
      "0.9999981426165058\n",
      "0.004999999999999119\n"
     ]
    },
    {
     "name": "stderr",
     "output_type": "stream",
     "text": [
      "100%|██████████████████████████████████████████████████████████████████████████████████████▋| 996/1000 [04:46<00:00,  4.07it/s]"
     ]
    },
    {
     "name": "stdout",
     "output_type": "stream",
     "text": [
      "0.014172404\n",
      "0.9999982354856805\n",
      "0.003999999999999119\n"
     ]
    },
    {
     "name": "stderr",
     "output_type": "stream",
     "text": [
      "100%|██████████████████████████████████████████████████████████████████████████████████████▋| 997/1000 [04:46<00:00,  4.16it/s]"
     ]
    },
    {
     "name": "stdout",
     "output_type": "stream",
     "text": [
      "0.01407561\n",
      "0.9999983237113964\n",
      "0.002999999999999119\n"
     ]
    },
    {
     "name": "stderr",
     "output_type": "stream",
     "text": [
      "100%|██████████████████████████████████████████████████████████████████████████████████████▊| 998/1000 [04:47<00:00,  4.30it/s]"
     ]
    },
    {
     "name": "stdout",
     "output_type": "stream",
     "text": [
      "0.013980683\n",
      "0.9999984075258266\n",
      "0.001999999999999119\n"
     ]
    },
    {
     "name": "stderr",
     "output_type": "stream",
     "text": [
      "100%|██████████████████████████████████████████████████████████████████████████████████████▉| 999/1000 [04:47<00:00,  4.28it/s]"
     ]
    },
    {
     "name": "stdout",
     "output_type": "stream",
     "text": [
      "0.013887653\n",
      "0.9999984871495352\n",
      "0.0009999999999991188\n"
     ]
    },
    {
     "name": "stderr",
     "output_type": "stream",
     "text": [
      "100%|██████████████████████████████████████████████████████████████████████████████████████| 1000/1000 [04:47<00:00,  3.48it/s]"
     ]
    },
    {
     "name": "stdout",
     "output_type": "stream",
     "text": [
      "0.013796538\n",
      "0.9999985627920585\n",
      "-8.81239525796218e-16\n"
     ]
    },
    {
     "name": "stderr",
     "output_type": "stream",
     "text": [
      "\n"
     ]
    }
   ],
   "source": [
    "(losses, scoress, epsilons) = episodic_semigradient_sarsa(\n",
    "    env,\n",
    "    linear_Q_model\n",
    ")"
   ]
  },
  {
   "cell_type": "code",
   "execution_count": 52,
   "metadata": {},
   "outputs": [
    {
     "data": {
      "image/png": "[encoded data removed]",
      "text/plain": [
       "<Figure size 640x480 with 1 Axes>"
      ]
     },
     "metadata": {},
     "output_type": "display_data"
    }
   ],
   "source": [
    "plt.plot(np.arange(len(losses)), losses)\n",
    "plt.show()"
   ]
  },
  {
   "cell_type": "code",
   "execution_count": 53,
   "metadata": {},
   "outputs": [
    {
     "data": {
      "image/png": "[encoded data removed]",
      "text/plain": [
       "<Figure size 640x480 with 1 Axes>"
      ]
     },
     "metadata": {},
     "output_type": "display_data"
    }
   ],
   "source": [
    "plt.plot(np.arange(len(scoress)), scoress)\n",
    "plt.show()"
   ]
  },
  {
   "cell_type": "code",
   "execution_count": 54,
   "metadata": {},
   "outputs": [
    {
     "data": {
      "image/png": "[encoded data removed]",
      "text/plain": [
       "<Figure size 640x480 with 1 Axes>"
      ]
     },
     "metadata": {},
     "output_type": "display_data"
    }
   ],
   "source": [
    "plt.plot(np.arange(len(epsilons)), epsilons)\n",
    "plt.show()"
   ]
  },
  {
   "cell_type": "code",
   "execution_count": 62,
   "metadata": {},
   "outputs": [
    {
     "name": "stdout",
     "output_type": "stream",
     "text": [
      "\u001b[1m1/1\u001b[0m \u001b[32m━━━━━━━━━━━━━━━━━━━━\u001b[0m\u001b[37m\u001b[0m \u001b[1m0s\u001b[0m 38ms/step\n"
     ]
    },
    {
     "data": {
      "text/plain": [
       "array([[1.1273165]], dtype=float32)"
      ]
     },
     "execution_count": 62,
     "metadata": {},
     "output_type": "execute_result"
    }
   ],
   "source": [
    "linear_Q_model.predict([\n",
    "    np.array([0.80]),\n",
    "    np.array([keras.utils.to_categorical(1, 2)]),\n",
    "])"
   ]
  },
  {
   "cell_type": "code",
   "execution_count": null,
   "metadata": {},
   "outputs": [],
   "source": []
  }
 ],
 "metadata": {
  "colab": {
   "provenance": []
  },
  "kernelspec": {
   "display_name": "Python 3 (ipykernel)",
   "language": "python",
   "name": "python3"
  },
  "language_info": {
   "codemirror_mode": {
    "name": "ipython",
    "version": 3
   },
   "file_extension": ".py",
   "mimetype": "text/x-python",
   "name": "python",
   "nbconvert_exporter": "python",
   "pygments_lexer": "ipython3",
   "version": "3.12.9"
  }
 },
 "nbformat": 4,
 "nbformat_minor": 4
}
