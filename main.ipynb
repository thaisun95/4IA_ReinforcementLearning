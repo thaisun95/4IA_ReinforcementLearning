{
 "cells": [
  {
   "cell_type": "code",
   "execution_count": null,
   "id": "505bd417",
   "metadata": {
    "pycharm": {
     "is_executing": true
    }
   },
   "outputs": [],
   "source": [
    "from envs.line_world.line_world import LineWorld\n",
    "from rl_algorithms.dp.value_iteration import value_iteration\n",
    "from rl_algorithms.dp.policy_iteration import policy_iteration"
   ]
  },
  {
   "cell_type": "code",
   "execution_count": null,
   "id": "be6be429",
   "metadata": {},
   "outputs": [],
   "source": [
    "env = LineWorld()\n",
    "\n",
    "V_vi, policy_vi = value_iteration(env)\n",
    "print(\"Value Iteration: V =\", V_vi)\n",
    "print(\"Value Iteration: Policy =\", policy_vi)\n",
    "\n",
    "policy_pi, V_pi = policy_iteration(env)\n",
    "print(\"Policy Iteration: Policy =\", policy_pi)\n",
    "print(\"Policy Iteration: V =\", V_pi)"
   ]
  },
  {
   "cell_type": "code",
   "execution_count": null,
   "id": "8eda9c93",
   "metadata": {},
   "outputs": [],
   "source": []
  }
 ],
 "metadata": {
  "kernelspec": {
   "display_name": "Python 3",
   "language": "python",
   "name": "python3"
  },
  "language_info": {
   "codemirror_mode": {
    "name": "ipython",
    "version": 3
   },
   "file_extension": ".py",
   "mimetype": "text/x-python",
   "name": "python",
   "nbconvert_exporter": "python",
   "pygments_lexer": "ipython3",
   "version": "3.11.9"
  }
 },
 "nbformat": 4,
 "nbformat_minor": 5
}
