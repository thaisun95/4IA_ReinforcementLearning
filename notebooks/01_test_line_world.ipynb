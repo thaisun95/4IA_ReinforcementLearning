{
 "cells": [
  {
   "cell_type": "code",
   "execution_count": 13,
   "metadata": {
    "collapsed": true
   },
   "outputs": [
    {
     "name": "stdout",
     "output_type": "stream",
     "text": [
      "Value iteration converged after 8 iterations.\n",
      "Policy iteration converged after 3 iterations.\n",
      "\n",
      "Value Iteration: Value Function = [0.99 1.   1.   1.   0.   0.   0.  ]\n",
      "Value Iteration: Policy = [ 0  1  2  0 -1 -1 -1]\n",
      "\n",
      "Policy Iteration: Policy = [ 0  1  2  0 -1 -1 -1]\n",
      "Policy Iteration: Value Function = [-0.01  1.    1.    1.    0.    0.    0.  ]\n"
     ]
    }
   ],
   "source": [
    "from envs.rps.two_round_rps import TwoRoundRPS\n",
    "from rl_algorithms.dp.value_iteration import value_iteration\n",
    "from rl_algorithms.dp.policy_iteration import policy_iteration\n",
    "\n",
    "env = TwoRoundRPS()\n",
    "V, policy = value_iteration(env)\n",
    "policy_pi, V_pi = policy_iteration(env)\n",
    "\n",
    "print(\"\\nValue Iteration: Value Function =\", V)\n",
    "print(\"Value Iteration: Policy =\", policy)\n",
    "print(\"\\nPolicy Iteration: Policy =\", policy_pi)\n",
    "print(\"Policy Iteration: Value Function =\", V_pi)"
   ]
  },
  {
   "cell_type": "code",
   "execution_count": null,
   "metadata": {},
   "outputs": [],
   "source": []
  },
  {
   "cell_type": "code",
   "execution_count": null,
   "metadata": {},
   "outputs": [],
   "source": []
  }
 ],
 "metadata": {
  "kernelspec": {
   "display_name": "Python 3",
   "language": "python",
   "name": "python3"
  },
  "language_info": {
   "codemirror_mode": {
    "name": "ipython",
    "version": 3
   },
   "file_extension": ".py",
   "mimetype": "text/x-python",
   "name": "python",
   "nbconvert_exporter": "python",
   "pygments_lexer": "ipython3",
   "version": "3.11.9"
  }
 },
 "nbformat": 4,
 "nbformat_minor": 0
}
