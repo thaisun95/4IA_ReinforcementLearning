{
 "cells": [
  {
   "cell_type": "code",
   "execution_count": 1,
   "id": "ad9fa60f",
   "metadata": {},
   "outputs": [
    {
     "name": "stdout",
     "output_type": "stream",
     "text": [
      "Valid episodes (terminated): 5000/5000\n",
      "Mean final reward: 0.9906\n",
      "Std of final rewards: 0.2203\n",
      "Valid episodes (terminated): 5000/5000\n",
      "Mean final reward: 5.5258\n",
      "Std of final rewards: 1.9789\n",
      "Valid episodes (terminated): 5000/5000\n",
      "Mean final reward: -3.3698\n",
      "Std of final rewards: 1.9371\n"
     ]
    }
   ],
   "source": [
    "import sys\n",
    "import os\n",
    "import numpy as np\n",
    "sys.path.append(os.path.abspath(\"..\"))\n",
    "\n",
    "from rl_algorithms.mc_algorithms_secret.mc_es import mc_es_blackbox\n",
    "from rl_algorithms.mc_algorithms_secret.mc_on_policy import mc_on_policy_blackbox\n",
    "from rl_algorithms.mc_algorithms_secret.mc_off_policy import mc_off_policy_blackbox\n",
    "\n",
    "from envs.secret.secret_envs_wrapper import SecretEnv0\n",
    "\n",
    "env = SecretEnv0()\n",
    "\n",
    "Q_es, policy_es, rewards_es = mc_es_blackbox(env, num_episodes=5000, gamma=0.99, verbose=True)\n",
    "Q_on, policy_on, rewards_on = mc_on_policy_blackbox(env, num_episodes=5000, gamma=0.99, epsilon=0.1, verbose=True)\n",
    "Q_off, policy_off, rewards_off = mc_off_policy_blackbox(env, num_episodes=5000, gamma=0.99, verbose=True)"
   ]
  },
  {
   "cell_type": "code",
   "execution_count": null,
   "id": "877c030b",
   "metadata": {},
   "outputs": [],
   "source": []
  }
 ],
 "metadata": {
  "kernelspec": {
   "display_name": "Python 3",
   "language": "python",
   "name": "python3"
  },
  "language_info": {
   "codemirror_mode": {
    "name": "ipython",
    "version": 3
   },
   "file_extension": ".py",
   "mimetype": "text/x-python",
   "name": "python",
   "nbconvert_exporter": "python",
   "pygments_lexer": "ipython3",
   "version": "3.10.11"
  }
 },
 "nbformat": 4,
 "nbformat_minor": 5
}
