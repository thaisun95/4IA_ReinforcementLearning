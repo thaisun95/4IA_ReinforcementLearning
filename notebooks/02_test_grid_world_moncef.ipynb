{
 "cells": [
  {
   "cell_type": "code",
   "execution_count": 1,
   "id": "8c4ae896",
   "metadata": {},
   "outputs": [],
   "source": [
    "import sys\n",
    "import os\n",
    "sys.path.append(os.path.abspath(\"..\"))\n",
    "\n",
    "import numpy as np\n",
    "import matplotlib.pyplot as plt\n",
    "from envs.grid_world.grid_world import GridWorld\n",
    "from rl_algorithms.sarsa import sarsa, get_policy_from_q, evaluate_policy"
   ]
  },
  {
   "cell_type": "code",
   "execution_count": 2,
   "id": "def617ba",
   "metadata": {},
   "outputs": [
    {
     "name": "stdout",
     "output_type": "stream",
     "text": [
      "A . . .\n",
      ". . . .\n",
      ". . . .\n",
      ". . . T\n",
      "\n"
     ]
    }
   ],
   "source": [
    "env = GridWorld(n_rows=4, n_cols=4, start_state=(0,0))\n",
    "env.render()\n"
   ]
  },
  {
   "cell_type": "code",
   "execution_count": 3,
   "id": "ef0e3224",
   "metadata": {},
   "outputs": [
    {
     "name": "stdout",
     "output_type": "stream",
     "text": [
      "Episode 100, Avg Reward (last 100): -12.930, Epsilon: 0.061\n",
      "Episode 200, Avg Reward (last 100): -6.360, Epsilon: 0.037\n",
      "Episode 300, Avg Reward (last 100): -5.430, Epsilon: 0.022\n",
      "Episode 400, Avg Reward (last 100): -5.250, Epsilon: 0.013\n",
      "Episode 500, Avg Reward (last 100): -5.030, Epsilon: 0.010\n",
      "Episode 600, Avg Reward (last 100): -5.090, Epsilon: 0.010\n",
      "Episode 700, Avg Reward (last 100): -5.010, Epsilon: 0.010\n",
      "Episode 800, Avg Reward (last 100): -5.000, Epsilon: 0.010\n",
      "Episode 900, Avg Reward (last 100): -5.030, Epsilon: 0.010\n",
      "Episode 1000, Avg Reward (last 100): -5.080, Epsilon: 0.010\n"
     ]
    }
   ],
   "source": [
    "Q, rewards, lengths = sarsa(env, episodes=1000, alpha=0.1, gamma=0.99, epsilon=0.1)"
   ]
  },
  {
   "cell_type": "code",
   "execution_count": 4,
   "id": "a0b93dc9",
   "metadata": {},
   "outputs": [
    {
     "data": {
      "image/png": "[encoded data removed]",
      "text/plain": [
       "<Figure size 432x288 with 1 Axes>"
      ]
     },
     "metadata": {
      "needs_background": "light"
     },
     "output_type": "display_data"
    }
   ],
   "source": [
    "plt.plot(rewards)\n",
    "plt.xlabel('Episode')\n",
    "plt.ylabel('Total Reward')\n",
    "plt.title('Récompense totale par épisode (SARSA sur Grid World)')\n",
    "plt.show()"
   ]
  },
  {
   "cell_type": "code",
   "execution_count": 5,
   "id": "491744cc",
   "metadata": {},
   "outputs": [
    {
     "name": "stdout",
     "output_type": "stream",
     "text": [
      "Policy visualization:\n",
      "→ → ↓ ←\n",
      "↓ ↓ ↓ ↓\n",
      "↓ → → ↓\n",
      "→ → → X\n",
      "\n"
     ]
    }
   ],
   "source": [
    "policy = get_policy_from_q(Q, env)\n",
    "env.render_policy(policy)"
   ]
  },
  {
   "cell_type": "code",
   "execution_count": 6,
   "id": "fd7d2104",
   "metadata": {},
   "outputs": [
    {
     "name": "stdout",
     "output_type": "stream",
     "text": [
      "Reward moyen sur 100 épisodes: -5.00\n",
      "Longueur moyenne des épisodes: 6.00\n"
     ]
    }
   ],
   "source": [
    "avg_reward, avg_length = evaluate_policy(env, policy)\n",
    "print(f'Reward moyen sur 100 épisodes: {avg_reward:.2f}')\n",
    "print(f'Longueur moyenne des épisodes: {avg_length:.2f}')"
   ]
  }
 ],
 "metadata": {
  "kernelspec": {
   "display_name": "Python 3",
   "language": "python",
   "name": "python3"
  },
  "language_info": {
   "codemirror_mode": {
    "name": "ipython",
    "version": 3
   },
   "file_extension": ".py",
   "mimetype": "text/x-python",
   "name": "python",
   "nbconvert_exporter": "python",
   "pygments_lexer": "ipython3",
   "version": "3.9.0"
  }
 },
 "nbformat": 4,
 "nbformat_minor": 5
}
