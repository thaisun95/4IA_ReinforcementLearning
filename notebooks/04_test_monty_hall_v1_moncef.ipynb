{
 "cells": [
  {
   "cell_type": "code",
   "execution_count": 1,
   "id": "460e989d",
   "metadata": {},
   "outputs": [],
   "source": [
    "import sys\n",
    "import os\n",
    "sys.path.append(os.path.abspath(\"..\"))\n",
    "\n",
    "import numpy as np\n",
    "import matplotlib.pyplot as plt\n",
    "from envs.monty_hall.monty_hall_v1 import MontyHallV1\n",
    "from rl_algorithms.sarsa import sarsa, get_policy_from_q, evaluate_policy"
   ]
  },
  {
   "cell_type": "code",
   "execution_count": 2,
   "id": "e4405ab2",
   "metadata": {},
   "outputs": [
    {
     "name": "stdout",
     "output_type": "stream",
     "text": [
      "[0, 1, 2]\n",
      "Step 1: Choose a door (0, 1, 2)\n",
      "\n"
     ]
    }
   ],
   "source": [
    "env = MontyHallV1()\n",
    "print(env.action_space)  # Doit afficher [0, 1, 2]\n",
    "env.render()"
   ]
  },
  {
   "cell_type": "code",
   "execution_count": 3,
   "id": "c1a8d1d8",
   "metadata": {},
   "outputs": [
    {
     "name": "stdout",
     "output_type": "stream",
     "text": [
      "Episode 100, Avg Reward (last 100): 0.470, Epsilon: 0.061\n",
      "Episode 200, Avg Reward (last 100): 0.520, Epsilon: 0.037\n",
      "Episode 300, Avg Reward (last 100): 0.490, Epsilon: 0.022\n",
      "Episode 400, Avg Reward (last 100): 0.540, Epsilon: 0.013\n",
      "Episode 500, Avg Reward (last 100): 0.690, Epsilon: 0.010\n",
      "Episode 600, Avg Reward (last 100): 0.600, Epsilon: 0.010\n",
      "Episode 700, Avg Reward (last 100): 0.720, Epsilon: 0.010\n",
      "Episode 800, Avg Reward (last 100): 0.630, Epsilon: 0.010\n",
      "Episode 900, Avg Reward (last 100): 0.680, Epsilon: 0.010\n",
      "Episode 1000, Avg Reward (last 100): 0.680, Epsilon: 0.010\n"
     ]
    }
   ],
   "source": [
    "Q, rewards, lengths = sarsa(env, episodes=1000, alpha=0.1, gamma=0.99, epsilon=0.1)"
   ]
  },
  {
   "cell_type": "code",
   "execution_count": 4,
   "id": "a1facde7",
   "metadata": {},
   "outputs": [
    {
     "name": "stdout",
     "output_type": "stream",
     "text": [
      "Politique optimale (0=stay, 1=switch, -1=terminal): [ 1  1  1  1  1  1  1 -1 -1 -1]\n"
     ]
    }
   ],
   "source": [
    "   policy = get_policy_from_q(Q, env)\n",
    "   print('Politique optimale (0=stay, 1=switch, -1=terminal):', policy)"
   ]
  },
  {
   "cell_type": "code",
   "execution_count": 5,
   "id": "1fb72b13",
   "metadata": {},
   "outputs": [
    {
     "name": "stdout",
     "output_type": "stream",
     "text": [
      "Reward moyen sur 100 épisodes: 0.67\n",
      "Longueur moyenne des épisodes: 2.00\n"
     ]
    }
   ],
   "source": [
    "   avg_reward, avg_length = evaluate_policy(env, policy)\n",
    "   print(f'Reward moyen sur 100 épisodes: {avg_reward:.2f}')\n",
    "   print(f'Longueur moyenne des épisodes: {avg_length:.2f}')"
   ]
  },
  {
   "cell_type": "code",
   "execution_count": 6,
   "id": "63094239",
   "metadata": {},
   "outputs": [
    {
     "name": "stdout",
     "output_type": "stream",
     "text": [
      "Reward moyen sur 100 épisodes: 0.70\n",
      "Longueur moyenne des épisodes: 2.00\n"
     ]
    }
   ],
   "source": [
    "   avg_reward, avg_length = evaluate_policy(env, policy)\n",
    "   print(f'Reward moyen sur 100 épisodes: {avg_reward:.2f}')\n",
    "   print(f'Longueur moyenne des épisodes: {avg_length:.2f}')"
   ]
  },
  {
   "cell_type": "code",
   "execution_count": 7,
   "id": "4ca1fbdd",
   "metadata": {},
   "outputs": [
    {
     "data": {
      "image/png": "[encoded data removed]",
      "text/plain": [
       "<Figure size 432x288 with 1 Axes>"
      ]
     },
     "metadata": {
      "needs_background": "light"
     },
     "output_type": "display_data"
    }
   ],
   "source": [
    "   import matplotlib.pyplot as plt\n",
    "   plt.plot(rewards)\n",
    "   plt.xlabel('Episode')\n",
    "   plt.ylabel('Total Reward')\n",
    "   plt.title('Récompense totale par épisode (SARSA sur Monty Hall v1)')\n",
    "   plt.show()"
   ]
  }
 ],
 "metadata": {
  "kernelspec": {
   "display_name": "Python 3",
   "language": "python",
   "name": "python3"
  },
  "language_info": {
   "codemirror_mode": {
    "name": "ipython",
    "version": 3
   },
   "file_extension": ".py",
   "mimetype": "text/x-python",
   "name": "python",
   "nbconvert_exporter": "python",
   "pygments_lexer": "ipython3",
   "version": "3.9.0"
  }
 },
 "nbformat": 4,
 "nbformat_minor": 5
}
