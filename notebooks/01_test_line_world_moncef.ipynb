{
 "cells": [
  {
   "cell_type": "code",
   "execution_count": null,
   "id": "f6f055f4",
   "metadata": {},
   "outputs": [],
   "source": [
    "import sys\n",
    "import os\n",
    "sys.path.append(os.path.abspath(\"..\"))"
   ]
  },
  {
   "cell_type": "code",
   "execution_count": null,
   "id": "49b98d49",
   "metadata": {},
   "outputs": [],
   "source": [
    "import numpy as np\n",
    "import matplotlib.pyplot as plt\n",
    "from envs.line_world.line_world import LineWorld\n",
    "from rl_algorithms.sarsa import sarsa, get_policy_from_q, evaluate_policy"
   ]
  },
  {
   "cell_type": "code",
   "execution_count": 21,
   "id": "a13e28fb",
   "metadata": {},
   "outputs": [
    {
     "name": "stdout",
     "output_type": "stream",
     "text": [
      "T _ A _ T\n"
     ]
    }
   ],
   "source": [
    "env = LineWorld(size=5, start_state=2)\n",
    "env.render()"
   ]
  },
  {
   "cell_type": "code",
   "execution_count": 22,
   "id": "1c3a78cb",
   "metadata": {},
   "outputs": [
    {
     "name": "stdout",
     "output_type": "stream",
     "text": [
      "Episode 100, Avg Reward (last 100): 0.960, Epsilon: 0.061\n",
      "Episode 200, Avg Reward (last 100): 1.000, Epsilon: 0.037\n",
      "Episode 300, Avg Reward (last 100): 1.000, Epsilon: 0.022\n",
      "Episode 400, Avg Reward (last 100): 1.000, Epsilon: 0.013\n",
      "Episode 500, Avg Reward (last 100): 1.000, Epsilon: 0.010\n"
     ]
    }
   ],
   "source": [
    "Q, rewards, lengths = sarsa(env, episodes=500, alpha=0.1, gamma=0.99, epsilon=0.1)"
   ]
  },
  {
   "cell_type": "code",
   "execution_count": 23,
   "id": "f60f72eb",
   "metadata": {},
   "outputs": [
    {
     "name": "stdout",
     "output_type": "stream",
     "text": [
      "Episode 100, Avg Reward (last 100): 0.960, Epsilon: 0.061\n",
      "Episode 200, Avg Reward (last 100): 1.000, Epsilon: 0.037\n",
      "Episode 300, Avg Reward (last 100): 1.000, Epsilon: 0.022\n",
      "Episode 400, Avg Reward (last 100): 1.000, Epsilon: 0.013\n",
      "Episode 500, Avg Reward (last 100): 1.000, Epsilon: 0.010\n"
     ]
    }
   ],
   "source": [
    "Q, rewards, lengths = sarsa(env, episodes=500, alpha=0.1, gamma=0.99, epsilon=0.1)"
   ]
  },
  {
   "cell_type": "code",
   "execution_count": 24,
   "id": "61b4732c",
   "metadata": {},
   "outputs": [
    {
     "name": "stdout",
     "output_type": "stream",
     "text": [
      "Episode 100, Avg Reward (last 100): 0.960, Epsilon: 0.061\n",
      "Episode 200, Avg Reward (last 100): 1.000, Epsilon: 0.037\n",
      "Episode 300, Avg Reward (last 100): 1.000, Epsilon: 0.022\n",
      "Episode 400, Avg Reward (last 100): 1.000, Epsilon: 0.013\n",
      "Episode 500, Avg Reward (last 100): 1.000, Epsilon: 0.010\n"
     ]
    }
   ],
   "source": [
    "Q, rewards, lengths = sarsa(env, episodes=500, alpha=0.1, gamma=0.99, epsilon=0.1)"
   ]
  },
  {
   "cell_type": "code",
   "execution_count": 25,
   "id": "17d97c41",
   "metadata": {},
   "outputs": [
    {
     "data": {
      "image/png": "[encoded data removed]",
      "text/plain": [
       "<Figure size 432x288 with 1 Axes>"
      ]
     },
     "metadata": {
      "needs_background": "light"
     },
     "output_type": "display_data"
    }
   ],
   "source": [
    "plt.plot(rewards)\n",
    "plt.xlabel('Episode')\n",
    "plt.ylabel('Total Reward')\n",
    "plt.title('Récompense totale par épisode (SARSA sur Line World)')\n",
    "plt.show()"
   ]
  },
  {
   "cell_type": "code",
   "execution_count": 26,
   "id": "4980f9da",
   "metadata": {},
   "outputs": [
    {
     "name": "stdout",
     "output_type": "stream",
     "text": [
      "Politique optimale (0=left, 1=right, -1=terminal): [-1  1  1  1 -1]\n"
     ]
    }
   ],
   "source": [
    "policy = get_policy_from_q(Q, env)\n",
    "print('Politique optimale (0=left, 1=right, -1=terminal):', policy)"
   ]
  },
  {
   "cell_type": "code",
   "execution_count": 27,
   "id": "86c5a6a3",
   "metadata": {},
   "outputs": [
    {
     "name": "stdout",
     "output_type": "stream",
     "text": [
      "Reward moyen sur 100 épisodes: 1.00\n",
      "Longueur moyenne des épisodes: 2.00\n"
     ]
    }
   ],
   "source": [
    "avg_reward, avg_length = evaluate_policy(env, policy)\n",
    "print(f'Reward moyen sur 100 épisodes: {avg_reward:.2f}')\n",
    "print(f'Longueur moyenne des épisodes: {avg_length:.2f}')"
   ]
  }
 ],
 "metadata": {
  "language_info": {
   "name": "python"
  }
 },
 "nbformat": 4,
 "nbformat_minor": 5
}
