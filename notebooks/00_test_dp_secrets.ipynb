{
 "cells": [
  {
   "cell_type": "code",
   "execution_count": null,
   "id": "08ed5a1d",
   "metadata": {},
   "outputs": [
    {
     "name": "stdout",
     "output_type": "stream",
     "text": [
      "Policy iteration round 1 done\n",
      "Policy iteration round 2 done\n",
      "Policy iteration round 3 done\n",
      "Policy converged after 3 rounds.\n",
      "Policy shape: (8192,)\n",
      "Value function (V) sample: [-4.2901458  0.         0.         0.         0.         0.\n",
      "  0.         0.         0.         0.       ]\n"
     ]
    }
   ],
   "source": [
    "import sys\n",
    "import os\n",
    "import numpy as np\n",
    "sys.path.append(os.path.abspath(\"..\"))\n",
    "\n",
    "from envs.secret.secret_envs_wrapper import SecretEnv0, SecretEnv1, SecretEnv2, SecretEnv3\n",
    "from rl_algorithms.dp_algorithms_secret.policy_iteration import policy_iteration_blackbox\n",
    "# Exemple pour SecretEnv0\n",
    "env = SecretEnv0()\n",
    "policy, V = policy_iteration_blackbox(env, gamma=0.99, num_episodes=5000, max_iterations=20, verbose=True)\n",
    "print(\"Policy shape:\", policy.shape)\n",
    "print(\"Value function (V) sample:\", V[:10])"
   ]
  },
  {
   "cell_type": "code",
   "execution_count": 4,
   "id": "f71a2a80",
   "metadata": {},
   "outputs": [
    {
     "name": "stdout",
     "output_type": "stream",
     "text": [
      "Policy iteration round 1 done\n",
      "Policy iteration round 2 done\n",
      "Policy iteration round 3 done\n",
      "Policy converged after 3 rounds.\n",
      "=== SecretEnv1 ===\n",
      "Policy shape: (65536,)\n",
      "Value function (V) sample: [-2.4137991  0.         0.         0.         0.         0.\n",
      "  0.         0.         0.         0.       ]\n"
     ]
    }
   ],
   "source": [
    "from envs.secret.secret_envs_wrapper import SecretEnv1\n",
    "from rl_algorithms.dp_algorithms_secret.policy_iteration import policy_iteration_blackbox\n",
    "\n",
    "env = SecretEnv1()\n",
    "policy, V = policy_iteration_blackbox(env, gamma=0.99, num_episodes=5000, max_iterations=20, verbose=True)\n",
    "print(\"=== SecretEnv1 ===\")\n",
    "print(\"Policy shape:\", policy.shape)\n",
    "print(\"Value function (V) sample:\", V[:10])\n"
   ]
  },
  {
   "cell_type": "code",
   "execution_count": null,
   "id": "c93c06c7",
   "metadata": {},
   "outputs": [],
   "source": [
    "from envs.secret.secret_envs_wrapper import SecretEnv2\n",
    "from rl_algorithms.dp_algorithms_secret.policy_iteration import policy_iteration_blackbox\n",
    "\n",
    "env = SecretEnv2()\n",
    "policy, V = policy_iteration_blackbox(env, gamma=0.99, num_episodes=5000, max_iterations=20, verbose=True)\n",
    "print(\"=== SecretEnv2 ===\")\n",
    "print(\"Policy shape:\", policy.shape)\n",
    "print(\"Value function (V) sample:\", V[:10])"
   ]
  },
  {
   "cell_type": "code",
   "execution_count": null,
   "id": "5f91134b",
   "metadata": {},
   "outputs": [],
   "source": [
    "from envs.secret.secret_envs_wrapper import SecretEnv3\n",
    "from rl_algorithms.dp_algorithms_secret.policy_iteration import policy_iteration_blackbox\n",
    "\n",
    "env = SecretEnv3()\n",
    "policy, V = policy_iteration_blackbox(env, gamma=0.99, num_episodes=5000, max_iterations=20, verbose=True)\n",
    "print(\"=== SecretEnv3 ===\")\n",
    "print(\"Policy shape:\", policy.shape)\n",
    "print(\"Value function (V) sample:\", V[:10])\n"
   ]
  }
 ],
 "metadata": {
  "kernelspec": {
   "display_name": "Python 3",
   "language": "python",
   "name": "python3"
  },
  "language_info": {
   "codemirror_mode": {
    "name": "ipython",
    "version": 3
   },
   "file_extension": ".py",
   "mimetype": "text/x-python",
   "name": "python",
   "nbconvert_exporter": "python",
   "pygments_lexer": "ipython3",
   "version": "3.10.11"
  }
 },
 "nbformat": 4,
 "nbformat_minor": 5
}
