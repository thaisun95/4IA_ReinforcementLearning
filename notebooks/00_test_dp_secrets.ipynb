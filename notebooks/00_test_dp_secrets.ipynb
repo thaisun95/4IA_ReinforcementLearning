{
 "cells": [
  {
   "cell_type": "code",
   "execution_count": 1,
   "id": "08ed5a1d",
   "metadata": {},
   "outputs": [
    {
     "name": "stdout",
     "output_type": "stream",
     "text": [
      "Policy iteration round 1 done\n",
      "Policy iteration round 2 done\n",
      "Policy iteration round 3 done\n",
      "Policy iteration round 4 done\n",
      "Policy converged after 4 rounds.\n",
      "Policy shape: (8192,)\n",
      "Value function (V) sample: [-4.2901458  0.         0.         0.         0.         0.\n",
      "  0.         0.         0.         0.       ]\n"
     ]
    }
   ],
   "source": [
    "import sys\n",
    "import os\n",
    "import numpy as np\n",
    "sys.path.append(os.path.abspath(\"..\"))\n",
    "\n",
    "from envs.secret.secret_envs_wrapper import SecretEnv0, SecretEnv1, SecretEnv2, SecretEnv3\n",
    "from rl_algorithms.dp_algorithms_secret.policy_iteration import policy_iteration_blackbox\n",
    "# Exemple pour SecretEnv0\n",
    "env = SecretEnv0()\n",
    "policy, V = policy_iteration_blackbox(env, gamma=0.99, num_episodes=5000, max_iterations=20, verbose=True)\n",
    "print(\"Policy shape:\", policy.shape)\n",
    "print(\"Value function (V) sample:\", V[:10])"
   ]
  },
  {
   "cell_type": "code",
   "execution_count": 2,
   "id": "f71a2a80",
   "metadata": {},
   "outputs": [
    {
     "name": "stdout",
     "output_type": "stream",
     "text": [
      "Policy iteration round 1 done\n",
      "Policy iteration round 2 done\n",
      "Policy iteration round 3 done\n",
      "Policy iteration round 4 done\n",
      "Policy converged after 4 rounds.\n",
      "=== SecretEnv1 ===\n",
      "Policy shape: (65536,)\n",
      "Value function (V) sample: [-2.4137991  0.         0.         0.         0.         0.\n",
      "  0.         0.         0.         0.       ]\n"
     ]
    }
   ],
   "source": [
    "from envs.secret.secret_envs_wrapper import SecretEnv1\n",
    "from rl_algorithms.dp_algorithms_secret.policy_iteration import policy_iteration_blackbox\n",
    "\n",
    "env = SecretEnv1()\n",
    "policy, V = policy_iteration_blackbox(env, gamma=0.99, num_episodes=5000, max_iterations=20, verbose=True)\n",
    "print(\"=== SecretEnv1 ===\")\n",
    "print(\"Policy shape:\", policy.shape)\n",
    "print(\"Value function (V) sample:\", V[:10])\n"
   ]
  },
  {
   "cell_type": "code",
   "execution_count": null,
   "id": "c93c06c7",
   "metadata": {},
   "outputs": [],
   "source": [
    "from envs.secret.secret_envs_wrapper import SecretEnv2\n",
    "from rl_algorithms.dp_algorithms_secret.policy_iteration import policy_iteration_blackbox\n",
    "\n",
    "env = SecretEnv2()\n",
    "policy, V = policy_iteration_blackbox(env, gamma=0.99, num_episodes=5000, max_iterations=20, verbose=True)\n",
    "print(\"=== SecretEnv2 ===\")\n",
    "print(\"Policy shape:\", policy.shape)\n",
    "print(\"Value function (V) sample:\", V[:10])"
   ]
  },
  {
   "cell_type": "code",
   "execution_count": null,
   "id": "5f91134b",
   "metadata": {},
   "outputs": [
    {
     "name": "stdout",
     "output_type": "stream",
     "text": [
      "Policy iteration round 1 done\n",
      "Policy iteration round 2 done\n",
      "Policy iteration round 3 done\n",
      "Policy iteration round 4 done\n",
      "Policy iteration round 5 done\n",
      "Policy iteration round 6 done\n",
      "Policy iteration round 7 done\n",
      "Policy iteration round 8 done\n",
      "Policy iteration round 9 done\n",
      "Policy iteration round 10 done\n",
      "Policy iteration round 11 done\n",
      "Policy iteration round 12 done\n",
      "Policy iteration round 13 done\n",
      "Policy iteration round 14 done\n",
      "Policy iteration round 15 done\n",
      "Policy iteration round 16 done\n",
      "Policy iteration round 17 done\n",
      "Policy iteration round 18 done\n",
      "Policy iteration round 19 done\n",
      "Policy iteration round 20 done\n",
      "=== SecretEnv3 ===\n",
      "Policy shape: (65536,)\n",
      "Value function (V) sample: [-2.67403779  0.          0.          0.          0.          0.\n",
      "  0.          0.          0.          0.        ]\n"
     ]
    }
   ],
   "source": [
    "from envs.secret.secret_envs_wrapper import SecretEnv3\n",
    "from rl_algorithms.dp_algorithms_secret.policy_iteration import policy_iteration_blackbox\n",
    "\n",
    "env = SecretEnv3()\n",
    "policy, V = policy_iteration_blackbox(env, gamma=0.99, num_episodes=5000, max_iterations=20, verbose=True)\n",
    "print(\"=== SecretEnv3 ===\")\n",
    "print(\"Policy shape:\", policy.shape)\n",
    "print(\"Value function (V) sample:\", V[:10])"
   ]
  },
  {
   "cell_type": "code",
   "execution_count": null,
   "id": "59b20ca6",
   "metadata": {},
   "outputs": [
    {
     "name": "stdout",
     "output_type": "stream",
     "text": [
      "Value iteration round 1 done\n",
      "Value iteration round 2 done\n",
      "Value iteration converged after 2 rounds.\n",
      "Policy shape (env0): (8192,)\n",
      "Value function (env0) sample: [0. 0. 0. 0. 0. 0. 0. 0. 0. 0.]\n"
     ]
    }
   ],
   "source": [
    "from envs.secret.secret_envs_wrapper import SecretEnv0\n",
    "from rl_algorithms.dp_algorithms_secret.value_iteration import value_iteration_blackbox\n",
    "\n",
    "env0 = SecretEnv0()\n",
    "V0, policy0 = value_iteration_blackbox(env0, gamma=0.99, max_iterations=100, verbose=True)\n",
    "print(\"Policy shape (env0):\", policy0.shape)\n",
    "print(\"Value function (env0) sample:\", V0[:10])"
   ]
  },
  {
   "cell_type": "code",
   "execution_count": null,
   "id": "e1e3f597",
   "metadata": {},
   "outputs": [
    {
     "name": "stdout",
     "output_type": "stream",
     "text": [
      "Value iteration round 1 done\n",
      "Value iteration round 2 done\n",
      "Value iteration converged after 2 rounds.\n",
      "Policy shape (env1): (65536,)\n",
      "Value function (env1) sample: [0. 0. 0. 0. 0. 0. 0. 0. 0. 0.]\n"
     ]
    }
   ],
   "source": [
    "env1 = SecretEnv1()\n",
    "V1, policy1 = value_iteration_blackbox(env1, gamma=0.99, max_iterations=100, verbose=True)\n",
    "print(\"Policy shape (env1):\", policy1.shape)\n",
    "print(\"Value function (env1) sample:\", V1[:10])"
   ]
  },
  {
   "cell_type": "code",
   "execution_count": null,
   "id": "75885989",
   "metadata": {},
   "outputs": [],
   "source": [
    "env2 = SecretEnv2()\n",
    "V2, policy2 = value_iteration_blackbox(env2, gamma=0.99, max_iterations=100, verbose=True)\n",
    "print(\"Policy shape (env2):\", policy2.shape)\n",
    "print(\"Value function (env2) sample:\", V2[:10])"
   ]
  },
  {
   "cell_type": "code",
   "execution_count": null,
   "id": "7959da83",
   "metadata": {},
   "outputs": [],
   "source": [
    "env3 = SecretEnv3()\n",
    "V3, policy3 = value_iteration_blackbox(env3, gamma=0.99, max_iterations=100, verbose=True)\n",
    "print(\"Policy shape (env3):\", policy3.shape)\n",
    "print(\"Value function (env3) sample:\", V3[:10])"
   ]
  }
 ],
 "metadata": {
  "kernelspec": {
   "display_name": "Python 3",
   "language": "python",
   "name": "python3"
  },
  "language_info": {
   "codemirror_mode": {
    "name": "ipython",
    "version": 3
   },
   "file_extension": ".py",
   "mimetype": "text/x-python",
   "name": "python",
   "nbconvert_exporter": "python",
   "pygments_lexer": "ipython3",
   "version": "3.10.10"
  }
 },
 "nbformat": 4,
 "nbformat_minor": 5
}
