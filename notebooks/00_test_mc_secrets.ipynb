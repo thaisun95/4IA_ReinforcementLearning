{
 "cells": [
  {
   "cell_type": "code",
   "execution_count": 1,
   "id": "ad9fa60f",
   "metadata": {},
   "outputs": [
    {
     "name": "stdout",
     "output_type": "stream",
     "text": [
      "Valid episodes (terminated): 5000/5000\n",
      "Mean final reward: 0.9906\n",
      "Std of final rewards: 0.2203\n",
      "Valid episodes (terminated): 5000/5000\n",
      "Mean final reward: 5.5258\n",
      "Std of final rewards: 1.9789\n",
      "Valid episodes (terminated): 5000/5000\n",
      "Mean final reward: -3.3698\n",
      "Std of final rewards: 1.9371\n"
     ]
    }
   ],
   "source": [
    "import sys\n",
    "import os\n",
    "import numpy as np\n",
    "sys.path.append(os.path.abspath(\"..\"))\n",
    "\n",
    "from rl_algorithms.mc_algorithms_secret.mc_es import mc_es_blackbox\n",
    "from rl_algorithms.mc_algorithms_secret.mc_on_policy import mc_on_policy_blackbox\n",
    "from rl_algorithms.mc_algorithms_secret.mc_off_policy import mc_off_policy_blackbox\n",
    "\n",
    "from envs.secret.secret_envs_wrapper import SecretEnv0\n",
    "\n",
    "env = SecretEnv0()\n",
    "\n",
    "Q_es, policy_es, rewards_es = mc_es_blackbox(env, num_episodes=5000, gamma=0.99, verbose=True)\n",
    "Q_on, policy_on, rewards_on = mc_on_policy_blackbox(env, num_episodes=5000, gamma=0.99, epsilon=0.1, verbose=True)\n",
    "Q_off, policy_off, rewards_off = mc_off_policy_blackbox(env, num_episodes=5000, gamma=0.99, verbose=True)"
   ]
  },
  {
   "cell_type": "code",
   "execution_count": 2,
   "id": "877c030b",
   "metadata": {},
   "outputs": [
    {
     "name": "stdout",
     "output_type": "stream",
     "text": [
      "Valid episodes (terminated): 5000/5000\n",
      "Mean final reward: 2.9472\n",
      "Std of final rewards: 0.8183\n",
      "MC ES: mean=2.9472, std=0.8183\n",
      "Valid episodes (terminated): 5000/5000\n",
      "Mean final reward: 8.6958\n",
      "Std of final rewards: 4.0288\n",
      "On-policy MC: mean=8.6958, std=4.0288\n",
      "Valid episodes (terminated): 5000/5000\n",
      "Mean final reward: -14.7872\n",
      "Std of final rewards: 4.0797\n",
      "Off-policy MC: mean=-14.7872, std=4.0797\n"
     ]
    }
   ],
   "source": [
    "from rl_algorithms.mc_algorithms_secret.mc_es import mc_es_blackbox\n",
    "from rl_algorithms.mc_algorithms_secret.mc_on_policy import mc_on_policy_blackbox\n",
    "from rl_algorithms.mc_algorithms_secret.mc_off_policy import mc_off_policy_blackbox\n",
    "\n",
    "from envs.secret.secret_envs_wrapper import SecretEnv1\n",
    "import numpy as np\n",
    "\n",
    "env = SecretEnv1()\n",
    "\n",
    "Q_es, policy_es, rewards_es = mc_es_blackbox(env, num_episodes=5000, gamma=0.99, verbose=True)\n",
    "print(f\"MC ES: mean={np.mean(rewards_es):.4f}, std={np.std(rewards_es):.4f}\")\n",
    "\n",
    "Q_on, policy_on, rewards_on = mc_on_policy_blackbox(env, num_episodes=5000, gamma=0.99, epsilon=0.1, verbose=True)\n",
    "print(f\"On-policy MC: mean={np.mean(rewards_on):.4f}, std={np.std(rewards_on):.4f}\")\n",
    "\n",
    "Q_off, policy_off, rewards_off = mc_off_policy_blackbox(env, num_episodes=5000, gamma=0.99, verbose=True)\n",
    "print(f\"Off-policy MC: mean={np.mean(rewards_off):.4f}, std={np.std(rewards_off):.4f}\")"
   ]
  },
  {
   "cell_type": "code",
   "execution_count": 3,
   "id": "8ebe86aa",
   "metadata": {},
   "outputs": [
    {
     "name": "stdout",
     "output_type": "stream",
     "text": [
      "Valid episodes (terminated): 5000/5000\n",
      "Mean final reward: -38.6826\n",
      "Std of final rewards: 4.5698\n",
      "MC ES: mean=-38.6826, std=4.5698\n",
      "Valid episodes (terminated): 5000/5000\n",
      "Mean final reward: -34.4358\n",
      "Std of final rewards: 6.0791\n",
      "On-policy MC: mean=-34.4358, std=6.0791\n",
      "Valid episodes (terminated): 5000/5000\n",
      "Mean final reward: -59.4274\n",
      "Std of final rewards: 4.4740\n",
      "Off-policy MC: mean=-59.4274, std=4.4740\n"
     ]
    }
   ],
   "source": [
    "from rl_algorithms.mc_algorithms_secret.mc_es import mc_es_blackbox\n",
    "from rl_algorithms.mc_algorithms_secret.mc_on_policy import mc_on_policy_blackbox\n",
    "from rl_algorithms.mc_algorithms_secret.mc_off_policy import mc_off_policy_blackbox\n",
    "\n",
    "from envs.secret.secret_envs_wrapper import SecretEnv2\n",
    "import numpy as np\n",
    "\n",
    "env = SecretEnv2()\n",
    "\n",
    "Q_es, policy_es, rewards_es = mc_es_blackbox(env, num_episodes=5000, gamma=0.99, verbose=True)\n",
    "print(f\"MC ES: mean={np.mean(rewards_es):.4f}, std={np.std(rewards_es):.4f}\")\n",
    "\n",
    "Q_on, policy_on, rewards_on = mc_on_policy_blackbox(env, num_episodes=5000, gamma=0.99, epsilon=0.1, verbose=True)\n",
    "print(f\"On-policy MC: mean={np.mean(rewards_on):.4f}, std={np.std(rewards_on):.4f}\")\n",
    "\n",
    "Q_off, policy_off, rewards_off = mc_off_policy_blackbox(env, num_episodes=5000, gamma=0.99, verbose=True)\n",
    "print(f\"Off-policy MC: mean={np.mean(rewards_off):.4f}, std={np.std(rewards_off):.4f}\")"
   ]
  },
  {
   "cell_type": "code",
   "execution_count": 4,
   "id": "d5b886d3",
   "metadata": {},
   "outputs": [
    {
     "name": "stdout",
     "output_type": "stream",
     "text": [
      "Valid episodes (terminated): 5000/5000\n",
      "Mean final reward: -12.2142\n",
      "Std of final rewards: 6.0366\n",
      "MC ES: mean=-12.2142, std=6.0366\n",
      "Valid episodes (terminated): 5000/5000\n",
      "Mean final reward: -9.3600\n",
      "Std of final rewards: 5.8432\n",
      "On-policy MC: mean=-9.3600, std=5.8432\n",
      "Valid episodes (terminated): 5000/5000\n",
      "Mean final reward: -18.7324\n",
      "Std of final rewards: 6.4532\n",
      "Off-policy MC: mean=-18.7324, std=6.4532\n"
     ]
    }
   ],
   "source": [
    "from rl_algorithms.mc_algorithms_secret.mc_es import mc_es_blackbox\n",
    "from rl_algorithms.mc_algorithms_secret.mc_on_policy import mc_on_policy_blackbox\n",
    "from rl_algorithms.mc_algorithms_secret.mc_off_policy import mc_off_policy_blackbox\n",
    "\n",
    "from envs.secret.secret_envs_wrapper import SecretEnv3\n",
    "import numpy as np\n",
    "\n",
    "env = SecretEnv3()\n",
    "\n",
    "Q_es, policy_es, rewards_es = mc_es_blackbox(env, num_episodes=5000, gamma=0.99, verbose=True)\n",
    "print(f\"MC ES: mean={np.mean(rewards_es):.4f}, std={np.std(rewards_es):.4f}\")\n",
    "\n",
    "Q_on, policy_on, rewards_on = mc_on_policy_blackbox(env, num_episodes=5000, gamma=0.99, epsilon=0.1, verbose=True)\n",
    "print(f\"On-policy MC: mean={np.mean(rewards_on):.4f}, std={np.std(rewards_on):.4f}\")\n",
    "\n",
    "Q_off, policy_off, rewards_off = mc_off_policy_blackbox(env, num_episodes=5000, gamma=0.99, verbose=True)\n",
    "print(f\"Off-policy MC: mean={np.mean(rewards_off):.4f}, std={np.std(rewards_off):.4f}\")\n"
   ]
  },
  {
   "cell_type": "code",
   "execution_count": null,
   "id": "f15c8a71",
   "metadata": {},
   "outputs": [],
   "source": []
  }
 ],
 "metadata": {
  "kernelspec": {
   "display_name": "Python 3",
   "language": "python",
   "name": "python3"
  },
  "language_info": {
   "codemirror_mode": {
    "name": "ipython",
    "version": 3
   },
   "file_extension": ".py",
   "mimetype": "text/x-python",
   "name": "python",
   "nbconvert_exporter": "python",
   "pygments_lexer": "ipython3",
   "version": "3.10.11"
  }
 },
 "nbformat": 4,
 "nbformat_minor": 5
}
