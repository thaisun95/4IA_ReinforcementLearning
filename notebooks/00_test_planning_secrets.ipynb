{
 "cells": [
  {
   "cell_type": "code",
   "execution_count": null,
   "id": "2a8b7cfb",
   "metadata": {},
   "outputs": [],
   "source": [
    "from envs.secret.secret_envs_wrapper import SecretEnv0\n",
    "import numpy as np\n",
    "from rl_algorithms.planning.dyna_q import DynaQBlackboxAgent\n",
    "\n",
    "env = SecretEnv0()\n",
    "agent = DynaQBlackboxAgent(n_actions=env.num_actions(), alpha=0.1, gamma=0.99, epsilon=0.1, n_planning=20)\n",
    "\n",
    "n_episodes = 3000\n",
    "reward_history = []\n",
    "\n",
    "for episode in range(n_episodes):\n",
    "    env.reset()\n",
    "    state = env.state_id()\n",
    "    done = env.is_game_over()\n",
    "    total_reward = 0\n",
    "    while not done:\n",
    "        valid_actions = env.available_actions()\n",
    "        action = agent.select_action(state, valid_actions)\n",
    "        env.step(action)\n",
    "        next_state = env.state_id()\n",
    "        reward = env.score() if env.is_game_over() else 0.0\n",
    "        done = env.is_game_over()\n",
    "        next_valid_actions = env.available_actions() if not done else []\n",
    "        agent.learn_step(\n",
    "            state, action, reward, next_state,\n",
    "            valid_next_actions=next_valid_actions,\n",
    "            get_valid_actions_fn=lambda s: env.available_actions() if not env.is_game_over() else []\n",
    "        )\n",
    "        state = next_state\n",
    "        total_reward += reward\n",
    "    reward_history.append(total_reward)\n",
    "print(\"SecretEnv0 | Mean reward (last 100 episodes):\", np.mean(reward_history[-100:]))"
   ]
  }
 ],
 "metadata": {
  "language_info": {
   "name": "python"
  }
 },
 "nbformat": 4,
 "nbformat_minor": 5
}
